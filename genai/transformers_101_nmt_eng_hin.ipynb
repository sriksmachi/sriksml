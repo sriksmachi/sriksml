{
  "metadata": {
    "colab": {
      "provenance": [],
      "toc_visible": true,
      "machine_shape": "hm",
      "include_colab_link": true
    },
    "kernelspec": {
      "name": "python3",
      "display_name": "Python 3"
    },
    "language_info": {
      "name": "python",
      "version": "3.10.12",
      "mimetype": "text/x-python",
      "codemirror_mode": {
        "name": "ipython",
        "version": 3
      },
      "pygments_lexer": "ipython3",
      "nbconvert_exporter": "python",
      "file_extension": ".py"
    }
  },
  "nbformat_minor": 0,
  "nbformat": 4,
  "cells": [
    {
      "cell_type": "markdown",
      "metadata": {
        "id": "view-in-github",
        "colab_type": "text"
      },
      "source": [
        "<a href=\"https://colab.research.google.com/github/sriksmachi/sriksml/blob/main/genai/transformers_101_nmt_eng_hin.ipynb\" target=\"_parent\"><img src=\"https://colab.research.google.com/assets/colab-badge.svg\" alt=\"Open In Colab\"/></a>"
      ]
    },
    {
      "cell_type": "markdown",
      "source": [
        "## Transformers 101.\n",
        "\n",
        "In this notebook we will create a transformer model using multi-headed attention for neural machine translation task.\n",
        "\n",
        "A little bit about transformers, before we get started.\n",
        "RNNs were traditionally used for modelling seq2seq tasks, however they fail when the length of the sequence of input increases. The attention mechanism was introduced with idea to identify the relative weights of each words with respect to the other words so that the model can learn selectively.\n",
        "\n",
        "Attention technique used with RNNs help learn hidden state for each word so that it is easy to pay more attention or discard words rather than learning the hidden state for the entire sentence. However this does not solve 3 problems\n",
        "\n",
        "1.   The entire process is still sequential, it cannot be parallelized\n",
        "2.   For a large sentence the time taken for translating the sentence to encodings is large.\n",
        "\n",
        "Transformers introduced a completely new concept, with some learnings from how CNNs learn embeddings in parallel. Transformers use encoder, decoder architecture to learn attention weights in parallel and they can be used for a variety of tasks like neural language translation, question answering, next word prediction etc.\n",
        "\n",
        "Complete understanding of how transformers work is not explained in this notebook but you may refer to the following blogs for better understanding.\n",
        "- https://jalammar.github.io/illustrated-transformer/\n",
        "- https://mchromiak.github.io/articles/2017/Sep/12/Transformer-Attention-is-all-you-need/#.XIWlzBNKjOR\n",
        "\n",
        "This notebook builds a transformer model following the explanation from the original paper (https://arxiv.org/pdf/1706.03762.pdf). The implementation is taken from articles published at https://machinelearningmastery.com/building-transformer-models-with-attention-crash-course-build-a-neural-machine-translator-in-12-days/.\n",
        "\n"
      ],
      "metadata": {
        "id": "XQ9FiUiN6slr"
      }
    },
    {
      "cell_type": "code",
      "source": [
        "## Importing required libraries\n",
        "\n",
        "import tensorflow as tf\n",
        "from tensorflow import matmul, cast, float32,sqrt, math, transpose\n",
        "from tensorflow import convert_to_tensor, string\n",
        "from keras.backend import softmax\n",
        "from numpy import random\n",
        "from tensorflow.keras.layers import TextVectorization, Embedding, Layer, Dropout, Input\n",
        "from tensorflow.keras import Model\n",
        "from tensorflow.data import Dataset\n",
        "import numpy as np\n",
        "import matplotlib.pyplot as plt\n",
        "import pathlib\n",
        "import pickle\n",
        "import random\n",
        "import re\n",
        "import tqdm\n",
        "import unicodedata\n",
        "import tensorflow as tf\n",
        "from tensorflow import convert_to_tensor, int64\n",
        "from pickle import load\n",
        "from numpy.random import shuffle\n",
        "import pandas as pd"
      ],
      "metadata": {
        "id": "_fGjw2YZ_BLF",
        "execution": {
          "iopub.status.busy": "2023-10-22T04:42:40.524538Z",
          "iopub.execute_input": "2023-10-22T04:42:40.524883Z",
          "iopub.status.idle": "2023-10-22T04:42:49.170759Z",
          "shell.execute_reply.started": "2023-10-22T04:42:40.524856Z",
          "shell.execute_reply": "2023-10-22T04:42:49.169842Z"
        },
        "trusted": true
      },
      "execution_count": 1,
      "outputs": []
    },
    {
      "cell_type": "markdown",
      "source": [
        "## Transformers Architecture.\n",
        "\n",
        "Image Source :  https://arxiv.org/pdf/1706.03762.pdf"
      ],
      "metadata": {
        "id": "ig9WSiTY2yc0"
      }
    },
    {
      "cell_type": "markdown",
      "source": [
        "We will use the bottom-up approach, i.e. build the transformer from the bottom most layer and then walk upwards. This notebook builds each layer as a separate model so that they can be plugged into a full fledged model."
      ],
      "metadata": {
        "id": "lVEmW-et8LmZ"
      }
    },
    {
      "cell_type": "markdown",
      "source": [
        "## Download and Preprocess"
      ],
      "metadata": {
        "id": "ZSO1L1TzKjUy"
      }
    },
    {
      "cell_type": "code",
      "source": [
        "!gdown 1HTlJZY18SRd4rSFbsbx9iW6XgA8Ms6mu"
      ],
      "metadata": {
        "colab": {
          "base_uri": "https://localhost:8080/"
        },
        "id": "sQRP4wpuuIS_",
        "outputId": "f2ce096b-7375-462c-db2b-f78006f914d6"
      },
      "execution_count": 2,
      "outputs": [
        {
          "output_type": "stream",
          "name": "stdout",
          "text": [
            "Downloading...\n",
            "From: https://drive.google.com/uc?id=1HTlJZY18SRd4rSFbsbx9iW6XgA8Ms6mu\n",
            "To: /content/eng-hin.csv\n",
            "100% 56.9M/56.9M [00:01<00:00, 52.7MB/s]\n"
          ]
        }
      ]
    },
    {
      "cell_type": "code",
      "source": [
        "ds = pd.read_csv('/content/eng-hin.csv')\n",
        "print(f'Total number of examples = {len(ds)}')\n",
        "ds.head()"
      ],
      "metadata": {
        "execution": {
          "iopub.status.busy": "2023-10-22T04:42:49.172324Z",
          "iopub.execute_input": "2023-10-22T04:42:49.172859Z",
          "iopub.status.idle": "2023-10-22T04:42:50.979430Z",
          "shell.execute_reply.started": "2023-10-22T04:42:49.172818Z",
          "shell.execute_reply": "2023-10-22T04:42:50.978266Z"
        },
        "trusted": true,
        "id": "L6LNUZqOtqn5",
        "outputId": "68976282-3990-439d-92ea-a16775ca3b95",
        "colab": {
          "base_uri": "https://localhost:8080/",
          "height": 225
        }
      },
      "execution_count": 90,
      "outputs": [
        {
          "output_type": "stream",
          "name": "stdout",
          "text": [
            "Total number of examples = 177606\n"
          ]
        },
        {
          "output_type": "execute_result",
          "data": {
            "text/plain": [
              "   Unnamed: 0                                   english_sentence  \\\n",
              "0           0  politicians do not have permission to do what ...   \n",
              "1           1         I'd like to tell you about one such child,   \n",
              "2           2  This percentage is even greater than the perce...   \n",
              "3           3  what we really mean is that they're bad at not...   \n",
              "4           4  .The ending portion of these Vedas is called U...   \n",
              "\n",
              "                                      hindi_sentence  \n",
              "0  राजनीतिज्ञों के पास जो कार्य करना चाहिए, वह कर...  \n",
              "1  मई आपको ऐसे ही एक बच्चे के बारे में बताना चाहू...  \n",
              "2   यह प्रतिशत भारत में हिन्दुओं प्रतिशत से अधिक है।  \n",
              "3     हम ये नहीं कहना चाहते कि वो ध्यान नहीं दे पाते  \n",
              "4        इन्हीं वेदों का अंतिम भाग उपनिषद कहलाता है।  "
            ],
            "text/html": [
              "\n",
              "  <div id=\"df-1d1a69c3-ea65-4ee7-9c63-7fc5c93d9f36\" class=\"colab-df-container\">\n",
              "    <div>\n",
              "<style scoped>\n",
              "    .dataframe tbody tr th:only-of-type {\n",
              "        vertical-align: middle;\n",
              "    }\n",
              "\n",
              "    .dataframe tbody tr th {\n",
              "        vertical-align: top;\n",
              "    }\n",
              "\n",
              "    .dataframe thead th {\n",
              "        text-align: right;\n",
              "    }\n",
              "</style>\n",
              "<table border=\"1\" class=\"dataframe\">\n",
              "  <thead>\n",
              "    <tr style=\"text-align: right;\">\n",
              "      <th></th>\n",
              "      <th>Unnamed: 0</th>\n",
              "      <th>english_sentence</th>\n",
              "      <th>hindi_sentence</th>\n",
              "    </tr>\n",
              "  </thead>\n",
              "  <tbody>\n",
              "    <tr>\n",
              "      <th>0</th>\n",
              "      <td>0</td>\n",
              "      <td>politicians do not have permission to do what ...</td>\n",
              "      <td>राजनीतिज्ञों के पास जो कार्य करना चाहिए, वह कर...</td>\n",
              "    </tr>\n",
              "    <tr>\n",
              "      <th>1</th>\n",
              "      <td>1</td>\n",
              "      <td>I'd like to tell you about one such child,</td>\n",
              "      <td>मई आपको ऐसे ही एक बच्चे के बारे में बताना चाहू...</td>\n",
              "    </tr>\n",
              "    <tr>\n",
              "      <th>2</th>\n",
              "      <td>2</td>\n",
              "      <td>This percentage is even greater than the perce...</td>\n",
              "      <td>यह प्रतिशत भारत में हिन्दुओं प्रतिशत से अधिक है।</td>\n",
              "    </tr>\n",
              "    <tr>\n",
              "      <th>3</th>\n",
              "      <td>3</td>\n",
              "      <td>what we really mean is that they're bad at not...</td>\n",
              "      <td>हम ये नहीं कहना चाहते कि वो ध्यान नहीं दे पाते</td>\n",
              "    </tr>\n",
              "    <tr>\n",
              "      <th>4</th>\n",
              "      <td>4</td>\n",
              "      <td>.The ending portion of these Vedas is called U...</td>\n",
              "      <td>इन्हीं वेदों का अंतिम भाग उपनिषद कहलाता है।</td>\n",
              "    </tr>\n",
              "  </tbody>\n",
              "</table>\n",
              "</div>\n",
              "    <div class=\"colab-df-buttons\">\n",
              "\n",
              "  <div class=\"colab-df-container\">\n",
              "    <button class=\"colab-df-convert\" onclick=\"convertToInteractive('df-1d1a69c3-ea65-4ee7-9c63-7fc5c93d9f36')\"\n",
              "            title=\"Convert this dataframe to an interactive table.\"\n",
              "            style=\"display:none;\">\n",
              "\n",
              "  <svg xmlns=\"http://www.w3.org/2000/svg\" height=\"24px\" viewBox=\"0 -960 960 960\">\n",
              "    <path d=\"M120-120v-720h720v720H120Zm60-500h600v-160H180v160Zm220 220h160v-160H400v160Zm0 220h160v-160H400v160ZM180-400h160v-160H180v160Zm440 0h160v-160H620v160ZM180-180h160v-160H180v160Zm440 0h160v-160H620v160Z\"/>\n",
              "  </svg>\n",
              "    </button>\n",
              "\n",
              "  <style>\n",
              "    .colab-df-container {\n",
              "      display:flex;\n",
              "      gap: 12px;\n",
              "    }\n",
              "\n",
              "    .colab-df-convert {\n",
              "      background-color: #E8F0FE;\n",
              "      border: none;\n",
              "      border-radius: 50%;\n",
              "      cursor: pointer;\n",
              "      display: none;\n",
              "      fill: #1967D2;\n",
              "      height: 32px;\n",
              "      padding: 0 0 0 0;\n",
              "      width: 32px;\n",
              "    }\n",
              "\n",
              "    .colab-df-convert:hover {\n",
              "      background-color: #E2EBFA;\n",
              "      box-shadow: 0px 1px 2px rgba(60, 64, 67, 0.3), 0px 1px 3px 1px rgba(60, 64, 67, 0.15);\n",
              "      fill: #174EA6;\n",
              "    }\n",
              "\n",
              "    .colab-df-buttons div {\n",
              "      margin-bottom: 4px;\n",
              "    }\n",
              "\n",
              "    [theme=dark] .colab-df-convert {\n",
              "      background-color: #3B4455;\n",
              "      fill: #D2E3FC;\n",
              "    }\n",
              "\n",
              "    [theme=dark] .colab-df-convert:hover {\n",
              "      background-color: #434B5C;\n",
              "      box-shadow: 0px 1px 3px 1px rgba(0, 0, 0, 0.15);\n",
              "      filter: drop-shadow(0px 1px 2px rgba(0, 0, 0, 0.3));\n",
              "      fill: #FFFFFF;\n",
              "    }\n",
              "  </style>\n",
              "\n",
              "    <script>\n",
              "      const buttonEl =\n",
              "        document.querySelector('#df-1d1a69c3-ea65-4ee7-9c63-7fc5c93d9f36 button.colab-df-convert');\n",
              "      buttonEl.style.display =\n",
              "        google.colab.kernel.accessAllowed ? 'block' : 'none';\n",
              "\n",
              "      async function convertToInteractive(key) {\n",
              "        const element = document.querySelector('#df-1d1a69c3-ea65-4ee7-9c63-7fc5c93d9f36');\n",
              "        const dataTable =\n",
              "          await google.colab.kernel.invokeFunction('convertToInteractive',\n",
              "                                                    [key], {});\n",
              "        if (!dataTable) return;\n",
              "\n",
              "        const docLinkHtml = 'Like what you see? Visit the ' +\n",
              "          '<a target=\"_blank\" href=https://colab.research.google.com/notebooks/data_table.ipynb>data table notebook</a>'\n",
              "          + ' to learn more about interactive tables.';\n",
              "        element.innerHTML = '';\n",
              "        dataTable['output_type'] = 'display_data';\n",
              "        await google.colab.output.renderOutput(dataTable, element);\n",
              "        const docLink = document.createElement('div');\n",
              "        docLink.innerHTML = docLinkHtml;\n",
              "        element.appendChild(docLink);\n",
              "      }\n",
              "    </script>\n",
              "  </div>\n",
              "\n",
              "\n",
              "<div id=\"df-19afb6fb-ed10-4719-8f6d-ea0775181450\">\n",
              "  <button class=\"colab-df-quickchart\" onclick=\"quickchart('df-19afb6fb-ed10-4719-8f6d-ea0775181450')\"\n",
              "            title=\"Suggest charts.\"\n",
              "            style=\"display:none;\">\n",
              "\n",
              "<svg xmlns=\"http://www.w3.org/2000/svg\" height=\"24px\"viewBox=\"0 0 24 24\"\n",
              "     width=\"24px\">\n",
              "    <g>\n",
              "        <path d=\"M19 3H5c-1.1 0-2 .9-2 2v14c0 1.1.9 2 2 2h14c1.1 0 2-.9 2-2V5c0-1.1-.9-2-2-2zM9 17H7v-7h2v7zm4 0h-2V7h2v10zm4 0h-2v-4h2v4z\"/>\n",
              "    </g>\n",
              "</svg>\n",
              "  </button>\n",
              "\n",
              "<style>\n",
              "  .colab-df-quickchart {\n",
              "      --bg-color: #E8F0FE;\n",
              "      --fill-color: #1967D2;\n",
              "      --hover-bg-color: #E2EBFA;\n",
              "      --hover-fill-color: #174EA6;\n",
              "      --disabled-fill-color: #AAA;\n",
              "      --disabled-bg-color: #DDD;\n",
              "  }\n",
              "\n",
              "  [theme=dark] .colab-df-quickchart {\n",
              "      --bg-color: #3B4455;\n",
              "      --fill-color: #D2E3FC;\n",
              "      --hover-bg-color: #434B5C;\n",
              "      --hover-fill-color: #FFFFFF;\n",
              "      --disabled-bg-color: #3B4455;\n",
              "      --disabled-fill-color: #666;\n",
              "  }\n",
              "\n",
              "  .colab-df-quickchart {\n",
              "    background-color: var(--bg-color);\n",
              "    border: none;\n",
              "    border-radius: 50%;\n",
              "    cursor: pointer;\n",
              "    display: none;\n",
              "    fill: var(--fill-color);\n",
              "    height: 32px;\n",
              "    padding: 0;\n",
              "    width: 32px;\n",
              "  }\n",
              "\n",
              "  .colab-df-quickchart:hover {\n",
              "    background-color: var(--hover-bg-color);\n",
              "    box-shadow: 0 1px 2px rgba(60, 64, 67, 0.3), 0 1px 3px 1px rgba(60, 64, 67, 0.15);\n",
              "    fill: var(--button-hover-fill-color);\n",
              "  }\n",
              "\n",
              "  .colab-df-quickchart-complete:disabled,\n",
              "  .colab-df-quickchart-complete:disabled:hover {\n",
              "    background-color: var(--disabled-bg-color);\n",
              "    fill: var(--disabled-fill-color);\n",
              "    box-shadow: none;\n",
              "  }\n",
              "\n",
              "  .colab-df-spinner {\n",
              "    border: 2px solid var(--fill-color);\n",
              "    border-color: transparent;\n",
              "    border-bottom-color: var(--fill-color);\n",
              "    animation:\n",
              "      spin 1s steps(1) infinite;\n",
              "  }\n",
              "\n",
              "  @keyframes spin {\n",
              "    0% {\n",
              "      border-color: transparent;\n",
              "      border-bottom-color: var(--fill-color);\n",
              "      border-left-color: var(--fill-color);\n",
              "    }\n",
              "    20% {\n",
              "      border-color: transparent;\n",
              "      border-left-color: var(--fill-color);\n",
              "      border-top-color: var(--fill-color);\n",
              "    }\n",
              "    30% {\n",
              "      border-color: transparent;\n",
              "      border-left-color: var(--fill-color);\n",
              "      border-top-color: var(--fill-color);\n",
              "      border-right-color: var(--fill-color);\n",
              "    }\n",
              "    40% {\n",
              "      border-color: transparent;\n",
              "      border-right-color: var(--fill-color);\n",
              "      border-top-color: var(--fill-color);\n",
              "    }\n",
              "    60% {\n",
              "      border-color: transparent;\n",
              "      border-right-color: var(--fill-color);\n",
              "    }\n",
              "    80% {\n",
              "      border-color: transparent;\n",
              "      border-right-color: var(--fill-color);\n",
              "      border-bottom-color: var(--fill-color);\n",
              "    }\n",
              "    90% {\n",
              "      border-color: transparent;\n",
              "      border-bottom-color: var(--fill-color);\n",
              "    }\n",
              "  }\n",
              "</style>\n",
              "\n",
              "  <script>\n",
              "    async function quickchart(key) {\n",
              "      const quickchartButtonEl =\n",
              "        document.querySelector('#' + key + ' button');\n",
              "      quickchartButtonEl.disabled = true;  // To prevent multiple clicks.\n",
              "      quickchartButtonEl.classList.add('colab-df-spinner');\n",
              "      try {\n",
              "        const charts = await google.colab.kernel.invokeFunction(\n",
              "            'suggestCharts', [key], {});\n",
              "      } catch (error) {\n",
              "        console.error('Error during call to suggestCharts:', error);\n",
              "      }\n",
              "      quickchartButtonEl.classList.remove('colab-df-spinner');\n",
              "      quickchartButtonEl.classList.add('colab-df-quickchart-complete');\n",
              "    }\n",
              "    (() => {\n",
              "      let quickchartButtonEl =\n",
              "        document.querySelector('#df-19afb6fb-ed10-4719-8f6d-ea0775181450 button');\n",
              "      quickchartButtonEl.style.display =\n",
              "        google.colab.kernel.accessAllowed ? 'block' : 'none';\n",
              "    })();\n",
              "  </script>\n",
              "</div>\n",
              "\n",
              "    </div>\n",
              "  </div>\n"
            ]
          },
          "metadata": {},
          "execution_count": 90
        }
      ]
    },
    {
      "cell_type": "code",
      "source": [
        "ds['eng_len']=ds['english_sentence'].apply(lambda x:len(str(x).split(\" \")))\n",
        "ds['hin_len']=ds['hindi_sentence'].apply(lambda x:len(str(x).split(\" \")))\n",
        "ds.head()"
      ],
      "metadata": {
        "id": "rcP035IKJmOY",
        "outputId": "e14e773d-ea50-40ba-c83e-f84467f2f1d6",
        "colab": {
          "base_uri": "https://localhost:8080/",
          "height": 206
        }
      },
      "execution_count": 91,
      "outputs": [
        {
          "output_type": "execute_result",
          "data": {
            "text/plain": [
              "   Unnamed: 0                                   english_sentence  \\\n",
              "0           0  politicians do not have permission to do what ...   \n",
              "1           1         I'd like to tell you about one such child,   \n",
              "2           2  This percentage is even greater than the perce...   \n",
              "3           3  what we really mean is that they're bad at not...   \n",
              "4           4  .The ending portion of these Vedas is called U...   \n",
              "\n",
              "                                      hindi_sentence  eng_len  hin_len  \n",
              "0  राजनीतिज्ञों के पास जो कार्य करना चाहिए, वह कर...       12       14  \n",
              "1  मई आपको ऐसे ही एक बच्चे के बारे में बताना चाहू...        9       11  \n",
              "2   यह प्रतिशत भारत में हिन्दुओं प्रतिशत से अधिक है।       10        9  \n",
              "3     हम ये नहीं कहना चाहते कि वो ध्यान नहीं दे पाते       12       11  \n",
              "4        इन्हीं वेदों का अंतिम भाग उपनिषद कहलाता है।        9        8  "
            ],
            "text/html": [
              "\n",
              "  <div id=\"df-1ef7d359-ad54-4438-aa01-d581bbb778ac\" class=\"colab-df-container\">\n",
              "    <div>\n",
              "<style scoped>\n",
              "    .dataframe tbody tr th:only-of-type {\n",
              "        vertical-align: middle;\n",
              "    }\n",
              "\n",
              "    .dataframe tbody tr th {\n",
              "        vertical-align: top;\n",
              "    }\n",
              "\n",
              "    .dataframe thead th {\n",
              "        text-align: right;\n",
              "    }\n",
              "</style>\n",
              "<table border=\"1\" class=\"dataframe\">\n",
              "  <thead>\n",
              "    <tr style=\"text-align: right;\">\n",
              "      <th></th>\n",
              "      <th>Unnamed: 0</th>\n",
              "      <th>english_sentence</th>\n",
              "      <th>hindi_sentence</th>\n",
              "      <th>eng_len</th>\n",
              "      <th>hin_len</th>\n",
              "    </tr>\n",
              "  </thead>\n",
              "  <tbody>\n",
              "    <tr>\n",
              "      <th>0</th>\n",
              "      <td>0</td>\n",
              "      <td>politicians do not have permission to do what ...</td>\n",
              "      <td>राजनीतिज्ञों के पास जो कार्य करना चाहिए, वह कर...</td>\n",
              "      <td>12</td>\n",
              "      <td>14</td>\n",
              "    </tr>\n",
              "    <tr>\n",
              "      <th>1</th>\n",
              "      <td>1</td>\n",
              "      <td>I'd like to tell you about one such child,</td>\n",
              "      <td>मई आपको ऐसे ही एक बच्चे के बारे में बताना चाहू...</td>\n",
              "      <td>9</td>\n",
              "      <td>11</td>\n",
              "    </tr>\n",
              "    <tr>\n",
              "      <th>2</th>\n",
              "      <td>2</td>\n",
              "      <td>This percentage is even greater than the perce...</td>\n",
              "      <td>यह प्रतिशत भारत में हिन्दुओं प्रतिशत से अधिक है।</td>\n",
              "      <td>10</td>\n",
              "      <td>9</td>\n",
              "    </tr>\n",
              "    <tr>\n",
              "      <th>3</th>\n",
              "      <td>3</td>\n",
              "      <td>what we really mean is that they're bad at not...</td>\n",
              "      <td>हम ये नहीं कहना चाहते कि वो ध्यान नहीं दे पाते</td>\n",
              "      <td>12</td>\n",
              "      <td>11</td>\n",
              "    </tr>\n",
              "    <tr>\n",
              "      <th>4</th>\n",
              "      <td>4</td>\n",
              "      <td>.The ending portion of these Vedas is called U...</td>\n",
              "      <td>इन्हीं वेदों का अंतिम भाग उपनिषद कहलाता है।</td>\n",
              "      <td>9</td>\n",
              "      <td>8</td>\n",
              "    </tr>\n",
              "  </tbody>\n",
              "</table>\n",
              "</div>\n",
              "    <div class=\"colab-df-buttons\">\n",
              "\n",
              "  <div class=\"colab-df-container\">\n",
              "    <button class=\"colab-df-convert\" onclick=\"convertToInteractive('df-1ef7d359-ad54-4438-aa01-d581bbb778ac')\"\n",
              "            title=\"Convert this dataframe to an interactive table.\"\n",
              "            style=\"display:none;\">\n",
              "\n",
              "  <svg xmlns=\"http://www.w3.org/2000/svg\" height=\"24px\" viewBox=\"0 -960 960 960\">\n",
              "    <path d=\"M120-120v-720h720v720H120Zm60-500h600v-160H180v160Zm220 220h160v-160H400v160Zm0 220h160v-160H400v160ZM180-400h160v-160H180v160Zm440 0h160v-160H620v160ZM180-180h160v-160H180v160Zm440 0h160v-160H620v160Z\"/>\n",
              "  </svg>\n",
              "    </button>\n",
              "\n",
              "  <style>\n",
              "    .colab-df-container {\n",
              "      display:flex;\n",
              "      gap: 12px;\n",
              "    }\n",
              "\n",
              "    .colab-df-convert {\n",
              "      background-color: #E8F0FE;\n",
              "      border: none;\n",
              "      border-radius: 50%;\n",
              "      cursor: pointer;\n",
              "      display: none;\n",
              "      fill: #1967D2;\n",
              "      height: 32px;\n",
              "      padding: 0 0 0 0;\n",
              "      width: 32px;\n",
              "    }\n",
              "\n",
              "    .colab-df-convert:hover {\n",
              "      background-color: #E2EBFA;\n",
              "      box-shadow: 0px 1px 2px rgba(60, 64, 67, 0.3), 0px 1px 3px 1px rgba(60, 64, 67, 0.15);\n",
              "      fill: #174EA6;\n",
              "    }\n",
              "\n",
              "    .colab-df-buttons div {\n",
              "      margin-bottom: 4px;\n",
              "    }\n",
              "\n",
              "    [theme=dark] .colab-df-convert {\n",
              "      background-color: #3B4455;\n",
              "      fill: #D2E3FC;\n",
              "    }\n",
              "\n",
              "    [theme=dark] .colab-df-convert:hover {\n",
              "      background-color: #434B5C;\n",
              "      box-shadow: 0px 1px 3px 1px rgba(0, 0, 0, 0.15);\n",
              "      filter: drop-shadow(0px 1px 2px rgba(0, 0, 0, 0.3));\n",
              "      fill: #FFFFFF;\n",
              "    }\n",
              "  </style>\n",
              "\n",
              "    <script>\n",
              "      const buttonEl =\n",
              "        document.querySelector('#df-1ef7d359-ad54-4438-aa01-d581bbb778ac button.colab-df-convert');\n",
              "      buttonEl.style.display =\n",
              "        google.colab.kernel.accessAllowed ? 'block' : 'none';\n",
              "\n",
              "      async function convertToInteractive(key) {\n",
              "        const element = document.querySelector('#df-1ef7d359-ad54-4438-aa01-d581bbb778ac');\n",
              "        const dataTable =\n",
              "          await google.colab.kernel.invokeFunction('convertToInteractive',\n",
              "                                                    [key], {});\n",
              "        if (!dataTable) return;\n",
              "\n",
              "        const docLinkHtml = 'Like what you see? Visit the ' +\n",
              "          '<a target=\"_blank\" href=https://colab.research.google.com/notebooks/data_table.ipynb>data table notebook</a>'\n",
              "          + ' to learn more about interactive tables.';\n",
              "        element.innerHTML = '';\n",
              "        dataTable['output_type'] = 'display_data';\n",
              "        await google.colab.output.renderOutput(dataTable, element);\n",
              "        const docLink = document.createElement('div');\n",
              "        docLink.innerHTML = docLinkHtml;\n",
              "        element.appendChild(docLink);\n",
              "      }\n",
              "    </script>\n",
              "  </div>\n",
              "\n",
              "\n",
              "<div id=\"df-ea6b3e95-048a-4157-8acf-dea7d6f366bb\">\n",
              "  <button class=\"colab-df-quickchart\" onclick=\"quickchart('df-ea6b3e95-048a-4157-8acf-dea7d6f366bb')\"\n",
              "            title=\"Suggest charts.\"\n",
              "            style=\"display:none;\">\n",
              "\n",
              "<svg xmlns=\"http://www.w3.org/2000/svg\" height=\"24px\"viewBox=\"0 0 24 24\"\n",
              "     width=\"24px\">\n",
              "    <g>\n",
              "        <path d=\"M19 3H5c-1.1 0-2 .9-2 2v14c0 1.1.9 2 2 2h14c1.1 0 2-.9 2-2V5c0-1.1-.9-2-2-2zM9 17H7v-7h2v7zm4 0h-2V7h2v10zm4 0h-2v-4h2v4z\"/>\n",
              "    </g>\n",
              "</svg>\n",
              "  </button>\n",
              "\n",
              "<style>\n",
              "  .colab-df-quickchart {\n",
              "      --bg-color: #E8F0FE;\n",
              "      --fill-color: #1967D2;\n",
              "      --hover-bg-color: #E2EBFA;\n",
              "      --hover-fill-color: #174EA6;\n",
              "      --disabled-fill-color: #AAA;\n",
              "      --disabled-bg-color: #DDD;\n",
              "  }\n",
              "\n",
              "  [theme=dark] .colab-df-quickchart {\n",
              "      --bg-color: #3B4455;\n",
              "      --fill-color: #D2E3FC;\n",
              "      --hover-bg-color: #434B5C;\n",
              "      --hover-fill-color: #FFFFFF;\n",
              "      --disabled-bg-color: #3B4455;\n",
              "      --disabled-fill-color: #666;\n",
              "  }\n",
              "\n",
              "  .colab-df-quickchart {\n",
              "    background-color: var(--bg-color);\n",
              "    border: none;\n",
              "    border-radius: 50%;\n",
              "    cursor: pointer;\n",
              "    display: none;\n",
              "    fill: var(--fill-color);\n",
              "    height: 32px;\n",
              "    padding: 0;\n",
              "    width: 32px;\n",
              "  }\n",
              "\n",
              "  .colab-df-quickchart:hover {\n",
              "    background-color: var(--hover-bg-color);\n",
              "    box-shadow: 0 1px 2px rgba(60, 64, 67, 0.3), 0 1px 3px 1px rgba(60, 64, 67, 0.15);\n",
              "    fill: var(--button-hover-fill-color);\n",
              "  }\n",
              "\n",
              "  .colab-df-quickchart-complete:disabled,\n",
              "  .colab-df-quickchart-complete:disabled:hover {\n",
              "    background-color: var(--disabled-bg-color);\n",
              "    fill: var(--disabled-fill-color);\n",
              "    box-shadow: none;\n",
              "  }\n",
              "\n",
              "  .colab-df-spinner {\n",
              "    border: 2px solid var(--fill-color);\n",
              "    border-color: transparent;\n",
              "    border-bottom-color: var(--fill-color);\n",
              "    animation:\n",
              "      spin 1s steps(1) infinite;\n",
              "  }\n",
              "\n",
              "  @keyframes spin {\n",
              "    0% {\n",
              "      border-color: transparent;\n",
              "      border-bottom-color: var(--fill-color);\n",
              "      border-left-color: var(--fill-color);\n",
              "    }\n",
              "    20% {\n",
              "      border-color: transparent;\n",
              "      border-left-color: var(--fill-color);\n",
              "      border-top-color: var(--fill-color);\n",
              "    }\n",
              "    30% {\n",
              "      border-color: transparent;\n",
              "      border-left-color: var(--fill-color);\n",
              "      border-top-color: var(--fill-color);\n",
              "      border-right-color: var(--fill-color);\n",
              "    }\n",
              "    40% {\n",
              "      border-color: transparent;\n",
              "      border-right-color: var(--fill-color);\n",
              "      border-top-color: var(--fill-color);\n",
              "    }\n",
              "    60% {\n",
              "      border-color: transparent;\n",
              "      border-right-color: var(--fill-color);\n",
              "    }\n",
              "    80% {\n",
              "      border-color: transparent;\n",
              "      border-right-color: var(--fill-color);\n",
              "      border-bottom-color: var(--fill-color);\n",
              "    }\n",
              "    90% {\n",
              "      border-color: transparent;\n",
              "      border-bottom-color: var(--fill-color);\n",
              "    }\n",
              "  }\n",
              "</style>\n",
              "\n",
              "  <script>\n",
              "    async function quickchart(key) {\n",
              "      const quickchartButtonEl =\n",
              "        document.querySelector('#' + key + ' button');\n",
              "      quickchartButtonEl.disabled = true;  // To prevent multiple clicks.\n",
              "      quickchartButtonEl.classList.add('colab-df-spinner');\n",
              "      try {\n",
              "        const charts = await google.colab.kernel.invokeFunction(\n",
              "            'suggestCharts', [key], {});\n",
              "      } catch (error) {\n",
              "        console.error('Error during call to suggestCharts:', error);\n",
              "      }\n",
              "      quickchartButtonEl.classList.remove('colab-df-spinner');\n",
              "      quickchartButtonEl.classList.add('colab-df-quickchart-complete');\n",
              "    }\n",
              "    (() => {\n",
              "      let quickchartButtonEl =\n",
              "        document.querySelector('#df-ea6b3e95-048a-4157-8acf-dea7d6f366bb button');\n",
              "      quickchartButtonEl.style.display =\n",
              "        google.colab.kernel.accessAllowed ? 'block' : 'none';\n",
              "    })();\n",
              "  </script>\n",
              "</div>\n",
              "\n",
              "    </div>\n",
              "  </div>\n"
            ]
          },
          "metadata": {},
          "execution_count": 91
        }
      ]
    },
    {
      "cell_type": "code",
      "source": [
        "ds = ds[(ds['eng_len'] > 20) & (ds['eng_len'] < 200)]\n",
        "ds = ds[(ds['hin_len'] > 20) & (ds['hin_len'] < 200)]\n",
        "print(f'Total number of examples = {len(ds)}')"
      ],
      "metadata": {
        "execution": {
          "iopub.status.busy": "2023-10-22T04:42:51.760345Z",
          "iopub.execute_input": "2023-10-22T04:42:51.760692Z",
          "iopub.status.idle": "2023-10-22T04:42:51.799146Z",
          "shell.execute_reply.started": "2023-10-22T04:42:51.760663Z",
          "shell.execute_reply": "2023-10-22T04:42:51.798143Z"
        },
        "trusted": true,
        "colab": {
          "base_uri": "https://localhost:8080/"
        },
        "id": "n9XzwKoItqn5",
        "outputId": "fa12c79e-e170-4848-b891-a85436bcbfa8"
      },
      "execution_count": 93,
      "outputs": [
        {
          "output_type": "stream",
          "name": "stdout",
          "text": [
            "Total number of examples = 43162\n"
          ]
        }
      ]
    },
    {
      "cell_type": "code",
      "source": [
        "ds['english_sentence'] = ds['english_sentence'].apply(lambda x: \"[start] \" + x + \" [end]\")\n",
        "ds['hindi_sentence'] = ds['hindi_sentence'].apply(lambda x: \"[start] \" + x + \" [end]\")\n",
        "ds.head()"
      ],
      "metadata": {
        "execution": {
          "iopub.status.busy": "2023-10-22T04:42:51.002983Z",
          "iopub.execute_input": "2023-10-22T04:42:51.003309Z",
          "iopub.status.idle": "2023-10-22T04:42:51.758451Z",
          "shell.execute_reply.started": "2023-10-22T04:42:51.003281Z",
          "shell.execute_reply": "2023-10-22T04:42:51.757392Z"
        },
        "trusted": true,
        "colab": {
          "base_uri": "https://localhost:8080/",
          "height": 206
        },
        "id": "h9P_4DxXtqn5",
        "outputId": "fa7b03b8-c7e3-4bbe-f78f-08d627f78047"
      },
      "execution_count": 94,
      "outputs": [
        {
          "output_type": "execute_result",
          "data": {
            "text/plain": [
              "    Unnamed: 0                                   english_sentence  \\\n",
              "8            8  [start] “”Global Warming“” refer to warming ca...   \n",
              "9            9  [start] You may want your child to go to a sch...   \n",
              "15          15  [start] They had justified their educational p...   \n",
              "18          18  [start] ii Register Courts , empowered to try ...   \n",
              "19          19  [start] Extreme weather due to increased morta...   \n",
              "\n",
              "                                       hindi_sentence  eng_len  hin_len  \n",
              "8   [start] ग्लोबल वॉर्मिंग से आशय हाल ही के दशकों...       22       30  \n",
              "9   [start] हो सकता है कि आप चाहते हों कि आप का नऋ...       34       39  \n",
              "15  [start] कम संख़्या वाले उच्च एवं मध्यम श्रेणी ...       36       38  \n",
              "18  [start] रजिस्टर न्यायालय जिन्हें न्यायाधीश द्व...       21       22  \n",
              "19  [start] बढ़ती हुई मौतों displacements और आर्थि...       33       50  "
            ],
            "text/html": [
              "\n",
              "  <div id=\"df-8b9b9cbd-4435-4860-88dc-9af2b8b2c4de\" class=\"colab-df-container\">\n",
              "    <div>\n",
              "<style scoped>\n",
              "    .dataframe tbody tr th:only-of-type {\n",
              "        vertical-align: middle;\n",
              "    }\n",
              "\n",
              "    .dataframe tbody tr th {\n",
              "        vertical-align: top;\n",
              "    }\n",
              "\n",
              "    .dataframe thead th {\n",
              "        text-align: right;\n",
              "    }\n",
              "</style>\n",
              "<table border=\"1\" class=\"dataframe\">\n",
              "  <thead>\n",
              "    <tr style=\"text-align: right;\">\n",
              "      <th></th>\n",
              "      <th>Unnamed: 0</th>\n",
              "      <th>english_sentence</th>\n",
              "      <th>hindi_sentence</th>\n",
              "      <th>eng_len</th>\n",
              "      <th>hin_len</th>\n",
              "    </tr>\n",
              "  </thead>\n",
              "  <tbody>\n",
              "    <tr>\n",
              "      <th>8</th>\n",
              "      <td>8</td>\n",
              "      <td>[start] “”Global Warming“” refer to warming ca...</td>\n",
              "      <td>[start] ग्लोबल वॉर्मिंग से आशय हाल ही के दशकों...</td>\n",
              "      <td>22</td>\n",
              "      <td>30</td>\n",
              "    </tr>\n",
              "    <tr>\n",
              "      <th>9</th>\n",
              "      <td>9</td>\n",
              "      <td>[start] You may want your child to go to a sch...</td>\n",
              "      <td>[start] हो सकता है कि आप चाहते हों कि आप का नऋ...</td>\n",
              "      <td>34</td>\n",
              "      <td>39</td>\n",
              "    </tr>\n",
              "    <tr>\n",
              "      <th>15</th>\n",
              "      <td>15</td>\n",
              "      <td>[start] They had justified their educational p...</td>\n",
              "      <td>[start] कम संख़्या वाले उच्च एवं मध्यम श्रेणी ...</td>\n",
              "      <td>36</td>\n",
              "      <td>38</td>\n",
              "    </tr>\n",
              "    <tr>\n",
              "      <th>18</th>\n",
              "      <td>18</td>\n",
              "      <td>[start] ii Register Courts , empowered to try ...</td>\n",
              "      <td>[start] रजिस्टर न्यायालय जिन्हें न्यायाधीश द्व...</td>\n",
              "      <td>21</td>\n",
              "      <td>22</td>\n",
              "    </tr>\n",
              "    <tr>\n",
              "      <th>19</th>\n",
              "      <td>19</td>\n",
              "      <td>[start] Extreme weather due to increased morta...</td>\n",
              "      <td>[start] बढ़ती हुई मौतों displacements और आर्थि...</td>\n",
              "      <td>33</td>\n",
              "      <td>50</td>\n",
              "    </tr>\n",
              "  </tbody>\n",
              "</table>\n",
              "</div>\n",
              "    <div class=\"colab-df-buttons\">\n",
              "\n",
              "  <div class=\"colab-df-container\">\n",
              "    <button class=\"colab-df-convert\" onclick=\"convertToInteractive('df-8b9b9cbd-4435-4860-88dc-9af2b8b2c4de')\"\n",
              "            title=\"Convert this dataframe to an interactive table.\"\n",
              "            style=\"display:none;\">\n",
              "\n",
              "  <svg xmlns=\"http://www.w3.org/2000/svg\" height=\"24px\" viewBox=\"0 -960 960 960\">\n",
              "    <path d=\"M120-120v-720h720v720H120Zm60-500h600v-160H180v160Zm220 220h160v-160H400v160Zm0 220h160v-160H400v160ZM180-400h160v-160H180v160Zm440 0h160v-160H620v160ZM180-180h160v-160H180v160Zm440 0h160v-160H620v160Z\"/>\n",
              "  </svg>\n",
              "    </button>\n",
              "\n",
              "  <style>\n",
              "    .colab-df-container {\n",
              "      display:flex;\n",
              "      gap: 12px;\n",
              "    }\n",
              "\n",
              "    .colab-df-convert {\n",
              "      background-color: #E8F0FE;\n",
              "      border: none;\n",
              "      border-radius: 50%;\n",
              "      cursor: pointer;\n",
              "      display: none;\n",
              "      fill: #1967D2;\n",
              "      height: 32px;\n",
              "      padding: 0 0 0 0;\n",
              "      width: 32px;\n",
              "    }\n",
              "\n",
              "    .colab-df-convert:hover {\n",
              "      background-color: #E2EBFA;\n",
              "      box-shadow: 0px 1px 2px rgba(60, 64, 67, 0.3), 0px 1px 3px 1px rgba(60, 64, 67, 0.15);\n",
              "      fill: #174EA6;\n",
              "    }\n",
              "\n",
              "    .colab-df-buttons div {\n",
              "      margin-bottom: 4px;\n",
              "    }\n",
              "\n",
              "    [theme=dark] .colab-df-convert {\n",
              "      background-color: #3B4455;\n",
              "      fill: #D2E3FC;\n",
              "    }\n",
              "\n",
              "    [theme=dark] .colab-df-convert:hover {\n",
              "      background-color: #434B5C;\n",
              "      box-shadow: 0px 1px 3px 1px rgba(0, 0, 0, 0.15);\n",
              "      filter: drop-shadow(0px 1px 2px rgba(0, 0, 0, 0.3));\n",
              "      fill: #FFFFFF;\n",
              "    }\n",
              "  </style>\n",
              "\n",
              "    <script>\n",
              "      const buttonEl =\n",
              "        document.querySelector('#df-8b9b9cbd-4435-4860-88dc-9af2b8b2c4de button.colab-df-convert');\n",
              "      buttonEl.style.display =\n",
              "        google.colab.kernel.accessAllowed ? 'block' : 'none';\n",
              "\n",
              "      async function convertToInteractive(key) {\n",
              "        const element = document.querySelector('#df-8b9b9cbd-4435-4860-88dc-9af2b8b2c4de');\n",
              "        const dataTable =\n",
              "          await google.colab.kernel.invokeFunction('convertToInteractive',\n",
              "                                                    [key], {});\n",
              "        if (!dataTable) return;\n",
              "\n",
              "        const docLinkHtml = 'Like what you see? Visit the ' +\n",
              "          '<a target=\"_blank\" href=https://colab.research.google.com/notebooks/data_table.ipynb>data table notebook</a>'\n",
              "          + ' to learn more about interactive tables.';\n",
              "        element.innerHTML = '';\n",
              "        dataTable['output_type'] = 'display_data';\n",
              "        await google.colab.output.renderOutput(dataTable, element);\n",
              "        const docLink = document.createElement('div');\n",
              "        docLink.innerHTML = docLinkHtml;\n",
              "        element.appendChild(docLink);\n",
              "      }\n",
              "    </script>\n",
              "  </div>\n",
              "\n",
              "\n",
              "<div id=\"df-ce9c2642-2893-49b5-8196-b0fd7d4084e1\">\n",
              "  <button class=\"colab-df-quickchart\" onclick=\"quickchart('df-ce9c2642-2893-49b5-8196-b0fd7d4084e1')\"\n",
              "            title=\"Suggest charts.\"\n",
              "            style=\"display:none;\">\n",
              "\n",
              "<svg xmlns=\"http://www.w3.org/2000/svg\" height=\"24px\"viewBox=\"0 0 24 24\"\n",
              "     width=\"24px\">\n",
              "    <g>\n",
              "        <path d=\"M19 3H5c-1.1 0-2 .9-2 2v14c0 1.1.9 2 2 2h14c1.1 0 2-.9 2-2V5c0-1.1-.9-2-2-2zM9 17H7v-7h2v7zm4 0h-2V7h2v10zm4 0h-2v-4h2v4z\"/>\n",
              "    </g>\n",
              "</svg>\n",
              "  </button>\n",
              "\n",
              "<style>\n",
              "  .colab-df-quickchart {\n",
              "      --bg-color: #E8F0FE;\n",
              "      --fill-color: #1967D2;\n",
              "      --hover-bg-color: #E2EBFA;\n",
              "      --hover-fill-color: #174EA6;\n",
              "      --disabled-fill-color: #AAA;\n",
              "      --disabled-bg-color: #DDD;\n",
              "  }\n",
              "\n",
              "  [theme=dark] .colab-df-quickchart {\n",
              "      --bg-color: #3B4455;\n",
              "      --fill-color: #D2E3FC;\n",
              "      --hover-bg-color: #434B5C;\n",
              "      --hover-fill-color: #FFFFFF;\n",
              "      --disabled-bg-color: #3B4455;\n",
              "      --disabled-fill-color: #666;\n",
              "  }\n",
              "\n",
              "  .colab-df-quickchart {\n",
              "    background-color: var(--bg-color);\n",
              "    border: none;\n",
              "    border-radius: 50%;\n",
              "    cursor: pointer;\n",
              "    display: none;\n",
              "    fill: var(--fill-color);\n",
              "    height: 32px;\n",
              "    padding: 0;\n",
              "    width: 32px;\n",
              "  }\n",
              "\n",
              "  .colab-df-quickchart:hover {\n",
              "    background-color: var(--hover-bg-color);\n",
              "    box-shadow: 0 1px 2px rgba(60, 64, 67, 0.3), 0 1px 3px 1px rgba(60, 64, 67, 0.15);\n",
              "    fill: var(--button-hover-fill-color);\n",
              "  }\n",
              "\n",
              "  .colab-df-quickchart-complete:disabled,\n",
              "  .colab-df-quickchart-complete:disabled:hover {\n",
              "    background-color: var(--disabled-bg-color);\n",
              "    fill: var(--disabled-fill-color);\n",
              "    box-shadow: none;\n",
              "  }\n",
              "\n",
              "  .colab-df-spinner {\n",
              "    border: 2px solid var(--fill-color);\n",
              "    border-color: transparent;\n",
              "    border-bottom-color: var(--fill-color);\n",
              "    animation:\n",
              "      spin 1s steps(1) infinite;\n",
              "  }\n",
              "\n",
              "  @keyframes spin {\n",
              "    0% {\n",
              "      border-color: transparent;\n",
              "      border-bottom-color: var(--fill-color);\n",
              "      border-left-color: var(--fill-color);\n",
              "    }\n",
              "    20% {\n",
              "      border-color: transparent;\n",
              "      border-left-color: var(--fill-color);\n",
              "      border-top-color: var(--fill-color);\n",
              "    }\n",
              "    30% {\n",
              "      border-color: transparent;\n",
              "      border-left-color: var(--fill-color);\n",
              "      border-top-color: var(--fill-color);\n",
              "      border-right-color: var(--fill-color);\n",
              "    }\n",
              "    40% {\n",
              "      border-color: transparent;\n",
              "      border-right-color: var(--fill-color);\n",
              "      border-top-color: var(--fill-color);\n",
              "    }\n",
              "    60% {\n",
              "      border-color: transparent;\n",
              "      border-right-color: var(--fill-color);\n",
              "    }\n",
              "    80% {\n",
              "      border-color: transparent;\n",
              "      border-right-color: var(--fill-color);\n",
              "      border-bottom-color: var(--fill-color);\n",
              "    }\n",
              "    90% {\n",
              "      border-color: transparent;\n",
              "      border-bottom-color: var(--fill-color);\n",
              "    }\n",
              "  }\n",
              "</style>\n",
              "\n",
              "  <script>\n",
              "    async function quickchart(key) {\n",
              "      const quickchartButtonEl =\n",
              "        document.querySelector('#' + key + ' button');\n",
              "      quickchartButtonEl.disabled = true;  // To prevent multiple clicks.\n",
              "      quickchartButtonEl.classList.add('colab-df-spinner');\n",
              "      try {\n",
              "        const charts = await google.colab.kernel.invokeFunction(\n",
              "            'suggestCharts', [key], {});\n",
              "      } catch (error) {\n",
              "        console.error('Error during call to suggestCharts:', error);\n",
              "      }\n",
              "      quickchartButtonEl.classList.remove('colab-df-spinner');\n",
              "      quickchartButtonEl.classList.add('colab-df-quickchart-complete');\n",
              "    }\n",
              "    (() => {\n",
              "      let quickchartButtonEl =\n",
              "        document.querySelector('#df-ce9c2642-2893-49b5-8196-b0fd7d4084e1 button');\n",
              "      quickchartButtonEl.style.display =\n",
              "        google.colab.kernel.accessAllowed ? 'block' : 'none';\n",
              "    })();\n",
              "  </script>\n",
              "</div>\n",
              "\n",
              "    </div>\n",
              "  </div>\n"
            ]
          },
          "metadata": {},
          "execution_count": 94
        }
      ]
    },
    {
      "cell_type": "code",
      "source": [
        "# ds = ds.sample(frac=0.1).reset_index(drop=True)\n",
        "# len(ds)\n",
        "\n",
        "def normalize(eng, hin):\n",
        "    \"\"\"Normalize a line of text and split into two at the tab character\"\"\"\n",
        "    line = str(eng.strip().lower()) + \"\\t\" + str(hin)\n",
        "    line = re.sub(r\"^([^ \\w])(?!\\s)\", r\"\\1 \", line)\n",
        "    line = re.sub(r\"(\\s[^ \\w])(?!\\s)\", r\"\\1 \", line)\n",
        "    line = re.sub(r\"(?!\\s)([^ \\w])$\", r\" \\1\", line)\n",
        "    line = re.sub(r\"(?!\\s)([^ \\w]\\s)\", r\" \\1\", line)\n",
        "    eng, hind = line.split('\\t')\n",
        "    return eng, hin\n",
        "\n",
        "text_pairs = []\n",
        "for index in ds.index:\n",
        "    text_pairs.append(normalize(ds['english_sentence'][index], ds['hindi_sentence'][index]))\n"
      ],
      "metadata": {
        "id": "t0HUxyyBKNPF"
      },
      "execution_count": 110,
      "outputs": []
    },
    {
      "cell_type": "code",
      "source": [
        "# Create train, val and testing datasets\n",
        "val_split = 0.15\n",
        "\n",
        "# shuffle\n",
        "# ds = ds.sample(frac = 1)\n",
        "len_text_pairs = len(text_pairs)\n",
        "n_val_index = int(val_split * len_text_pairs)\n",
        "n_train_index = len_text_pairs - 2 * n_val_index\n",
        "\n",
        "train_tp = text_pairs[:n_train_index]\n",
        "test_tp = text_pairs[n_train_index:n_train_index + n_val_index]\n",
        "val_tp = text_pairs[n_train_index + n_val_index:]\n",
        "print(f\"Train: {len(train_tp)}\")\n",
        "print(f\"Validation: {len(val_tp)}\")\n",
        "print(f\"Test: {len(test_tp)}\")"
      ],
      "metadata": {
        "id": "GNsjfotokWRn",
        "outputId": "43baff95-60ed-488d-a451-74057f5f98de",
        "colab": {
          "base_uri": "https://localhost:8080/"
        }
      },
      "execution_count": 122,
      "outputs": [
        {
          "output_type": "stream",
          "name": "stdout",
          "text": [
            "Train: 30214\n",
            "Validation: 6474\n",
            "Test: 6474\n"
          ]
        }
      ]
    },
    {
      "cell_type": "code",
      "source": [
        "train_tp[:3]"
      ],
      "metadata": {
        "id": "ftsUg6HRYi7q",
        "outputId": "3cd294f2-f772-4631-fc48-142353eb47a9",
        "colab": {
          "base_uri": "https://localhost:8080/"
        }
      },
      "execution_count": 123,
      "outputs": [
        {
          "output_type": "execute_result",
          "data": {
            "text/plain": [
              "[(' [ start ] miss . kalpana was inducted in the core team of astronauts in march 1995 and in 1998 she was chosen for her first spaceflight .  [ end ]',\n",
              "  '[start] कल्पना जी मार्च १९९५ में नासा के अंतरिक्ष यात्री कोर में शामिल हुईं और उन्हें १९९८ में अपनी पहली उड़ान के लिए चुना गया था। [end]'),\n",
              " (\" [ start ] why does your dentist want to schedule another appointment with you so soon  - even if today  ' s oral examination was perfect  ?  [ end ]\",\n",
              "  '[start] क्या कारण है कि आपके दाँत के डॉक्टर आपको दोबारा जल्द ही देखना चाहते हैं - जब कि आज की जाँच इतनी अच्छी रही ? [end]'),\n",
              " (' [ start ] from kolkata distance by road way 152 kilometers  , from rail way 201 kilometers  , four trains daily from howrah and shalimar stations  .  [ end ]',\n",
              "  '[start] कोलकाता से सड़क मार्ग से दूरी 152 किलोमीटर , रेल मार्ग से 201 किलोमीटर , प्रतिदिन हावड़ा और शालीमार स्टेशन से चार गाड़ियाँ । [end]')]"
            ]
          },
          "metadata": {},
          "execution_count": 123
        }
      ]
    },
    {
      "cell_type": "code",
      "source": [
        "# histogram of sentence length in tokens\n",
        "en_lengths = [len(e.split()) for e, h in train_tp]\n",
        "hn_lengths = [len(h.split()) for e, h in train_tp]\n",
        "\n",
        "plt.hist(en_lengths, label=\"en\", color=\"red\", alpha=0.33)\n",
        "plt.hist(hn_lengths, label=\"hn\", color=\"blue\", alpha=0.33)\n",
        "plt.yscale(\"log\")     # sentence length fits Benford\"s law\n",
        "plt.ylim(plt.ylim())  # make y-axis consistent for both plots\n",
        "plt.plot([max(en_lengths), max(en_lengths)], plt.ylim(), color=\"red\")\n",
        "plt.plot([max(hn_lengths), max(hn_lengths)], plt.ylim(), color=\"blue\")\n",
        "plt.legend()\n",
        "plt.title(\"Examples count vs Token length\")\n",
        "plt.show()"
      ],
      "metadata": {
        "colab": {
          "base_uri": "https://localhost:8080/",
          "height": 452
        },
        "id": "agg-7Oc2ONKB",
        "outputId": "e8488ed7-bea9-471c-a9d1-4a4acb5de59e",
        "execution": {
          "iopub.status.busy": "2023-10-22T04:43:15.479579Z",
          "iopub.execute_input": "2023-10-22T04:43:15.479987Z",
          "iopub.status.idle": "2023-10-22T04:43:17.993364Z",
          "shell.execute_reply.started": "2023-10-22T04:43:15.479930Z",
          "shell.execute_reply": "2023-10-22T04:43:17.992391Z"
        },
        "trusted": true
      },
      "execution_count": 125,
      "outputs": [
        {
          "output_type": "display_data",
          "data": {
            "text/plain": [
              "<Figure size 640x480 with 1 Axes>"
            ],
            "image/png": "[encoded data removed]"
          },
          "metadata": {}
        }
      ]
    },
    {
      "cell_type": "code",
      "source": [
        " # count tokens\n",
        "eng_tokens, hin_tokens = set(), set()\n",
        "eng_maxlen, hin_maxlen = 0, 0\n",
        "for eng, hin in text_pairs:\n",
        "    eng_tok, hin_tok = eng.split(), hin.split()\n",
        "    eng_maxlen = max(eng_maxlen, len(eng_tok))\n",
        "    fra_maxlen = max(hin_maxlen, len(hin_tok))\n",
        "    eng_tokens.update(eng_tok)\n",
        "    hin_tokens.update(hin_tok)\n",
        "print(f\"Total English tokens: {len(eng_tokens)}\")\n",
        "print(f\"Total Hindi tokens: {len(hin_tokens)}\")\n",
        "print(f\"Max English length: {eng_maxlen}\")\n",
        "print(f\"Max Hindi length: {fra_maxlen}\")\n",
        "print(f\"{len(text_pairs)} total pairs\")\n",
        "vocab_size_en = len(eng_tokens)\n",
        "vocab_size_hn = len(hin_tokens)"
      ],
      "metadata": {
        "id": "cOv3zcar3Whm",
        "outputId": "6b57999d-14e7-4d5e-893e-9ced4704c0cf",
        "colab": {
          "base_uri": "https://localhost:8080/"
        }
      },
      "execution_count": 126,
      "outputs": [
        {
          "output_type": "stream",
          "name": "stdout",
          "text": [
            "Total English tokens: 61187\n",
            "Total Hindi tokens: 76852\n",
            "Max English length: 234\n",
            "Max Hindi length: 25\n",
            "43162 total pairs\n"
          ]
        }
      ]
    },
    {
      "cell_type": "code",
      "source": [
        "filters = '!\"#$%&()*+,-./:;=?@[\\\\]^_`{|}~\\t\\n'\n",
        "# oov_token = '<unk>'\n",
        "# eng = list(train_ds['english_sentence'])\n",
        "# hin = list(train_ds['hindi_sentence'])\n",
        "# eng_val = list(val_ds['english_sentence'])\n",
        "# hin_val = list(val_ds['hindi_sentence'])\n",
        "# eng_tokenizer = tf.keras.preprocessing.text.Tokenizer(filters = filters, oov_token=oov_token)\n",
        "# hin_tokenizer = tf.keras.preprocessing.text.Tokenizer(filters = filters, oov_token=oov_token)\n",
        "# eng_tokenizer.fit_on_texts(eng)\n",
        "# hin_tokenizer.fit_on_texts(hin)\n",
        "# eng = eng_tokenizer.texts_to_sequences(eng)\n",
        "# hin = hin_tokenizer.texts_to_sequences(hin)\n",
        "# eng_val_tokenizer = tf.keras.preprocessing.text.Tokenizer(filters = filters, oov_token=oov_token)\n",
        "# hin_val_tokenizer = tf.keras.preprocessing.text.Tokenizer(filters = filters, oov_token=oov_token)\n",
        "# eng_val_tokenizer.fit_on_texts(eng_val)\n",
        "# hin_val_tokenizer.fit_on_texts(hin_val)\n",
        "# eng_val = eng_val_tokenizer.texts_to_sequences(eng_val)\n",
        "# hin_val = hin_val_tokenizer.texts_to_sequences(hin_val)\n",
        "\n",
        "# Parameter determined after analyzing the input data\n",
        "seq_length = 50\n",
        "\n",
        "# Create vectorizer\n",
        "eng_vectorizer = TextVectorization(\n",
        "    max_tokens=vocab_size_en,\n",
        "    standardize=None,\n",
        "    split=\"whitespace\",\n",
        "    output_mode=\"int\",\n",
        "    output_sequence_length=seq_length,\n",
        ")\n",
        "hin_vectorizer = TextVectorization(\n",
        "    max_tokens=vocab_size_hn,\n",
        "    standardize=None,\n",
        "    split=\"whitespace\",\n",
        "    output_mode=\"int\",\n",
        "    output_sequence_length=seq_length + 1\n",
        ")\n"
      ],
      "metadata": {
        "id": "BXVcdS4gkNoH",
        "execution": {
          "iopub.status.busy": "2023-10-22T04:43:03.951199Z",
          "iopub.execute_input": "2023-10-22T04:43:03.951559Z",
          "iopub.status.idle": "2023-10-22T04:43:14.624167Z",
          "shell.execute_reply.started": "2023-10-22T04:43:03.951533Z",
          "shell.execute_reply": "2023-10-22T04:43:14.623233Z"
        },
        "trusted": true
      },
      "execution_count": 127,
      "outputs": []
    },
    {
      "cell_type": "markdown",
      "source": [
        "l;ajskl;d## Prepare datasetTok"
      ],
      "metadata": {
        "id": "TKSTu2wW4uDh"
      }
    },
    {
      "cell_type": "code",
      "source": [
        "n_sentences = None\n",
        "batch_size=64\n",
        "\n",
        "# eng_texts_train, hin_texts_train = zip(*train_pairs)\n",
        "# eng_texts_val, hin_texts_val = zip(*val_pairs)\n",
        "\n",
        "# ENCODER_VOCAB = len(eng_tokenizer.word_index) + 1\n",
        "# DECODER_VOCAB = len(hin_tokenizer.word_index) + 1\n",
        "# print(ENCODER_VOCAB, DECODER_VOCAB)\n",
        "\n",
        "# eng = tf.keras.preprocessing.sequence.pad_sequences(eng, maxlen=ENCODER_LEN, padding='post', truncating='post')\n",
        "# hin = tf.keras.preprocessing.sequence.pad_sequences(hin, maxlen=DECODER_LEN, padding='post', truncating='post')\n",
        "# eng = tf.cast(eng, dtype=tf.int64)\n",
        "# hin = tf.cast(hin, dtype=tf.int64)\n",
        "\n",
        "# eng_val = tf.keras.preprocessing.sequence.pad_sequences(eng_val, maxlen=ENCODER_LEN, padding='post', truncating='post')\n",
        "# hin_val = tf.keras.preprocessing.sequence.pad_sequences(hin_val, maxlen=DECODER_LEN, padding='post', truncating='post')\n",
        "# eng_val = tf.cast(eng_val, dtype=tf.int64)\n",
        "# hin_val = tf.cast(hin_val, dtype=tf.int64)\n",
        "\n",
        "\n",
        "train_eng_texts = [pairs[0] for pairs in train_tp]\n",
        "train_hin_texts = [pairs[1] for pairs in train_tp]\n",
        "\n",
        "eng_vectorizer.adapt(train_eng_texts)\n",
        "hin_vectorizer.adapt(train_hin_texts)\n",
        "\n",
        "# set up Dataset object\n",
        "def format_dataset(eng, hin):\n",
        "    eng = eng_vectorizer(eng)\n",
        "    hin = hin_vectorizer(hin)\n",
        "    source = (eng, hin[:, :-1])\n",
        "    target = hin[:, 1:]\n",
        "    return (source, target)\n",
        "\n",
        "def make_dataset(pairs, batch_size=64):\n",
        "    \"\"\"Create TensorFlow Dataset for the sentence pairs\"\"\"\n",
        "    # aggregate sentences using zip(*pairs)\n",
        "    eng_texts, hin_texts = zip(*pairs)\n",
        "    # convert them into list, and then create tensors\n",
        "    dataset = tf.data.Dataset.from_tensor_slices((list(eng_texts), list(hin_texts)))\n",
        "    return dataset.shuffle(2048) \\\n",
        "                  .batch(batch_size).map(format_dataset) \\\n",
        "                  .prefetch(16).cache()\n",
        "\n",
        "train_ds = make_dataset(train_tp)\n",
        "val_ds = make_dataset(val_tp)"
      ],
      "metadata": {
        "id": "tMubKI2Mqkw8",
        "execution": {
          "iopub.status.busy": "2023-10-22T04:43:17.994970Z",
          "iopub.execute_input": "2023-10-22T04:43:17.995282Z",
          "iopub.status.idle": "2023-10-22T04:43:18.011061Z",
          "shell.execute_reply.started": "2023-10-22T04:43:17.995254Z",
          "shell.execute_reply": "2023-10-22T04:43:18.010011Z"
        },
        "trusted": true
      },
      "execution_count": 148,
      "outputs": []
    },
    {
      "cell_type": "code",
      "source": [
        "# test the dataset\n",
        "for inputs, targets in train_ds.take(1):\n",
        "    print(f'inputs[\"encoder_inputs\"].shape: {inputs[0].shape}')\n",
        "    print(f'inputs[\"encoder_inputs\"][0]: {inputs[0][0]}')\n",
        "    print(f'inputs[\"decoder_inputs\"].shape: {inputs[1].shape}')\n",
        "    print(f'inputs[\"decoder_inputs\"][0]: {inputs[1][0]}')\n",
        "    print(f\"targets.shape: {targets.shape}\")\n",
        "    print(f\"targets[0]: {targets[0]}\")"
      ],
      "metadata": {
        "colab": {
          "base_uri": "https://localhost:8080/"
        },
        "id": "p7t9PFD0y00l",
        "outputId": "eb31041a-7cc9-43bd-c47b-4f9c23fbcee6",
        "execution": {
          "iopub.status.busy": "2023-10-22T04:43:18.012286Z",
          "iopub.execute_input": "2023-10-22T04:43:18.013207Z",
          "iopub.status.idle": "2023-10-22T04:43:22.254969Z",
          "shell.execute_reply.started": "2023-10-22T04:43:18.013177Z",
          "shell.execute_reply": "2023-10-22T04:43:22.253799Z"
        },
        "trusted": true
      },
      "execution_count": 151,
      "outputs": [
        {
          "output_type": "stream",
          "name": "stdout",
          "text": [
            "inputs[\"encoder_inputs\"].shape: (64, 50)\n",
            "inputs[\"encoder_inputs\"][0]: [    4     9     3   207    37    42   171   952  1216    10   309  2074\n",
            "   207    25  2167    20   309 40488 32416    10   252    37  2822  1216\n",
            "     7     4     8     3     0     0     0     0     0     0     0     0\n",
            "     0     0     0     0     0     0     0     0     0     0     0     0\n",
            "     0     0]\n",
            "inputs[\"decoder_inputs\"].shape: (64, 50)\n",
            "inputs[\"decoder_inputs\"][0]: [    4   805     8  4236   113   929  4442    14   241 20902  6674    15\n",
            "   909    47  1735  2807   523    98     7  1603 19357     9   312     8\n",
            "  3889    97    19   116     5     0     0     0     0     0     0     0\n",
            "     0     0     0     0     0     0     0     0     0     0     0     0\n",
            "     0     0]\n",
            "targets.shape: (64, 50)\n",
            "targets[0]: [  805     8  4236   113   929  4442    14   241 20902  6674    15   909\n",
            "    47  1735  2807   523    98     7  1603 19357     9   312     8  3889\n",
            "    97    19   116     5     0     0     0     0     0     0     0     0\n",
            "     0     0     0     0     0     0     0     0     0     0     0     0\n",
            "     0     0]\n"
          ]
        }
      ]
    },
    {
      "cell_type": "code",
      "source": [
        "# eng_lookup = list(eng_vectorizer.get_vocabulary())\n",
        "# hin_lookup = list(eng_vectorizer.get_vocabulary())\n",
        "# eng_sen, hin_sen, hin_source = \"\", \"\",\"\"\n",
        "# for index in inputs[\"encoder_inputs\"]:\n",
        "#   eng_sen += eng_lookup[index] + \" \"\n",
        "# for index in targets:\n",
        "#   hin_source += hin_lookup[index] + \" \"\n",
        "# print(f\"source: {eng_sen}\")\n",
        "# print(f\"hin source: {hin_source}\")"
      ],
      "metadata": {
        "id": "HKfvkKeaKKty",
        "execution": {
          "iopub.status.busy": "2023-10-22T04:43:22.256183Z",
          "iopub.execute_input": "2023-10-22T04:43:22.256553Z",
          "iopub.status.idle": "2023-10-22T04:43:22.320250Z",
          "shell.execute_reply.started": "2023-10-22T04:43:22.256525Z",
          "shell.execute_reply": "2023-10-22T04:43:22.319260Z"
        },
        "trusted": true
      },
      "execution_count": 138,
      "outputs": []
    },
    {
      "cell_type": "markdown",
      "source": [
        "## Vocab size"
      ],
      "metadata": {
        "id": "UQOyjE95EJ7y"
      }
    },
    {
      "cell_type": "code",
      "source": [
        "# find out how many distinct tokens exist\n",
        "print(f\"Total English tokens = {vocab_size_en}.\")\n",
        "print(f\"Total Hindi tokens = {vocab_size_hn}.\")"
      ],
      "metadata": {
        "id": "iiiVhpnJRdRp",
        "outputId": "3e497e0b-b6bc-428f-c446-88b75f7d0539",
        "colab": {
          "base_uri": "https://localhost:8080/"
        },
        "execution": {
          "iopub.status.busy": "2023-10-22T04:43:22.321757Z",
          "iopub.execute_input": "2023-10-22T04:43:22.322598Z",
          "iopub.status.idle": "2023-10-22T04:43:22.345887Z",
          "shell.execute_reply.started": "2023-10-22T04:43:22.322560Z",
          "shell.execute_reply": "2023-10-22T04:43:22.344881Z"
        },
        "trusted": true
      },
      "execution_count": 146,
      "outputs": [
        {
          "output_type": "stream",
          "name": "stdout",
          "text": [
            "Total English tokens = 61187.\n",
            "Total Hindi tokens = 76852.\n"
          ]
        }
      ]
    },
    {
      "cell_type": "code",
      "source": [
        "for (eng, hin), hn_labels in train_ds.take(1):\n",
        "  break\n",
        "print(eng.shape)\n",
        "print(hin.shape)\n",
        "print(hn_labels.shape)\n",
        "\n",
        "print(hin[0][:10])\n",
        "print(hn_labels[0][:10])"
      ],
      "metadata": {
        "id": "2g9r7GokBBaB",
        "outputId": "fffdc8bd-4780-45d4-9bbc-cda6eea5b5b6",
        "colab": {
          "base_uri": "https://localhost:8080/"
        }
      },
      "execution_count": 153,
      "outputs": [
        {
          "output_type": "stream",
          "name": "stdout",
          "text": [
            "(64, 50)\n",
            "(64, 50)\n",
            "(64, 50)\n",
            "tf.Tensor([   4   21  606 1088  813   23   92   15   49    3], shape=(10,), dtype=int64)\n",
            "tf.Tensor([   21   606  1088   813    23    92    15    49     3 51874], shape=(10,), dtype=int64)\n"
          ]
        }
      ]
    },
    {
      "cell_type": "markdown",
      "source": [
        "## Positional Embedding Layer\n",
        "\n"
      ],
      "metadata": {
        "id": "oSr-WkRA_33s"
      }
    },
    {
      "cell_type": "code",
      "source": [
        "# Positional embedding matrix - This matrix represents the position of the word in the sentence.\n",
        "# It takes input as length of the sentence and size of the vector embeddings\n",
        "# The output is a matrix where every row is a word in the sentence, each row represents the position encoding of that word\n",
        "# The length of each row is equal to the length of word embeddings.\n",
        "def positional_encoding(length, depth):\n",
        "  depth = depth/2\n",
        "  positions = np.arange(length)[:, np.newaxis]     # (seq, 1)\n",
        "  depths = np.arange(depth)[np.newaxis, :]/depth   # (1, depth)\n",
        "  angle_rates = 1 / (10000**depths)         # (1, depth)\n",
        "  angle_rads = positions * angle_rates      # (pos, depth)\n",
        "  pos_encoding = np.concatenate(\n",
        "      [np.sin(angle_rads), np.cos(angle_rads)],\n",
        "      axis=-1)\n",
        "  return tf.cast(pos_encoding, dtype=tf.float32)\n",
        "\n",
        "pos_matrix = positional_encoding(4, 4)\n",
        "assert pos_matrix.shape == (4,4)\n",
        "print(pos_matrix.shape)\n",
        "print(pos_matrix)\n"
      ],
      "metadata": {
        "colab": {
          "base_uri": "https://localhost:8080/"
        },
        "id": "SWNd4soU1dTv",
        "outputId": "c1cbce70-a6c8-49ef-fd70-491bdfc49550",
        "execution": {
          "iopub.status.busy": "2023-10-22T04:43:22.347214Z",
          "iopub.execute_input": "2023-10-22T04:43:22.347604Z",
          "iopub.status.idle": "2023-10-22T04:43:22.361671Z",
          "shell.execute_reply.started": "2023-10-22T04:43:22.347568Z",
          "shell.execute_reply": "2023-10-22T04:43:22.360576Z"
        },
        "trusted": true
      },
      "execution_count": 154,
      "outputs": [
        {
          "output_type": "stream",
          "name": "stdout",
          "text": [
            "(4, 4)\n",
            "tf.Tensor(\n",
            "[[ 0.          0.          1.          1.        ]\n",
            " [ 0.84147096  0.00999983  0.5403023   0.99995   ]\n",
            " [ 0.9092974   0.01999867 -0.41614684  0.9998    ]\n",
            " [ 0.14112     0.0299955  -0.9899925   0.99955004]], shape=(4, 4), dtype=float32)\n"
          ]
        }
      ]
    },
    {
      "cell_type": "code",
      "source": [
        "# Positional Embedding\n",
        "class PositionalEmbedding(tf.keras.layers.Layer):\n",
        "  def __init__(self, vocab_size, d_model):\n",
        "    super().__init__()\n",
        "    self.d_model = d_model\n",
        "    self.embedding = tf.keras.layers.Embedding(vocab_size, d_model, mask_zero=True)\n",
        "    self.pos_encoding = positional_encoding(length=2048, depth=d_model)\n",
        "\n",
        "  def compute_mask(self, *args, **kwargs):\n",
        "    return self.embedding.compute_mask(*args, **kwargs)\n",
        "\n",
        "  def call(self, x):\n",
        "    length = tf.shape(x)[1]\n",
        "    x = self.embedding(x)\n",
        "    # This factor sets the relative scale of the embedding and positonal_encoding.\n",
        "    x *= tf.math.sqrt(tf.cast(self.d_model, tf.float32))\n",
        "    x = x + self.pos_encoding[tf.newaxis, :length, :]\n",
        "    return x"
      ],
      "metadata": {
        "id": "OUmDv5MuIAO2",
        "execution": {
          "iopub.status.busy": "2023-10-22T04:43:22.362842Z",
          "iopub.execute_input": "2023-10-22T04:43:22.363213Z",
          "iopub.status.idle": "2023-10-22T04:43:22.371065Z",
          "shell.execute_reply.started": "2023-10-22T04:43:22.363183Z",
          "shell.execute_reply": "2023-10-22T04:43:22.370169Z"
        },
        "trusted": true
      },
      "execution_count": 155,
      "outputs": []
    },
    {
      "cell_type": "code",
      "source": [
        "eng_pos = PositionalEmbedding(vocab_size_en, 512)\n",
        "hin_pos = PositionalEmbedding(vocab_size_hn, 512)\n",
        "print(eng_pos(eng).shape)\n",
        "print(hin_pos(hin).shape)"
      ],
      "metadata": {
        "id": "_gZ0CIdtDkHZ",
        "outputId": "ea4171db-d52a-4bcd-d3ca-18cead0b1703",
        "colab": {
          "base_uri": "https://localhost:8080/"
        },
        "execution": {
          "iopub.status.busy": "2023-10-22T04:43:22.372204Z",
          "iopub.execute_input": "2023-10-22T04:43:22.372551Z",
          "iopub.status.idle": "2023-10-22T04:43:22.482002Z",
          "shell.execute_reply.started": "2023-10-22T04:43:22.372507Z",
          "shell.execute_reply": "2023-10-22T04:43:22.481059Z"
        },
        "trusted": true
      },
      "execution_count": 156,
      "outputs": [
        {
          "output_type": "stream",
          "name": "stdout",
          "text": [
            "(64, 50, 512)\n",
            "(64, 50, 512)\n"
          ]
        }
      ]
    },
    {
      "cell_type": "markdown",
      "source": [
        "\n",
        "## Self Attention Layer"
      ],
      "metadata": {
        "id": "HyiMqSKn__kH"
      }
    },
    {
      "cell_type": "code",
      "source": [
        "class BaseAttention(tf.keras.layers.Layer):\n",
        "  def __init__(self, **kwargs):\n",
        "    super().__init__()\n",
        "    self.mha = tf.keras.layers.MultiHeadAttention(**kwargs)\n",
        "    self.layernorm = tf.keras.layers.LayerNormalization()\n",
        "    self.add = tf.keras.layers.Add()\n",
        "\n",
        "class GlobalSelfAttention(BaseAttention):\n",
        "  def call(self, x):\n",
        "    attn_output = self.mha(\n",
        "        query=x,\n",
        "        value=x,\n",
        "        key=x)\n",
        "    x = self.add([x, attn_output])\n",
        "    x = self.layernorm(x)\n",
        "    return x"
      ],
      "metadata": {
        "id": "IrefrQsA_iWE",
        "execution": {
          "iopub.status.busy": "2023-10-22T04:43:22.483092Z",
          "iopub.execute_input": "2023-10-22T04:43:22.483351Z",
          "iopub.status.idle": "2023-10-22T04:43:22.490128Z",
          "shell.execute_reply.started": "2023-10-22T04:43:22.483330Z",
          "shell.execute_reply": "2023-10-22T04:43:22.489165Z"
        },
        "trusted": true
      },
      "execution_count": 157,
      "outputs": []
    },
    {
      "cell_type": "code",
      "source": [
        "sample_gsa = GlobalSelfAttention(num_heads=2, key_dim=512)\n",
        "enc_output = eng_pos(eng)\n",
        "print(enc_output.shape)\n",
        "print(sample_gsa(enc_output).shape)"
      ],
      "metadata": {
        "id": "GqqGTnJ2E9wv",
        "outputId": "d15a84a5-74d5-4703-ebce-c0500bcec688",
        "colab": {
          "base_uri": "https://localhost:8080/"
        },
        "execution": {
          "iopub.status.busy": "2023-10-22T04:43:22.491298Z",
          "iopub.execute_input": "2023-10-22T04:43:22.491634Z",
          "iopub.status.idle": "2023-10-22T04:43:25.040081Z",
          "shell.execute_reply.started": "2023-10-22T04:43:22.491602Z",
          "shell.execute_reply": "2023-10-22T04:43:25.038858Z"
        },
        "trusted": true
      },
      "execution_count": 158,
      "outputs": [
        {
          "output_type": "stream",
          "name": "stdout",
          "text": [
            "(64, 50, 512)\n",
            "(64, 50, 512)\n"
          ]
        }
      ]
    },
    {
      "cell_type": "markdown",
      "source": [
        "## Cross Attention Layer"
      ],
      "metadata": {
        "id": "LKFWcmfmJexs"
      }
    },
    {
      "cell_type": "code",
      "source": [
        "class CrossAttention(BaseAttention):\n",
        "  def call(self, x, context):\n",
        "    attn_output, attn_scores = self.mha(\n",
        "        query=x,\n",
        "        key=context,\n",
        "        value=context,\n",
        "        return_attention_scores=True)\n",
        "    # Cache the attention scores for plotting later.\n",
        "    self.last_attn_scores = attn_scores\n",
        "    x = self.add([x, attn_output])\n",
        "    x = self.layernorm(x)\n",
        "    return x"
      ],
      "metadata": {
        "id": "XArWRqWdJh-t",
        "execution": {
          "iopub.status.busy": "2023-10-22T04:43:25.041493Z",
          "iopub.execute_input": "2023-10-22T04:43:25.041834Z",
          "iopub.status.idle": "2023-10-22T04:43:25.048186Z",
          "shell.execute_reply.started": "2023-10-22T04:43:25.041804Z",
          "shell.execute_reply": "2023-10-22T04:43:25.047063Z"
        },
        "trusted": true
      },
      "execution_count": 159,
      "outputs": []
    },
    {
      "cell_type": "code",
      "source": [
        "sample_ca = CrossAttention(num_heads=2, key_dim=512)\n",
        "emb_output_eng = eng_pos(eng)\n",
        "emb_output_hin = hin_pos(hin)\n",
        "print(emb_output_eng.shape)\n",
        "print(emb_output_hin.shape)\n",
        "print(sample_ca(emb_output_eng, emb_output_hin).shape)"
      ],
      "metadata": {
        "id": "Ge-jOyeqJfm8",
        "outputId": "4f60cfbe-eff6-45c8-839e-dcb8907f2ab0",
        "colab": {
          "base_uri": "https://localhost:8080/"
        },
        "execution": {
          "iopub.status.busy": "2023-10-22T04:43:25.049529Z",
          "iopub.execute_input": "2023-10-22T04:43:25.049854Z",
          "iopub.status.idle": "2023-10-22T04:43:25.108484Z",
          "shell.execute_reply.started": "2023-10-22T04:43:25.049807Z",
          "shell.execute_reply": "2023-10-22T04:43:25.107447Z"
        },
        "trusted": true
      },
      "execution_count": 160,
      "outputs": [
        {
          "output_type": "stream",
          "name": "stdout",
          "text": [
            "(64, 50, 512)\n",
            "(64, 50, 512)\n",
            "(64, 50, 512)\n"
          ]
        }
      ]
    },
    {
      "cell_type": "markdown",
      "source": [
        "## Causal Self Attention"
      ],
      "metadata": {
        "id": "tXsQFv7pKY-E"
      }
    },
    {
      "cell_type": "code",
      "source": [
        "class CausalSelfAttention(BaseAttention):\n",
        "  def call(self, x):\n",
        "    attn_output = self.mha(\n",
        "        query=x,\n",
        "        value=x,\n",
        "        key=x,\n",
        "        use_causal_mask = True)\n",
        "    x = self.add([x, attn_output])\n",
        "    x = self.layernorm(x)\n",
        "    return x"
      ],
      "metadata": {
        "id": "XegPUftHKbxO",
        "execution": {
          "iopub.status.busy": "2023-10-22T04:43:25.109673Z",
          "iopub.execute_input": "2023-10-22T04:43:25.109995Z",
          "iopub.status.idle": "2023-10-22T04:43:25.115625Z",
          "shell.execute_reply.started": "2023-10-22T04:43:25.109971Z",
          "shell.execute_reply": "2023-10-22T04:43:25.114687Z"
        },
        "trusted": true
      },
      "execution_count": 161,
      "outputs": []
    },
    {
      "cell_type": "code",
      "source": [
        "sample_csa = CausalSelfAttention(num_heads=2, key_dim=512)\n",
        "emb_output_eng = eng_pos(eng)\n",
        "print(emb_output_eng.shape)\n",
        "print(sample_csa(emb_output_eng).shape)"
      ],
      "metadata": {
        "id": "eDQnHr9sKdIV",
        "outputId": "60e9e951-0f15-48f9-933f-0e5d0ce655d0",
        "colab": {
          "base_uri": "https://localhost:8080/"
        },
        "execution": {
          "iopub.status.busy": "2023-10-22T04:43:25.116939Z",
          "iopub.execute_input": "2023-10-22T04:43:25.117206Z",
          "iopub.status.idle": "2023-10-22T04:43:25.174222Z",
          "shell.execute_reply.started": "2023-10-22T04:43:25.117183Z",
          "shell.execute_reply": "2023-10-22T04:43:25.173253Z"
        },
        "trusted": true
      },
      "execution_count": 162,
      "outputs": [
        {
          "output_type": "stream",
          "name": "stdout",
          "text": [
            "(64, 50, 512)\n",
            "(64, 50, 512)\n"
          ]
        }
      ]
    },
    {
      "cell_type": "markdown",
      "source": [
        "## Feedforward Layer"
      ],
      "metadata": {
        "id": "CXsPLh9hN4xL"
      }
    },
    {
      "cell_type": "code",
      "source": [
        "class FeedForward(tf.keras.layers.Layer):\n",
        "  def __init__(self, d_model, dff, dropout_rate=0.1):\n",
        "    super().__init__()\n",
        "    self.seq = tf.keras.Sequential([\n",
        "      tf.keras.layers.Dense(dff, activation='relu'),\n",
        "      tf.keras.layers.Dense(d_model),\n",
        "      tf.keras.layers.Dropout(dropout_rate)\n",
        "    ])\n",
        "    self.add = tf.keras.layers.Add()\n",
        "    self.layer_norm = tf.keras.layers.LayerNormalization()\n",
        "\n",
        "  def call(self, x):\n",
        "    x = self.add([x, self.seq(x)])\n",
        "    x = self.layer_norm(x)\n",
        "    return x\n"
      ],
      "metadata": {
        "id": "XAmJ_GS0W3TW",
        "execution": {
          "iopub.status.busy": "2023-10-22T04:43:25.175801Z",
          "iopub.execute_input": "2023-10-22T04:43:25.176207Z",
          "iopub.status.idle": "2023-10-22T04:43:25.184325Z",
          "shell.execute_reply.started": "2023-10-22T04:43:25.176168Z",
          "shell.execute_reply": "2023-10-22T04:43:25.183350Z"
        },
        "trusted": true
      },
      "execution_count": 163,
      "outputs": []
    },
    {
      "cell_type": "code",
      "source": [
        "sample_ffn = FeedForward(512, 2048)\n",
        "print(sample_ffn(emb_output_eng).shape)"
      ],
      "metadata": {
        "id": "IA0vBi3sQLoN",
        "outputId": "53b4beb1-0f63-4995-9adc-d7df2542225c",
        "colab": {
          "base_uri": "https://localhost:8080/"
        },
        "execution": {
          "iopub.status.busy": "2023-10-22T04:43:25.185699Z",
          "iopub.execute_input": "2023-10-22T04:43:25.186022Z",
          "iopub.status.idle": "2023-10-22T04:43:25.269065Z",
          "shell.execute_reply.started": "2023-10-22T04:43:25.185995Z",
          "shell.execute_reply": "2023-10-22T04:43:25.267963Z"
        },
        "trusted": true
      },
      "execution_count": 164,
      "outputs": [
        {
          "output_type": "stream",
          "name": "stdout",
          "text": [
            "(64, 50, 512)\n"
          ]
        }
      ]
    },
    {
      "cell_type": "markdown",
      "source": [
        "## Encoder"
      ],
      "metadata": {
        "id": "3bHMYBxqYfyX"
      }
    },
    {
      "cell_type": "code",
      "source": [
        "class EncoderLayer(tf.keras.layers.Layer):\n",
        "  def __init__(self,*, d_model, num_heads, dff, dropout_rate=0.1):\n",
        "    super().__init__()\n",
        "    self.self_attention = GlobalSelfAttention(\n",
        "        num_heads=num_heads,\n",
        "        key_dim=d_model,\n",
        "        dropout=dropout_rate)\n",
        "    self.ffn = FeedForward(d_model, dff)\n",
        "\n",
        "  def call(self, x):\n",
        "    x = self.self_attention(x)\n",
        "    x = self.ffn(x)\n",
        "    return x"
      ],
      "metadata": {
        "id": "Mv2dLw3uZ5LZ",
        "execution": {
          "iopub.status.busy": "2023-10-22T04:43:25.270227Z",
          "iopub.execute_input": "2023-10-22T04:43:25.270544Z",
          "iopub.status.idle": "2023-10-22T04:43:25.277258Z",
          "shell.execute_reply.started": "2023-10-22T04:43:25.270517Z",
          "shell.execute_reply": "2023-10-22T04:43:25.276221Z"
        },
        "trusted": true
      },
      "execution_count": 165,
      "outputs": []
    },
    {
      "cell_type": "code",
      "source": [
        "sample_encoder_layer = EncoderLayer(d_model=512, num_heads=8, dff=2048)\n",
        "print(emb_output_eng.shape)\n",
        "print(sample_encoder_layer(emb_output_eng).shape)"
      ],
      "metadata": {
        "id": "YxYYSA2uSh6n",
        "outputId": "013bdf5a-462c-48bb-a1f6-e407a71fd31d",
        "colab": {
          "base_uri": "https://localhost:8080/"
        },
        "execution": {
          "iopub.status.busy": "2023-10-22T04:43:25.284773Z",
          "iopub.execute_input": "2023-10-22T04:43:25.285074Z",
          "iopub.status.idle": "2023-10-22T04:43:25.385018Z",
          "shell.execute_reply.started": "2023-10-22T04:43:25.285048Z",
          "shell.execute_reply": "2023-10-22T04:43:25.383948Z"
        },
        "trusted": true
      },
      "execution_count": 166,
      "outputs": [
        {
          "output_type": "stream",
          "name": "stdout",
          "text": [
            "(64, 50, 512)\n",
            "(64, 50, 512)\n"
          ]
        }
      ]
    },
    {
      "cell_type": "code",
      "source": [
        "class Encoder(tf.keras.layers.Layer):\n",
        "  def __init__(self, *, num_layers, d_model, num_heads,\n",
        "               dff, vocab_size, dropout_rate=0.1):\n",
        "    super().__init__()\n",
        "    self.d_model = d_model\n",
        "    self.num_layers = num_layers\n",
        "    self.pos_embedding = PositionalEmbedding(\n",
        "        vocab_size=vocab_size, d_model=d_model)\n",
        "    self.enc_layers = [\n",
        "        EncoderLayer(d_model=d_model,\n",
        "                     num_heads=num_heads,\n",
        "                     dff=dff,\n",
        "                     dropout_rate=dropout_rate)\n",
        "        for _ in range(num_layers)]\n",
        "    self.dropout = tf.keras.layers.Dropout(dropout_rate)\n",
        "\n",
        "  def call(self, x):\n",
        "    # `x` is token-IDs shape: (batch, seq_len)\n",
        "    x = self.pos_embedding(x)  # Shape `(batch_size, seq_len, d_model)`.\n",
        "    # Add dropout.\n",
        "    x = self.dropout(x)\n",
        "    for i in range(self.num_layers):\n",
        "      x = self.enc_layers[i](x)\n",
        "    return x  # Shape `(batch_size, seq_len, d_model)`."
      ],
      "metadata": {
        "id": "g2UW3YR7S0Z-",
        "execution": {
          "iopub.status.busy": "2023-10-22T04:43:25.386362Z",
          "iopub.execute_input": "2023-10-22T04:43:25.386808Z",
          "iopub.status.idle": "2023-10-22T04:43:25.396551Z",
          "shell.execute_reply.started": "2023-10-22T04:43:25.386765Z",
          "shell.execute_reply": "2023-10-22T04:43:25.394919Z"
        },
        "trusted": true
      },
      "execution_count": 170,
      "outputs": []
    },
    {
      "cell_type": "code",
      "source": [
        "# Instantiate the encoder.\n",
        "sample_encoder = Encoder(num_layers=4,\n",
        "                         d_model=512,\n",
        "                         num_heads=8,\n",
        "                         dff=2048,\n",
        "                         vocab_size=vocab_size_en)\n",
        "sample_encoder_output = sample_encoder(eng, training=False)\n",
        "print(eng.shape)\n",
        "print(sample_encoder_output.shape)  # Shape `(batch_size, input_seq_len, d_model)`."
      ],
      "metadata": {
        "id": "7C_MFnxcS7gd",
        "outputId": "e554f314-a34f-4960-b637-6c6fe79e3677",
        "colab": {
          "base_uri": "https://localhost:8080/"
        },
        "execution": {
          "iopub.status.busy": "2023-10-22T04:43:25.398120Z",
          "iopub.execute_input": "2023-10-22T04:43:25.398521Z",
          "iopub.status.idle": "2023-10-22T04:43:25.765480Z",
          "shell.execute_reply.started": "2023-10-22T04:43:25.398483Z",
          "shell.execute_reply": "2023-10-22T04:43:25.764291Z"
        },
        "trusted": true
      },
      "execution_count": 171,
      "outputs": [
        {
          "output_type": "stream",
          "name": "stdout",
          "text": [
            "(64, 50)\n",
            "(64, 50, 512)\n"
          ]
        }
      ]
    },
    {
      "cell_type": "markdown",
      "source": [
        "## Decoder"
      ],
      "metadata": {
        "id": "LJ7uvGogY2Qy"
      }
    },
    {
      "cell_type": "code",
      "source": [
        "class DecoderLayer(tf.keras.layers.Layer):\n",
        "  def __init__(self,\n",
        "               *,\n",
        "               d_model,\n",
        "               num_heads,\n",
        "               dff,\n",
        "               dropout_rate=0.1):\n",
        "    super(DecoderLayer, self).__init__()\n",
        "    self.causal_self_attention = CausalSelfAttention(\n",
        "        num_heads=num_heads,\n",
        "        key_dim=d_model,\n",
        "        dropout=dropout_rate)\n",
        "    self.cross_attention = CrossAttention(\n",
        "        num_heads=num_heads,\n",
        "        key_dim=d_model,\n",
        "        dropout=dropout_rate)\n",
        "    self.ffn = FeedForward(d_model, dff)\n",
        "\n",
        "  def call(self, x, context):\n",
        "    x = self.causal_self_attention(x=x)\n",
        "    x = self.cross_attention(x=x, context=context)\n",
        "    # Cache the last attention scores for plotting later\n",
        "    self.last_attn_scores = self.cross_attention.last_attn_scores\n",
        "    x = self.ffn(x)  # Shape `(batch_size, seq_len, d_model)`.\n",
        "    return x"
      ],
      "metadata": {
        "id": "Y6QcpGeXcvsD",
        "execution": {
          "iopub.status.busy": "2023-10-22T04:43:25.766759Z",
          "iopub.execute_input": "2023-10-22T04:43:25.767057Z",
          "iopub.status.idle": "2023-10-22T04:43:25.775392Z",
          "shell.execute_reply.started": "2023-10-22T04:43:25.767032Z",
          "shell.execute_reply": "2023-10-22T04:43:25.774158Z"
        },
        "trusted": true
      },
      "execution_count": 172,
      "outputs": []
    },
    {
      "cell_type": "code",
      "source": [
        "class Decoder(tf.keras.layers.Layer):\n",
        "  def __init__(self, *, num_layers, d_model, num_heads, dff, vocab_size,\n",
        "               dropout_rate=0.1):\n",
        "    super(Decoder, self).__init__()\n",
        "    self.d_model = d_model\n",
        "    self.num_layers = num_layers\n",
        "    self.pos_embedding = PositionalEmbedding(vocab_size=vocab_size,\n",
        "                                             d_model=d_model)\n",
        "    self.dropout = tf.keras.layers.Dropout(dropout_rate)\n",
        "    self.dec_layers = [\n",
        "        DecoderLayer(d_model=d_model, num_heads=num_heads,\n",
        "                     dff=dff, dropout_rate=dropout_rate)\n",
        "        for _ in range(num_layers)]\n",
        "    self.last_attn_scores = None\n",
        "\n",
        "  def call(self, x, context):\n",
        "    # `x` is token-IDs shape (batch, target_seq_len)\n",
        "    x = self.pos_embedding(x)  # (batch_size, target_seq_len, d_model)\n",
        "    x = self.dropout(x)\n",
        "    for i in range(self.num_layers):\n",
        "      x  = self.dec_layers[i](x, context)\n",
        "    self.last_attn_scores = self.dec_layers[-1].last_attn_scores\n",
        "    # The shape of x is (batch_size, target_seq_len, d_model).\n",
        "    return x"
      ],
      "metadata": {
        "id": "huNZYkKMUeS0",
        "execution": {
          "iopub.status.busy": "2023-10-22T04:43:25.909208Z",
          "iopub.execute_input": "2023-10-22T04:43:25.909632Z",
          "iopub.status.idle": "2023-10-22T04:43:25.918906Z",
          "shell.execute_reply.started": "2023-10-22T04:43:25.909595Z",
          "shell.execute_reply": "2023-10-22T04:43:25.917903Z"
        },
        "trusted": true
      },
      "execution_count": 173,
      "outputs": []
    },
    {
      "cell_type": "code",
      "source": [
        "# Instantiate the decoder.\n",
        "sample_decoder = Decoder(num_layers=4,\n",
        "                         d_model=512,\n",
        "                         num_heads=8,\n",
        "                         dff=2048,\n",
        "                         vocab_size=vocab_size_hn)\n",
        "output = sample_decoder(x=hin,context=emb_output_eng)\n",
        "# Print the shapes.\n",
        "print(hin.shape)\n",
        "print(emb_output_hin.shape)\n",
        "print(output.shape)"
      ],
      "metadata": {
        "id": "83Vikt41UhQD",
        "outputId": "331b446e-188e-40c3-9725-65230715ccda",
        "colab": {
          "base_uri": "https://localhost:8080/"
        },
        "execution": {
          "iopub.status.busy": "2023-10-22T04:43:25.920026Z",
          "iopub.execute_input": "2023-10-22T04:43:25.920313Z",
          "iopub.status.idle": "2023-10-22T04:43:26.598556Z",
          "shell.execute_reply.started": "2023-10-22T04:43:25.920287Z",
          "shell.execute_reply": "2023-10-22T04:43:26.597457Z"
        },
        "trusted": true
      },
      "execution_count": 179,
      "outputs": [
        {
          "output_type": "stream",
          "name": "stdout",
          "text": [
            "(64, 50)\n",
            "(64, 50, 512)\n",
            "(64, 50, 512)\n"
          ]
        }
      ]
    },
    {
      "cell_type": "code",
      "source": [
        "sample_decoder.last_attn_scores.shape"
      ],
      "metadata": {
        "id": "e1VgXYNQVMOH",
        "outputId": "0338b935-ba31-4582-8c57-bedaaf3389e5",
        "colab": {
          "base_uri": "https://localhost:8080/"
        },
        "execution": {
          "iopub.status.busy": "2023-10-22T04:43:26.600061Z",
          "iopub.execute_input": "2023-10-22T04:43:26.600462Z",
          "iopub.status.idle": "2023-10-22T04:43:26.607256Z",
          "shell.execute_reply.started": "2023-10-22T04:43:26.600427Z",
          "shell.execute_reply": "2023-10-22T04:43:26.606238Z"
        },
        "trusted": true
      },
      "execution_count": 180,
      "outputs": [
        {
          "output_type": "execute_result",
          "data": {
            "text/plain": [
              "TensorShape([64, 8, 50, 50])"
            ]
          },
          "metadata": {},
          "execution_count": 180
        }
      ]
    },
    {
      "cell_type": "markdown",
      "source": [
        "## Transformer Model"
      ],
      "metadata": {
        "id": "CRbKuSF8bRIv"
      }
    },
    {
      "cell_type": "code",
      "source": [
        "class Transformer(tf.keras.Model):\n",
        "  def __init__(self, *, num_layers, d_model, num_heads, dff,\n",
        "               input_vocab_size, target_vocab_size, dropout_rate=0.1):\n",
        "    super().__init__()\n",
        "    self.encoder = Encoder(num_layers=num_layers, d_model=d_model,\n",
        "                           num_heads=num_heads, dff=dff,\n",
        "                           vocab_size=input_vocab_size,\n",
        "                           dropout_rate=dropout_rate)\n",
        "\n",
        "    self.decoder = Decoder(num_layers=num_layers, d_model=d_model,\n",
        "                           num_heads=num_heads, dff=dff,\n",
        "                           vocab_size=target_vocab_size,\n",
        "                           dropout_rate=dropout_rate)\n",
        "\n",
        "    self.final_layer = tf.keras.layers.Dense(target_vocab_size)\n",
        "\n",
        "  def call(self, inputs):\n",
        "    # To use a Keras model with `.fit` you must pass all your inputs in the\n",
        "    # first argument.\n",
        "    context, x  = inputs\n",
        "    context = self.encoder(context)  # (batch_size, context_len, d_model)\n",
        "    x = self.decoder(x, context)  # (batch_size, target_len, d_model)\n",
        "    # Final linear layer output.\n",
        "    logits = self.final_layer(x)  # (batch_size, target_len, target_vocab_size)\n",
        "    try:\n",
        "      # Drop the keras mask, so it doesn't scale the losses/metrics.\n",
        "      # b/250038731\n",
        "      del logits._keras_mask\n",
        "    except AttributeError:\n",
        "      pass\n",
        "\n",
        "    # Return the final output and the attention weights.\n",
        "    return logits"
      ],
      "metadata": {
        "id": "f2LpORoYtQJE",
        "execution": {
          "iopub.status.busy": "2023-10-22T04:43:26.608782Z",
          "iopub.execute_input": "2023-10-22T04:43:26.609229Z",
          "iopub.status.idle": "2023-10-22T04:43:26.618875Z",
          "shell.execute_reply.started": "2023-10-22T04:43:26.609201Z",
          "shell.execute_reply": "2023-10-22T04:43:26.617728Z"
        },
        "trusted": true
      },
      "execution_count": 191,
      "outputs": []
    },
    {
      "cell_type": "markdown",
      "source": [
        "## Training Utilities"
      ],
      "metadata": {
        "id": "sHEBhPdXibco"
      }
    },
    {
      "cell_type": "code",
      "source": [
        "class CustomSchedule(tf.keras.optimizers.schedules.LearningRateSchedule):\n",
        "  def __init__(self, key_dim, warmup_steps=4000):\n",
        "    super().__init__()\n",
        "    self.key_dim=key_dim\n",
        "    self.warmup_steps=warmup_steps\n",
        "    self.d=tf.cast(self.key_dim, tf.float32)\n",
        "\n",
        "  def __call__(self, step):\n",
        "    step = tf.cast(step, tf.float32)\n",
        "    arg1 = tf.math.rsqrt(step)\n",
        "    arg2 = step * (self.warmup_steps ** -1.5)\n",
        "    return tf.math.rsqrt(self.d) * tf.math.minimum(arg1, arg2)\n",
        "\n",
        "  def get_config(self):\n",
        "    config = {\n",
        "        \"key_dim\": self.key_dim,\n",
        "        \"warmup_steps\": self.warmup_steps\n",
        "    }\n",
        "    return config\n",
        "\n",
        "key_dim = 512\n",
        "lr = CustomSchedule(key_dim)\n",
        "optimizer = tf.keras.optimizers.Adam(lr, beta_1=0.9, beta_2=0.98, epsilon=1e-9)\n",
        "plt.plot(lr(tf.range(50000, dtype=tf.float32)))\n",
        "plt.ylabel('Learning Rate')\n",
        "plt.xlabel('Train Step')\n",
        "plt.show()"
      ],
      "metadata": {
        "colab": {
          "base_uri": "https://localhost:8080/",
          "height": 449
        },
        "id": "LpJUx205idZx",
        "outputId": "e3ad5c15-35a2-46fe-a021-7fb3c7b25d0d",
        "execution": {
          "iopub.status.busy": "2023-10-22T04:43:26.620271Z",
          "iopub.execute_input": "2023-10-22T04:43:26.620641Z",
          "iopub.status.idle": "2023-10-22T04:43:26.930907Z",
          "shell.execute_reply.started": "2023-10-22T04:43:26.620614Z",
          "shell.execute_reply": "2023-10-22T04:43:26.929922Z"
        },
        "trusted": true
      },
      "execution_count": 192,
      "outputs": [
        {
          "output_type": "display_data",
          "data": {
            "text/plain": [
              "<Figure size 640x480 with 1 Axes>"
            ],
            "image/png": "[encoded data removed]"
          },
          "metadata": {}
        }
      ]
    },
    {
      "cell_type": "code",
      "source": [
        "def masked_loss(label, pred):\n",
        "  mask = label != 0\n",
        "  loss_object = tf.keras.losses.SparseCategoricalCrossentropy(from_logits=True, reduction='none')\n",
        "  loss = loss_object(label, pred)\n",
        "  mask = tf.cast(mask, dtype=loss.dtype)\n",
        "  loss *= mask\n",
        "  loss = tf.reduce_sum(loss)/tf.reduce_sum(mask)\n",
        "  return loss\n",
        "\n",
        "def masked_accuracy(label, pred):\n",
        "  pred = tf.argmax(pred, axis=2)\n",
        "  label = tf.cast(label, dtype=pred.dtype)\n",
        "  match = pred==label\n",
        "  mask = label !=0\n",
        "  match = match & mask\n",
        "  match = tf.cast(match, dtype=tf.float32)\n",
        "  mask = tf.cast(mask, dtype=tf.float32)\n",
        "  return tf.reduce_sum(match) / tf.reduce_sum(mask)\n"
      ],
      "metadata": {
        "id": "t0qrwEIX14E8",
        "execution": {
          "iopub.status.busy": "2023-10-22T04:43:26.932256Z",
          "iopub.execute_input": "2023-10-22T04:43:26.932649Z",
          "iopub.status.idle": "2023-10-22T04:43:26.940582Z",
          "shell.execute_reply.started": "2023-10-22T04:43:26.932614Z",
          "shell.execute_reply": "2023-10-22T04:43:26.939591Z"
        },
        "trusted": true
      },
      "execution_count": 193,
      "outputs": []
    },
    {
      "cell_type": "markdown",
      "source": [
        "## Final Model"
      ],
      "metadata": {
        "id": "YUwhaPsp3Qur"
      }
    },
    {
      "cell_type": "code",
      "source": [
        "# Parameters\n",
        "n_sentences = None\n",
        "num_layers = 4\n",
        "d_model = 512\n",
        "dff = 512\n",
        "num_heads = 8\n",
        "dropout_rate = 0.1"
      ],
      "metadata": {
        "id": "AvEUKOmqfx4y",
        "execution": {
          "iopub.status.busy": "2023-10-22T04:43:26.941902Z",
          "iopub.execute_input": "2023-10-22T04:43:26.942239Z",
          "iopub.status.idle": "2023-10-22T04:43:37.961616Z",
          "shell.execute_reply.started": "2023-10-22T04:43:26.942213Z",
          "shell.execute_reply": "2023-10-22T04:43:37.960551Z"
        },
        "trusted": true
      },
      "execution_count": 194,
      "outputs": []
    },
    {
      "cell_type": "code",
      "source": [
        "model = Transformer(\n",
        "    num_layers=num_layers,\n",
        "    d_model=d_model,\n",
        "    num_heads=num_heads,\n",
        "    dff=dff,\n",
        "    input_vocab_size=vocab_size_en,\n",
        "    target_vocab_size=vocab_size_hn,\n",
        "    dropout_rate=dropout_rate)\n",
        "lr = CustomSchedule(512)\n",
        "optimizer = tf.keras.optimizers.Adam(lr, beta_1=0.9, beta_2=0.98, epsilon=1e-9)\n",
        "model.compile(loss=masked_loss, optimizer=optimizer, metrics=[masked_accuracy])\n"
      ],
      "metadata": {
        "id": "2p2LASBd5SYN",
        "execution": {
          "iopub.status.busy": "2023-10-22T04:43:37.963032Z",
          "iopub.execute_input": "2023-10-22T04:43:37.963351Z",
          "iopub.status.idle": "2023-10-22T04:43:38.131246Z",
          "shell.execute_reply.started": "2023-10-22T04:43:37.963324Z",
          "shell.execute_reply": "2023-10-22T04:43:38.130301Z"
        },
        "trusted": true
      },
      "execution_count": 195,
      "outputs": []
    },
    {
      "cell_type": "markdown",
      "source": [
        "## Training"
      ],
      "metadata": {
        "id": "Iw0Z-2Us3vGw"
      }
    },
    {
      "cell_type": "code",
      "source": [
        "# EPOCHS = 1\n",
        "\n",
        "# @tf.function\n",
        "# def train_step(inp, tar):\n",
        "#     tar_inp = tar[:, :-1]\n",
        "#     tar_real = tar[:, 1:]\n",
        "\n",
        "#     # enc_padding_mask, combined_mask, dec_padding_mask = create_masks(inp, tar_inp)\n",
        "\n",
        "#     with tf.GradientTape() as tape:\n",
        "#         predictions, _ = transformer(\n",
        "#             inp, tar_inp,\n",
        "#             True,\n",
        "#             enc_padding_mask,\n",
        "#             combined_mask,\n",
        "#             dec_padding_mask\n",
        "#         )\n",
        "#         loss = loss_function(tar_real, predictions)\n",
        "\n",
        "#     gradients = tape.gradient(loss, transformer.trainable_variables)\n",
        "#     optimizer.apply_gradients(zip(gradients, transformer.trainable_variables))\n",
        "\n",
        "#     train_loss(loss)\n",
        "#     train_accuracy(accuracy_function(tar_real, predictions))\n",
        "\n",
        "# for epoch in range(EPOCHS):\n",
        "#     for (batch, (inp, tar)) in enumerate(train_ds):\n",
        "#         train_step(inp, tar)"
      ],
      "metadata": {
        "id": "lWdTk8nDc3eU"
      },
      "execution_count": 196,
      "outputs": []
    },
    {
      "cell_type": "code",
      "source": [
        "epochs = 1\n",
        "history = model.fit(train_ds, epochs=epochs, validation_data=val_ds)\n",
        "\n",
        "# Plot the loss and accuracy history\n",
        "fig, axs = plt.subplots(2, figsize=(6, 8), sharex=True)\n",
        "fig.suptitle('Traininig history')\n",
        "x = list(range(1, epochs+1))\n",
        "axs[0].plot(x, history.history[\"loss\"], alpha=0.5, label=\"loss\")\n",
        "axs[0].plot(x, history.history[\"val_loss\"], alpha=0.5, label=\"val_loss\")\n",
        "axs[0].set_ylabel(\"Loss\")\n",
        "axs[0].legend(loc=\"upper right\")\n",
        "axs[1].plot(x, history.history[\"masked_accuracy\"], alpha=0.5, label=\"acc\")\n",
        "axs[1].plot(x, history.history[\"val_masked_accuracy\"], alpha=0.5, label=\"val_acc\")\n",
        "axs[1].set_ylabel(\"Accuracy\")\n",
        "axs[1].set_xlabel(\"epoch\")\n",
        "axs[1].legend(loc=\"lower right\")\n",
        "plt.show()"
      ],
      "metadata": {
        "colab": {
          "base_uri": "https://localhost:8080/"
        },
        "id": "7MrIMDm34B7c",
        "outputId": "d8349831-d387-414b-f893-0ea56a3edd05",
        "execution": {
          "iopub.status.busy": "2023-10-22T04:43:38.875671Z",
          "iopub.execute_input": "2023-10-22T04:43:38.876041Z"
        },
        "trusted": true
      },
      "execution_count": null,
      "outputs": [
        {
          "output_type": "stream",
          "name": "stdout",
          "text": [
            "  2/473 [..............................] - ETA: 2:39:44 - loss: 11.2520 - masked_accuracy: 0.0000e+00"
          ]
        }
      ]
    },
    {
      "cell_type": "code",
      "source": [
        "# training parameters used\n",
        "seq_len = 20\n",
        "def translate(sentence):\n",
        "    \"\"\"Create the translated sentence\"\"\"\n",
        "    enc_tokens = eng_vec([sentence])\n",
        "    lookup = list(hin_vec.get_vocabulary())\n",
        "    start_sentinel, end_sentinel = \"[start]\", \"[end]\"\n",
        "    output_sentence = [start_sentinel]\n",
        "    # generate the translated sentence word by word\n",
        "    for i in range(seq_len):\n",
        "        vector = hin_vec([\" \".join(output_sentence)])\n",
        "        dec_tokens = vector[:, :-1]\n",
        "        pred = model([enc_tokens, dec_tokens])\n",
        "        word = lookup[np.argmax(pred[0, i, :])]\n",
        "        output_sentence.append(word)\n",
        "        if word == end_sentinel:\n",
        "            break\n",
        "    return output_sentence\n",
        "\n",
        "test_count = 5\n",
        "for n in range(test_count):\n",
        "    english_sentence, Hindi_sentence = random.choice(train_pairs)\n",
        "    translated = translate(english_sentence)\n",
        "    print(f\"Test {n}:\")\n",
        "    print(f\"{english_sentence}\")\n",
        "    print(f\"== {Hindi_sentence}\")\n",
        "    print(f\"-> {' '.join(translated)}\")\n",
        "    print()"
      ],
      "metadata": {
        "id": "MQgnnk9NSZTQ",
        "trusted": true
      },
      "execution_count": null,
      "outputs": []
    },
    {
      "cell_type": "code",
      "source": [
        "\n"
      ],
      "metadata": {
        "id": "pnOY3YaFuykv"
      },
      "execution_count": null,
      "outputs": []
    },
    {
      "cell_type": "code",
      "source": [],
      "metadata": {
        "id": "RyXCibz7DdGT"
      },
      "execution_count": null,
      "outputs": []
    }
  ]
}