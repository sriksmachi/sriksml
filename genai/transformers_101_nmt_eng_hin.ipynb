{
  "metadata": {
    "colab": {
      "provenance": [],
      "toc_visible": true,
      "machine_shape": "hm",
      "include_colab_link": true
    },
    "kernelspec": {
      "name": "python3",
      "display_name": "Python 3"
    },
    "language_info": {
      "name": "python",
      "version": "3.10.12",
      "mimetype": "text/x-python",
      "codemirror_mode": {
        "name": "ipython",
        "version": 3
      },
      "pygments_lexer": "ipython3",
      "nbconvert_exporter": "python",
      "file_extension": ".py"
    }
  },
  "nbformat_minor": 0,
  "nbformat": 4,
  "cells": [
    {
      "cell_type": "markdown",
      "metadata": {
        "id": "view-in-github",
        "colab_type": "text"
      },
      "source": [
        "<a href=\"https://colab.research.google.com/github/sriksmachi/sriksml/blob/main/genai/transformers_101_nmt_eng_hin.ipynb\" target=\"_parent\"><img src=\"https://colab.research.google.com/assets/colab-badge.svg\" alt=\"Open In Colab\"/></a>"
      ]
    },
    {
      "cell_type": "markdown",
      "source": [
        "## Transformers 101.\n",
        "\n",
        "In this notebook we will create a transformer model using multi-headed attention for neural machine translation task.\n",
        "\n",
        "A little bit about transformers, before we get started.\n",
        "RNNs were traditionally used for modelling seq2seq tasks, however they fail when the length of the sequence of input increases. The attention mechanism was introduced with idea to identify the relative weights of each words with respect to the other words so that the model can learn selectively.\n",
        "\n",
        "Attention technique used with RNNs help learn hidden state for each word so that it is easy to pay more attention or discard words rather than learning the hidden state for the entire sentence. However this does not solve 3 problems\n",
        "\n",
        "1.   The entire process is still sequential, it cannot be parallelized\n",
        "2.   For a large sentence the time taken for translating the sentence to encodings is large.\n",
        "\n",
        "Transformers introduced a completely new concept, with some learnings from how CNNs learn embeddings in parallel. Transformers use encoder, decoder architecture to learn attention weights in parallel and they can be used for a variety of tasks like neural language translation, question answering, next word prediction etc.\n",
        "\n",
        "Complete understanding of how transformers work is not explained in this notebook but you may refer to the following blogs for better understanding.\n",
        "- https://jalammar.github.io/illustrated-transformer/\n",
        "- https://mchromiak.github.io/articles/2017/Sep/12/Transformer-Attention-is-all-you-need/#.XIWlzBNKjOR\n",
        "\n",
        "This notebook builds a transformer model following the explanation from the original paper (https://arxiv.org/pdf/1706.03762.pdf). The implementation is taken from articles published at https://machinelearningmastery.com/building-transformer-models-with-attention-crash-course-build-a-neural-machine-translator-in-12-days/.\n",
        "\n"
      ],
      "metadata": {
        "id": "XQ9FiUiN6slr"
      }
    },
    {
      "cell_type": "code",
      "source": [
        "## Importing required libraries\n",
        "\n",
        "import tensorflow as tf\n",
        "from tensorflow import matmul, cast, float32,sqrt, math, transpose\n",
        "from tensorflow import convert_to_tensor, string\n",
        "from keras.backend import softmax\n",
        "from numpy import random\n",
        "from tensorflow.keras.layers import TextVectorization, Embedding, Layer, Dropout, Input\n",
        "from tensorflow.data import Dataset\n",
        "import numpy as np\n",
        "import matplotlib.pyplot as plt\n",
        "from tensorflow.keras import Model\n",
        "import pathlib\n",
        "import pickle\n",
        "import random\n",
        "import re\n",
        "import unicodedata\n",
        "import tensorflow as tf\n",
        "from tensorflow import convert_to_tensor, int64\n",
        "from pickle import load\n",
        "from numpy.random import shuffle\n",
        "import pandas as pd"
      ],
      "metadata": {
        "id": "_fGjw2YZ_BLF",
        "execution": {
          "iopub.status.busy": "2023-10-22T04:42:40.524538Z",
          "iopub.execute_input": "2023-10-22T04:42:40.524883Z",
          "iopub.status.idle": "2023-10-22T04:42:49.170759Z",
          "shell.execute_reply.started": "2023-10-22T04:42:40.524856Z",
          "shell.execute_reply": "2023-10-22T04:42:49.169842Z"
        },
        "trusted": true
      },
      "execution_count": 1,
      "outputs": []
    },
    {
      "cell_type": "markdown",
      "source": [
        "## Transformers Architecture.\n",
        "\n",
        "Image Source :  https://arxiv.org/pdf/1706.03762.pdf"
      ],
      "metadata": {
        "id": "ig9WSiTY2yc0"
      }
    },
    {
      "cell_type": "markdown",
      "source": [
        "We will use the bottom-up approach, i.e. build the transformer from the bottom most layer and then walk upwards. This notebook builds each layer as a separate model so that they can be plugged into a full fledged model."
      ],
      "metadata": {
        "id": "lVEmW-et8LmZ"
      }
    },
    {
      "cell_type": "markdown",
      "source": [
        "## Download and Preprocess"
      ],
      "metadata": {
        "id": "ZSO1L1TzKjUy"
      }
    },
    {
      "cell_type": "code",
      "source": [
        "!gdown 1HTlJZY18SRd4rSFbsbx9iW6XgA8Ms6mu"
      ],
      "metadata": {
        "colab": {
          "base_uri": "https://localhost:8080/"
        },
        "id": "sQRP4wpuuIS_",
        "outputId": "93797b54-a57f-4694-e4d3-98e30fd7ae91"
      },
      "execution_count": 2,
      "outputs": [
        {
          "output_type": "stream",
          "name": "stdout",
          "text": [
            "Downloading...\n",
            "From: https://drive.google.com/uc?id=1HTlJZY18SRd4rSFbsbx9iW6XgA8Ms6mu\n",
            "To: /content/eng-hin.csv\n",
            "100% 56.9M/56.9M [00:01<00:00, 56.9MB/s]\n"
          ]
        }
      ]
    },
    {
      "cell_type": "code",
      "source": [
        "ds = pd.read_csv('/content/eng-hin.csv')"
      ],
      "metadata": {
        "execution": {
          "iopub.status.busy": "2023-10-22T04:42:49.172324Z",
          "iopub.execute_input": "2023-10-22T04:42:49.172859Z",
          "iopub.status.idle": "2023-10-22T04:42:50.979430Z",
          "shell.execute_reply.started": "2023-10-22T04:42:49.172818Z",
          "shell.execute_reply": "2023-10-22T04:42:50.978266Z"
        },
        "trusted": true,
        "id": "L6LNUZqOtqn5"
      },
      "execution_count": 3,
      "outputs": []
    },
    {
      "cell_type": "code",
      "source": [
        "ds.head()"
      ],
      "metadata": {
        "execution": {
          "iopub.status.busy": "2023-10-22T04:42:50.980789Z",
          "iopub.execute_input": "2023-10-22T04:42:50.981109Z",
          "iopub.status.idle": "2023-10-22T04:42:50.999934Z",
          "shell.execute_reply.started": "2023-10-22T04:42:50.981084Z",
          "shell.execute_reply": "2023-10-22T04:42:50.998802Z"
        },
        "trusted": true,
        "colab": {
          "base_uri": "https://localhost:8080/",
          "height": 206
        },
        "id": "yCIMyc-Ptqn5",
        "outputId": "f38ac0c7-8cbd-4171-ba76-7f18ff2f86d1"
      },
      "execution_count": 4,
      "outputs": [
        {
          "output_type": "execute_result",
          "data": {
            "text/plain": [
              "   Unnamed: 0                                   english_sentence  \\\n",
              "0           0  politicians do not have permission to do what ...   \n",
              "1           1         I'd like to tell you about one such child,   \n",
              "2           2  This percentage is even greater than the perce...   \n",
              "3           3  what we really mean is that they're bad at not...   \n",
              "4           4  .The ending portion of these Vedas is called U...   \n",
              "\n",
              "                                      hindi_sentence  \n",
              "0  राजनीतिज्ञों के पास जो कार्य करना चाहिए, वह कर...  \n",
              "1  मई आपको ऐसे ही एक बच्चे के बारे में बताना चाहू...  \n",
              "2   यह प्रतिशत भारत में हिन्दुओं प्रतिशत से अधिक है।  \n",
              "3     हम ये नहीं कहना चाहते कि वो ध्यान नहीं दे पाते  \n",
              "4        इन्हीं वेदों का अंतिम भाग उपनिषद कहलाता है।  "
            ],
            "text/html": [
              "\n",
              "  <div id=\"df-70854ade-c0f6-4f78-89af-2358ace8d0a4\" class=\"colab-df-container\">\n",
              "    <div>\n",
              "<style scoped>\n",
              "    .dataframe tbody tr th:only-of-type {\n",
              "        vertical-align: middle;\n",
              "    }\n",
              "\n",
              "    .dataframe tbody tr th {\n",
              "        vertical-align: top;\n",
              "    }\n",
              "\n",
              "    .dataframe thead th {\n",
              "        text-align: right;\n",
              "    }\n",
              "</style>\n",
              "<table border=\"1\" class=\"dataframe\">\n",
              "  <thead>\n",
              "    <tr style=\"text-align: right;\">\n",
              "      <th></th>\n",
              "      <th>Unnamed: 0</th>\n",
              "      <th>english_sentence</th>\n",
              "      <th>hindi_sentence</th>\n",
              "    </tr>\n",
              "  </thead>\n",
              "  <tbody>\n",
              "    <tr>\n",
              "      <th>0</th>\n",
              "      <td>0</td>\n",
              "      <td>politicians do not have permission to do what ...</td>\n",
              "      <td>राजनीतिज्ञों के पास जो कार्य करना चाहिए, वह कर...</td>\n",
              "    </tr>\n",
              "    <tr>\n",
              "      <th>1</th>\n",
              "      <td>1</td>\n",
              "      <td>I'd like to tell you about one such child,</td>\n",
              "      <td>मई आपको ऐसे ही एक बच्चे के बारे में बताना चाहू...</td>\n",
              "    </tr>\n",
              "    <tr>\n",
              "      <th>2</th>\n",
              "      <td>2</td>\n",
              "      <td>This percentage is even greater than the perce...</td>\n",
              "      <td>यह प्रतिशत भारत में हिन्दुओं प्रतिशत से अधिक है।</td>\n",
              "    </tr>\n",
              "    <tr>\n",
              "      <th>3</th>\n",
              "      <td>3</td>\n",
              "      <td>what we really mean is that they're bad at not...</td>\n",
              "      <td>हम ये नहीं कहना चाहते कि वो ध्यान नहीं दे पाते</td>\n",
              "    </tr>\n",
              "    <tr>\n",
              "      <th>4</th>\n",
              "      <td>4</td>\n",
              "      <td>.The ending portion of these Vedas is called U...</td>\n",
              "      <td>इन्हीं वेदों का अंतिम भाग उपनिषद कहलाता है।</td>\n",
              "    </tr>\n",
              "  </tbody>\n",
              "</table>\n",
              "</div>\n",
              "    <div class=\"colab-df-buttons\">\n",
              "\n",
              "  <div class=\"colab-df-container\">\n",
              "    <button class=\"colab-df-convert\" onclick=\"convertToInteractive('df-70854ade-c0f6-4f78-89af-2358ace8d0a4')\"\n",
              "            title=\"Convert this dataframe to an interactive table.\"\n",
              "            style=\"display:none;\">\n",
              "\n",
              "  <svg xmlns=\"http://www.w3.org/2000/svg\" height=\"24px\" viewBox=\"0 -960 960 960\">\n",
              "    <path d=\"M120-120v-720h720v720H120Zm60-500h600v-160H180v160Zm220 220h160v-160H400v160Zm0 220h160v-160H400v160ZM180-400h160v-160H180v160Zm440 0h160v-160H620v160ZM180-180h160v-160H180v160Zm440 0h160v-160H620v160Z\"/>\n",
              "  </svg>\n",
              "    </button>\n",
              "\n",
              "  <style>\n",
              "    .colab-df-container {\n",
              "      display:flex;\n",
              "      gap: 12px;\n",
              "    }\n",
              "\n",
              "    .colab-df-convert {\n",
              "      background-color: #E8F0FE;\n",
              "      border: none;\n",
              "      border-radius: 50%;\n",
              "      cursor: pointer;\n",
              "      display: none;\n",
              "      fill: #1967D2;\n",
              "      height: 32px;\n",
              "      padding: 0 0 0 0;\n",
              "      width: 32px;\n",
              "    }\n",
              "\n",
              "    .colab-df-convert:hover {\n",
              "      background-color: #E2EBFA;\n",
              "      box-shadow: 0px 1px 2px rgba(60, 64, 67, 0.3), 0px 1px 3px 1px rgba(60, 64, 67, 0.15);\n",
              "      fill: #174EA6;\n",
              "    }\n",
              "\n",
              "    .colab-df-buttons div {\n",
              "      margin-bottom: 4px;\n",
              "    }\n",
              "\n",
              "    [theme=dark] .colab-df-convert {\n",
              "      background-color: #3B4455;\n",
              "      fill: #D2E3FC;\n",
              "    }\n",
              "\n",
              "    [theme=dark] .colab-df-convert:hover {\n",
              "      background-color: #434B5C;\n",
              "      box-shadow: 0px 1px 3px 1px rgba(0, 0, 0, 0.15);\n",
              "      filter: drop-shadow(0px 1px 2px rgba(0, 0, 0, 0.3));\n",
              "      fill: #FFFFFF;\n",
              "    }\n",
              "  </style>\n",
              "\n",
              "    <script>\n",
              "      const buttonEl =\n",
              "        document.querySelector('#df-70854ade-c0f6-4f78-89af-2358ace8d0a4 button.colab-df-convert');\n",
              "      buttonEl.style.display =\n",
              "        google.colab.kernel.accessAllowed ? 'block' : 'none';\n",
              "\n",
              "      async function convertToInteractive(key) {\n",
              "        const element = document.querySelector('#df-70854ade-c0f6-4f78-89af-2358ace8d0a4');\n",
              "        const dataTable =\n",
              "          await google.colab.kernel.invokeFunction('convertToInteractive',\n",
              "                                                    [key], {});\n",
              "        if (!dataTable) return;\n",
              "\n",
              "        const docLinkHtml = 'Like what you see? Visit the ' +\n",
              "          '<a target=\"_blank\" href=https://colab.research.google.com/notebooks/data_table.ipynb>data table notebook</a>'\n",
              "          + ' to learn more about interactive tables.';\n",
              "        element.innerHTML = '';\n",
              "        dataTable['output_type'] = 'display_data';\n",
              "        await google.colab.output.renderOutput(dataTable, element);\n",
              "        const docLink = document.createElement('div');\n",
              "        docLink.innerHTML = docLinkHtml;\n",
              "        element.appendChild(docLink);\n",
              "      }\n",
              "    </script>\n",
              "  </div>\n",
              "\n",
              "\n",
              "<div id=\"df-088b2525-b61d-4ae2-8c80-0338386bc818\">\n",
              "  <button class=\"colab-df-quickchart\" onclick=\"quickchart('df-088b2525-b61d-4ae2-8c80-0338386bc818')\"\n",
              "            title=\"Suggest charts.\"\n",
              "            style=\"display:none;\">\n",
              "\n",
              "<svg xmlns=\"http://www.w3.org/2000/svg\" height=\"24px\"viewBox=\"0 0 24 24\"\n",
              "     width=\"24px\">\n",
              "    <g>\n",
              "        <path d=\"M19 3H5c-1.1 0-2 .9-2 2v14c0 1.1.9 2 2 2h14c1.1 0 2-.9 2-2V5c0-1.1-.9-2-2-2zM9 17H7v-7h2v7zm4 0h-2V7h2v10zm4 0h-2v-4h2v4z\"/>\n",
              "    </g>\n",
              "</svg>\n",
              "  </button>\n",
              "\n",
              "<style>\n",
              "  .colab-df-quickchart {\n",
              "      --bg-color: #E8F0FE;\n",
              "      --fill-color: #1967D2;\n",
              "      --hover-bg-color: #E2EBFA;\n",
              "      --hover-fill-color: #174EA6;\n",
              "      --disabled-fill-color: #AAA;\n",
              "      --disabled-bg-color: #DDD;\n",
              "  }\n",
              "\n",
              "  [theme=dark] .colab-df-quickchart {\n",
              "      --bg-color: #3B4455;\n",
              "      --fill-color: #D2E3FC;\n",
              "      --hover-bg-color: #434B5C;\n",
              "      --hover-fill-color: #FFFFFF;\n",
              "      --disabled-bg-color: #3B4455;\n",
              "      --disabled-fill-color: #666;\n",
              "  }\n",
              "\n",
              "  .colab-df-quickchart {\n",
              "    background-color: var(--bg-color);\n",
              "    border: none;\n",
              "    border-radius: 50%;\n",
              "    cursor: pointer;\n",
              "    display: none;\n",
              "    fill: var(--fill-color);\n",
              "    height: 32px;\n",
              "    padding: 0;\n",
              "    width: 32px;\n",
              "  }\n",
              "\n",
              "  .colab-df-quickchart:hover {\n",
              "    background-color: var(--hover-bg-color);\n",
              "    box-shadow: 0 1px 2px rgba(60, 64, 67, 0.3), 0 1px 3px 1px rgba(60, 64, 67, 0.15);\n",
              "    fill: var(--button-hover-fill-color);\n",
              "  }\n",
              "\n",
              "  .colab-df-quickchart-complete:disabled,\n",
              "  .colab-df-quickchart-complete:disabled:hover {\n",
              "    background-color: var(--disabled-bg-color);\n",
              "    fill: var(--disabled-fill-color);\n",
              "    box-shadow: none;\n",
              "  }\n",
              "\n",
              "  .colab-df-spinner {\n",
              "    border: 2px solid var(--fill-color);\n",
              "    border-color: transparent;\n",
              "    border-bottom-color: var(--fill-color);\n",
              "    animation:\n",
              "      spin 1s steps(1) infinite;\n",
              "  }\n",
              "\n",
              "  @keyframes spin {\n",
              "    0% {\n",
              "      border-color: transparent;\n",
              "      border-bottom-color: var(--fill-color);\n",
              "      border-left-color: var(--fill-color);\n",
              "    }\n",
              "    20% {\n",
              "      border-color: transparent;\n",
              "      border-left-color: var(--fill-color);\n",
              "      border-top-color: var(--fill-color);\n",
              "    }\n",
              "    30% {\n",
              "      border-color: transparent;\n",
              "      border-left-color: var(--fill-color);\n",
              "      border-top-color: var(--fill-color);\n",
              "      border-right-color: var(--fill-color);\n",
              "    }\n",
              "    40% {\n",
              "      border-color: transparent;\n",
              "      border-right-color: var(--fill-color);\n",
              "      border-top-color: var(--fill-color);\n",
              "    }\n",
              "    60% {\n",
              "      border-color: transparent;\n",
              "      border-right-color: var(--fill-color);\n",
              "    }\n",
              "    80% {\n",
              "      border-color: transparent;\n",
              "      border-right-color: var(--fill-color);\n",
              "      border-bottom-color: var(--fill-color);\n",
              "    }\n",
              "    90% {\n",
              "      border-color: transparent;\n",
              "      border-bottom-color: var(--fill-color);\n",
              "    }\n",
              "  }\n",
              "</style>\n",
              "\n",
              "  <script>\n",
              "    async function quickchart(key) {\n",
              "      const quickchartButtonEl =\n",
              "        document.querySelector('#' + key + ' button');\n",
              "      quickchartButtonEl.disabled = true;  // To prevent multiple clicks.\n",
              "      quickchartButtonEl.classList.add('colab-df-spinner');\n",
              "      try {\n",
              "        const charts = await google.colab.kernel.invokeFunction(\n",
              "            'suggestCharts', [key], {});\n",
              "      } catch (error) {\n",
              "        console.error('Error during call to suggestCharts:', error);\n",
              "      }\n",
              "      quickchartButtonEl.classList.remove('colab-df-spinner');\n",
              "      quickchartButtonEl.classList.add('colab-df-quickchart-complete');\n",
              "    }\n",
              "    (() => {\n",
              "      let quickchartButtonEl =\n",
              "        document.querySelector('#df-088b2525-b61d-4ae2-8c80-0338386bc818 button');\n",
              "      quickchartButtonEl.style.display =\n",
              "        google.colab.kernel.accessAllowed ? 'block' : 'none';\n",
              "    })();\n",
              "  </script>\n",
              "</div>\n",
              "\n",
              "    </div>\n",
              "  </div>\n"
            ]
          },
          "metadata": {},
          "execution_count": 4
        }
      ]
    },
    {
      "cell_type": "code",
      "source": [
        "ds['eng_len']=ds['english_sentence'].apply(lambda x:len(str(x).split(\" \")))\n",
        "ds['hin_len']=ds['hindi_sentence'].apply(lambda x:len(str(x).split(\" \")))\n",
        "ds['english_sentence']=ds['english_sentence'].astype(str)\n",
        "ds['hindi_sentence']=ds['hindi_sentence'].astype(str)\n",
        "print(len(ds))\n",
        "ds.head()"
      ],
      "metadata": {
        "execution": {
          "iopub.status.busy": "2023-10-22T04:42:51.002983Z",
          "iopub.execute_input": "2023-10-22T04:42:51.003309Z",
          "iopub.status.idle": "2023-10-22T04:42:51.758451Z",
          "shell.execute_reply.started": "2023-10-22T04:42:51.003281Z",
          "shell.execute_reply": "2023-10-22T04:42:51.757392Z"
        },
        "trusted": true,
        "colab": {
          "base_uri": "https://localhost:8080/",
          "height": 225
        },
        "id": "h9P_4DxXtqn5",
        "outputId": "c75a8523-16ac-44bb-9dd2-f73566d256e7"
      },
      "execution_count": 9,
      "outputs": [
        {
          "output_type": "stream",
          "name": "stdout",
          "text": [
            "177606\n"
          ]
        },
        {
          "output_type": "execute_result",
          "data": {
            "text/plain": [
              "   Unnamed: 0                                   english_sentence  \\\n",
              "0           0  politicians do not have permission to do what ...   \n",
              "1           1         I'd like to tell you about one such child,   \n",
              "2           2  This percentage is even greater than the perce...   \n",
              "3           3  what we really mean is that they're bad at not...   \n",
              "4           4  .The ending portion of these Vedas is called U...   \n",
              "\n",
              "                                      hindi_sentence  eng_len  hin_len  \n",
              "0  राजनीतिज्ञों के पास जो कार्य करना चाहिए, वह कर...       12       14  \n",
              "1  मई आपको ऐसे ही एक बच्चे के बारे में बताना चाहू...        9       11  \n",
              "2   यह प्रतिशत भारत में हिन्दुओं प्रतिशत से अधिक है।       10        9  \n",
              "3     हम ये नहीं कहना चाहते कि वो ध्यान नहीं दे पाते       12       11  \n",
              "4        इन्हीं वेदों का अंतिम भाग उपनिषद कहलाता है।        9        8  "
            ],
            "text/html": [
              "\n",
              "  <div id=\"df-be42b7af-9153-4073-aa36-3078bd93db56\" class=\"colab-df-container\">\n",
              "    <div>\n",
              "<style scoped>\n",
              "    .dataframe tbody tr th:only-of-type {\n",
              "        vertical-align: middle;\n",
              "    }\n",
              "\n",
              "    .dataframe tbody tr th {\n",
              "        vertical-align: top;\n",
              "    }\n",
              "\n",
              "    .dataframe thead th {\n",
              "        text-align: right;\n",
              "    }\n",
              "</style>\n",
              "<table border=\"1\" class=\"dataframe\">\n",
              "  <thead>\n",
              "    <tr style=\"text-align: right;\">\n",
              "      <th></th>\n",
              "      <th>Unnamed: 0</th>\n",
              "      <th>english_sentence</th>\n",
              "      <th>hindi_sentence</th>\n",
              "      <th>eng_len</th>\n",
              "      <th>hin_len</th>\n",
              "    </tr>\n",
              "  </thead>\n",
              "  <tbody>\n",
              "    <tr>\n",
              "      <th>0</th>\n",
              "      <td>0</td>\n",
              "      <td>politicians do not have permission to do what ...</td>\n",
              "      <td>राजनीतिज्ञों के पास जो कार्य करना चाहिए, वह कर...</td>\n",
              "      <td>12</td>\n",
              "      <td>14</td>\n",
              "    </tr>\n",
              "    <tr>\n",
              "      <th>1</th>\n",
              "      <td>1</td>\n",
              "      <td>I'd like to tell you about one such child,</td>\n",
              "      <td>मई आपको ऐसे ही एक बच्चे के बारे में बताना चाहू...</td>\n",
              "      <td>9</td>\n",
              "      <td>11</td>\n",
              "    </tr>\n",
              "    <tr>\n",
              "      <th>2</th>\n",
              "      <td>2</td>\n",
              "      <td>This percentage is even greater than the perce...</td>\n",
              "      <td>यह प्रतिशत भारत में हिन्दुओं प्रतिशत से अधिक है।</td>\n",
              "      <td>10</td>\n",
              "      <td>9</td>\n",
              "    </tr>\n",
              "    <tr>\n",
              "      <th>3</th>\n",
              "      <td>3</td>\n",
              "      <td>what we really mean is that they're bad at not...</td>\n",
              "      <td>हम ये नहीं कहना चाहते कि वो ध्यान नहीं दे पाते</td>\n",
              "      <td>12</td>\n",
              "      <td>11</td>\n",
              "    </tr>\n",
              "    <tr>\n",
              "      <th>4</th>\n",
              "      <td>4</td>\n",
              "      <td>.The ending portion of these Vedas is called U...</td>\n",
              "      <td>इन्हीं वेदों का अंतिम भाग उपनिषद कहलाता है।</td>\n",
              "      <td>9</td>\n",
              "      <td>8</td>\n",
              "    </tr>\n",
              "  </tbody>\n",
              "</table>\n",
              "</div>\n",
              "    <div class=\"colab-df-buttons\">\n",
              "\n",
              "  <div class=\"colab-df-container\">\n",
              "    <button class=\"colab-df-convert\" onclick=\"convertToInteractive('df-be42b7af-9153-4073-aa36-3078bd93db56')\"\n",
              "            title=\"Convert this dataframe to an interactive table.\"\n",
              "            style=\"display:none;\">\n",
              "\n",
              "  <svg xmlns=\"http://www.w3.org/2000/svg\" height=\"24px\" viewBox=\"0 -960 960 960\">\n",
              "    <path d=\"M120-120v-720h720v720H120Zm60-500h600v-160H180v160Zm220 220h160v-160H400v160Zm0 220h160v-160H400v160ZM180-400h160v-160H180v160Zm440 0h160v-160H620v160ZM180-180h160v-160H180v160Zm440 0h160v-160H620v160Z\"/>\n",
              "  </svg>\n",
              "    </button>\n",
              "\n",
              "  <style>\n",
              "    .colab-df-container {\n",
              "      display:flex;\n",
              "      gap: 12px;\n",
              "    }\n",
              "\n",
              "    .colab-df-convert {\n",
              "      background-color: #E8F0FE;\n",
              "      border: none;\n",
              "      border-radius: 50%;\n",
              "      cursor: pointer;\n",
              "      display: none;\n",
              "      fill: #1967D2;\n",
              "      height: 32px;\n",
              "      padding: 0 0 0 0;\n",
              "      width: 32px;\n",
              "    }\n",
              "\n",
              "    .colab-df-convert:hover {\n",
              "      background-color: #E2EBFA;\n",
              "      box-shadow: 0px 1px 2px rgba(60, 64, 67, 0.3), 0px 1px 3px 1px rgba(60, 64, 67, 0.15);\n",
              "      fill: #174EA6;\n",
              "    }\n",
              "\n",
              "    .colab-df-buttons div {\n",
              "      margin-bottom: 4px;\n",
              "    }\n",
              "\n",
              "    [theme=dark] .colab-df-convert {\n",
              "      background-color: #3B4455;\n",
              "      fill: #D2E3FC;\n",
              "    }\n",
              "\n",
              "    [theme=dark] .colab-df-convert:hover {\n",
              "      background-color: #434B5C;\n",
              "      box-shadow: 0px 1px 3px 1px rgba(0, 0, 0, 0.15);\n",
              "      filter: drop-shadow(0px 1px 2px rgba(0, 0, 0, 0.3));\n",
              "      fill: #FFFFFF;\n",
              "    }\n",
              "  </style>\n",
              "\n",
              "    <script>\n",
              "      const buttonEl =\n",
              "        document.querySelector('#df-be42b7af-9153-4073-aa36-3078bd93db56 button.colab-df-convert');\n",
              "      buttonEl.style.display =\n",
              "        google.colab.kernel.accessAllowed ? 'block' : 'none';\n",
              "\n",
              "      async function convertToInteractive(key) {\n",
              "        const element = document.querySelector('#df-be42b7af-9153-4073-aa36-3078bd93db56');\n",
              "        const dataTable =\n",
              "          await google.colab.kernel.invokeFunction('convertToInteractive',\n",
              "                                                    [key], {});\n",
              "        if (!dataTable) return;\n",
              "\n",
              "        const docLinkHtml = 'Like what you see? Visit the ' +\n",
              "          '<a target=\"_blank\" href=https://colab.research.google.com/notebooks/data_table.ipynb>data table notebook</a>'\n",
              "          + ' to learn more about interactive tables.';\n",
              "        element.innerHTML = '';\n",
              "        dataTable['output_type'] = 'display_data';\n",
              "        await google.colab.output.renderOutput(dataTable, element);\n",
              "        const docLink = document.createElement('div');\n",
              "        docLink.innerHTML = docLinkHtml;\n",
              "        element.appendChild(docLink);\n",
              "      }\n",
              "    </script>\n",
              "  </div>\n",
              "\n",
              "\n",
              "<div id=\"df-b61f340e-0778-48c8-b486-31197b35dcbc\">\n",
              "  <button class=\"colab-df-quickchart\" onclick=\"quickchart('df-b61f340e-0778-48c8-b486-31197b35dcbc')\"\n",
              "            title=\"Suggest charts.\"\n",
              "            style=\"display:none;\">\n",
              "\n",
              "<svg xmlns=\"http://www.w3.org/2000/svg\" height=\"24px\"viewBox=\"0 0 24 24\"\n",
              "     width=\"24px\">\n",
              "    <g>\n",
              "        <path d=\"M19 3H5c-1.1 0-2 .9-2 2v14c0 1.1.9 2 2 2h14c1.1 0 2-.9 2-2V5c0-1.1-.9-2-2-2zM9 17H7v-7h2v7zm4 0h-2V7h2v10zm4 0h-2v-4h2v4z\"/>\n",
              "    </g>\n",
              "</svg>\n",
              "  </button>\n",
              "\n",
              "<style>\n",
              "  .colab-df-quickchart {\n",
              "      --bg-color: #E8F0FE;\n",
              "      --fill-color: #1967D2;\n",
              "      --hover-bg-color: #E2EBFA;\n",
              "      --hover-fill-color: #174EA6;\n",
              "      --disabled-fill-color: #AAA;\n",
              "      --disabled-bg-color: #DDD;\n",
              "  }\n",
              "\n",
              "  [theme=dark] .colab-df-quickchart {\n",
              "      --bg-color: #3B4455;\n",
              "      --fill-color: #D2E3FC;\n",
              "      --hover-bg-color: #434B5C;\n",
              "      --hover-fill-color: #FFFFFF;\n",
              "      --disabled-bg-color: #3B4455;\n",
              "      --disabled-fill-color: #666;\n",
              "  }\n",
              "\n",
              "  .colab-df-quickchart {\n",
              "    background-color: var(--bg-color);\n",
              "    border: none;\n",
              "    border-radius: 50%;\n",
              "    cursor: pointer;\n",
              "    display: none;\n",
              "    fill: var(--fill-color);\n",
              "    height: 32px;\n",
              "    padding: 0;\n",
              "    width: 32px;\n",
              "  }\n",
              "\n",
              "  .colab-df-quickchart:hover {\n",
              "    background-color: var(--hover-bg-color);\n",
              "    box-shadow: 0 1px 2px rgba(60, 64, 67, 0.3), 0 1px 3px 1px rgba(60, 64, 67, 0.15);\n",
              "    fill: var(--button-hover-fill-color);\n",
              "  }\n",
              "\n",
              "  .colab-df-quickchart-complete:disabled,\n",
              "  .colab-df-quickchart-complete:disabled:hover {\n",
              "    background-color: var(--disabled-bg-color);\n",
              "    fill: var(--disabled-fill-color);\n",
              "    box-shadow: none;\n",
              "  }\n",
              "\n",
              "  .colab-df-spinner {\n",
              "    border: 2px solid var(--fill-color);\n",
              "    border-color: transparent;\n",
              "    border-bottom-color: var(--fill-color);\n",
              "    animation:\n",
              "      spin 1s steps(1) infinite;\n",
              "  }\n",
              "\n",
              "  @keyframes spin {\n",
              "    0% {\n",
              "      border-color: transparent;\n",
              "      border-bottom-color: var(--fill-color);\n",
              "      border-left-color: var(--fill-color);\n",
              "    }\n",
              "    20% {\n",
              "      border-color: transparent;\n",
              "      border-left-color: var(--fill-color);\n",
              "      border-top-color: var(--fill-color);\n",
              "    }\n",
              "    30% {\n",
              "      border-color: transparent;\n",
              "      border-left-color: var(--fill-color);\n",
              "      border-top-color: var(--fill-color);\n",
              "      border-right-color: var(--fill-color);\n",
              "    }\n",
              "    40% {\n",
              "      border-color: transparent;\n",
              "      border-right-color: var(--fill-color);\n",
              "      border-top-color: var(--fill-color);\n",
              "    }\n",
              "    60% {\n",
              "      border-color: transparent;\n",
              "      border-right-color: var(--fill-color);\n",
              "    }\n",
              "    80% {\n",
              "      border-color: transparent;\n",
              "      border-right-color: var(--fill-color);\n",
              "      border-bottom-color: var(--fill-color);\n",
              "    }\n",
              "    90% {\n",
              "      border-color: transparent;\n",
              "      border-bottom-color: var(--fill-color);\n",
              "    }\n",
              "  }\n",
              "</style>\n",
              "\n",
              "  <script>\n",
              "    async function quickchart(key) {\n",
              "      const quickchartButtonEl =\n",
              "        document.querySelector('#' + key + ' button');\n",
              "      quickchartButtonEl.disabled = true;  // To prevent multiple clicks.\n",
              "      quickchartButtonEl.classList.add('colab-df-spinner');\n",
              "      try {\n",
              "        const charts = await google.colab.kernel.invokeFunction(\n",
              "            'suggestCharts', [key], {});\n",
              "      } catch (error) {\n",
              "        console.error('Error during call to suggestCharts:', error);\n",
              "      }\n",
              "      quickchartButtonEl.classList.remove('colab-df-spinner');\n",
              "      quickchartButtonEl.classList.add('colab-df-quickchart-complete');\n",
              "    }\n",
              "    (() => {\n",
              "      let quickchartButtonEl =\n",
              "        document.querySelector('#df-b61f340e-0778-48c8-b486-31197b35dcbc button');\n",
              "      quickchartButtonEl.style.display =\n",
              "        google.colab.kernel.accessAllowed ? 'block' : 'none';\n",
              "    })();\n",
              "  </script>\n",
              "</div>\n",
              "\n",
              "    </div>\n",
              "  </div>\n"
            ]
          },
          "metadata": {},
          "execution_count": 9
        }
      ]
    },
    {
      "cell_type": "code",
      "source": [
        "ds.dtypes"
      ],
      "metadata": {
        "id": "T3ziET8ozaRJ",
        "outputId": "2e3bb9df-6a2a-492d-864c-0fa23cd92880",
        "colab": {
          "base_uri": "https://localhost:8080/"
        }
      },
      "execution_count": 10,
      "outputs": [
        {
          "output_type": "execute_result",
          "data": {
            "text/plain": [
              "Unnamed: 0           int64\n",
              "english_sentence    object\n",
              "hindi_sentence      object\n",
              "eng_len              int64\n",
              "hin_len              int64\n",
              "dtype: object"
            ]
          },
          "metadata": {},
          "execution_count": 10
        }
      ]
    },
    {
      "cell_type": "code",
      "source": [
        "ds = ds[(ds['eng_len'] > 20) & (ds['eng_len'] < 200)]\n",
        "ds = ds[(ds['hin_len'] > 20) & (ds['hin_len'] < 200)]\n",
        "len(ds)"
      ],
      "metadata": {
        "execution": {
          "iopub.status.busy": "2023-10-22T04:42:51.760345Z",
          "iopub.execute_input": "2023-10-22T04:42:51.760692Z",
          "iopub.status.idle": "2023-10-22T04:42:51.799146Z",
          "shell.execute_reply.started": "2023-10-22T04:42:51.760663Z",
          "shell.execute_reply": "2023-10-22T04:42:51.798143Z"
        },
        "trusted": true,
        "colab": {
          "base_uri": "https://localhost:8080/"
        },
        "id": "n9XzwKoItqn5",
        "outputId": "0744a22b-2c00-43ad-d1a7-64156e921f6b"
      },
      "execution_count": 12,
      "outputs": [
        {
          "output_type": "execute_result",
          "data": {
            "text/plain": [
              "43162"
            ]
          },
          "metadata": {},
          "execution_count": 12
        }
      ]
    },
    {
      "cell_type": "code",
      "source": [
        "import string\n",
        "sc = list(set(string.punctuation))"
      ],
      "metadata": {
        "execution": {
          "iopub.status.busy": "2023-10-22T04:42:51.800881Z",
          "iopub.execute_input": "2023-10-22T04:42:51.801167Z",
          "iopub.status.idle": "2023-10-22T04:42:51.805638Z",
          "shell.execute_reply.started": "2023-10-22T04:42:51.801143Z",
          "shell.execute_reply": "2023-10-22T04:42:51.804442Z"
        },
        "trusted": true,
        "id": "RyAhqnJatqn6"
      },
      "execution_count": 13,
      "outputs": []
    },
    {
      "cell_type": "code",
      "source": [
        "ds['english_sentence']=ds['english_sentence'].apply(lambda x: ''.join(ch for ch in x if ch not in sc))\n",
        "ds['hindi_sentence']=ds['hindi_sentence'].apply(lambda x: ''.join(ch for ch in x if ch not in sc))"
      ],
      "metadata": {
        "execution": {
          "iopub.status.busy": "2023-10-22T04:42:51.807049Z",
          "iopub.execute_input": "2023-10-22T04:42:51.807438Z",
          "iopub.status.idle": "2023-10-22T04:43:03.936919Z",
          "shell.execute_reply.started": "2023-10-22T04:42:51.807381Z",
          "shell.execute_reply": "2023-10-22T04:43:03.935908Z"
        },
        "trusted": true,
        "id": "Scv8BEYYtqn6"
      },
      "execution_count": 14,
      "outputs": []
    },
    {
      "cell_type": "code",
      "source": [
        "ds.head()"
      ],
      "metadata": {
        "execution": {
          "iopub.status.busy": "2023-10-22T04:43:03.938020Z",
          "iopub.execute_input": "2023-10-22T04:43:03.938281Z",
          "iopub.status.idle": "2023-10-22T04:43:03.949962Z",
          "shell.execute_reply.started": "2023-10-22T04:43:03.938259Z",
          "shell.execute_reply": "2023-10-22T04:43:03.948907Z"
        },
        "trusted": true,
        "colab": {
          "base_uri": "https://localhost:8080/",
          "height": 206
        },
        "id": "lTlWj3z7tqn6",
        "outputId": "dfe95d9a-e94e-4415-c9ac-6a17f9921c99"
      },
      "execution_count": 15,
      "outputs": [
        {
          "output_type": "execute_result",
          "data": {
            "text/plain": [
              "    Unnamed: 0                                   english_sentence  \\\n",
              "8            8  “”Global Warming“” refer to warming caused in ...   \n",
              "9            9  You may want your child to go to a school that...   \n",
              "15          15  They had justified their educational policy of...   \n",
              "18          18  ii Register Courts  empowered to try causes fo...   \n",
              "19          19  Extreme weather due to increased mortality dis...   \n",
              "\n",
              "                                       hindi_sentence  eng_len  hin_len  \n",
              "8   ग्लोबल वॉर्मिंग से आशय हाल ही के दशकों में हुई...       22       30  \n",
              "9   हो सकता है कि आप चाहते हों कि आप का नऋर्नमेनटे...       34       39  \n",
              "15  कम संख़्या वाले उच्च एवं मध्यम श्रेणी के लोगों...       36       38  \n",
              "18  रजिस्टर न्यायालय जिन्हें न्यायाधीश द्वारा प्रा...       21       22  \n",
              "19  बढ़ती हुई मौतों displacements और आर्थिक नुकसान...       33       50  "
            ],
            "text/html": [
              "\n",
              "  <div id=\"df-8de915c4-db88-4485-8511-a9ecd1d7a0fc\" class=\"colab-df-container\">\n",
              "    <div>\n",
              "<style scoped>\n",
              "    .dataframe tbody tr th:only-of-type {\n",
              "        vertical-align: middle;\n",
              "    }\n",
              "\n",
              "    .dataframe tbody tr th {\n",
              "        vertical-align: top;\n",
              "    }\n",
              "\n",
              "    .dataframe thead th {\n",
              "        text-align: right;\n",
              "    }\n",
              "</style>\n",
              "<table border=\"1\" class=\"dataframe\">\n",
              "  <thead>\n",
              "    <tr style=\"text-align: right;\">\n",
              "      <th></th>\n",
              "      <th>Unnamed: 0</th>\n",
              "      <th>english_sentence</th>\n",
              "      <th>hindi_sentence</th>\n",
              "      <th>eng_len</th>\n",
              "      <th>hin_len</th>\n",
              "    </tr>\n",
              "  </thead>\n",
              "  <tbody>\n",
              "    <tr>\n",
              "      <th>8</th>\n",
              "      <td>8</td>\n",
              "      <td>“”Global Warming“” refer to warming caused in ...</td>\n",
              "      <td>ग्लोबल वॉर्मिंग से आशय हाल ही के दशकों में हुई...</td>\n",
              "      <td>22</td>\n",
              "      <td>30</td>\n",
              "    </tr>\n",
              "    <tr>\n",
              "      <th>9</th>\n",
              "      <td>9</td>\n",
              "      <td>You may want your child to go to a school that...</td>\n",
              "      <td>हो सकता है कि आप चाहते हों कि आप का नऋर्नमेनटे...</td>\n",
              "      <td>34</td>\n",
              "      <td>39</td>\n",
              "    </tr>\n",
              "    <tr>\n",
              "      <th>15</th>\n",
              "      <td>15</td>\n",
              "      <td>They had justified their educational policy of...</td>\n",
              "      <td>कम संख़्या वाले उच्च एवं मध्यम श्रेणी के लोगों...</td>\n",
              "      <td>36</td>\n",
              "      <td>38</td>\n",
              "    </tr>\n",
              "    <tr>\n",
              "      <th>18</th>\n",
              "      <td>18</td>\n",
              "      <td>ii Register Courts  empowered to try causes fo...</td>\n",
              "      <td>रजिस्टर न्यायालय जिन्हें न्यायाधीश द्वारा प्रा...</td>\n",
              "      <td>21</td>\n",
              "      <td>22</td>\n",
              "    </tr>\n",
              "    <tr>\n",
              "      <th>19</th>\n",
              "      <td>19</td>\n",
              "      <td>Extreme weather due to increased mortality dis...</td>\n",
              "      <td>बढ़ती हुई मौतों displacements और आर्थिक नुकसान...</td>\n",
              "      <td>33</td>\n",
              "      <td>50</td>\n",
              "    </tr>\n",
              "  </tbody>\n",
              "</table>\n",
              "</div>\n",
              "    <div class=\"colab-df-buttons\">\n",
              "\n",
              "  <div class=\"colab-df-container\">\n",
              "    <button class=\"colab-df-convert\" onclick=\"convertToInteractive('df-8de915c4-db88-4485-8511-a9ecd1d7a0fc')\"\n",
              "            title=\"Convert this dataframe to an interactive table.\"\n",
              "            style=\"display:none;\">\n",
              "\n",
              "  <svg xmlns=\"http://www.w3.org/2000/svg\" height=\"24px\" viewBox=\"0 -960 960 960\">\n",
              "    <path d=\"M120-120v-720h720v720H120Zm60-500h600v-160H180v160Zm220 220h160v-160H400v160Zm0 220h160v-160H400v160ZM180-400h160v-160H180v160Zm440 0h160v-160H620v160ZM180-180h160v-160H180v160Zm440 0h160v-160H620v160Z\"/>\n",
              "  </svg>\n",
              "    </button>\n",
              "\n",
              "  <style>\n",
              "    .colab-df-container {\n",
              "      display:flex;\n",
              "      gap: 12px;\n",
              "    }\n",
              "\n",
              "    .colab-df-convert {\n",
              "      background-color: #E8F0FE;\n",
              "      border: none;\n",
              "      border-radius: 50%;\n",
              "      cursor: pointer;\n",
              "      display: none;\n",
              "      fill: #1967D2;\n",
              "      height: 32px;\n",
              "      padding: 0 0 0 0;\n",
              "      width: 32px;\n",
              "    }\n",
              "\n",
              "    .colab-df-convert:hover {\n",
              "      background-color: #E2EBFA;\n",
              "      box-shadow: 0px 1px 2px rgba(60, 64, 67, 0.3), 0px 1px 3px 1px rgba(60, 64, 67, 0.15);\n",
              "      fill: #174EA6;\n",
              "    }\n",
              "\n",
              "    .colab-df-buttons div {\n",
              "      margin-bottom: 4px;\n",
              "    }\n",
              "\n",
              "    [theme=dark] .colab-df-convert {\n",
              "      background-color: #3B4455;\n",
              "      fill: #D2E3FC;\n",
              "    }\n",
              "\n",
              "    [theme=dark] .colab-df-convert:hover {\n",
              "      background-color: #434B5C;\n",
              "      box-shadow: 0px 1px 3px 1px rgba(0, 0, 0, 0.15);\n",
              "      filter: drop-shadow(0px 1px 2px rgba(0, 0, 0, 0.3));\n",
              "      fill: #FFFFFF;\n",
              "    }\n",
              "  </style>\n",
              "\n",
              "    <script>\n",
              "      const buttonEl =\n",
              "        document.querySelector('#df-8de915c4-db88-4485-8511-a9ecd1d7a0fc button.colab-df-convert');\n",
              "      buttonEl.style.display =\n",
              "        google.colab.kernel.accessAllowed ? 'block' : 'none';\n",
              "\n",
              "      async function convertToInteractive(key) {\n",
              "        const element = document.querySelector('#df-8de915c4-db88-4485-8511-a9ecd1d7a0fc');\n",
              "        const dataTable =\n",
              "          await google.colab.kernel.invokeFunction('convertToInteractive',\n",
              "                                                    [key], {});\n",
              "        if (!dataTable) return;\n",
              "\n",
              "        const docLinkHtml = 'Like what you see? Visit the ' +\n",
              "          '<a target=\"_blank\" href=https://colab.research.google.com/notebooks/data_table.ipynb>data table notebook</a>'\n",
              "          + ' to learn more about interactive tables.';\n",
              "        element.innerHTML = '';\n",
              "        dataTable['output_type'] = 'display_data';\n",
              "        await google.colab.output.renderOutput(dataTable, element);\n",
              "        const docLink = document.createElement('div');\n",
              "        docLink.innerHTML = docLinkHtml;\n",
              "        element.appendChild(docLink);\n",
              "      }\n",
              "    </script>\n",
              "  </div>\n",
              "\n",
              "\n",
              "<div id=\"df-5cc5a044-532b-48ea-8985-8b3e38d51366\">\n",
              "  <button class=\"colab-df-quickchart\" onclick=\"quickchart('df-5cc5a044-532b-48ea-8985-8b3e38d51366')\"\n",
              "            title=\"Suggest charts.\"\n",
              "            style=\"display:none;\">\n",
              "\n",
              "<svg xmlns=\"http://www.w3.org/2000/svg\" height=\"24px\"viewBox=\"0 0 24 24\"\n",
              "     width=\"24px\">\n",
              "    <g>\n",
              "        <path d=\"M19 3H5c-1.1 0-2 .9-2 2v14c0 1.1.9 2 2 2h14c1.1 0 2-.9 2-2V5c0-1.1-.9-2-2-2zM9 17H7v-7h2v7zm4 0h-2V7h2v10zm4 0h-2v-4h2v4z\"/>\n",
              "    </g>\n",
              "</svg>\n",
              "  </button>\n",
              "\n",
              "<style>\n",
              "  .colab-df-quickchart {\n",
              "      --bg-color: #E8F0FE;\n",
              "      --fill-color: #1967D2;\n",
              "      --hover-bg-color: #E2EBFA;\n",
              "      --hover-fill-color: #174EA6;\n",
              "      --disabled-fill-color: #AAA;\n",
              "      --disabled-bg-color: #DDD;\n",
              "  }\n",
              "\n",
              "  [theme=dark] .colab-df-quickchart {\n",
              "      --bg-color: #3B4455;\n",
              "      --fill-color: #D2E3FC;\n",
              "      --hover-bg-color: #434B5C;\n",
              "      --hover-fill-color: #FFFFFF;\n",
              "      --disabled-bg-color: #3B4455;\n",
              "      --disabled-fill-color: #666;\n",
              "  }\n",
              "\n",
              "  .colab-df-quickchart {\n",
              "    background-color: var(--bg-color);\n",
              "    border: none;\n",
              "    border-radius: 50%;\n",
              "    cursor: pointer;\n",
              "    display: none;\n",
              "    fill: var(--fill-color);\n",
              "    height: 32px;\n",
              "    padding: 0;\n",
              "    width: 32px;\n",
              "  }\n",
              "\n",
              "  .colab-df-quickchart:hover {\n",
              "    background-color: var(--hover-bg-color);\n",
              "    box-shadow: 0 1px 2px rgba(60, 64, 67, 0.3), 0 1px 3px 1px rgba(60, 64, 67, 0.15);\n",
              "    fill: var(--button-hover-fill-color);\n",
              "  }\n",
              "\n",
              "  .colab-df-quickchart-complete:disabled,\n",
              "  .colab-df-quickchart-complete:disabled:hover {\n",
              "    background-color: var(--disabled-bg-color);\n",
              "    fill: var(--disabled-fill-color);\n",
              "    box-shadow: none;\n",
              "  }\n",
              "\n",
              "  .colab-df-spinner {\n",
              "    border: 2px solid var(--fill-color);\n",
              "    border-color: transparent;\n",
              "    border-bottom-color: var(--fill-color);\n",
              "    animation:\n",
              "      spin 1s steps(1) infinite;\n",
              "  }\n",
              "\n",
              "  @keyframes spin {\n",
              "    0% {\n",
              "      border-color: transparent;\n",
              "      border-bottom-color: var(--fill-color);\n",
              "      border-left-color: var(--fill-color);\n",
              "    }\n",
              "    20% {\n",
              "      border-color: transparent;\n",
              "      border-left-color: var(--fill-color);\n",
              "      border-top-color: var(--fill-color);\n",
              "    }\n",
              "    30% {\n",
              "      border-color: transparent;\n",
              "      border-left-color: var(--fill-color);\n",
              "      border-top-color: var(--fill-color);\n",
              "      border-right-color: var(--fill-color);\n",
              "    }\n",
              "    40% {\n",
              "      border-color: transparent;\n",
              "      border-right-color: var(--fill-color);\n",
              "      border-top-color: var(--fill-color);\n",
              "    }\n",
              "    60% {\n",
              "      border-color: transparent;\n",
              "      border-right-color: var(--fill-color);\n",
              "    }\n",
              "    80% {\n",
              "      border-color: transparent;\n",
              "      border-right-color: var(--fill-color);\n",
              "      border-bottom-color: var(--fill-color);\n",
              "    }\n",
              "    90% {\n",
              "      border-color: transparent;\n",
              "      border-bottom-color: var(--fill-color);\n",
              "    }\n",
              "  }\n",
              "</style>\n",
              "\n",
              "  <script>\n",
              "    async function quickchart(key) {\n",
              "      const quickchartButtonEl =\n",
              "        document.querySelector('#' + key + ' button');\n",
              "      quickchartButtonEl.disabled = true;  // To prevent multiple clicks.\n",
              "      quickchartButtonEl.classList.add('colab-df-spinner');\n",
              "      try {\n",
              "        const charts = await google.colab.kernel.invokeFunction(\n",
              "            'suggestCharts', [key], {});\n",
              "      } catch (error) {\n",
              "        console.error('Error during call to suggestCharts:', error);\n",
              "      }\n",
              "      quickchartButtonEl.classList.remove('colab-df-spinner');\n",
              "      quickchartButtonEl.classList.add('colab-df-quickchart-complete');\n",
              "    }\n",
              "    (() => {\n",
              "      let quickchartButtonEl =\n",
              "        document.querySelector('#df-5cc5a044-532b-48ea-8985-8b3e38d51366 button');\n",
              "      quickchartButtonEl.style.display =\n",
              "        google.colab.kernel.accessAllowed ? 'block' : 'none';\n",
              "    })();\n",
              "  </script>\n",
              "</div>\n",
              "\n",
              "    </div>\n",
              "  </div>\n"
            ]
          },
          "metadata": {},
          "execution_count": 15
        }
      ]
    },
    {
      "cell_type": "code",
      "source": [
        "def normalize(eng, hin):\n",
        "    \"\"\"Normalize a line of text and split into two at the tab character\"\"\"\n",
        "    line = str(eng.strip().lower()) + \"\\t\" + str(hin)\n",
        "#     line = unicodedata.normalize(\"NFKC\", line.strip().lower())\n",
        "    line = re.sub(r\"^([^ \\w])(?!\\s)\", r\"\\1 \", line)\n",
        "    line = re.sub(r\"(\\s[^ \\w])(?!\\s)\", r\"\\1 \", line)\n",
        "    line = re.sub(r\"(?!\\s)([^ \\w])$\", r\" \\1\", line)\n",
        "    line = re.sub(r\"(?!\\s)([^ \\w]\\s)\", r\" \\1\", line)\n",
        "    eng, hind = line.split('\\t')\n",
        "    eng = \"[start] \" + eng + \" [end]\"\n",
        "    hin = \"[start] \" + hin + \" [end]\"\n",
        "    return eng, hin\n",
        "\n",
        "# normalize each line and separate into English and Hindi\n",
        "text_pairs = []\n",
        "for index in ds.index:\n",
        "    text_pairs.append(normalize(ds['english_sentence'][index], ds['hindi_sentence'][index]))\n",
        "\n",
        "# print some samples\n",
        "for _ in range(3):\n",
        "    print(random.choice(text_pairs))\n",
        "\n",
        "with open(\"text_pairs.pickle\", \"wb\") as fp:\n",
        "    pickle.dump(text_pairs, fp)"
      ],
      "metadata": {
        "colab": {
          "base_uri": "https://localhost:8080/"
        },
        "id": "BXVcdS4gkNoH",
        "outputId": "e1a82742-8e51-4b50-d46a-03bb9eb8e7ee",
        "execution": {
          "iopub.status.busy": "2023-10-22T04:43:03.951199Z",
          "iopub.execute_input": "2023-10-22T04:43:03.951559Z",
          "iopub.status.idle": "2023-10-22T04:43:14.624167Z",
          "shell.execute_reply.started": "2023-10-22T04:43:03.951533Z",
          "shell.execute_reply": "2023-10-22T04:43:14.623233Z"
        },
        "trusted": true
      },
      "execution_count": 16,
      "outputs": [
        {
          "output_type": "stream",
          "name": "stdout",
          "text": [
            "('[start] macau can also be reached through china s frontier cities shanchan  kwangtung and lancahu but for that china has to be visited first [end]', '[start] वैसे चीन के सीमाँत शहर शनचन  क्वांगतुंग और लानचओ से भी मकाऊ पहुँचा जा सकता है  लेकिन उसके लिए पहले चीन जाना होगा । [end]')\n",
            "('[start] it is important to go back to the question as to when does the actual process of aging start in one s life [end]', '[start] यह महत्वपूर्ण है कि हम पुनः उसी प्रश्न पर वापस आ जाएं कि किसी के जीवन में वृद्धावस्था की वास्तविक प्रक्रिया कब आरंभ होती है  [end]')\n",
            "('[start] the upshot  last year  naphtha rose by 60 per cent after international crude prices more than doubled and the rupee fell by over 7 per cent against the dollar since april 2000 [end]', '[start] नतीजाः पिछले साल कच्चे तेल की अंतरराष्ट्रीय कीमतें दोगुनी हो जाने और अप्रैल 2000 से ड़ॉलर के मुकाबले रुपए की दर 7 फीसदी घटने पर नैथा की कीमत 60 फीसदी बढे गई  [end]')\n"
          ]
        }
      ]
    },
    {
      "cell_type": "code",
      "source": [
        "# find out how many distinct tokens exist\n",
        "with open(\"text_pairs.pickle\", \"rb\") as fp:\n",
        "    text_paris = pickle.load(fp)\n",
        "\n",
        "eng_tokens, hin_tokens = set(), set()\n",
        "eng_maxlength, hin_maxlength = 0, 0\n",
        "for eng, hin in text_paris:\n",
        "    eng_token, hin_token = eng.split(), hin.split()\n",
        "    eng_maxlength = max(len(eng_token), eng_maxlength)\n",
        "    hin_maxlength = max(len(hin_token), hin_maxlength)\n",
        "    eng_tokens.update(eng_token)\n",
        "    hin_tokens.update(hin_token)\n",
        "print(f\"Total English tokens = {len(eng_tokens)}\")\n",
        "print(f\"Total Hindi tokens = {len(hin_tokens)}\")\n",
        "print(f\"Maximum English sequence length = {eng_maxlength}\")\n",
        "print(f\"Maximum Hindi sequence length = {hin_maxlength}\")"
      ],
      "metadata": {
        "colab": {
          "base_uri": "https://localhost:8080/"
        },
        "id": "rI9OcCOwMMuj",
        "outputId": "e51739cf-965f-4022-8bf6-2db7f39560d5",
        "execution": {
          "iopub.status.busy": "2023-10-22T04:43:14.628978Z",
          "iopub.execute_input": "2023-10-22T04:43:14.629378Z",
          "iopub.status.idle": "2023-10-22T04:43:15.478142Z",
          "shell.execute_reply.started": "2023-10-22T04:43:14.629351Z",
          "shell.execute_reply": "2023-10-22T04:43:15.476980Z"
        },
        "trusted": true
      },
      "execution_count": 17,
      "outputs": [
        {
          "output_type": "stream",
          "name": "stdout",
          "text": [
            "Total English tokens = 59304\n",
            "Total Hindi tokens = 74290\n",
            "Maximum English sequence length = 200\n",
            "Maximum Hindi sequence length = 195\n"
          ]
        }
      ]
    },
    {
      "cell_type": "code",
      "source": [
        "with open(\"text_pairs.pickle\", \"rb\") as fp:\n",
        "    text_pairs = pickle.load(fp)\n",
        "\n",
        "# histogram of sentence length in tokens\n",
        "en_lengths = [len(eng.split()) for eng, hin in text_pairs]\n",
        "hn_lengths = [len(hin.split()) for eng, hin in text_pairs]\n",
        "\n",
        "plt.hist(en_lengths, label=\"en\", color=\"red\", alpha=0.33)\n",
        "plt.hist(hn_lengths, label=\"hn\", color=\"blue\", alpha=0.33)\n",
        "plt.yscale(\"log\")     # sentence length fits Benford\"s law\n",
        "plt.ylim(plt.ylim())  # make y-axis consistent for both plots\n",
        "plt.plot([max(en_lengths), max(en_lengths)], plt.ylim(), color=\"red\")\n",
        "plt.plot([max(hn_lengths), max(hn_lengths)], plt.ylim(), color=\"blue\")\n",
        "plt.legend()\n",
        "plt.title(\"Examples count vs Token length\")\n",
        "plt.show()"
      ],
      "metadata": {
        "colab": {
          "base_uri": "https://localhost:8080/",
          "height": 452
        },
        "id": "agg-7Oc2ONKB",
        "outputId": "19150402-df02-436e-9297-cecb21b84d0b",
        "execution": {
          "iopub.status.busy": "2023-10-22T04:43:15.479579Z",
          "iopub.execute_input": "2023-10-22T04:43:15.479987Z",
          "iopub.status.idle": "2023-10-22T04:43:17.993364Z",
          "shell.execute_reply.started": "2023-10-22T04:43:15.479930Z",
          "shell.execute_reply": "2023-10-22T04:43:17.992391Z"
        },
        "trusted": true
      },
      "execution_count": 18,
      "outputs": [
        {
          "output_type": "display_data",
          "data": {
            "text/plain": [
              "<Figure size 640x480 with 1 Axes>"
            ],
            "image/png": "[encoded data removed]"
          },
          "metadata": {}
        }
      ]
    },
    {
      "cell_type": "markdown",
      "source": [
        "l;ajskl;d## Prepare datasetTok"
      ],
      "metadata": {
        "id": "TKSTu2wW4uDh"
      }
    },
    {
      "cell_type": "code",
      "source": [
        "class PrepareDataset:\n",
        "\n",
        "  def __init__(self, n_sentences=1000, max_seq_length=20, **kwargs):\n",
        "\n",
        "    super(PrepareDataset, self).__init__(**kwargs)\n",
        "    self.n_sentences = n_sentences\n",
        "    self.val_split = 0.15\n",
        "    self.max_seq_length = max_seq_length\n",
        "\n",
        "  def find_vocab_size(self, tokenizer, dataset):\n",
        "    tokenizer.fit_on_texts(dataset)\n",
        "    return len(tokenizer.word_index) + 1\n",
        "\n",
        "  def format_dataset(self, eng, hin):\n",
        "    eng = self.eng_vectorizer(eng)\n",
        "    # eng = eng[:, :eng.max_tokens]\n",
        "    hin = self.hin_vectorizer(hin)\n",
        "    # hin = hin[:, :hin.max_tokens+1]\n",
        "    source = (eng, hin[:, :-1])\n",
        "    target = hin[:, 1:]\n",
        "    return source, target\n",
        "\n",
        "  def __call__(self, filename, batch_size=64, **kwargs):\n",
        "\n",
        "    text_pairs = pickle.load(open(filename, 'rb'))\n",
        "    total_len_text_pairs = len(text_pairs)\n",
        "\n",
        "    if self.n_sentences is None:\n",
        "      dataset = text_pairs[:]\n",
        "    else:\n",
        "      dataset = text_pairs[:self.n_sentences]\n",
        "\n",
        "\n",
        "    shuffle(dataset)\n",
        "    len_text_pairs = len(dataset)\n",
        "\n",
        "    n_val_index = int(self.val_split * len_text_pairs)\n",
        "    n_train_index = len_text_pairs - 2 * n_val_index\n",
        "    train_pairs = dataset[:n_train_index]\n",
        "    test_pairs = dataset[n_train_index:n_train_index + n_val_index]\n",
        "    val_pairs = dataset[n_train_index + n_val_index:]\n",
        "\n",
        "    eng_vectorizer = TextVectorization(\n",
        "        max_tokens = 10000,  # learning from data analysis\n",
        "        standardize = None,\n",
        "        split = \"whitespace\",\n",
        "        output_mode = \"int\",\n",
        "        output_sequence_length = self.max_seq_length + 1\n",
        "    )\n",
        "\n",
        "    hin_vectorizer = TextVectorization(\n",
        "        max_tokens = 15000,  # learning from data analysis\n",
        "        standardize = None,\n",
        "        split = \"whitespace\",\n",
        "        output_mode = \"int\",\n",
        "        output_sequence_length = self.max_seq_length + 1\n",
        "    )\n",
        "\n",
        "    train_eng_texts = [pairs[0] for pairs in train_pairs]\n",
        "    train_hin_texts = [pairs[1] for pairs in train_pairs]\n",
        "\n",
        "    eng_vectorizer.adapt(train_eng_texts)\n",
        "    hin_vectorizer.adapt(train_hin_texts)\n",
        "\n",
        "    self.eng_vectorizer = eng_vectorizer\n",
        "    self.hin_vectorizer = hin_vectorizer\n",
        "    self.train = train_pairs\n",
        "    self.test = test_pairs\n",
        "\n",
        "    eng_texts_train, hin_texts_train = zip(*train_pairs)\n",
        "    eng_texts_val, hin_texts_val = zip(*val_pairs)\n",
        "\n",
        "    train_ds = tf.data.Dataset.from_tensor_slices((list(eng_texts_train), list(hin_texts_train))).shuffle(2048).batch(batch_size).map(self.format_dataset).prefetch(16).cache()\n",
        "    val_ds = tf.data.Dataset.from_tensor_slices((list(eng_texts_val), list(hin_texts_val))).shuffle(2048).batch(batch_size).map(self.format_dataset).prefetch(16).cache()\n",
        "    # the vectorizers are used during the inference\n",
        "    return train_ds, val_ds, eng_vectorizer, hin_vectorizer, train_pairs, test_pairs, val_pairs"
      ],
      "metadata": {
        "id": "tMubKI2Mqkw8",
        "execution": {
          "iopub.status.busy": "2023-10-22T04:43:17.994970Z",
          "iopub.execute_input": "2023-10-22T04:43:17.995282Z",
          "iopub.status.idle": "2023-10-22T04:43:18.011061Z",
          "shell.execute_reply.started": "2023-10-22T04:43:17.995254Z",
          "shell.execute_reply": "2023-10-22T04:43:18.010011Z"
        },
        "trusted": true
      },
      "execution_count": 19,
      "outputs": []
    },
    {
      "cell_type": "code",
      "source": [
        "n_sentences = 1000\n",
        "dataset = PrepareDataset(n_sentences=n_sentences)\n",
        "train_ds, val_ds, eng_vec, hin_vec, train_pairs, test_pairs, val_pairs = dataset(\"text_pairs.pickle\")\n",
        "for (eng, fr), hn_labels in train_ds.take(1):\n",
        "  break\n",
        "print(eng.shape)\n",
        "print(fr.shape)\n",
        "print(hn_labels.shape)\n",
        "\n",
        "print(fr[0][:10])\n",
        "print(hn_labels[0][:10])"
      ],
      "metadata": {
        "colab": {
          "base_uri": "https://localhost:8080/"
        },
        "id": "p7t9PFD0y00l",
        "outputId": "ce90a6db-13bb-4679-a752-953bb1722da9",
        "execution": {
          "iopub.status.busy": "2023-10-22T04:43:18.012286Z",
          "iopub.execute_input": "2023-10-22T04:43:18.013207Z",
          "iopub.status.idle": "2023-10-22T04:43:22.254969Z",
          "shell.execute_reply.started": "2023-10-22T04:43:18.013177Z",
          "shell.execute_reply": "2023-10-22T04:43:22.253799Z"
        },
        "trusted": true
      },
      "execution_count": 14,
      "outputs": [
        {
          "output_type": "stream",
          "name": "stdout",
          "text": [
            "(64, 21)\n",
            "(64, 20)\n",
            "(64, 20)\n",
            "tf.Tensor([   2   13  199 2371    7  549    6 2196  260    3], shape=(10,), dtype=int64)\n",
            "tf.Tensor([  13  199 2371    7  549    6 2196  260    3    0], shape=(10,), dtype=int64)\n"
          ]
        }
      ]
    },
    {
      "cell_type": "code",
      "source": [
        "eng_lookup = list(eng_vec.get_vocabulary())\n",
        "hin_lookup = list(hin_vec.get_vocabulary())\n",
        "eng_sen, hin_sen, hin_source = \"\", \"\",\"\"\n",
        "print(eng[1])\n",
        "for index in eng[1]:\n",
        "  eng_sen += eng_lookup[index] + \" \"\n",
        "for index in fr[1]:\n",
        "  hin_source += hin_lookup[index] + \" \"\n",
        "for index in hn_labels[1]:\n",
        "  hin_sen += hin_lookup[index] + \" \"\n",
        "print(f\"source: {eng_sen}\")\n",
        "print(f\"hin source: {hin_source}\")\n",
        "print(f\"target: {hin_sen}\")"
      ],
      "metadata": {
        "id": "HKfvkKeaKKty",
        "outputId": "2d851857-de42-4142-ad93-3d3704c12825",
        "colab": {
          "base_uri": "https://localhost:8080/"
        },
        "execution": {
          "iopub.status.busy": "2023-10-22T04:43:22.256183Z",
          "iopub.execute_input": "2023-10-22T04:43:22.256553Z",
          "iopub.status.idle": "2023-10-22T04:43:22.320250Z",
          "shell.execute_reply.started": "2023-10-22T04:43:22.256525Z",
          "shell.execute_reply": "2023-10-22T04:43:22.319260Z"
        },
        "trusted": true
      },
      "execution_count": 15,
      "outputs": [
        {
          "output_type": "stream",
          "name": "stdout",
          "text": [
            "tf.Tensor(\n",
            "[  17 1075 1165 2129   16    2  494  522    0    0    0    0    0    0\n",
            "    0    0    0    0    0    0    0], shape=(21,), dtype=int64)\n",
            "source: he regularly practises bowling with the left hand              \n",
            "hin source: [start] वे नियमित तौर पर बायें हाथ से गेंद फेंकने का अभ्यास करते हैं। [end]      \n",
            "target: वे नियमित तौर पर बायें हाथ से गेंद फेंकने का अभ्यास करते हैं। [end]       \n"
          ]
        }
      ]
    },
    {
      "cell_type": "markdown",
      "source": [
        "## Vocab size"
      ],
      "metadata": {
        "id": "UQOyjE95EJ7y"
      }
    },
    {
      "cell_type": "code",
      "source": [
        "eng_vocab_size = len(list(eng_vec.get_vocabulary()))\n",
        "hin_vocab_size = len(list(hin_vec.get_vocabulary()))\n",
        "print(f\"English vocab size: {eng_vocab_size}\")\n",
        "print(f\"Hindi vocab size: {eng_vocab_size}\")"
      ],
      "metadata": {
        "id": "iiiVhpnJRdRp",
        "outputId": "e0afd697-8ced-443b-9fcf-ce083e7e0a7f",
        "colab": {
          "base_uri": "https://localhost:8080/"
        },
        "execution": {
          "iopub.status.busy": "2023-10-22T04:43:22.321757Z",
          "iopub.execute_input": "2023-10-22T04:43:22.322598Z",
          "iopub.status.idle": "2023-10-22T04:43:22.345887Z",
          "shell.execute_reply.started": "2023-10-22T04:43:22.322560Z",
          "shell.execute_reply": "2023-10-22T04:43:22.344881Z"
        },
        "trusted": true
      },
      "execution_count": 16,
      "outputs": [
        {
          "output_type": "stream",
          "name": "stdout",
          "text": [
            "English vocab size: 2353\n",
            "Hindi vocab size: 2353\n"
          ]
        }
      ]
    },
    {
      "cell_type": "markdown",
      "source": [
        "## Positional Embedding Layer\n",
        "\n"
      ],
      "metadata": {
        "id": "oSr-WkRA_33s"
      }
    },
    {
      "cell_type": "code",
      "source": [
        "# Positional embedding matrix - This matrix represents the position of the word in the sentence.\n",
        "# It takes input as length of the sentence and size of the vector embeddings\n",
        "# The output is a matrix where every row is a word in the sentence, each row represents the position encoding of that word\n",
        "# The length of each row is equal to the length of word embeddings.\n",
        "def positional_encoding(length, depth):\n",
        "  depth = depth/2\n",
        "  positions = np.arange(length)[:, np.newaxis]     # (seq, 1)\n",
        "  depths = np.arange(depth)[np.newaxis, :]/depth   # (1, depth)\n",
        "  angle_rates = 1 / (10000**depths)         # (1, depth)\n",
        "  angle_rads = positions * angle_rates      # (pos, depth)\n",
        "  pos_encoding = np.concatenate(\n",
        "      [np.sin(angle_rads), np.cos(angle_rads)],\n",
        "      axis=-1)\n",
        "  return tf.cast(pos_encoding, dtype=tf.float32)\n",
        "\n",
        "pos_matrix = positional_encoding(4, 4)\n",
        "assert pos_matrix.shape == (4,4)\n",
        "print(pos_matrix.shape)\n",
        "print(pos_matrix)\n"
      ],
      "metadata": {
        "colab": {
          "base_uri": "https://localhost:8080/"
        },
        "id": "SWNd4soU1dTv",
        "outputId": "0bd21775-8298-4dbd-e688-c8c958c6a7d1",
        "execution": {
          "iopub.status.busy": "2023-10-22T04:43:22.347214Z",
          "iopub.execute_input": "2023-10-22T04:43:22.347604Z",
          "iopub.status.idle": "2023-10-22T04:43:22.361671Z",
          "shell.execute_reply.started": "2023-10-22T04:43:22.347568Z",
          "shell.execute_reply": "2023-10-22T04:43:22.360576Z"
        },
        "trusted": true
      },
      "execution_count": 17,
      "outputs": [
        {
          "output_type": "stream",
          "name": "stdout",
          "text": [
            "(4, 4)\n",
            "tf.Tensor(\n",
            "[[ 0.          0.          1.          1.        ]\n",
            " [ 0.84147096  0.00999983  0.5403023   0.99995   ]\n",
            " [ 0.9092974   0.01999867 -0.41614684  0.9998    ]\n",
            " [ 0.14112     0.0299955  -0.9899925   0.99955004]], shape=(4, 4), dtype=float32)\n"
          ]
        }
      ]
    },
    {
      "cell_type": "code",
      "source": [
        "# Positional Embedding\n",
        "class PositionalEmbedding(tf.keras.layers.Layer):\n",
        "  def __init__(self, vocab_size, d_model):\n",
        "    super().__init__()\n",
        "    self.d_model = d_model\n",
        "    self.embedding = tf.keras.layers.Embedding(vocab_size, d_model, mask_zero=True)\n",
        "    self.pos_encoding = positional_encoding(length=2048, depth=d_model)\n",
        "\n",
        "  def compute_mask(self, *args, **kwargs):\n",
        "    return self.embedding.compute_mask(*args, **kwargs)\n",
        "\n",
        "  def call(self, x):\n",
        "    length = tf.shape(x)[1]\n",
        "    x = self.embedding(x)\n",
        "    # This factor sets the relative scale of the embedding and positonal_encoding.\n",
        "    x *= tf.math.sqrt(tf.cast(self.d_model, tf.float32))\n",
        "    x = x + self.pos_encoding[tf.newaxis, :length, :]\n",
        "    return x"
      ],
      "metadata": {
        "id": "OUmDv5MuIAO2",
        "execution": {
          "iopub.status.busy": "2023-10-22T04:43:22.362842Z",
          "iopub.execute_input": "2023-10-22T04:43:22.363213Z",
          "iopub.status.idle": "2023-10-22T04:43:22.371065Z",
          "shell.execute_reply.started": "2023-10-22T04:43:22.363183Z",
          "shell.execute_reply": "2023-10-22T04:43:22.370169Z"
        },
        "trusted": true
      },
      "execution_count": 18,
      "outputs": []
    },
    {
      "cell_type": "code",
      "source": [
        "eng_pos = PositionalEmbedding(eng_vocab_size, 512)\n",
        "hin_pos = PositionalEmbedding(hin_vocab_size, 512)\n",
        "print(eng_pos(eng).shape)\n",
        "print(hin_pos(fr).shape)"
      ],
      "metadata": {
        "id": "_gZ0CIdtDkHZ",
        "outputId": "eb4be478-9d43-4f9d-dbe7-7232141ac7b0",
        "colab": {
          "base_uri": "https://localhost:8080/"
        },
        "execution": {
          "iopub.status.busy": "2023-10-22T04:43:22.372204Z",
          "iopub.execute_input": "2023-10-22T04:43:22.372551Z",
          "iopub.status.idle": "2023-10-22T04:43:22.482002Z",
          "shell.execute_reply.started": "2023-10-22T04:43:22.372507Z",
          "shell.execute_reply": "2023-10-22T04:43:22.481059Z"
        },
        "trusted": true
      },
      "execution_count": 19,
      "outputs": [
        {
          "output_type": "stream",
          "name": "stdout",
          "text": [
            "(64, 21, 512)\n",
            "(64, 20, 512)\n"
          ]
        }
      ]
    },
    {
      "cell_type": "markdown",
      "source": [
        "\n",
        "## Self Attention Layer"
      ],
      "metadata": {
        "id": "HyiMqSKn__kH"
      }
    },
    {
      "cell_type": "code",
      "source": [
        "class BaseAttention(tf.keras.layers.Layer):\n",
        "  def __init__(self, **kwargs):\n",
        "    super().__init__()\n",
        "    self.mha = tf.keras.layers.MultiHeadAttention(**kwargs)\n",
        "    self.layernorm = tf.keras.layers.LayerNormalization()\n",
        "    self.add = tf.keras.layers.Add()\n",
        "\n",
        "class GlobalSelfAttention(BaseAttention):\n",
        "  def call(self, x):\n",
        "    attn_output = self.mha(\n",
        "        query=x,\n",
        "        value=x,\n",
        "        key=x)\n",
        "    x = self.add([x, attn_output])\n",
        "    x = self.layernorm(x)\n",
        "    return x"
      ],
      "metadata": {
        "id": "IrefrQsA_iWE",
        "execution": {
          "iopub.status.busy": "2023-10-22T04:43:22.483092Z",
          "iopub.execute_input": "2023-10-22T04:43:22.483351Z",
          "iopub.status.idle": "2023-10-22T04:43:22.490128Z",
          "shell.execute_reply.started": "2023-10-22T04:43:22.483330Z",
          "shell.execute_reply": "2023-10-22T04:43:22.489165Z"
        },
        "trusted": true
      },
      "execution_count": 20,
      "outputs": []
    },
    {
      "cell_type": "code",
      "source": [
        "sample_gsa = GlobalSelfAttention(num_heads=2, key_dim=512)\n",
        "enc_output = eng_pos(eng)\n",
        "print(enc_output.shape)\n",
        "print(sample_gsa(enc_output).shape)"
      ],
      "metadata": {
        "id": "GqqGTnJ2E9wv",
        "outputId": "af9aa6bd-8bd6-4a7b-aff5-abf265c9c13f",
        "colab": {
          "base_uri": "https://localhost:8080/"
        },
        "execution": {
          "iopub.status.busy": "2023-10-22T04:43:22.491298Z",
          "iopub.execute_input": "2023-10-22T04:43:22.491634Z",
          "iopub.status.idle": "2023-10-22T04:43:25.040081Z",
          "shell.execute_reply.started": "2023-10-22T04:43:22.491602Z",
          "shell.execute_reply": "2023-10-22T04:43:25.038858Z"
        },
        "trusted": true
      },
      "execution_count": 21,
      "outputs": [
        {
          "output_type": "stream",
          "name": "stdout",
          "text": [
            "(64, 21, 512)\n",
            "(64, 21, 512)\n"
          ]
        }
      ]
    },
    {
      "cell_type": "markdown",
      "source": [
        "## Cross Attention Layer"
      ],
      "metadata": {
        "id": "LKFWcmfmJexs"
      }
    },
    {
      "cell_type": "code",
      "source": [
        "class CrossAttention(BaseAttention):\n",
        "  def call(self, x, context):\n",
        "    attn_output, attn_scores = self.mha(\n",
        "        query=x,\n",
        "        key=context,\n",
        "        value=context,\n",
        "        return_attention_scores=True)\n",
        "    # Cache the attention scores for plotting later.\n",
        "    self.last_attn_scores = attn_scores\n",
        "    x = self.add([x, attn_output])\n",
        "    x = self.layernorm(x)\n",
        "    return x"
      ],
      "metadata": {
        "id": "XArWRqWdJh-t",
        "execution": {
          "iopub.status.busy": "2023-10-22T04:43:25.041493Z",
          "iopub.execute_input": "2023-10-22T04:43:25.041834Z",
          "iopub.status.idle": "2023-10-22T04:43:25.048186Z",
          "shell.execute_reply.started": "2023-10-22T04:43:25.041804Z",
          "shell.execute_reply": "2023-10-22T04:43:25.047063Z"
        },
        "trusted": true
      },
      "execution_count": 22,
      "outputs": []
    },
    {
      "cell_type": "code",
      "source": [
        "sample_ca = CrossAttention(num_heads=2, key_dim=512)\n",
        "emb_output_eng = eng_pos(eng)\n",
        "emb_output_hin = hin_pos(fr)\n",
        "print(emb_output_eng.shape)\n",
        "print(emb_output_hin.shape)\n",
        "print(sample_ca(emb_output_eng, emb_output_hin).shape)"
      ],
      "metadata": {
        "id": "Ge-jOyeqJfm8",
        "outputId": "58a64fe1-1345-40d3-9d59-d67f76d07fd6",
        "colab": {
          "base_uri": "https://localhost:8080/"
        },
        "execution": {
          "iopub.status.busy": "2023-10-22T04:43:25.049529Z",
          "iopub.execute_input": "2023-10-22T04:43:25.049854Z",
          "iopub.status.idle": "2023-10-22T04:43:25.108484Z",
          "shell.execute_reply.started": "2023-10-22T04:43:25.049807Z",
          "shell.execute_reply": "2023-10-22T04:43:25.107447Z"
        },
        "trusted": true
      },
      "execution_count": 23,
      "outputs": [
        {
          "output_type": "stream",
          "name": "stdout",
          "text": [
            "(64, 21, 512)\n",
            "(64, 20, 512)\n",
            "(64, 21, 512)\n"
          ]
        }
      ]
    },
    {
      "cell_type": "markdown",
      "source": [
        "## Causal Self Attention"
      ],
      "metadata": {
        "id": "tXsQFv7pKY-E"
      }
    },
    {
      "cell_type": "code",
      "source": [
        "class CausalSelfAttention(BaseAttention):\n",
        "  def call(self, x):\n",
        "    attn_output = self.mha(\n",
        "        query=x,\n",
        "        value=x,\n",
        "        key=x,\n",
        "        use_causal_mask = True)\n",
        "    x = self.add([x, attn_output])\n",
        "    x = self.layernorm(x)\n",
        "    return x"
      ],
      "metadata": {
        "id": "XegPUftHKbxO",
        "execution": {
          "iopub.status.busy": "2023-10-22T04:43:25.109673Z",
          "iopub.execute_input": "2023-10-22T04:43:25.109995Z",
          "iopub.status.idle": "2023-10-22T04:43:25.115625Z",
          "shell.execute_reply.started": "2023-10-22T04:43:25.109971Z",
          "shell.execute_reply": "2023-10-22T04:43:25.114687Z"
        },
        "trusted": true
      },
      "execution_count": 24,
      "outputs": []
    },
    {
      "cell_type": "code",
      "source": [
        "sample_csa = CausalSelfAttention(num_heads=2, key_dim=512)\n",
        "emb_output_eng = eng_pos(eng)\n",
        "print(emb_output_eng.shape)\n",
        "print(sample_csa(emb_output_eng).shape)"
      ],
      "metadata": {
        "id": "eDQnHr9sKdIV",
        "outputId": "e10b8c41-53bb-4eaf-c53f-b4a418f7aaa2",
        "colab": {
          "base_uri": "https://localhost:8080/"
        },
        "execution": {
          "iopub.status.busy": "2023-10-22T04:43:25.116939Z",
          "iopub.execute_input": "2023-10-22T04:43:25.117206Z",
          "iopub.status.idle": "2023-10-22T04:43:25.174222Z",
          "shell.execute_reply.started": "2023-10-22T04:43:25.117183Z",
          "shell.execute_reply": "2023-10-22T04:43:25.173253Z"
        },
        "trusted": true
      },
      "execution_count": 25,
      "outputs": [
        {
          "output_type": "stream",
          "name": "stdout",
          "text": [
            "(64, 21, 512)\n",
            "(64, 21, 512)\n"
          ]
        }
      ]
    },
    {
      "cell_type": "markdown",
      "source": [
        "## Feedforward Layer"
      ],
      "metadata": {
        "id": "CXsPLh9hN4xL"
      }
    },
    {
      "cell_type": "code",
      "source": [
        "class FeedForward(tf.keras.layers.Layer):\n",
        "  def __init__(self, d_model, dff, dropout_rate=0.1):\n",
        "    super().__init__()\n",
        "    self.seq = tf.keras.Sequential([\n",
        "      tf.keras.layers.Dense(dff, activation='relu'),\n",
        "      tf.keras.layers.Dense(d_model),\n",
        "      tf.keras.layers.Dropout(dropout_rate)\n",
        "    ])\n",
        "    self.add = tf.keras.layers.Add()\n",
        "    self.layer_norm = tf.keras.layers.LayerNormalization()\n",
        "\n",
        "  def call(self, x):\n",
        "    x = self.add([x, self.seq(x)])\n",
        "    x = self.layer_norm(x)\n",
        "    return x\n"
      ],
      "metadata": {
        "id": "XAmJ_GS0W3TW",
        "execution": {
          "iopub.status.busy": "2023-10-22T04:43:25.175801Z",
          "iopub.execute_input": "2023-10-22T04:43:25.176207Z",
          "iopub.status.idle": "2023-10-22T04:43:25.184325Z",
          "shell.execute_reply.started": "2023-10-22T04:43:25.176168Z",
          "shell.execute_reply": "2023-10-22T04:43:25.183350Z"
        },
        "trusted": true
      },
      "execution_count": 26,
      "outputs": []
    },
    {
      "cell_type": "code",
      "source": [
        "sample_ffn = FeedForward(512, 2048)\n",
        "print(sample_ffn(emb_output_eng).shape)"
      ],
      "metadata": {
        "id": "IA0vBi3sQLoN",
        "outputId": "d9ce1c9e-b832-4cd9-a393-b71cc89f2d7c",
        "colab": {
          "base_uri": "https://localhost:8080/"
        },
        "execution": {
          "iopub.status.busy": "2023-10-22T04:43:25.185699Z",
          "iopub.execute_input": "2023-10-22T04:43:25.186022Z",
          "iopub.status.idle": "2023-10-22T04:43:25.269065Z",
          "shell.execute_reply.started": "2023-10-22T04:43:25.185995Z",
          "shell.execute_reply": "2023-10-22T04:43:25.267963Z"
        },
        "trusted": true
      },
      "execution_count": 27,
      "outputs": [
        {
          "output_type": "stream",
          "name": "stdout",
          "text": [
            "(64, 21, 512)\n"
          ]
        }
      ]
    },
    {
      "cell_type": "markdown",
      "source": [
        "## Encoder"
      ],
      "metadata": {
        "id": "3bHMYBxqYfyX"
      }
    },
    {
      "cell_type": "code",
      "source": [
        "class EncoderLayer(tf.keras.layers.Layer):\n",
        "  def __init__(self,*, d_model, num_heads, dff, dropout_rate=0.1):\n",
        "    super().__init__()\n",
        "    self.self_attention = GlobalSelfAttention(\n",
        "        num_heads=num_heads,\n",
        "        key_dim=d_model,\n",
        "        dropout=dropout_rate)\n",
        "    self.ffn = FeedForward(d_model, dff)\n",
        "\n",
        "  def call(self, x):\n",
        "    x = self.self_attention(x)\n",
        "    x = self.ffn(x)\n",
        "    return x"
      ],
      "metadata": {
        "id": "Mv2dLw3uZ5LZ",
        "execution": {
          "iopub.status.busy": "2023-10-22T04:43:25.270227Z",
          "iopub.execute_input": "2023-10-22T04:43:25.270544Z",
          "iopub.status.idle": "2023-10-22T04:43:25.277258Z",
          "shell.execute_reply.started": "2023-10-22T04:43:25.270517Z",
          "shell.execute_reply": "2023-10-22T04:43:25.276221Z"
        },
        "trusted": true
      },
      "execution_count": 28,
      "outputs": []
    },
    {
      "cell_type": "code",
      "source": [
        "sample_encoder_layer = EncoderLayer(d_model=512, num_heads=8, dff=2048)\n",
        "print(emb_output_eng.shape)\n",
        "print(sample_encoder_layer(emb_output_eng).shape)"
      ],
      "metadata": {
        "id": "YxYYSA2uSh6n",
        "outputId": "3545bf1a-785a-4031-e265-3bcd144d3f5d",
        "colab": {
          "base_uri": "https://localhost:8080/"
        },
        "execution": {
          "iopub.status.busy": "2023-10-22T04:43:25.284773Z",
          "iopub.execute_input": "2023-10-22T04:43:25.285074Z",
          "iopub.status.idle": "2023-10-22T04:43:25.385018Z",
          "shell.execute_reply.started": "2023-10-22T04:43:25.285048Z",
          "shell.execute_reply": "2023-10-22T04:43:25.383948Z"
        },
        "trusted": true
      },
      "execution_count": 29,
      "outputs": [
        {
          "output_type": "stream",
          "name": "stdout",
          "text": [
            "(64, 21, 512)\n",
            "(64, 21, 512)\n"
          ]
        }
      ]
    },
    {
      "cell_type": "code",
      "source": [
        "class Encoder(tf.keras.layers.Layer):\n",
        "  def __init__(self, *, num_layers, d_model, num_heads,\n",
        "               dff, vocab_size, dropout_rate=0.1):\n",
        "    super().__init__()\n",
        "    self.d_model = d_model\n",
        "    self.num_layers = num_layers\n",
        "    self.pos_embedding = PositionalEmbedding(\n",
        "        vocab_size=vocab_size, d_model=d_model)\n",
        "    self.enc_layers = [\n",
        "        EncoderLayer(d_model=d_model,\n",
        "                     num_heads=num_heads,\n",
        "                     dff=dff,\n",
        "                     dropout_rate=dropout_rate)\n",
        "        for _ in range(num_layers)]\n",
        "    self.dropout = tf.keras.layers.Dropout(dropout_rate)\n",
        "\n",
        "  def call(self, x):\n",
        "    # `x` is token-IDs shape: (batch, seq_len)\n",
        "    x = self.pos_embedding(x)  # Shape `(batch_size, seq_len, d_model)`.\n",
        "    # Add dropout.\n",
        "    x = self.dropout(x)\n",
        "    for i in range(self.num_layers):\n",
        "      x = self.enc_layers[i](x)\n",
        "    return x  # Shape `(batch_size, seq_len, d_model)`."
      ],
      "metadata": {
        "id": "g2UW3YR7S0Z-",
        "execution": {
          "iopub.status.busy": "2023-10-22T04:43:25.386362Z",
          "iopub.execute_input": "2023-10-22T04:43:25.386808Z",
          "iopub.status.idle": "2023-10-22T04:43:25.396551Z",
          "shell.execute_reply.started": "2023-10-22T04:43:25.386765Z",
          "shell.execute_reply": "2023-10-22T04:43:25.394919Z"
        },
        "trusted": true
      },
      "execution_count": 30,
      "outputs": []
    },
    {
      "cell_type": "code",
      "source": [
        "# Instantiate the encoder.\n",
        "sample_encoder = Encoder(num_layers=4,\n",
        "                         d_model=512,\n",
        "                         num_heads=8,\n",
        "                         dff=2048,\n",
        "                         vocab_size=8500)\n",
        "sample_encoder_output = sample_encoder(eng, training=False)\n",
        "print(eng.shape)\n",
        "print(sample_encoder_output.shape)  # Shape `(batch_size, input_seq_len, d_model)`."
      ],
      "metadata": {
        "id": "7C_MFnxcS7gd",
        "outputId": "0f13bacd-6f13-4813-a45b-ea8d89e9f5ac",
        "colab": {
          "base_uri": "https://localhost:8080/"
        },
        "execution": {
          "iopub.status.busy": "2023-10-22T04:43:25.398120Z",
          "iopub.execute_input": "2023-10-22T04:43:25.398521Z",
          "iopub.status.idle": "2023-10-22T04:43:25.765480Z",
          "shell.execute_reply.started": "2023-10-22T04:43:25.398483Z",
          "shell.execute_reply": "2023-10-22T04:43:25.764291Z"
        },
        "trusted": true
      },
      "execution_count": 31,
      "outputs": [
        {
          "output_type": "stream",
          "name": "stdout",
          "text": [
            "(64, 21)\n",
            "(64, 21, 512)\n"
          ]
        }
      ]
    },
    {
      "cell_type": "markdown",
      "source": [
        "## Decoder"
      ],
      "metadata": {
        "id": "LJ7uvGogY2Qy"
      }
    },
    {
      "cell_type": "code",
      "source": [
        "class DecoderLayer(tf.keras.layers.Layer):\n",
        "  def __init__(self,\n",
        "               *,\n",
        "               d_model,\n",
        "               num_heads,\n",
        "               dff,\n",
        "               dropout_rate=0.1):\n",
        "    super(DecoderLayer, self).__init__()\n",
        "    self.causal_self_attention = CausalSelfAttention(\n",
        "        num_heads=num_heads,\n",
        "        key_dim=d_model,\n",
        "        dropout=dropout_rate)\n",
        "    self.cross_attention = CrossAttention(\n",
        "        num_heads=num_heads,\n",
        "        key_dim=d_model,\n",
        "        dropout=dropout_rate)\n",
        "    self.ffn = FeedForward(d_model, dff)\n",
        "\n",
        "  def call(self, x, context):\n",
        "    x = self.causal_self_attention(x=x)\n",
        "    x = self.cross_attention(x=x, context=context)\n",
        "    # Cache the last attention scores for plotting later\n",
        "    self.last_attn_scores = self.cross_attention.last_attn_scores\n",
        "    x = self.ffn(x)  # Shape `(batch_size, seq_len, d_model)`.\n",
        "    return x"
      ],
      "metadata": {
        "id": "Y6QcpGeXcvsD",
        "execution": {
          "iopub.status.busy": "2023-10-22T04:43:25.766759Z",
          "iopub.execute_input": "2023-10-22T04:43:25.767057Z",
          "iopub.status.idle": "2023-10-22T04:43:25.775392Z",
          "shell.execute_reply.started": "2023-10-22T04:43:25.767032Z",
          "shell.execute_reply": "2023-10-22T04:43:25.774158Z"
        },
        "trusted": true
      },
      "execution_count": 32,
      "outputs": []
    },
    {
      "cell_type": "code",
      "source": [
        "sample_decoder_layer = DecoderLayer(d_model=512, num_heads=8, dff=2048)\n",
        "sample_decoder_layer_output = sample_decoder_layer(x=emb_output_hin, context=emb_output_eng)\n",
        "\n",
        "print(emb_output_eng.shape)\n",
        "print(emb_output_hin.shape)\n",
        "print(sample_decoder_layer_output.shape)  # `(batch_size, seq_len, d_model)`"
      ],
      "metadata": {
        "id": "4vMPtYcsT5ux",
        "outputId": "c12e3535-a17e-4eb6-ba32-f0478075b150",
        "colab": {
          "base_uri": "https://localhost:8080/"
        },
        "execution": {
          "iopub.status.busy": "2023-10-22T04:43:25.776665Z",
          "iopub.execute_input": "2023-10-22T04:43:25.777006Z",
          "iopub.status.idle": "2023-10-22T04:43:25.907482Z",
          "shell.execute_reply.started": "2023-10-22T04:43:25.776968Z",
          "shell.execute_reply": "2023-10-22T04:43:25.906472Z"
        },
        "trusted": true
      },
      "execution_count": 33,
      "outputs": [
        {
          "output_type": "stream",
          "name": "stdout",
          "text": [
            "(64, 21, 512)\n",
            "(64, 20, 512)\n",
            "(64, 20, 512)\n"
          ]
        }
      ]
    },
    {
      "cell_type": "code",
      "source": [
        "class Decoder(tf.keras.layers.Layer):\n",
        "  def __init__(self, *, num_layers, d_model, num_heads, dff, vocab_size,\n",
        "               dropout_rate=0.1):\n",
        "    super(Decoder, self).__init__()\n",
        "    self.d_model = d_model\n",
        "    self.num_layers = num_layers\n",
        "    self.pos_embedding = PositionalEmbedding(vocab_size=vocab_size,\n",
        "                                             d_model=d_model)\n",
        "    self.dropout = tf.keras.layers.Dropout(dropout_rate)\n",
        "    self.dec_layers = [\n",
        "        DecoderLayer(d_model=d_model, num_heads=num_heads,\n",
        "                     dff=dff, dropout_rate=dropout_rate)\n",
        "        for _ in range(num_layers)]\n",
        "    self.last_attn_scores = None\n",
        "\n",
        "  def call(self, x, context):\n",
        "    # `x` is token-IDs shape (batch, target_seq_len)\n",
        "    x = self.pos_embedding(x)  # (batch_size, target_seq_len, d_model)\n",
        "    x = self.dropout(x)\n",
        "    for i in range(self.num_layers):\n",
        "      x  = self.dec_layers[i](x, context)\n",
        "    self.last_attn_scores = self.dec_layers[-1].last_attn_scores\n",
        "    # The shape of x is (batch_size, target_seq_len, d_model).\n",
        "    return x"
      ],
      "metadata": {
        "id": "huNZYkKMUeS0",
        "execution": {
          "iopub.status.busy": "2023-10-22T04:43:25.909208Z",
          "iopub.execute_input": "2023-10-22T04:43:25.909632Z",
          "iopub.status.idle": "2023-10-22T04:43:25.918906Z",
          "shell.execute_reply.started": "2023-10-22T04:43:25.909595Z",
          "shell.execute_reply": "2023-10-22T04:43:25.917903Z"
        },
        "trusted": true
      },
      "execution_count": 34,
      "outputs": []
    },
    {
      "cell_type": "code",
      "source": [
        "# Instantiate the decoder.\n",
        "sample_decoder = Decoder(num_layers=4,\n",
        "                         d_model=512,\n",
        "                         num_heads=8,\n",
        "                         dff=2048,\n",
        "                         vocab_size=8000)\n",
        "output = sample_decoder(x=fr,context=emb_output_eng)\n",
        "# Print the shapes.\n",
        "print(fr.shape)\n",
        "print(emb_output_hin.shape)\n",
        "print(output.shape)"
      ],
      "metadata": {
        "id": "83Vikt41UhQD",
        "outputId": "471cbd81-c00c-40d6-8eda-56d7977986aa",
        "colab": {
          "base_uri": "https://localhost:8080/"
        },
        "execution": {
          "iopub.status.busy": "2023-10-22T04:43:25.920026Z",
          "iopub.execute_input": "2023-10-22T04:43:25.920313Z",
          "iopub.status.idle": "2023-10-22T04:43:26.598556Z",
          "shell.execute_reply.started": "2023-10-22T04:43:25.920287Z",
          "shell.execute_reply": "2023-10-22T04:43:26.597457Z"
        },
        "trusted": true
      },
      "execution_count": 35,
      "outputs": [
        {
          "output_type": "stream",
          "name": "stdout",
          "text": [
            "(64, 20)\n",
            "(64, 20, 512)\n",
            "(64, 20, 512)\n"
          ]
        }
      ]
    },
    {
      "cell_type": "code",
      "source": [
        "sample_decoder.last_attn_scores.shape"
      ],
      "metadata": {
        "id": "e1VgXYNQVMOH",
        "outputId": "6a882a3f-ef6b-4cda-cd32-fe2fa0ce8fec",
        "colab": {
          "base_uri": "https://localhost:8080/"
        },
        "execution": {
          "iopub.status.busy": "2023-10-22T04:43:26.600061Z",
          "iopub.execute_input": "2023-10-22T04:43:26.600462Z",
          "iopub.status.idle": "2023-10-22T04:43:26.607256Z",
          "shell.execute_reply.started": "2023-10-22T04:43:26.600427Z",
          "shell.execute_reply": "2023-10-22T04:43:26.606238Z"
        },
        "trusted": true
      },
      "execution_count": 36,
      "outputs": [
        {
          "output_type": "execute_result",
          "data": {
            "text/plain": [
              "TensorShape([64, 8, 20, 21])"
            ]
          },
          "metadata": {},
          "execution_count": 36
        }
      ]
    },
    {
      "cell_type": "markdown",
      "source": [
        "## Transformer Model"
      ],
      "metadata": {
        "id": "CRbKuSF8bRIv"
      }
    },
    {
      "cell_type": "code",
      "source": [
        "class Transformer(tf.keras.Model):\n",
        "  def __init__(self, *, num_layers, d_model, num_heads, dff,\n",
        "               input_vocab_size, target_vocab_size, dropout_rate=0.1):\n",
        "    super().__init__()\n",
        "    self.encoder = Encoder(num_layers=num_layers, d_model=d_model,\n",
        "                           num_heads=num_heads, dff=dff,\n",
        "                           vocab_size=input_vocab_size,\n",
        "                           dropout_rate=dropout_rate)\n",
        "\n",
        "    self.decoder = Decoder(num_layers=num_layers, d_model=d_model,\n",
        "                           num_heads=num_heads, dff=dff,\n",
        "                           vocab_size=target_vocab_size,\n",
        "                           dropout_rate=dropout_rate)\n",
        "\n",
        "    self.final_layer = tf.keras.layers.Dense(target_vocab_size)\n",
        "\n",
        "  def call(self, inputs):\n",
        "    # To use a Keras model with `.fit` you must pass all your inputs in the\n",
        "    # first argument.\n",
        "    context, x  = inputs\n",
        "    context = self.encoder(context)  # (batch_size, context_len, d_model)\n",
        "    x = self.decoder(x, context)  # (batch_size, target_len, d_model)\n",
        "    # Final linear layer output.\n",
        "    logits = self.final_layer(x)  # (batch_size, target_len, target_vocab_size)\n",
        "    try:\n",
        "      # Drop the keras mask, so it doesn't scale the losses/metrics.\n",
        "      # b/250038731\n",
        "      del logits._keras_mask\n",
        "    except AttributeError:\n",
        "      pass\n",
        "\n",
        "    # Return the final output and the attention weights.\n",
        "    return logits"
      ],
      "metadata": {
        "id": "f2LpORoYtQJE",
        "execution": {
          "iopub.status.busy": "2023-10-22T04:43:26.608782Z",
          "iopub.execute_input": "2023-10-22T04:43:26.609229Z",
          "iopub.status.idle": "2023-10-22T04:43:26.618875Z",
          "shell.execute_reply.started": "2023-10-22T04:43:26.609201Z",
          "shell.execute_reply": "2023-10-22T04:43:26.617728Z"
        },
        "trusted": true
      },
      "execution_count": 37,
      "outputs": []
    },
    {
      "cell_type": "markdown",
      "source": [
        "## Training Utilities"
      ],
      "metadata": {
        "id": "sHEBhPdXibco"
      }
    },
    {
      "cell_type": "code",
      "source": [
        "class CustomSchedule(tf.keras.optimizers.schedules.LearningRateSchedule):\n",
        "  def __init__(self, key_dim, warmup_steps=4000):\n",
        "    super().__init__()\n",
        "    self.key_dim=key_dim\n",
        "    self.warmup_steps=warmup_steps\n",
        "    self.d=tf.cast(self.key_dim, tf.float32)\n",
        "\n",
        "  def __call__(self, step):\n",
        "    step = tf.cast(step, tf.float32)\n",
        "    arg1 = tf.math.rsqrt(step)\n",
        "    arg2 = step * (self.warmup_steps ** -1.5)\n",
        "    return tf.math.rsqrt(self.d) * tf.math.minimum(arg1, arg2)\n",
        "\n",
        "  def get_config(self):\n",
        "    config = {\n",
        "        \"key_dim\": self.key_dim,\n",
        "        \"warmup_steps\": self.warmup_steps\n",
        "    }\n",
        "    return config\n",
        "\n",
        "key_dim = 512\n",
        "lr = CustomSchedule(key_dim)\n",
        "optimizer = tf.keras.optimizers.Adam(lr, beta_1=0.9, beta_2=0.98, epsilon=1e-9)\n",
        "plt.plot(lr(tf.range(50000, dtype=tf.float32)))\n",
        "plt.ylabel('Learning Rate')\n",
        "plt.xlabel('Train Step')\n",
        "plt.show()"
      ],
      "metadata": {
        "colab": {
          "base_uri": "https://localhost:8080/",
          "height": 449
        },
        "id": "LpJUx205idZx",
        "outputId": "b55ba7b9-3057-4aef-d12d-0dc41f29d56c",
        "execution": {
          "iopub.status.busy": "2023-10-22T04:43:26.620271Z",
          "iopub.execute_input": "2023-10-22T04:43:26.620641Z",
          "iopub.status.idle": "2023-10-22T04:43:26.930907Z",
          "shell.execute_reply.started": "2023-10-22T04:43:26.620614Z",
          "shell.execute_reply": "2023-10-22T04:43:26.929922Z"
        },
        "trusted": true
      },
      "execution_count": 38,
      "outputs": [
        {
          "output_type": "display_data",
          "data": {
            "text/plain": [
              "<Figure size 640x480 with 1 Axes>"
            ],
            "image/png": "[encoded data removed]"
          },
          "metadata": {}
        }
      ]
    },
    {
      "cell_type": "code",
      "source": [
        "def masked_loss(label, pred):\n",
        "  mask = label != 0\n",
        "  loss_object = tf.keras.losses.SparseCategoricalCrossentropy(from_logits=True, reduction='none')\n",
        "  loss = loss_object(label, pred)\n",
        "  mask = tf.cast(mask, dtype=loss.dtype)\n",
        "  loss *= mask\n",
        "  loss = tf.reduce_sum(loss)/tf.reduce_sum(mask)\n",
        "  return loss\n",
        "\n",
        "def masked_accuracy(label, pred):\n",
        "  pred = tf.argmax(pred, axis=2)\n",
        "  label = tf.cast(label, dtype=pred.dtype)\n",
        "  match = pred==label\n",
        "  mask = label !=0\n",
        "  match = match & mask\n",
        "  match = tf.cast(match, dtype=tf.float32)\n",
        "  mask = tf.cast(mask, dtype=tf.float32)\n",
        "  return tf.reduce_sum(match) / tf.reduce_sum(mask)\n"
      ],
      "metadata": {
        "id": "t0qrwEIX14E8",
        "execution": {
          "iopub.status.busy": "2023-10-22T04:43:26.932256Z",
          "iopub.execute_input": "2023-10-22T04:43:26.932649Z",
          "iopub.status.idle": "2023-10-22T04:43:26.940582Z",
          "shell.execute_reply.started": "2023-10-22T04:43:26.932614Z",
          "shell.execute_reply": "2023-10-22T04:43:26.939591Z"
        },
        "trusted": true
      },
      "execution_count": 39,
      "outputs": []
    },
    {
      "cell_type": "markdown",
      "source": [
        "## Final Model"
      ],
      "metadata": {
        "id": "YUwhaPsp3Qur"
      }
    },
    {
      "cell_type": "code",
      "source": [
        "# Parameters\n",
        "n_sentences = None\n",
        "dataset = PrepareDataset(n_sentences=n_sentences, max_seq_length=20)\n",
        "train_ds, val_ds, eng_vec, hin_vec, train_pairs, test_pairs, val_pairs = dataset(\"text_pairs.pickle\")\n",
        "num_layers = 4\n",
        "d_model = 512\n",
        "dff = 512\n",
        "num_heads = 8\n",
        "dropout_rate = 0.1\n",
        "vocab_size_en = len(eng_vec.get_vocabulary())\n",
        "vocab_size_hn = len(hin_vec.get_vocabulary())\n",
        "print(f\"English vocab size: {vocab_size_en}\")\n",
        "print(f\"Hindi vocab size: {vocab_size_hn}\")"
      ],
      "metadata": {
        "id": "AvEUKOmqfx4y",
        "outputId": "9f882b07-c5bb-44f8-ef87-dca5eb0b3463",
        "colab": {
          "base_uri": "https://localhost:8080/"
        },
        "execution": {
          "iopub.status.busy": "2023-10-22T04:43:26.941902Z",
          "iopub.execute_input": "2023-10-22T04:43:26.942239Z",
          "iopub.status.idle": "2023-10-22T04:43:37.961616Z",
          "shell.execute_reply.started": "2023-10-22T04:43:26.942213Z",
          "shell.execute_reply": "2023-10-22T04:43:37.960551Z"
        },
        "trusted": true
      },
      "execution_count": 40,
      "outputs": [
        {
          "output_type": "stream",
          "name": "stdout",
          "text": [
            "English vocab size: 10000\n",
            "Hindi vocab size: 15000\n"
          ]
        }
      ]
    },
    {
      "cell_type": "code",
      "source": [
        "model = Transformer(\n",
        "    num_layers=num_layers,\n",
        "    d_model=d_model,\n",
        "    num_heads=num_heads,\n",
        "    dff=dff,\n",
        "    input_vocab_size=vocab_size_en,\n",
        "    target_vocab_size=vocab_size_hn,\n",
        "    dropout_rate=dropout_rate)\n",
        "lr = CustomSchedule(512)\n",
        "optimizer = tf.keras.optimizers.Adam(lr, beta_1=0.9, beta_2=0.98, epsilon=1e-9)\n",
        "model.compile(loss=masked_loss, optimizer=optimizer, metrics=[masked_accuracy])\n"
      ],
      "metadata": {
        "id": "2p2LASBd5SYN",
        "execution": {
          "iopub.status.busy": "2023-10-22T04:43:37.963032Z",
          "iopub.execute_input": "2023-10-22T04:43:37.963351Z",
          "iopub.status.idle": "2023-10-22T04:43:38.131246Z",
          "shell.execute_reply.started": "2023-10-22T04:43:37.963324Z",
          "shell.execute_reply": "2023-10-22T04:43:38.130301Z"
        },
        "trusted": true
      },
      "execution_count": 41,
      "outputs": []
    },
    {
      "cell_type": "markdown",
      "source": [
        "## Training"
      ],
      "metadata": {
        "id": "Iw0Z-2Us3vGw"
      }
    },
    {
      "cell_type": "code",
      "source": [
        "# Testing the output shapes\n",
        "for (eng, hr), hn_labels in train_ds.take(1):\n",
        "  break\n",
        "output = model((eng, fr))\n",
        "print(output.shape)"
      ],
      "metadata": {
        "id": "1M4-8S00ehVT",
        "outputId": "8ba729b7-c293-4516-d577-e05f1c09780c",
        "colab": {
          "base_uri": "https://localhost:8080/"
        },
        "execution": {
          "iopub.status.busy": "2023-10-22T04:43:38.132660Z",
          "iopub.execute_input": "2023-10-22T04:43:38.133034Z",
          "iopub.status.idle": "2023-10-22T04:43:38.873984Z",
          "shell.execute_reply.started": "2023-10-22T04:43:38.132999Z",
          "shell.execute_reply": "2023-10-22T04:43:38.873005Z"
        },
        "trusted": true
      },
      "execution_count": 42,
      "outputs": [
        {
          "output_type": "stream",
          "name": "stdout",
          "text": [
            "(64, 20, 15000)\n"
          ]
        }
      ]
    },
    {
      "cell_type": "code",
      "source": [
        "epochs = 30\n",
        "history = model.fit(train_ds, epochs=epochs, validation_data=val_ds)\n",
        "\n",
        "# Plot the loss and accuracy history\n",
        "fig, axs = plt.subplots(2, figsize=(6, 8), sharex=True)\n",
        "fig.suptitle('Traininig history')\n",
        "x = list(range(1, epochs+1))\n",
        "axs[0].plot(x, history.history[\"loss\"], alpha=0.5, label=\"loss\")\n",
        "axs[0].plot(x, history.history[\"val_loss\"], alpha=0.5, label=\"val_loss\")\n",
        "axs[0].set_ylabel(\"Loss\")\n",
        "axs[0].legend(loc=\"upper right\")\n",
        "axs[1].plot(x, history.history[\"masked_accuracy\"], alpha=0.5, label=\"acc\")\n",
        "axs[1].plot(x, history.history[\"val_masked_accuracy\"], alpha=0.5, label=\"val_acc\")\n",
        "axs[1].set_ylabel(\"Accuracy\")\n",
        "axs[1].set_xlabel(\"epoch\")\n",
        "axs[1].legend(loc=\"lower right\")\n",
        "plt.show()"
      ],
      "metadata": {
        "colab": {
          "base_uri": "https://localhost:8080/"
        },
        "id": "7MrIMDm34B7c",
        "outputId": "2327ef71-98de-4609-caa7-5ca5e4e0e27b",
        "execution": {
          "iopub.status.busy": "2023-10-22T04:43:38.875671Z",
          "iopub.execute_input": "2023-10-22T04:43:38.876041Z"
        },
        "trusted": true
      },
      "execution_count": null,
      "outputs": [
        {
          "output_type": "stream",
          "name": "stdout",
          "text": [
            "Epoch 1/30\n",
            "1303/1303 [==============================] - 551s 401ms/step - loss: 6.1095 - masked_accuracy: 0.1968 - val_loss: 4.7835 - val_masked_accuracy: 0.2848\n",
            "Epoch 2/30\n",
            "1303/1303 [==============================] - ETA: 0s - loss: 4.6025 - masked_accuracy: 0.2977"
          ]
        }
      ]
    },
    {
      "cell_type": "code",
      "source": [
        "# training parameters used\n",
        "seq_len = 20\n",
        "def translate(sentence):\n",
        "    \"\"\"Create the translated sentence\"\"\"\n",
        "    enc_tokens = eng_vec([sentence])\n",
        "    lookup = list(hin_vec.get_vocabulary())\n",
        "    start_sentinel, end_sentinel = \"[start]\", \"[end]\"\n",
        "    output_sentence = [start_sentinel]\n",
        "    # generate the translated sentence word by word\n",
        "    for i in range(seq_len):\n",
        "        vector = hin_vec([\" \".join(output_sentence)])\n",
        "        dec_tokens = vector[:, :-1]\n",
        "        pred = model([enc_tokens, dec_tokens])\n",
        "        word = lookup[np.argmax(pred[0, i, :])]\n",
        "        output_sentence.append(word)\n",
        "        if word == end_sentinel:\n",
        "            break\n",
        "    return output_sentence\n",
        "\n",
        "test_count = 5\n",
        "for n in range(test_count):\n",
        "    english_sentence, Hindi_sentence = random.choice(train_pairs)\n",
        "    translated = translate(english_sentence)\n",
        "    print(f\"Test {n}:\")\n",
        "    print(f\"{english_sentence}\")\n",
        "    print(f\"== {Hindi_sentence}\")\n",
        "    print(f\"-> {' '.join(translated)}\")\n",
        "    print()"
      ],
      "metadata": {
        "id": "MQgnnk9NSZTQ",
        "trusted": true
      },
      "execution_count": null,
      "outputs": []
    },
    {
      "cell_type": "code",
      "source": [],
      "metadata": {
        "id": "pnOY3YaFuykv"
      },
      "execution_count": null,
      "outputs": []
    }
  ]
}