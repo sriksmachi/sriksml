{
  "metadata": {
    "colab": {
      "provenance": [],
      "toc_visible": true,
      "machine_shape": "hm",
      "gpuType": "T4",
      "include_colab_link": true
    },
    "kernelspec": {
      "name": "python3",
      "display_name": "Python 3"
    },
    "language_info": {
      "name": "python",
      "version": "3.10.12",
      "mimetype": "text/x-python",
      "codemirror_mode": {
        "name": "ipython",
        "version": 3
      },
      "pygments_lexer": "ipython3",
      "nbconvert_exporter": "python",
      "file_extension": ".py"
    },
    "accelerator": "GPU"
  },
  "nbformat_minor": 0,
  "nbformat": 4,
  "cells": [
    {
      "cell_type": "markdown",
      "metadata": {
        "id": "view-in-github",
        "colab_type": "text"
      },
      "source": [
        "<a href=\"https://colab.research.google.com/github/sriksmachi/sriksml/blob/main/genai/transformers_101_nmt_eng_hin.ipynb\" target=\"_parent\"><img src=\"https://colab.research.google.com/assets/colab-badge.svg\" alt=\"Open In Colab\"/></a>"
      ]
    },
    {
      "cell_type": "markdown",
      "source": [
        "## Transformers 101.\n",
        "\n",
        "In this notebook we will create a transformer model using multi-headed attention for neural machine translation task.\n",
        "\n",
        "A little bit about transformers, before we get started.\n",
        "RNNs were traditionally used for modelling seq2seq tasks, however they fail when the length of the sequence of input increases. The attention mechanism was introduced with idea to identify the relative weights of each words with respect to the other words so that the model can learn selectively.\n",
        "\n",
        "Attention technique used with RNNs help learn hidden state for each word so that it is easy to pay more attention or discard words rather than learning the hidden state for the entire sentence. However this does not solve 3 problems\n",
        "\n",
        "1.   The entire process is still sequential, it cannot be parallelized\n",
        "2.   For a large sentence the time taken for translating the sentence to encodings is large.\n",
        "\n",
        "Transformers introduced a completely new concept, with some learnings from how CNNs learn embeddings in parallel. Transformers use encoder, decoder architecture to learn attention weights in parallel and they can be used for a variety of tasks like neural language translation, question answering, next word prediction etc.\n",
        "\n",
        "Complete understanding of how transformers work is not explained in this notebook but you may refer to the following blogs for better understanding.\n",
        "- https://jalammar.github.io/illustrated-transformer/\n",
        "- https://mchromiak.github.io/articles/2017/Sep/12/Transformer-Attention-is-all-you-need/#.XIWlzBNKjOR\n",
        "\n",
        "This notebook builds a transformer model following the explanation from the original paper (https://arxiv.org/pdf/1706.03762.pdf). The implementation is taken from articles published at https://machinelearningmastery.com/building-transformer-models-with-attention-crash-course-build-a-neural-machine-translator-in-12-days/.\n",
        "\n"
      ],
      "metadata": {
        "id": "XQ9FiUiN6slr"
      }
    },
    {
      "cell_type": "code",
      "source": [
        "## Importing required libraries\n",
        "\n",
        "import tensorflow as tf\n",
        "from tensorflow import matmul, cast, float32,sqrt, math, transpose\n",
        "from tensorflow import convert_to_tensor, string\n",
        "from keras.backend import softmax\n",
        "from numpy import random\n",
        "from tensorflow.keras.layers import TextVectorization, Embedding, Layer, Dropout, Input\n",
        "from tensorflow.keras import Model\n",
        "from tensorflow.data import Dataset\n",
        "import numpy as np\n",
        "import matplotlib.pyplot as plt\n",
        "import pathlib\n",
        "import pickle\n",
        "import random\n",
        "import re\n",
        "import tqdm\n",
        "import unicodedata\n",
        "import tensorflow as tf\n",
        "from tensorflow import convert_to_tensor, int64\n",
        "from pickle import load\n",
        "from numpy.random import shuffle\n",
        "import pandas as pd"
      ],
      "metadata": {
        "id": "_fGjw2YZ_BLF",
        "execution": {
          "iopub.status.busy": "2023-10-22T04:42:40.524538Z",
          "iopub.execute_input": "2023-10-22T04:42:40.524883Z",
          "iopub.status.idle": "2023-10-22T04:42:49.170759Z",
          "shell.execute_reply.started": "2023-10-22T04:42:40.524856Z",
          "shell.execute_reply": "2023-10-22T04:42:49.169842Z"
        },
        "trusted": true
      },
      "execution_count": 1,
      "outputs": []
    },
    {
      "cell_type": "markdown",
      "source": [
        "## Transformers Architecture.\n",
        "\n",
        "Image Source :  https://arxiv.org/pdf/1706.03762.pdf"
      ],
      "metadata": {
        "id": "ig9WSiTY2yc0"
      }
    },
    {
      "cell_type": "markdown",
      "source": [
        "We will use the bottom-up approach, i.e. build the transformer from the bottom most layer and then walk upwards. This notebook builds each layer as a separate model so that they can be plugged into a full fledged model."
      ],
      "metadata": {
        "id": "lVEmW-et8LmZ"
      }
    },
    {
      "cell_type": "markdown",
      "source": [
        "## Download and Preprocess"
      ],
      "metadata": {
        "id": "ZSO1L1TzKjUy"
      }
    },
    {
      "cell_type": "code",
      "source": [
        "!gdown 1vyR40sftEJ1Jexoat17JzzB2cdcMVI0T"
      ],
      "metadata": {
        "colab": {
          "base_uri": "https://localhost:8080/"
        },
        "id": "sQRP4wpuuIS_",
        "outputId": "bcdcdb57-9e27-407d-b6c7-2dde5c4acf0b"
      },
      "execution_count": 2,
      "outputs": [
        {
          "output_type": "stream",
          "name": "stdout",
          "text": [
            "Downloading...\n",
            "From: https://drive.google.com/uc?id=1vyR40sftEJ1Jexoat17JzzB2cdcMVI0T\n",
            "To: /content/Hindi_English_Truncated_Corpus.csv\n",
            "100% 41.4M/41.4M [00:00<00:00, 107MB/s] \n"
          ]
        }
      ]
    },
    {
      "cell_type": "code",
      "source": [
        "ds = pd.read_csv('/content/Hindi_English_Truncated_Corpus.csv')\n",
        "print(f'Total number of examples = {len(ds)}')\n",
        "ds.head()"
      ],
      "metadata": {
        "execution": {
          "iopub.status.busy": "2023-10-22T04:42:49.172324Z",
          "iopub.execute_input": "2023-10-22T04:42:49.172859Z",
          "iopub.status.idle": "2023-10-22T04:42:50.979430Z",
          "shell.execute_reply.started": "2023-10-22T04:42:49.172818Z",
          "shell.execute_reply": "2023-10-22T04:42:50.978266Z"
        },
        "trusted": true,
        "id": "L6LNUZqOtqn5",
        "colab": {
          "base_uri": "https://localhost:8080/",
          "height": 225
        },
        "outputId": "c48f499d-6c3a-4d0b-a47f-9a2990a5cb50"
      },
      "execution_count": 3,
      "outputs": [
        {
          "output_type": "stream",
          "name": "stdout",
          "text": [
            "Total number of examples = 127607\n"
          ]
        },
        {
          "output_type": "execute_result",
          "data": {
            "text/plain": [
              "      source                                   english_sentence  \\\n",
              "0        ted  politicians do not have permission to do what ...   \n",
              "1        ted         I'd like to tell you about one such child,   \n",
              "2  indic2012  This percentage is even greater than the perce...   \n",
              "3        ted  what we really mean is that they're bad at not...   \n",
              "4  indic2012  .The ending portion of these Vedas is called U...   \n",
              "\n",
              "                                      hindi_sentence  \n",
              "0  राजनीतिज्ञों के पास जो कार्य करना चाहिए, वह कर...  \n",
              "1  मई आपको ऐसे ही एक बच्चे के बारे में बताना चाहू...  \n",
              "2   यह प्रतिशत भारत में हिन्दुओं प्रतिशत से अधिक है।  \n",
              "3     हम ये नहीं कहना चाहते कि वो ध्यान नहीं दे पाते  \n",
              "4        इन्हीं वेदों का अंतिम भाग उपनिषद कहलाता है।  "
            ],
            "text/html": [
              "\n",
              "  <div id=\"df-01f7dec7-944d-4c79-b690-4fac69ecee56\" class=\"colab-df-container\">\n",
              "    <div>\n",
              "<style scoped>\n",
              "    .dataframe tbody tr th:only-of-type {\n",
              "        vertical-align: middle;\n",
              "    }\n",
              "\n",
              "    .dataframe tbody tr th {\n",
              "        vertical-align: top;\n",
              "    }\n",
              "\n",
              "    .dataframe thead th {\n",
              "        text-align: right;\n",
              "    }\n",
              "</style>\n",
              "<table border=\"1\" class=\"dataframe\">\n",
              "  <thead>\n",
              "    <tr style=\"text-align: right;\">\n",
              "      <th></th>\n",
              "      <th>source</th>\n",
              "      <th>english_sentence</th>\n",
              "      <th>hindi_sentence</th>\n",
              "    </tr>\n",
              "  </thead>\n",
              "  <tbody>\n",
              "    <tr>\n",
              "      <th>0</th>\n",
              "      <td>ted</td>\n",
              "      <td>politicians do not have permission to do what ...</td>\n",
              "      <td>राजनीतिज्ञों के पास जो कार्य करना चाहिए, वह कर...</td>\n",
              "    </tr>\n",
              "    <tr>\n",
              "      <th>1</th>\n",
              "      <td>ted</td>\n",
              "      <td>I'd like to tell you about one such child,</td>\n",
              "      <td>मई आपको ऐसे ही एक बच्चे के बारे में बताना चाहू...</td>\n",
              "    </tr>\n",
              "    <tr>\n",
              "      <th>2</th>\n",
              "      <td>indic2012</td>\n",
              "      <td>This percentage is even greater than the perce...</td>\n",
              "      <td>यह प्रतिशत भारत में हिन्दुओं प्रतिशत से अधिक है।</td>\n",
              "    </tr>\n",
              "    <tr>\n",
              "      <th>3</th>\n",
              "      <td>ted</td>\n",
              "      <td>what we really mean is that they're bad at not...</td>\n",
              "      <td>हम ये नहीं कहना चाहते कि वो ध्यान नहीं दे पाते</td>\n",
              "    </tr>\n",
              "    <tr>\n",
              "      <th>4</th>\n",
              "      <td>indic2012</td>\n",
              "      <td>.The ending portion of these Vedas is called U...</td>\n",
              "      <td>इन्हीं वेदों का अंतिम भाग उपनिषद कहलाता है।</td>\n",
              "    </tr>\n",
              "  </tbody>\n",
              "</table>\n",
              "</div>\n",
              "    <div class=\"colab-df-buttons\">\n",
              "\n",
              "  <div class=\"colab-df-container\">\n",
              "    <button class=\"colab-df-convert\" onclick=\"convertToInteractive('df-01f7dec7-944d-4c79-b690-4fac69ecee56')\"\n",
              "            title=\"Convert this dataframe to an interactive table.\"\n",
              "            style=\"display:none;\">\n",
              "\n",
              "  <svg xmlns=\"http://www.w3.org/2000/svg\" height=\"24px\" viewBox=\"0 -960 960 960\">\n",
              "    <path d=\"M120-120v-720h720v720H120Zm60-500h600v-160H180v160Zm220 220h160v-160H400v160Zm0 220h160v-160H400v160ZM180-400h160v-160H180v160Zm440 0h160v-160H620v160ZM180-180h160v-160H180v160Zm440 0h160v-160H620v160Z\"/>\n",
              "  </svg>\n",
              "    </button>\n",
              "\n",
              "  <style>\n",
              "    .colab-df-container {\n",
              "      display:flex;\n",
              "      gap: 12px;\n",
              "    }\n",
              "\n",
              "    .colab-df-convert {\n",
              "      background-color: #E8F0FE;\n",
              "      border: none;\n",
              "      border-radius: 50%;\n",
              "      cursor: pointer;\n",
              "      display: none;\n",
              "      fill: #1967D2;\n",
              "      height: 32px;\n",
              "      padding: 0 0 0 0;\n",
              "      width: 32px;\n",
              "    }\n",
              "\n",
              "    .colab-df-convert:hover {\n",
              "      background-color: #E2EBFA;\n",
              "      box-shadow: 0px 1px 2px rgba(60, 64, 67, 0.3), 0px 1px 3px 1px rgba(60, 64, 67, 0.15);\n",
              "      fill: #174EA6;\n",
              "    }\n",
              "\n",
              "    .colab-df-buttons div {\n",
              "      margin-bottom: 4px;\n",
              "    }\n",
              "\n",
              "    [theme=dark] .colab-df-convert {\n",
              "      background-color: #3B4455;\n",
              "      fill: #D2E3FC;\n",
              "    }\n",
              "\n",
              "    [theme=dark] .colab-df-convert:hover {\n",
              "      background-color: #434B5C;\n",
              "      box-shadow: 0px 1px 3px 1px rgba(0, 0, 0, 0.15);\n",
              "      filter: drop-shadow(0px 1px 2px rgba(0, 0, 0, 0.3));\n",
              "      fill: #FFFFFF;\n",
              "    }\n",
              "  </style>\n",
              "\n",
              "    <script>\n",
              "      const buttonEl =\n",
              "        document.querySelector('#df-01f7dec7-944d-4c79-b690-4fac69ecee56 button.colab-df-convert');\n",
              "      buttonEl.style.display =\n",
              "        google.colab.kernel.accessAllowed ? 'block' : 'none';\n",
              "\n",
              "      async function convertToInteractive(key) {\n",
              "        const element = document.querySelector('#df-01f7dec7-944d-4c79-b690-4fac69ecee56');\n",
              "        const dataTable =\n",
              "          await google.colab.kernel.invokeFunction('convertToInteractive',\n",
              "                                                    [key], {});\n",
              "        if (!dataTable) return;\n",
              "\n",
              "        const docLinkHtml = 'Like what you see? Visit the ' +\n",
              "          '<a target=\"_blank\" href=https://colab.research.google.com/notebooks/data_table.ipynb>data table notebook</a>'\n",
              "          + ' to learn more about interactive tables.';\n",
              "        element.innerHTML = '';\n",
              "        dataTable['output_type'] = 'display_data';\n",
              "        await google.colab.output.renderOutput(dataTable, element);\n",
              "        const docLink = document.createElement('div');\n",
              "        docLink.innerHTML = docLinkHtml;\n",
              "        element.appendChild(docLink);\n",
              "      }\n",
              "    </script>\n",
              "  </div>\n",
              "\n",
              "\n",
              "<div id=\"df-92846892-831b-418c-84d2-5dcbc4d86945\">\n",
              "  <button class=\"colab-df-quickchart\" onclick=\"quickchart('df-92846892-831b-418c-84d2-5dcbc4d86945')\"\n",
              "            title=\"Suggest charts.\"\n",
              "            style=\"display:none;\">\n",
              "\n",
              "<svg xmlns=\"http://www.w3.org/2000/svg\" height=\"24px\"viewBox=\"0 0 24 24\"\n",
              "     width=\"24px\">\n",
              "    <g>\n",
              "        <path d=\"M19 3H5c-1.1 0-2 .9-2 2v14c0 1.1.9 2 2 2h14c1.1 0 2-.9 2-2V5c0-1.1-.9-2-2-2zM9 17H7v-7h2v7zm4 0h-2V7h2v10zm4 0h-2v-4h2v4z\"/>\n",
              "    </g>\n",
              "</svg>\n",
              "  </button>\n",
              "\n",
              "<style>\n",
              "  .colab-df-quickchart {\n",
              "      --bg-color: #E8F0FE;\n",
              "      --fill-color: #1967D2;\n",
              "      --hover-bg-color: #E2EBFA;\n",
              "      --hover-fill-color: #174EA6;\n",
              "      --disabled-fill-color: #AAA;\n",
              "      --disabled-bg-color: #DDD;\n",
              "  }\n",
              "\n",
              "  [theme=dark] .colab-df-quickchart {\n",
              "      --bg-color: #3B4455;\n",
              "      --fill-color: #D2E3FC;\n",
              "      --hover-bg-color: #434B5C;\n",
              "      --hover-fill-color: #FFFFFF;\n",
              "      --disabled-bg-color: #3B4455;\n",
              "      --disabled-fill-color: #666;\n",
              "  }\n",
              "\n",
              "  .colab-df-quickchart {\n",
              "    background-color: var(--bg-color);\n",
              "    border: none;\n",
              "    border-radius: 50%;\n",
              "    cursor: pointer;\n",
              "    display: none;\n",
              "    fill: var(--fill-color);\n",
              "    height: 32px;\n",
              "    padding: 0;\n",
              "    width: 32px;\n",
              "  }\n",
              "\n",
              "  .colab-df-quickchart:hover {\n",
              "    background-color: var(--hover-bg-color);\n",
              "    box-shadow: 0 1px 2px rgba(60, 64, 67, 0.3), 0 1px 3px 1px rgba(60, 64, 67, 0.15);\n",
              "    fill: var(--button-hover-fill-color);\n",
              "  }\n",
              "\n",
              "  .colab-df-quickchart-complete:disabled,\n",
              "  .colab-df-quickchart-complete:disabled:hover {\n",
              "    background-color: var(--disabled-bg-color);\n",
              "    fill: var(--disabled-fill-color);\n",
              "    box-shadow: none;\n",
              "  }\n",
              "\n",
              "  .colab-df-spinner {\n",
              "    border: 2px solid var(--fill-color);\n",
              "    border-color: transparent;\n",
              "    border-bottom-color: var(--fill-color);\n",
              "    animation:\n",
              "      spin 1s steps(1) infinite;\n",
              "  }\n",
              "\n",
              "  @keyframes spin {\n",
              "    0% {\n",
              "      border-color: transparent;\n",
              "      border-bottom-color: var(--fill-color);\n",
              "      border-left-color: var(--fill-color);\n",
              "    }\n",
              "    20% {\n",
              "      border-color: transparent;\n",
              "      border-left-color: var(--fill-color);\n",
              "      border-top-color: var(--fill-color);\n",
              "    }\n",
              "    30% {\n",
              "      border-color: transparent;\n",
              "      border-left-color: var(--fill-color);\n",
              "      border-top-color: var(--fill-color);\n",
              "      border-right-color: var(--fill-color);\n",
              "    }\n",
              "    40% {\n",
              "      border-color: transparent;\n",
              "      border-right-color: var(--fill-color);\n",
              "      border-top-color: var(--fill-color);\n",
              "    }\n",
              "    60% {\n",
              "      border-color: transparent;\n",
              "      border-right-color: var(--fill-color);\n",
              "    }\n",
              "    80% {\n",
              "      border-color: transparent;\n",
              "      border-right-color: var(--fill-color);\n",
              "      border-bottom-color: var(--fill-color);\n",
              "    }\n",
              "    90% {\n",
              "      border-color: transparent;\n",
              "      border-bottom-color: var(--fill-color);\n",
              "    }\n",
              "  }\n",
              "</style>\n",
              "\n",
              "  <script>\n",
              "    async function quickchart(key) {\n",
              "      const quickchartButtonEl =\n",
              "        document.querySelector('#' + key + ' button');\n",
              "      quickchartButtonEl.disabled = true;  // To prevent multiple clicks.\n",
              "      quickchartButtonEl.classList.add('colab-df-spinner');\n",
              "      try {\n",
              "        const charts = await google.colab.kernel.invokeFunction(\n",
              "            'suggestCharts', [key], {});\n",
              "      } catch (error) {\n",
              "        console.error('Error during call to suggestCharts:', error);\n",
              "      }\n",
              "      quickchartButtonEl.classList.remove('colab-df-spinner');\n",
              "      quickchartButtonEl.classList.add('colab-df-quickchart-complete');\n",
              "    }\n",
              "    (() => {\n",
              "      let quickchartButtonEl =\n",
              "        document.querySelector('#df-92846892-831b-418c-84d2-5dcbc4d86945 button');\n",
              "      quickchartButtonEl.style.display =\n",
              "        google.colab.kernel.accessAllowed ? 'block' : 'none';\n",
              "    })();\n",
              "  </script>\n",
              "</div>\n",
              "\n",
              "    </div>\n",
              "  </div>\n"
            ]
          },
          "metadata": {},
          "execution_count": 3
        }
      ]
    },
    {
      "cell_type": "code",
      "source": [
        "ds['eng_len']=ds['english_sentence'].apply(lambda x:len(str(x).split(\" \")))\n",
        "ds['hin_len']=ds['hindi_sentence'].apply(lambda x:len(str(x).split(\" \")))\n",
        "ds.head()"
      ],
      "metadata": {
        "colab": {
          "base_uri": "https://localhost:8080/",
          "height": 206
        },
        "id": "rcP035IKJmOY",
        "outputId": "f77db0ed-4de5-4245-97da-b283dc36332e"
      },
      "execution_count": 4,
      "outputs": [
        {
          "output_type": "execute_result",
          "data": {
            "text/plain": [
              "      source                                   english_sentence  \\\n",
              "0        ted  politicians do not have permission to do what ...   \n",
              "1        ted         I'd like to tell you about one such child,   \n",
              "2  indic2012  This percentage is even greater than the perce...   \n",
              "3        ted  what we really mean is that they're bad at not...   \n",
              "4  indic2012  .The ending portion of these Vedas is called U...   \n",
              "\n",
              "                                      hindi_sentence  eng_len  hin_len  \n",
              "0  राजनीतिज्ञों के पास जो कार्य करना चाहिए, वह कर...       12       14  \n",
              "1  मई आपको ऐसे ही एक बच्चे के बारे में बताना चाहू...        9       11  \n",
              "2   यह प्रतिशत भारत में हिन्दुओं प्रतिशत से अधिक है।       10        9  \n",
              "3     हम ये नहीं कहना चाहते कि वो ध्यान नहीं दे पाते       12       11  \n",
              "4        इन्हीं वेदों का अंतिम भाग उपनिषद कहलाता है।        9        8  "
            ],
            "text/html": [
              "\n",
              "  <div id=\"df-6250d62f-760e-4dd2-8f1b-90f9577926f2\" class=\"colab-df-container\">\n",
              "    <div>\n",
              "<style scoped>\n",
              "    .dataframe tbody tr th:only-of-type {\n",
              "        vertical-align: middle;\n",
              "    }\n",
              "\n",
              "    .dataframe tbody tr th {\n",
              "        vertical-align: top;\n",
              "    }\n",
              "\n",
              "    .dataframe thead th {\n",
              "        text-align: right;\n",
              "    }\n",
              "</style>\n",
              "<table border=\"1\" class=\"dataframe\">\n",
              "  <thead>\n",
              "    <tr style=\"text-align: right;\">\n",
              "      <th></th>\n",
              "      <th>source</th>\n",
              "      <th>english_sentence</th>\n",
              "      <th>hindi_sentence</th>\n",
              "      <th>eng_len</th>\n",
              "      <th>hin_len</th>\n",
              "    </tr>\n",
              "  </thead>\n",
              "  <tbody>\n",
              "    <tr>\n",
              "      <th>0</th>\n",
              "      <td>ted</td>\n",
              "      <td>politicians do not have permission to do what ...</td>\n",
              "      <td>राजनीतिज्ञों के पास जो कार्य करना चाहिए, वह कर...</td>\n",
              "      <td>12</td>\n",
              "      <td>14</td>\n",
              "    </tr>\n",
              "    <tr>\n",
              "      <th>1</th>\n",
              "      <td>ted</td>\n",
              "      <td>I'd like to tell you about one such child,</td>\n",
              "      <td>मई आपको ऐसे ही एक बच्चे के बारे में बताना चाहू...</td>\n",
              "      <td>9</td>\n",
              "      <td>11</td>\n",
              "    </tr>\n",
              "    <tr>\n",
              "      <th>2</th>\n",
              "      <td>indic2012</td>\n",
              "      <td>This percentage is even greater than the perce...</td>\n",
              "      <td>यह प्रतिशत भारत में हिन्दुओं प्रतिशत से अधिक है।</td>\n",
              "      <td>10</td>\n",
              "      <td>9</td>\n",
              "    </tr>\n",
              "    <tr>\n",
              "      <th>3</th>\n",
              "      <td>ted</td>\n",
              "      <td>what we really mean is that they're bad at not...</td>\n",
              "      <td>हम ये नहीं कहना चाहते कि वो ध्यान नहीं दे पाते</td>\n",
              "      <td>12</td>\n",
              "      <td>11</td>\n",
              "    </tr>\n",
              "    <tr>\n",
              "      <th>4</th>\n",
              "      <td>indic2012</td>\n",
              "      <td>.The ending portion of these Vedas is called U...</td>\n",
              "      <td>इन्हीं वेदों का अंतिम भाग उपनिषद कहलाता है।</td>\n",
              "      <td>9</td>\n",
              "      <td>8</td>\n",
              "    </tr>\n",
              "  </tbody>\n",
              "</table>\n",
              "</div>\n",
              "    <div class=\"colab-df-buttons\">\n",
              "\n",
              "  <div class=\"colab-df-container\">\n",
              "    <button class=\"colab-df-convert\" onclick=\"convertToInteractive('df-6250d62f-760e-4dd2-8f1b-90f9577926f2')\"\n",
              "            title=\"Convert this dataframe to an interactive table.\"\n",
              "            style=\"display:none;\">\n",
              "\n",
              "  <svg xmlns=\"http://www.w3.org/2000/svg\" height=\"24px\" viewBox=\"0 -960 960 960\">\n",
              "    <path d=\"M120-120v-720h720v720H120Zm60-500h600v-160H180v160Zm220 220h160v-160H400v160Zm0 220h160v-160H400v160ZM180-400h160v-160H180v160Zm440 0h160v-160H620v160ZM180-180h160v-160H180v160Zm440 0h160v-160H620v160Z\"/>\n",
              "  </svg>\n",
              "    </button>\n",
              "\n",
              "  <style>\n",
              "    .colab-df-container {\n",
              "      display:flex;\n",
              "      gap: 12px;\n",
              "    }\n",
              "\n",
              "    .colab-df-convert {\n",
              "      background-color: #E8F0FE;\n",
              "      border: none;\n",
              "      border-radius: 50%;\n",
              "      cursor: pointer;\n",
              "      display: none;\n",
              "      fill: #1967D2;\n",
              "      height: 32px;\n",
              "      padding: 0 0 0 0;\n",
              "      width: 32px;\n",
              "    }\n",
              "\n",
              "    .colab-df-convert:hover {\n",
              "      background-color: #E2EBFA;\n",
              "      box-shadow: 0px 1px 2px rgba(60, 64, 67, 0.3), 0px 1px 3px 1px rgba(60, 64, 67, 0.15);\n",
              "      fill: #174EA6;\n",
              "    }\n",
              "\n",
              "    .colab-df-buttons div {\n",
              "      margin-bottom: 4px;\n",
              "    }\n",
              "\n",
              "    [theme=dark] .colab-df-convert {\n",
              "      background-color: #3B4455;\n",
              "      fill: #D2E3FC;\n",
              "    }\n",
              "\n",
              "    [theme=dark] .colab-df-convert:hover {\n",
              "      background-color: #434B5C;\n",
              "      box-shadow: 0px 1px 3px 1px rgba(0, 0, 0, 0.15);\n",
              "      filter: drop-shadow(0px 1px 2px rgba(0, 0, 0, 0.3));\n",
              "      fill: #FFFFFF;\n",
              "    }\n",
              "  </style>\n",
              "\n",
              "    <script>\n",
              "      const buttonEl =\n",
              "        document.querySelector('#df-6250d62f-760e-4dd2-8f1b-90f9577926f2 button.colab-df-convert');\n",
              "      buttonEl.style.display =\n",
              "        google.colab.kernel.accessAllowed ? 'block' : 'none';\n",
              "\n",
              "      async function convertToInteractive(key) {\n",
              "        const element = document.querySelector('#df-6250d62f-760e-4dd2-8f1b-90f9577926f2');\n",
              "        const dataTable =\n",
              "          await google.colab.kernel.invokeFunction('convertToInteractive',\n",
              "                                                    [key], {});\n",
              "        if (!dataTable) return;\n",
              "\n",
              "        const docLinkHtml = 'Like what you see? Visit the ' +\n",
              "          '<a target=\"_blank\" href=https://colab.research.google.com/notebooks/data_table.ipynb>data table notebook</a>'\n",
              "          + ' to learn more about interactive tables.';\n",
              "        element.innerHTML = '';\n",
              "        dataTable['output_type'] = 'display_data';\n",
              "        await google.colab.output.renderOutput(dataTable, element);\n",
              "        const docLink = document.createElement('div');\n",
              "        docLink.innerHTML = docLinkHtml;\n",
              "        element.appendChild(docLink);\n",
              "      }\n",
              "    </script>\n",
              "  </div>\n",
              "\n",
              "\n",
              "<div id=\"df-17df8eb9-2ba5-436b-8979-f7ee30307f77\">\n",
              "  <button class=\"colab-df-quickchart\" onclick=\"quickchart('df-17df8eb9-2ba5-436b-8979-f7ee30307f77')\"\n",
              "            title=\"Suggest charts.\"\n",
              "            style=\"display:none;\">\n",
              "\n",
              "<svg xmlns=\"http://www.w3.org/2000/svg\" height=\"24px\"viewBox=\"0 0 24 24\"\n",
              "     width=\"24px\">\n",
              "    <g>\n",
              "        <path d=\"M19 3H5c-1.1 0-2 .9-2 2v14c0 1.1.9 2 2 2h14c1.1 0 2-.9 2-2V5c0-1.1-.9-2-2-2zM9 17H7v-7h2v7zm4 0h-2V7h2v10zm4 0h-2v-4h2v4z\"/>\n",
              "    </g>\n",
              "</svg>\n",
              "  </button>\n",
              "\n",
              "<style>\n",
              "  .colab-df-quickchart {\n",
              "      --bg-color: #E8F0FE;\n",
              "      --fill-color: #1967D2;\n",
              "      --hover-bg-color: #E2EBFA;\n",
              "      --hover-fill-color: #174EA6;\n",
              "      --disabled-fill-color: #AAA;\n",
              "      --disabled-bg-color: #DDD;\n",
              "  }\n",
              "\n",
              "  [theme=dark] .colab-df-quickchart {\n",
              "      --bg-color: #3B4455;\n",
              "      --fill-color: #D2E3FC;\n",
              "      --hover-bg-color: #434B5C;\n",
              "      --hover-fill-color: #FFFFFF;\n",
              "      --disabled-bg-color: #3B4455;\n",
              "      --disabled-fill-color: #666;\n",
              "  }\n",
              "\n",
              "  .colab-df-quickchart {\n",
              "    background-color: var(--bg-color);\n",
              "    border: none;\n",
              "    border-radius: 50%;\n",
              "    cursor: pointer;\n",
              "    display: none;\n",
              "    fill: var(--fill-color);\n",
              "    height: 32px;\n",
              "    padding: 0;\n",
              "    width: 32px;\n",
              "  }\n",
              "\n",
              "  .colab-df-quickchart:hover {\n",
              "    background-color: var(--hover-bg-color);\n",
              "    box-shadow: 0 1px 2px rgba(60, 64, 67, 0.3), 0 1px 3px 1px rgba(60, 64, 67, 0.15);\n",
              "    fill: var(--button-hover-fill-color);\n",
              "  }\n",
              "\n",
              "  .colab-df-quickchart-complete:disabled,\n",
              "  .colab-df-quickchart-complete:disabled:hover {\n",
              "    background-color: var(--disabled-bg-color);\n",
              "    fill: var(--disabled-fill-color);\n",
              "    box-shadow: none;\n",
              "  }\n",
              "\n",
              "  .colab-df-spinner {\n",
              "    border: 2px solid var(--fill-color);\n",
              "    border-color: transparent;\n",
              "    border-bottom-color: var(--fill-color);\n",
              "    animation:\n",
              "      spin 1s steps(1) infinite;\n",
              "  }\n",
              "\n",
              "  @keyframes spin {\n",
              "    0% {\n",
              "      border-color: transparent;\n",
              "      border-bottom-color: var(--fill-color);\n",
              "      border-left-color: var(--fill-color);\n",
              "    }\n",
              "    20% {\n",
              "      border-color: transparent;\n",
              "      border-left-color: var(--fill-color);\n",
              "      border-top-color: var(--fill-color);\n",
              "    }\n",
              "    30% {\n",
              "      border-color: transparent;\n",
              "      border-left-color: var(--fill-color);\n",
              "      border-top-color: var(--fill-color);\n",
              "      border-right-color: var(--fill-color);\n",
              "    }\n",
              "    40% {\n",
              "      border-color: transparent;\n",
              "      border-right-color: var(--fill-color);\n",
              "      border-top-color: var(--fill-color);\n",
              "    }\n",
              "    60% {\n",
              "      border-color: transparent;\n",
              "      border-right-color: var(--fill-color);\n",
              "    }\n",
              "    80% {\n",
              "      border-color: transparent;\n",
              "      border-right-color: var(--fill-color);\n",
              "      border-bottom-color: var(--fill-color);\n",
              "    }\n",
              "    90% {\n",
              "      border-color: transparent;\n",
              "      border-bottom-color: var(--fill-color);\n",
              "    }\n",
              "  }\n",
              "</style>\n",
              "\n",
              "  <script>\n",
              "    async function quickchart(key) {\n",
              "      const quickchartButtonEl =\n",
              "        document.querySelector('#' + key + ' button');\n",
              "      quickchartButtonEl.disabled = true;  // To prevent multiple clicks.\n",
              "      quickchartButtonEl.classList.add('colab-df-spinner');\n",
              "      try {\n",
              "        const charts = await google.colab.kernel.invokeFunction(\n",
              "            'suggestCharts', [key], {});\n",
              "      } catch (error) {\n",
              "        console.error('Error during call to suggestCharts:', error);\n",
              "      }\n",
              "      quickchartButtonEl.classList.remove('colab-df-spinner');\n",
              "      quickchartButtonEl.classList.add('colab-df-quickchart-complete');\n",
              "    }\n",
              "    (() => {\n",
              "      let quickchartButtonEl =\n",
              "        document.querySelector('#df-17df8eb9-2ba5-436b-8979-f7ee30307f77 button');\n",
              "      quickchartButtonEl.style.display =\n",
              "        google.colab.kernel.accessAllowed ? 'block' : 'none';\n",
              "    })();\n",
              "  </script>\n",
              "</div>\n",
              "\n",
              "    </div>\n",
              "  </div>\n"
            ]
          },
          "metadata": {},
          "execution_count": 4
        }
      ]
    },
    {
      "cell_type": "markdown",
      "source": [
        "Let us take only sentences less than 15 words to reduce training time."
      ],
      "metadata": {
        "id": "MjXsgwyJwAgA"
      }
    },
    {
      "cell_type": "code",
      "source": [
        "ds = ds[(ds['eng_len'] < 15)]\n",
        "ds = ds[(ds['hin_len'] < 15)]\n",
        "print(f'Total number of examples = {len(ds)}')"
      ],
      "metadata": {
        "execution": {
          "iopub.status.busy": "2023-10-22T04:42:51.760345Z",
          "iopub.execute_input": "2023-10-22T04:42:51.760692Z",
          "iopub.status.idle": "2023-10-22T04:42:51.799146Z",
          "shell.execute_reply.started": "2023-10-22T04:42:51.760663Z",
          "shell.execute_reply": "2023-10-22T04:42:51.798143Z"
        },
        "trusted": true,
        "colab": {
          "base_uri": "https://localhost:8080/"
        },
        "id": "n9XzwKoItqn5",
        "outputId": "ad65e114-d5a9-4def-e13e-1380b6058b57"
      },
      "execution_count": 5,
      "outputs": [
        {
          "output_type": "stream",
          "name": "stdout",
          "text": [
            "Total number of examples = 66074\n"
          ]
        }
      ]
    },
    {
      "cell_type": "code",
      "source": [
        "filters = '!\"#$%&()*+,-./:;=?@[\\\\]^_`{|}~\\t\\n'\n",
        "ds['english_sentence']=ds['english_sentence'].apply(lambda x: ''.join(ch for ch in x if ch not in filters))\n"
      ],
      "metadata": {
        "id": "t2q97ePcEKmn"
      },
      "execution_count": 6,
      "outputs": []
    },
    {
      "cell_type": "code",
      "source": [
        "n_sentences = None\n",
        "batch_size=32\n",
        "if n_sentences is not None:\n",
        "    ds = ds.head(n_sentences)\n",
        "print(f'Total number of examples = {len(ds)}')"
      ],
      "metadata": {
        "id": "YxmVZv7Dv2jK",
        "outputId": "aec6b7ce-18ac-4c6d-b890-80f7a60a1710",
        "colab": {
          "base_uri": "https://localhost:8080/"
        }
      },
      "execution_count": 7,
      "outputs": [
        {
          "output_type": "stream",
          "name": "stdout",
          "text": [
            "Total number of examples = 66074\n"
          ]
        }
      ]
    },
    {
      "cell_type": "code",
      "source": [
        "ds['english_sentence'] = ds['english_sentence'].apply(lambda x: \"[start] \" + x + \" [end]\")\n",
        "ds['hindi_sentence'] = ds['hindi_sentence'].apply(lambda x: \"[start] \" + x + \" [end]\")\n",
        "ds.head()"
      ],
      "metadata": {
        "execution": {
          "iopub.status.busy": "2023-10-22T04:42:51.002983Z",
          "iopub.execute_input": "2023-10-22T04:42:51.003309Z",
          "iopub.status.idle": "2023-10-22T04:42:51.758451Z",
          "shell.execute_reply.started": "2023-10-22T04:42:51.003281Z",
          "shell.execute_reply": "2023-10-22T04:42:51.757392Z"
        },
        "trusted": true,
        "colab": {
          "base_uri": "https://localhost:8080/",
          "height": 206
        },
        "id": "h9P_4DxXtqn5",
        "outputId": "e92b54fe-8543-4107-9f3a-f590efcf9fa6"
      },
      "execution_count": 8,
      "outputs": [
        {
          "output_type": "execute_result",
          "data": {
            "text/plain": [
              "      source                                   english_sentence  \\\n",
              "0        ted  [start] politicians do not have permission to ...   \n",
              "1        ted  [start] I'd like to tell you about one such ch...   \n",
              "2  indic2012  [start] This percentage is even greater than t...   \n",
              "3        ted  [start] what we really mean is that they're ba...   \n",
              "4  indic2012  [start] The ending portion of these Vedas is c...   \n",
              "\n",
              "                                      hindi_sentence  eng_len  hin_len  \n",
              "0  [start] राजनीतिज्ञों के पास जो कार्य करना चाहि...       12       14  \n",
              "1  [start] मई आपको ऐसे ही एक बच्चे के बारे में बत...        9       11  \n",
              "2  [start] यह प्रतिशत भारत में हिन्दुओं प्रतिशत स...       10        9  \n",
              "3  [start] हम ये नहीं कहना चाहते कि वो ध्यान नहीं...       12       11  \n",
              "4  [start] इन्हीं वेदों का अंतिम भाग उपनिषद कहलात...        9        8  "
            ],
            "text/html": [
              "\n",
              "  <div id=\"df-8619e66f-6395-4c5a-bdc3-862846077cec\" class=\"colab-df-container\">\n",
              "    <div>\n",
              "<style scoped>\n",
              "    .dataframe tbody tr th:only-of-type {\n",
              "        vertical-align: middle;\n",
              "    }\n",
              "\n",
              "    .dataframe tbody tr th {\n",
              "        vertical-align: top;\n",
              "    }\n",
              "\n",
              "    .dataframe thead th {\n",
              "        text-align: right;\n",
              "    }\n",
              "</style>\n",
              "<table border=\"1\" class=\"dataframe\">\n",
              "  <thead>\n",
              "    <tr style=\"text-align: right;\">\n",
              "      <th></th>\n",
              "      <th>source</th>\n",
              "      <th>english_sentence</th>\n",
              "      <th>hindi_sentence</th>\n",
              "      <th>eng_len</th>\n",
              "      <th>hin_len</th>\n",
              "    </tr>\n",
              "  </thead>\n",
              "  <tbody>\n",
              "    <tr>\n",
              "      <th>0</th>\n",
              "      <td>ted</td>\n",
              "      <td>[start] politicians do not have permission to ...</td>\n",
              "      <td>[start] राजनीतिज्ञों के पास जो कार्य करना चाहि...</td>\n",
              "      <td>12</td>\n",
              "      <td>14</td>\n",
              "    </tr>\n",
              "    <tr>\n",
              "      <th>1</th>\n",
              "      <td>ted</td>\n",
              "      <td>[start] I'd like to tell you about one such ch...</td>\n",
              "      <td>[start] मई आपको ऐसे ही एक बच्चे के बारे में बत...</td>\n",
              "      <td>9</td>\n",
              "      <td>11</td>\n",
              "    </tr>\n",
              "    <tr>\n",
              "      <th>2</th>\n",
              "      <td>indic2012</td>\n",
              "      <td>[start] This percentage is even greater than t...</td>\n",
              "      <td>[start] यह प्रतिशत भारत में हिन्दुओं प्रतिशत स...</td>\n",
              "      <td>10</td>\n",
              "      <td>9</td>\n",
              "    </tr>\n",
              "    <tr>\n",
              "      <th>3</th>\n",
              "      <td>ted</td>\n",
              "      <td>[start] what we really mean is that they're ba...</td>\n",
              "      <td>[start] हम ये नहीं कहना चाहते कि वो ध्यान नहीं...</td>\n",
              "      <td>12</td>\n",
              "      <td>11</td>\n",
              "    </tr>\n",
              "    <tr>\n",
              "      <th>4</th>\n",
              "      <td>indic2012</td>\n",
              "      <td>[start] The ending portion of these Vedas is c...</td>\n",
              "      <td>[start] इन्हीं वेदों का अंतिम भाग उपनिषद कहलात...</td>\n",
              "      <td>9</td>\n",
              "      <td>8</td>\n",
              "    </tr>\n",
              "  </tbody>\n",
              "</table>\n",
              "</div>\n",
              "    <div class=\"colab-df-buttons\">\n",
              "\n",
              "  <div class=\"colab-df-container\">\n",
              "    <button class=\"colab-df-convert\" onclick=\"convertToInteractive('df-8619e66f-6395-4c5a-bdc3-862846077cec')\"\n",
              "            title=\"Convert this dataframe to an interactive table.\"\n",
              "            style=\"display:none;\">\n",
              "\n",
              "  <svg xmlns=\"http://www.w3.org/2000/svg\" height=\"24px\" viewBox=\"0 -960 960 960\">\n",
              "    <path d=\"M120-120v-720h720v720H120Zm60-500h600v-160H180v160Zm220 220h160v-160H400v160Zm0 220h160v-160H400v160ZM180-400h160v-160H180v160Zm440 0h160v-160H620v160ZM180-180h160v-160H180v160Zm440 0h160v-160H620v160Z\"/>\n",
              "  </svg>\n",
              "    </button>\n",
              "\n",
              "  <style>\n",
              "    .colab-df-container {\n",
              "      display:flex;\n",
              "      gap: 12px;\n",
              "    }\n",
              "\n",
              "    .colab-df-convert {\n",
              "      background-color: #E8F0FE;\n",
              "      border: none;\n",
              "      border-radius: 50%;\n",
              "      cursor: pointer;\n",
              "      display: none;\n",
              "      fill: #1967D2;\n",
              "      height: 32px;\n",
              "      padding: 0 0 0 0;\n",
              "      width: 32px;\n",
              "    }\n",
              "\n",
              "    .colab-df-convert:hover {\n",
              "      background-color: #E2EBFA;\n",
              "      box-shadow: 0px 1px 2px rgba(60, 64, 67, 0.3), 0px 1px 3px 1px rgba(60, 64, 67, 0.15);\n",
              "      fill: #174EA6;\n",
              "    }\n",
              "\n",
              "    .colab-df-buttons div {\n",
              "      margin-bottom: 4px;\n",
              "    }\n",
              "\n",
              "    [theme=dark] .colab-df-convert {\n",
              "      background-color: #3B4455;\n",
              "      fill: #D2E3FC;\n",
              "    }\n",
              "\n",
              "    [theme=dark] .colab-df-convert:hover {\n",
              "      background-color: #434B5C;\n",
              "      box-shadow: 0px 1px 3px 1px rgba(0, 0, 0, 0.15);\n",
              "      filter: drop-shadow(0px 1px 2px rgba(0, 0, 0, 0.3));\n",
              "      fill: #FFFFFF;\n",
              "    }\n",
              "  </style>\n",
              "\n",
              "    <script>\n",
              "      const buttonEl =\n",
              "        document.querySelector('#df-8619e66f-6395-4c5a-bdc3-862846077cec button.colab-df-convert');\n",
              "      buttonEl.style.display =\n",
              "        google.colab.kernel.accessAllowed ? 'block' : 'none';\n",
              "\n",
              "      async function convertToInteractive(key) {\n",
              "        const element = document.querySelector('#df-8619e66f-6395-4c5a-bdc3-862846077cec');\n",
              "        const dataTable =\n",
              "          await google.colab.kernel.invokeFunction('convertToInteractive',\n",
              "                                                    [key], {});\n",
              "        if (!dataTable) return;\n",
              "\n",
              "        const docLinkHtml = 'Like what you see? Visit the ' +\n",
              "          '<a target=\"_blank\" href=https://colab.research.google.com/notebooks/data_table.ipynb>data table notebook</a>'\n",
              "          + ' to learn more about interactive tables.';\n",
              "        element.innerHTML = '';\n",
              "        dataTable['output_type'] = 'display_data';\n",
              "        await google.colab.output.renderOutput(dataTable, element);\n",
              "        const docLink = document.createElement('div');\n",
              "        docLink.innerHTML = docLinkHtml;\n",
              "        element.appendChild(docLink);\n",
              "      }\n",
              "    </script>\n",
              "  </div>\n",
              "\n",
              "\n",
              "<div id=\"df-54b7a518-f331-46eb-ab86-28a06b6d47c4\">\n",
              "  <button class=\"colab-df-quickchart\" onclick=\"quickchart('df-54b7a518-f331-46eb-ab86-28a06b6d47c4')\"\n",
              "            title=\"Suggest charts.\"\n",
              "            style=\"display:none;\">\n",
              "\n",
              "<svg xmlns=\"http://www.w3.org/2000/svg\" height=\"24px\"viewBox=\"0 0 24 24\"\n",
              "     width=\"24px\">\n",
              "    <g>\n",
              "        <path d=\"M19 3H5c-1.1 0-2 .9-2 2v14c0 1.1.9 2 2 2h14c1.1 0 2-.9 2-2V5c0-1.1-.9-2-2-2zM9 17H7v-7h2v7zm4 0h-2V7h2v10zm4 0h-2v-4h2v4z\"/>\n",
              "    </g>\n",
              "</svg>\n",
              "  </button>\n",
              "\n",
              "<style>\n",
              "  .colab-df-quickchart {\n",
              "      --bg-color: #E8F0FE;\n",
              "      --fill-color: #1967D2;\n",
              "      --hover-bg-color: #E2EBFA;\n",
              "      --hover-fill-color: #174EA6;\n",
              "      --disabled-fill-color: #AAA;\n",
              "      --disabled-bg-color: #DDD;\n",
              "  }\n",
              "\n",
              "  [theme=dark] .colab-df-quickchart {\n",
              "      --bg-color: #3B4455;\n",
              "      --fill-color: #D2E3FC;\n",
              "      --hover-bg-color: #434B5C;\n",
              "      --hover-fill-color: #FFFFFF;\n",
              "      --disabled-bg-color: #3B4455;\n",
              "      --disabled-fill-color: #666;\n",
              "  }\n",
              "\n",
              "  .colab-df-quickchart {\n",
              "    background-color: var(--bg-color);\n",
              "    border: none;\n",
              "    border-radius: 50%;\n",
              "    cursor: pointer;\n",
              "    display: none;\n",
              "    fill: var(--fill-color);\n",
              "    height: 32px;\n",
              "    padding: 0;\n",
              "    width: 32px;\n",
              "  }\n",
              "\n",
              "  .colab-df-quickchart:hover {\n",
              "    background-color: var(--hover-bg-color);\n",
              "    box-shadow: 0 1px 2px rgba(60, 64, 67, 0.3), 0 1px 3px 1px rgba(60, 64, 67, 0.15);\n",
              "    fill: var(--button-hover-fill-color);\n",
              "  }\n",
              "\n",
              "  .colab-df-quickchart-complete:disabled,\n",
              "  .colab-df-quickchart-complete:disabled:hover {\n",
              "    background-color: var(--disabled-bg-color);\n",
              "    fill: var(--disabled-fill-color);\n",
              "    box-shadow: none;\n",
              "  }\n",
              "\n",
              "  .colab-df-spinner {\n",
              "    border: 2px solid var(--fill-color);\n",
              "    border-color: transparent;\n",
              "    border-bottom-color: var(--fill-color);\n",
              "    animation:\n",
              "      spin 1s steps(1) infinite;\n",
              "  }\n",
              "\n",
              "  @keyframes spin {\n",
              "    0% {\n",
              "      border-color: transparent;\n",
              "      border-bottom-color: var(--fill-color);\n",
              "      border-left-color: var(--fill-color);\n",
              "    }\n",
              "    20% {\n",
              "      border-color: transparent;\n",
              "      border-left-color: var(--fill-color);\n",
              "      border-top-color: var(--fill-color);\n",
              "    }\n",
              "    30% {\n",
              "      border-color: transparent;\n",
              "      border-left-color: var(--fill-color);\n",
              "      border-top-color: var(--fill-color);\n",
              "      border-right-color: var(--fill-color);\n",
              "    }\n",
              "    40% {\n",
              "      border-color: transparent;\n",
              "      border-right-color: var(--fill-color);\n",
              "      border-top-color: var(--fill-color);\n",
              "    }\n",
              "    60% {\n",
              "      border-color: transparent;\n",
              "      border-right-color: var(--fill-color);\n",
              "    }\n",
              "    80% {\n",
              "      border-color: transparent;\n",
              "      border-right-color: var(--fill-color);\n",
              "      border-bottom-color: var(--fill-color);\n",
              "    }\n",
              "    90% {\n",
              "      border-color: transparent;\n",
              "      border-bottom-color: var(--fill-color);\n",
              "    }\n",
              "  }\n",
              "</style>\n",
              "\n",
              "  <script>\n",
              "    async function quickchart(key) {\n",
              "      const quickchartButtonEl =\n",
              "        document.querySelector('#' + key + ' button');\n",
              "      quickchartButtonEl.disabled = true;  // To prevent multiple clicks.\n",
              "      quickchartButtonEl.classList.add('colab-df-spinner');\n",
              "      try {\n",
              "        const charts = await google.colab.kernel.invokeFunction(\n",
              "            'suggestCharts', [key], {});\n",
              "      } catch (error) {\n",
              "        console.error('Error during call to suggestCharts:', error);\n",
              "      }\n",
              "      quickchartButtonEl.classList.remove('colab-df-spinner');\n",
              "      quickchartButtonEl.classList.add('colab-df-quickchart-complete');\n",
              "    }\n",
              "    (() => {\n",
              "      let quickchartButtonEl =\n",
              "        document.querySelector('#df-54b7a518-f331-46eb-ab86-28a06b6d47c4 button');\n",
              "      quickchartButtonEl.style.display =\n",
              "        google.colab.kernel.accessAllowed ? 'block' : 'none';\n",
              "    })();\n",
              "  </script>\n",
              "</div>\n",
              "\n",
              "    </div>\n",
              "  </div>\n"
            ]
          },
          "metadata": {},
          "execution_count": 8
        }
      ]
    },
    {
      "cell_type": "code",
      "source": [
        "\n",
        "def normalize(eng, hin):\n",
        "    \"\"\"Normalize a line of text and split into two at the tab character\"\"\"\n",
        "    line = str(eng.strip().lower()) + \"\\t\" + str(hin.strip())\n",
        "    line = unicodedata.normalize(\"NFD\", line)\n",
        "    line = line.encode(\"ascii\", \"ignore\").decode(\"utf-8\")\n",
        "    line = line.strip()\n",
        "    eng, hind = line.split('\\t')\n",
        "    return eng, hin\n",
        "\n",
        "text_pairs = []\n",
        "for index in ds.index:\n",
        "    text_pairs.append(normalize(ds['english_sentence'][index], ds['hindi_sentence'][index]))\n",
        "print(len(text_pairs))"
      ],
      "metadata": {
        "colab": {
          "base_uri": "https://localhost:8080/"
        },
        "id": "t0HUxyyBKNPF",
        "outputId": "a834d6ad-3c06-4a2c-d07e-8217c5273763"
      },
      "execution_count": 9,
      "outputs": [
        {
          "output_type": "stream",
          "name": "stdout",
          "text": [
            "66074\n"
          ]
        }
      ]
    },
    {
      "cell_type": "markdown",
      "source": [
        "## Parameters"
      ],
      "metadata": {
        "id": "_ZIWRMqSE-U6"
      }
    },
    {
      "cell_type": "code",
      "source": [
        "batch_size=32"
      ],
      "metadata": {
        "id": "GLEeZXnOEuFY"
      },
      "execution_count": 10,
      "outputs": []
    },
    {
      "cell_type": "code",
      "source": [
        "# Create train, val and testing datasets\n",
        "val_split = 0.30\n",
        "\n",
        "len_text_pairs = len(text_pairs)\n",
        "n_val_index = int(val_split * len_text_pairs)\n",
        "n_train_index = len_text_pairs - n_val_index\n",
        "\n",
        "train_tp = text_pairs[:n_train_index]\n",
        "val_tp = text_pairs[n_train_index:]\n",
        "print(f\"Train: {len(train_tp)}\")\n",
        "print(f\"Validation: {len(val_tp)}\")"
      ],
      "metadata": {
        "colab": {
          "base_uri": "https://localhost:8080/"
        },
        "id": "GNsjfotokWRn",
        "outputId": "8a6c18ff-78cf-4956-f54c-3c4347a5eb76"
      },
      "execution_count": 11,
      "outputs": [
        {
          "output_type": "stream",
          "name": "stdout",
          "text": [
            "Train: 46252\n",
            "Validation: 19822\n"
          ]
        }
      ]
    },
    {
      "cell_type": "code",
      "source": [
        "train_tp[:1]"
      ],
      "metadata": {
        "colab": {
          "base_uri": "https://localhost:8080/"
        },
        "id": "ftsUg6HRYi7q",
        "outputId": "9deee337-debc-42ba-a708-b6ba7f7c9e99"
      },
      "execution_count": 12,
      "outputs": [
        {
          "output_type": "execute_result",
          "data": {
            "text/plain": [
              "[('[start] politicians do not have permission to do what needs to be done [end]',\n",
              "  '[start] राजनीतिज्ञों के पास जो कार्य करना चाहिए, वह करने कि अनुमति नहीं है . [end]')]"
            ]
          },
          "metadata": {},
          "execution_count": 12
        }
      ]
    },
    {
      "cell_type": "code",
      "source": [
        "# histogram of sentence length in tokens\n",
        "en_lengths = [len(e.split()) for e, h in train_tp]\n",
        "hn_lengths = [len(h.split()) for e, h in train_tp]\n",
        "\n",
        "plt.hist(en_lengths, label=\"en\", color=\"red\", alpha=0.33)\n",
        "plt.hist(hn_lengths, label=\"hn\", color=\"blue\", alpha=0.33)\n",
        "plt.yscale(\"log\")     # sentence length fits Benford\"s law\n",
        "plt.ylim(plt.ylim())  # make y-axis consistent for both plots\n",
        "plt.plot([max(en_lengths), max(en_lengths)], plt.ylim(), color=\"red\")\n",
        "plt.plot([max(hn_lengths), max(hn_lengths)], plt.ylim(), color=\"blue\")\n",
        "plt.legend()\n",
        "plt.title(\"Examples count vs Token length\")\n",
        "plt.show()"
      ],
      "metadata": {
        "colab": {
          "base_uri": "https://localhost:8080/",
          "height": 932
        },
        "id": "agg-7Oc2ONKB",
        "outputId": "65e4c53d-32e3-4647-8953-c374f8120ac6",
        "execution": {
          "iopub.status.busy": "2023-10-22T04:43:15.479579Z",
          "iopub.execute_input": "2023-10-22T04:43:15.479987Z",
          "iopub.status.idle": "2023-10-22T04:43:17.993364Z",
          "shell.execute_reply.started": "2023-10-22T04:43:15.479930Z",
          "shell.execute_reply": "2023-10-22T04:43:17.992391Z"
        },
        "trusted": true
      },
      "execution_count": 13,
      "outputs": [
        {
          "output_type": "stream",
          "name": "stderr",
          "text": [
            "Exception in thread Thread-5 (attachment_entry):\n",
            "Traceback (most recent call last):\n",
            "  File \"/usr/local/lib/python3.10/dist-packages/debugpy/server/api.py\", line 237, in listen\n",
            "    sock, _ = endpoints_listener.accept()\n",
            "  File \"/usr/lib/python3.10/socket.py\", line 293, in accept\n",
            "    fd, addr = self._accept()\n",
            "TimeoutError: timed out\n",
            "\n",
            "During handling of the above exception, another exception occurred:\n",
            "\n",
            "Traceback (most recent call last):\n",
            "  File \"/usr/lib/python3.10/threading.py\", line 1016, in _bootstrap_inner\n",
            "    self.run()\n",
            "  File \"/usr/lib/python3.10/threading.py\", line 953, in run\n",
            "    self._target(*self._args, **self._kwargs)\n",
            "  File \"/usr/local/lib/python3.10/dist-packages/google/colab/_debugpy.py\", line 52, in attachment_entry\n",
            "    debugpy.listen(_dap_port)\n",
            "  File \"/usr/local/lib/python3.10/dist-packages/debugpy/public_api.py\", line 31, in wrapper\n",
            "    return wrapped(*args, **kwargs)\n",
            "  File \"/usr/local/lib/python3.10/dist-packages/debugpy/server/api.py\", line 143, in debug\n",
            "    log.reraise_exception(\"{0}() failed:\", func.__name__, level=\"info\")\n",
            "  File \"/usr/local/lib/python3.10/dist-packages/debugpy/server/api.py\", line 141, in debug\n",
            "    return func(address, settrace_kwargs, **kwargs)\n",
            "  File \"/usr/local/lib/python3.10/dist-packages/debugpy/server/api.py\", line 251, in listen\n",
            "    raise RuntimeError(\"timed out waiting for adapter to connect\")\n",
            "RuntimeError: timed out waiting for adapter to connect\n"
          ]
        },
        {
          "output_type": "display_data",
          "data": {
            "text/plain": [
              "<Figure size 640x480 with 1 Axes>"
            ],
            "image/png": "[encoded data removed]"
          },
          "metadata": {}
        }
      ]
    },
    {
      "cell_type": "code",
      "source": [
        " # count tokens\n",
        "eng_tokens, hin_tokens = set(), set()\n",
        "eng_maxlen, hin_maxlen = 0, 0\n",
        "for eng, hin in text_pairs:\n",
        "    eng_tok, hin_tok = eng.split(), hin.split()\n",
        "    eng_maxlen = max(eng_maxlen, len(eng_tok))\n",
        "    fra_maxlen = max(hin_maxlen, len(hin_tok))\n",
        "    eng_tokens.update(eng_tok)\n",
        "    hin_tokens.update(hin_tok)\n",
        "print(f\"Total English tokens: {len(eng_tokens)}\")\n",
        "print(f\"Total Hindi tokens: {len(hin_tokens)}\")\n",
        "print(f\"Max English length: {eng_maxlen}\")\n",
        "print(f\"Max Hindi length: {fra_maxlen}\")\n",
        "print(f\"{len(text_pairs)} total pairs\")\n",
        "vocab_size_en = len(eng_tokens)\n",
        "vocab_size_hn = len(hin_tokens)"
      ],
      "metadata": {
        "colab": {
          "base_uri": "https://localhost:8080/"
        },
        "id": "cOv3zcar3Whm",
        "outputId": "5ff2af93-6ab6-46a5-a0dd-280fcd52f5e1"
      },
      "execution_count": 14,
      "outputs": [
        {
          "output_type": "stream",
          "name": "stdout",
          "text": [
            "Total English tokens: 31126\n",
            "Total Hindi tokens: 37674\n",
            "Max English length: 16\n",
            "Max Hindi length: 16\n",
            "66074 total pairs\n"
          ]
        }
      ]
    },
    {
      "cell_type": "code",
      "source": [
        "seq_length = 15\n",
        "\n",
        "# Create vectorizer\n",
        "eng_vectorizer = TextVectorization(\n",
        "    max_tokens=vocab_size_en,\n",
        "    standardize=None,\n",
        "    split=\"whitespace\",\n",
        "    output_mode=\"int\",\n",
        "    output_sequence_length=seq_length,\n",
        ")\n",
        "\n",
        "hin_vectorizer = TextVectorization(\n",
        "    max_tokens=vocab_size_hn,\n",
        "    standardize=None,\n",
        "    split=\"whitespace\",\n",
        "    output_mode=\"int\",\n",
        "    output_sequence_length=seq_length + 1\n",
        ")\n"
      ],
      "metadata": {
        "id": "BXVcdS4gkNoH",
        "execution": {
          "iopub.status.busy": "2023-10-22T04:43:03.951199Z",
          "iopub.execute_input": "2023-10-22T04:43:03.951559Z",
          "iopub.status.idle": "2023-10-22T04:43:14.624167Z",
          "shell.execute_reply.started": "2023-10-22T04:43:03.951533Z",
          "shell.execute_reply": "2023-10-22T04:43:14.623233Z"
        },
        "trusted": true
      },
      "execution_count": 15,
      "outputs": []
    },
    {
      "cell_type": "markdown",
      "source": [
        "## Prepare dataset"
      ],
      "metadata": {
        "id": "TKSTu2wW4uDh"
      }
    },
    {
      "cell_type": "code",
      "source": [
        "train_eng_texts = [pairs[0] for pairs in train_tp]\n",
        "train_hin_texts = [pairs[1] for pairs in train_tp]\n",
        "\n",
        "eng_vectorizer.adapt(train_eng_texts)\n",
        "hin_vectorizer.adapt(train_hin_texts)\n",
        "\n",
        "# set up Dataset object\n",
        "def format_dataset(eng, hin):\n",
        "    eng = eng_vectorizer(eng)\n",
        "    hin = hin_vectorizer(hin)\n",
        "    source = (eng, hin[:, :-1])\n",
        "    target = hin[:, 1:]\n",
        "    return (source, target)\n",
        "\n",
        "def make_dataset(pairs, batch_size=64):\n",
        "    \"\"\"Create TensorFlow Dataset for the sentence pairs\"\"\"\n",
        "    # aggregate sentences using zip(*pairs)\n",
        "    eng_texts, hin_texts = zip(*pairs)\n",
        "    # convert them into list, and then create tensors\n",
        "    dataset = tf.data.Dataset.from_tensor_slices((list(eng_texts), list(hin_texts)))\n",
        "    return dataset.shuffle(2048) \\\n",
        "                  .batch(batch_size).map(format_dataset) \\\n",
        "                  .prefetch(16).cache()\n",
        "\n",
        "train_ds = make_dataset(train_tp)\n",
        "val_ds = make_dataset(val_tp)"
      ],
      "metadata": {
        "id": "tMubKI2Mqkw8",
        "execution": {
          "iopub.status.busy": "2023-10-22T04:43:17.994970Z",
          "iopub.execute_input": "2023-10-22T04:43:17.995282Z",
          "iopub.status.idle": "2023-10-22T04:43:18.011061Z",
          "shell.execute_reply.started": "2023-10-22T04:43:17.995254Z",
          "shell.execute_reply": "2023-10-22T04:43:18.010011Z"
        },
        "trusted": true
      },
      "execution_count": 16,
      "outputs": []
    },
    {
      "cell_type": "code",
      "source": [
        "# test the dataset\n",
        "for inputs, targets in train_ds.take(1):\n",
        "    print(f'inputs[\"encoder_inputs\"].shape: {inputs[0].shape}')\n",
        "    print(f'inputs[\"encoder_inputs\"][0]: {inputs[0][0]}')\n",
        "    print(f'inputs[\"decoder_inputs\"].shape: {inputs[1].shape}')\n",
        "    print(f'inputs[\"decoder_inputs\"][0]: {inputs[1][0]}')\n",
        "    print(f\"targets.shape: {targets.shape}\")\n",
        "    print(f\"targets[0]: {targets[0]}\")"
      ],
      "metadata": {
        "colab": {
          "base_uri": "https://localhost:8080/"
        },
        "id": "p7t9PFD0y00l",
        "outputId": "2b27777f-1c1d-4244-b1e6-2222d71e0884",
        "execution": {
          "iopub.status.busy": "2023-10-22T04:43:18.012286Z",
          "iopub.execute_input": "2023-10-22T04:43:18.013207Z",
          "iopub.status.idle": "2023-10-22T04:43:22.254969Z",
          "shell.execute_reply.started": "2023-10-22T04:43:18.013177Z",
          "shell.execute_reply": "2023-10-22T04:43:22.253799Z"
        },
        "trusted": true
      },
      "execution_count": 17,
      "outputs": [
        {
          "output_type": "stream",
          "name": "stdout",
          "text": [
            "inputs[\"encoder_inputs\"].shape: (64, 15)\n",
            "inputs[\"encoder_inputs\"][0]: [   2   46 8509 2285 7768 3057 2285 1439    3    0    0    0    0    0\n",
            "    0]\n",
            "inputs[\"decoder_inputs\"].shape: (64, 15)\n",
            "inputs[\"decoder_inputs\"][0]: [    2   721  3511 29210 21088  3511 13684     3     0     0     0     0\n",
            "     0     0     0]\n",
            "targets.shape: (64, 15)\n",
            "targets[0]: [  721  3511 29210 21088  3511 13684     3     0     0     0     0     0\n",
            "     0     0     0]\n"
          ]
        }
      ]
    },
    {
      "cell_type": "code",
      "source": [
        "eng_lookup = list(eng_vectorizer.get_vocabulary())\n",
        "hin_lookup = list(hin_vectorizer.get_vocabulary())\n",
        "eng_sen, hin_sen, hin_source = \"\", \"\",\"\"\n",
        "print(inputs[1].shape)\n",
        "for index in inputs[0][0]:\n",
        "  eng_sen += eng_lookup[index.numpy()] + \" \"\n",
        "for index in targets[0]:\n",
        "  hin_source += hin_lookup[index.numpy()] + \" \"\n",
        "print(f\"source: {eng_sen}\")\n",
        "print(f\"hin source: {hin_source}\")"
      ],
      "metadata": {
        "id": "HKfvkKeaKKty",
        "outputId": "72ed7b63-b4dd-4838-a1e3-ca0c4086efe9",
        "colab": {
          "base_uri": "https://localhost:8080/"
        },
        "execution": {
          "iopub.status.busy": "2023-10-22T04:43:22.256183Z",
          "iopub.execute_input": "2023-10-22T04:43:22.256553Z",
          "iopub.status.idle": "2023-10-22T04:43:22.320250Z",
          "shell.execute_reply.started": "2023-10-22T04:43:22.256525Z",
          "shell.execute_reply": "2023-10-22T04:43:22.319260Z"
        },
        "trusted": true
      },
      "execution_count": 18,
      "outputs": [
        {
          "output_type": "stream",
          "name": "stdout",
          "text": [
            "(64, 15)\n",
            "source: [start] it's arabs versus israelis labor versus management [end]       \n",
            "hin source: अरब बनाम इस्राइली, मज़दूर बनाम प्रबंधन, [end]         \n"
          ]
        }
      ]
    },
    {
      "cell_type": "markdown",
      "source": [
        "## Vocab size"
      ],
      "metadata": {
        "id": "UQOyjE95EJ7y"
      }
    },
    {
      "cell_type": "code",
      "source": [
        "# find out how many distinct tokens exist\n",
        "print(f\"Total English tokens = {vocab_size_en}.\")\n",
        "print(f\"Total Hindi tokens = {vocab_size_hn}.\")"
      ],
      "metadata": {
        "id": "iiiVhpnJRdRp",
        "outputId": "da11aa21-68e0-42e9-d5be-f1f895023d61",
        "colab": {
          "base_uri": "https://localhost:8080/"
        },
        "execution": {
          "iopub.status.busy": "2023-10-22T04:43:22.321757Z",
          "iopub.execute_input": "2023-10-22T04:43:22.322598Z",
          "iopub.status.idle": "2023-10-22T04:43:22.345887Z",
          "shell.execute_reply.started": "2023-10-22T04:43:22.322560Z",
          "shell.execute_reply": "2023-10-22T04:43:22.344881Z"
        },
        "trusted": true
      },
      "execution_count": 19,
      "outputs": [
        {
          "output_type": "stream",
          "name": "stdout",
          "text": [
            "Total English tokens = 31126.\n",
            "Total Hindi tokens = 37674.\n"
          ]
        }
      ]
    },
    {
      "cell_type": "code",
      "source": [
        "for (eng, hin), hn_labels in train_ds.take(1):\n",
        "  break\n",
        "print(eng.shape)\n",
        "print(hin.shape)\n",
        "print(hn_labels.shape)\n",
        "\n",
        "print(hin[0][:10])\n",
        "print(hn_labels[0][:10])"
      ],
      "metadata": {
        "colab": {
          "base_uri": "https://localhost:8080/"
        },
        "id": "2g9r7GokBBaB",
        "outputId": "23046641-baf8-4919-c0d4-8fc11c43efae"
      },
      "execution_count": 20,
      "outputs": [
        {
          "output_type": "stream",
          "name": "stdout",
          "text": [
            "(64, 15)\n",
            "(64, 15)\n",
            "(64, 15)\n",
            "tf.Tensor([   2 2564  431    7   35  259   36  236    3    0], shape=(10,), dtype=int64)\n",
            "tf.Tensor([2564  431    7   35  259   36  236    3    0    0], shape=(10,), dtype=int64)\n"
          ]
        }
      ]
    },
    {
      "cell_type": "markdown",
      "source": [
        "## Positional Embedding Layer\n",
        "\n"
      ],
      "metadata": {
        "id": "oSr-WkRA_33s"
      }
    },
    {
      "cell_type": "code",
      "source": [
        "# Positional embedding matrix - This matrix represents the position of the word in the sentence.\n",
        "# It takes input as length of the sentence and size of the vector embeddings\n",
        "# The output is a matrix where every row is a word in the sentence, each row represents the position encoding of that word\n",
        "# The length of each row is equal to the length of word embeddings.\n",
        "def positional_encoding(length, depth):\n",
        "  depth = depth/2\n",
        "  positions = np.arange(length)[:, np.newaxis]     # (seq, 1)\n",
        "  depths = np.arange(depth)[np.newaxis, :]/depth   # (1, depth)\n",
        "  angle_rates = 1 / (10000**depths)         # (1, depth)\n",
        "  angle_rads = positions * angle_rates      # (pos, depth)\n",
        "  pos_encoding = np.concatenate(\n",
        "      [np.sin(angle_rads), np.cos(angle_rads)],\n",
        "      axis=-1)\n",
        "  return tf.cast(pos_encoding, dtype=tf.float32)\n",
        "\n",
        "pos_matrix = positional_encoding(4, 4)\n",
        "assert pos_matrix.shape == (4,4)\n",
        "print(pos_matrix.shape)\n",
        "print(pos_matrix)\n"
      ],
      "metadata": {
        "colab": {
          "base_uri": "https://localhost:8080/"
        },
        "id": "SWNd4soU1dTv",
        "outputId": "3d3aac42-4648-494d-d10f-925b798167b9",
        "execution": {
          "iopub.status.busy": "2023-10-22T04:43:22.347214Z",
          "iopub.execute_input": "2023-10-22T04:43:22.347604Z",
          "iopub.status.idle": "2023-10-22T04:43:22.361671Z",
          "shell.execute_reply.started": "2023-10-22T04:43:22.347568Z",
          "shell.execute_reply": "2023-10-22T04:43:22.360576Z"
        },
        "trusted": true
      },
      "execution_count": 21,
      "outputs": [
        {
          "output_type": "stream",
          "name": "stdout",
          "text": [
            "(4, 4)\n",
            "tf.Tensor(\n",
            "[[ 0.          0.          1.          1.        ]\n",
            " [ 0.84147096  0.00999983  0.5403023   0.99995   ]\n",
            " [ 0.9092974   0.01999867 -0.41614684  0.9998    ]\n",
            " [ 0.14112     0.0299955  -0.9899925   0.99955004]], shape=(4, 4), dtype=float32)\n"
          ]
        }
      ]
    },
    {
      "cell_type": "code",
      "source": [
        "# Positional Embedding\n",
        "class PositionalEmbedding(tf.keras.layers.Layer):\n",
        "  def __init__(self, vocab_size, d_model):\n",
        "    super().__init__()\n",
        "    self.d_model = d_model\n",
        "    self.embedding = tf.keras.layers.Embedding(vocab_size, d_model, mask_zero=True)\n",
        "    self.pos_encoding = positional_encoding(length=2048, depth=d_model)\n",
        "\n",
        "  def compute_mask(self, *args, **kwargs):\n",
        "    return self.embedding.compute_mask(*args, **kwargs)\n",
        "\n",
        "  def call(self, x):\n",
        "    length = tf.shape(x)[1]\n",
        "    x = self.embedding(x)\n",
        "    # This factor sets the relative scale of the embedding and positonal_encoding.\n",
        "    x *= tf.math.sqrt(tf.cast(self.d_model, tf.float32))\n",
        "    x = x + self.pos_encoding[tf.newaxis, :length, :]\n",
        "    return x"
      ],
      "metadata": {
        "id": "OUmDv5MuIAO2",
        "execution": {
          "iopub.status.busy": "2023-10-22T04:43:22.362842Z",
          "iopub.execute_input": "2023-10-22T04:43:22.363213Z",
          "iopub.status.idle": "2023-10-22T04:43:22.371065Z",
          "shell.execute_reply.started": "2023-10-22T04:43:22.363183Z",
          "shell.execute_reply": "2023-10-22T04:43:22.370169Z"
        },
        "trusted": true
      },
      "execution_count": 22,
      "outputs": []
    },
    {
      "cell_type": "code",
      "source": [
        "eng_pos = PositionalEmbedding(vocab_size_en, 512)\n",
        "hin_pos = PositionalEmbedding(vocab_size_hn, 512)\n",
        "print(eng_pos(eng).shape)\n",
        "print(hin_pos(hin).shape)"
      ],
      "metadata": {
        "id": "_gZ0CIdtDkHZ",
        "outputId": "57a071c0-ebeb-47bb-915d-2fca9f79c320",
        "colab": {
          "base_uri": "https://localhost:8080/"
        },
        "execution": {
          "iopub.status.busy": "2023-10-22T04:43:22.372204Z",
          "iopub.execute_input": "2023-10-22T04:43:22.372551Z",
          "iopub.status.idle": "2023-10-22T04:43:22.482002Z",
          "shell.execute_reply.started": "2023-10-22T04:43:22.372507Z",
          "shell.execute_reply": "2023-10-22T04:43:22.481059Z"
        },
        "trusted": true
      },
      "execution_count": 23,
      "outputs": [
        {
          "output_type": "stream",
          "name": "stdout",
          "text": [
            "(64, 15, 512)\n",
            "(64, 15, 512)\n"
          ]
        }
      ]
    },
    {
      "cell_type": "markdown",
      "source": [
        "\n",
        "## Self Attention Layer"
      ],
      "metadata": {
        "id": "HyiMqSKn__kH"
      }
    },
    {
      "cell_type": "code",
      "source": [
        "class BaseAttention(tf.keras.layers.Layer):\n",
        "  def __init__(self, **kwargs):\n",
        "    super().__init__()\n",
        "    self.mha = tf.keras.layers.MultiHeadAttention(**kwargs)\n",
        "    self.layernorm = tf.keras.layers.LayerNormalization()\n",
        "    self.add = tf.keras.layers.Add()\n",
        "\n",
        "class GlobalSelfAttention(BaseAttention):\n",
        "  def call(self, x):\n",
        "    attn_output = self.mha(\n",
        "        query=x,\n",
        "        value=x,\n",
        "        key=x)\n",
        "    x = self.add([x, attn_output])\n",
        "    x = self.layernorm(x)\n",
        "    return x"
      ],
      "metadata": {
        "id": "IrefrQsA_iWE",
        "execution": {
          "iopub.status.busy": "2023-10-22T04:43:22.483092Z",
          "iopub.execute_input": "2023-10-22T04:43:22.483351Z",
          "iopub.status.idle": "2023-10-22T04:43:22.490128Z",
          "shell.execute_reply.started": "2023-10-22T04:43:22.483330Z",
          "shell.execute_reply": "2023-10-22T04:43:22.489165Z"
        },
        "trusted": true
      },
      "execution_count": 24,
      "outputs": []
    },
    {
      "cell_type": "code",
      "source": [
        "sample_gsa = GlobalSelfAttention(num_heads=2, key_dim=512)\n",
        "enc_output = eng_pos(eng)\n",
        "print(enc_output.shape)\n",
        "print(sample_gsa(enc_output).shape)"
      ],
      "metadata": {
        "id": "GqqGTnJ2E9wv",
        "outputId": "6b127c2e-107f-46e6-a281-ae8de7825f9f",
        "colab": {
          "base_uri": "https://localhost:8080/"
        },
        "execution": {
          "iopub.status.busy": "2023-10-22T04:43:22.491298Z",
          "iopub.execute_input": "2023-10-22T04:43:22.491634Z",
          "iopub.status.idle": "2023-10-22T04:43:25.040081Z",
          "shell.execute_reply.started": "2023-10-22T04:43:22.491602Z",
          "shell.execute_reply": "2023-10-22T04:43:25.038858Z"
        },
        "trusted": true
      },
      "execution_count": 25,
      "outputs": [
        {
          "output_type": "stream",
          "name": "stdout",
          "text": [
            "(64, 15, 512)\n",
            "(64, 15, 512)\n"
          ]
        }
      ]
    },
    {
      "cell_type": "markdown",
      "source": [
        "## Cross Attention Layer"
      ],
      "metadata": {
        "id": "LKFWcmfmJexs"
      }
    },
    {
      "cell_type": "code",
      "source": [
        "class CrossAttention(BaseAttention):\n",
        "  def call(self, x, context):\n",
        "    attn_output, attn_scores = self.mha(\n",
        "        query=x,\n",
        "        key=context,\n",
        "        value=context,\n",
        "        return_attention_scores=True)\n",
        "    # Cache the attention scores for plotting later.\n",
        "    self.last_attn_scores = attn_scores\n",
        "    x = self.add([x, attn_output])\n",
        "    x = self.layernorm(x)\n",
        "    return x"
      ],
      "metadata": {
        "id": "XArWRqWdJh-t",
        "execution": {
          "iopub.status.busy": "2023-10-22T04:43:25.041493Z",
          "iopub.execute_input": "2023-10-22T04:43:25.041834Z",
          "iopub.status.idle": "2023-10-22T04:43:25.048186Z",
          "shell.execute_reply.started": "2023-10-22T04:43:25.041804Z",
          "shell.execute_reply": "2023-10-22T04:43:25.047063Z"
        },
        "trusted": true
      },
      "execution_count": 26,
      "outputs": []
    },
    {
      "cell_type": "code",
      "source": [
        "sample_ca = CrossAttention(num_heads=2, key_dim=512)\n",
        "emb_output_eng = eng_pos(eng)\n",
        "emb_output_hin = hin_pos(hin)\n",
        "print(emb_output_eng.shape)\n",
        "print(emb_output_hin.shape)\n",
        "print(sample_ca(emb_output_eng, emb_output_hin).shape)"
      ],
      "metadata": {
        "id": "Ge-jOyeqJfm8",
        "outputId": "562e4451-e3aa-4277-cf26-947d58a02bca",
        "colab": {
          "base_uri": "https://localhost:8080/"
        },
        "execution": {
          "iopub.status.busy": "2023-10-22T04:43:25.049529Z",
          "iopub.execute_input": "2023-10-22T04:43:25.049854Z",
          "iopub.status.idle": "2023-10-22T04:43:25.108484Z",
          "shell.execute_reply.started": "2023-10-22T04:43:25.049807Z",
          "shell.execute_reply": "2023-10-22T04:43:25.107447Z"
        },
        "trusted": true
      },
      "execution_count": 27,
      "outputs": [
        {
          "output_type": "stream",
          "name": "stdout",
          "text": [
            "(64, 15, 512)\n",
            "(64, 15, 512)\n",
            "(64, 15, 512)\n"
          ]
        }
      ]
    },
    {
      "cell_type": "markdown",
      "source": [
        "## Causal Self Attention"
      ],
      "metadata": {
        "id": "tXsQFv7pKY-E"
      }
    },
    {
      "cell_type": "code",
      "source": [
        "class CausalSelfAttention(BaseAttention):\n",
        "  def call(self, x):\n",
        "    attn_output = self.mha(\n",
        "        query=x,\n",
        "        value=x,\n",
        "        key=x,\n",
        "        use_causal_mask = True)\n",
        "    x = self.add([x, attn_output])\n",
        "    x = self.layernorm(x)\n",
        "    return x"
      ],
      "metadata": {
        "id": "XegPUftHKbxO",
        "execution": {
          "iopub.status.busy": "2023-10-22T04:43:25.109673Z",
          "iopub.execute_input": "2023-10-22T04:43:25.109995Z",
          "iopub.status.idle": "2023-10-22T04:43:25.115625Z",
          "shell.execute_reply.started": "2023-10-22T04:43:25.109971Z",
          "shell.execute_reply": "2023-10-22T04:43:25.114687Z"
        },
        "trusted": true
      },
      "execution_count": 28,
      "outputs": []
    },
    {
      "cell_type": "code",
      "source": [
        "sample_csa = CausalSelfAttention(num_heads=2, key_dim=512)\n",
        "emb_output_eng = eng_pos(eng)\n",
        "print(emb_output_eng.shape)\n",
        "print(sample_csa(emb_output_eng).shape)"
      ],
      "metadata": {
        "id": "eDQnHr9sKdIV",
        "outputId": "b4ec5b00-a652-4d0d-e85d-68416cfafc42",
        "colab": {
          "base_uri": "https://localhost:8080/"
        },
        "execution": {
          "iopub.status.busy": "2023-10-22T04:43:25.116939Z",
          "iopub.execute_input": "2023-10-22T04:43:25.117206Z",
          "iopub.status.idle": "2023-10-22T04:43:25.174222Z",
          "shell.execute_reply.started": "2023-10-22T04:43:25.117183Z",
          "shell.execute_reply": "2023-10-22T04:43:25.173253Z"
        },
        "trusted": true
      },
      "execution_count": 29,
      "outputs": [
        {
          "output_type": "stream",
          "name": "stdout",
          "text": [
            "(64, 15, 512)\n",
            "(64, 15, 512)\n"
          ]
        }
      ]
    },
    {
      "cell_type": "markdown",
      "source": [
        "## Feedforward Layer"
      ],
      "metadata": {
        "id": "CXsPLh9hN4xL"
      }
    },
    {
      "cell_type": "code",
      "source": [
        "class FeedForward(tf.keras.layers.Layer):\n",
        "  def __init__(self, d_model, dff, dropout_rate=0.1):\n",
        "    super().__init__()\n",
        "    self.seq = tf.keras.Sequential([\n",
        "      tf.keras.layers.Dense(dff, activation='relu'),\n",
        "      tf.keras.layers.Dense(d_model),\n",
        "      tf.keras.layers.Dropout(dropout_rate)\n",
        "    ])\n",
        "    self.add = tf.keras.layers.Add()\n",
        "    self.layer_norm = tf.keras.layers.LayerNormalization()\n",
        "\n",
        "  def call(self, x):\n",
        "    x = self.add([x, self.seq(x)])\n",
        "    x = self.layer_norm(x)\n",
        "    return x\n"
      ],
      "metadata": {
        "id": "XAmJ_GS0W3TW",
        "execution": {
          "iopub.status.busy": "2023-10-22T04:43:25.175801Z",
          "iopub.execute_input": "2023-10-22T04:43:25.176207Z",
          "iopub.status.idle": "2023-10-22T04:43:25.184325Z",
          "shell.execute_reply.started": "2023-10-22T04:43:25.176168Z",
          "shell.execute_reply": "2023-10-22T04:43:25.183350Z"
        },
        "trusted": true
      },
      "execution_count": 30,
      "outputs": []
    },
    {
      "cell_type": "code",
      "source": [
        "sample_ffn = FeedForward(512, 2048)\n",
        "print(sample_ffn(emb_output_eng).shape)"
      ],
      "metadata": {
        "id": "IA0vBi3sQLoN",
        "outputId": "521ad2cc-cc55-4da1-8ec2-f5583994c456",
        "colab": {
          "base_uri": "https://localhost:8080/"
        },
        "execution": {
          "iopub.status.busy": "2023-10-22T04:43:25.185699Z",
          "iopub.execute_input": "2023-10-22T04:43:25.186022Z",
          "iopub.status.idle": "2023-10-22T04:43:25.269065Z",
          "shell.execute_reply.started": "2023-10-22T04:43:25.185995Z",
          "shell.execute_reply": "2023-10-22T04:43:25.267963Z"
        },
        "trusted": true
      },
      "execution_count": 31,
      "outputs": [
        {
          "output_type": "stream",
          "name": "stdout",
          "text": [
            "(64, 15, 512)\n"
          ]
        }
      ]
    },
    {
      "cell_type": "markdown",
      "source": [
        "## Encoder"
      ],
      "metadata": {
        "id": "3bHMYBxqYfyX"
      }
    },
    {
      "cell_type": "code",
      "source": [
        "class EncoderLayer(tf.keras.layers.Layer):\n",
        "  def __init__(self,*, d_model, num_heads, dff, dropout_rate=0.1):\n",
        "    super().__init__()\n",
        "    self.self_attention = GlobalSelfAttention(\n",
        "        num_heads=num_heads,\n",
        "        key_dim=d_model,\n",
        "        dropout=dropout_rate)\n",
        "    self.ffn = FeedForward(d_model, dff)\n",
        "\n",
        "  def call(self, x):\n",
        "    x = self.self_attention(x)\n",
        "    x = self.ffn(x)\n",
        "    return x"
      ],
      "metadata": {
        "id": "Mv2dLw3uZ5LZ",
        "execution": {
          "iopub.status.busy": "2023-10-22T04:43:25.270227Z",
          "iopub.execute_input": "2023-10-22T04:43:25.270544Z",
          "iopub.status.idle": "2023-10-22T04:43:25.277258Z",
          "shell.execute_reply.started": "2023-10-22T04:43:25.270517Z",
          "shell.execute_reply": "2023-10-22T04:43:25.276221Z"
        },
        "trusted": true
      },
      "execution_count": 32,
      "outputs": []
    },
    {
      "cell_type": "code",
      "source": [
        "sample_encoder_layer = EncoderLayer(d_model=512, num_heads=8, dff=2048)\n",
        "print(emb_output_eng.shape)\n",
        "print(sample_encoder_layer(emb_output_eng).shape)"
      ],
      "metadata": {
        "id": "YxYYSA2uSh6n",
        "outputId": "1e67f4a5-b1b3-4def-bd64-5e8e7d5751e2",
        "colab": {
          "base_uri": "https://localhost:8080/"
        },
        "execution": {
          "iopub.status.busy": "2023-10-22T04:43:25.284773Z",
          "iopub.execute_input": "2023-10-22T04:43:25.285074Z",
          "iopub.status.idle": "2023-10-22T04:43:25.385018Z",
          "shell.execute_reply.started": "2023-10-22T04:43:25.285048Z",
          "shell.execute_reply": "2023-10-22T04:43:25.383948Z"
        },
        "trusted": true
      },
      "execution_count": 33,
      "outputs": [
        {
          "output_type": "stream",
          "name": "stdout",
          "text": [
            "(64, 15, 512)\n",
            "(64, 15, 512)\n"
          ]
        }
      ]
    },
    {
      "cell_type": "code",
      "source": [
        "class Encoder(tf.keras.layers.Layer):\n",
        "  def __init__(self, *, num_layers, d_model, num_heads,\n",
        "               dff, vocab_size, dropout_rate=0.1):\n",
        "    super().__init__()\n",
        "    self.d_model = d_model\n",
        "    self.num_layers = num_layers\n",
        "    self.pos_embedding = PositionalEmbedding(\n",
        "        vocab_size=vocab_size, d_model=d_model)\n",
        "    self.enc_layers = [\n",
        "        EncoderLayer(d_model=d_model,\n",
        "                     num_heads=num_heads,\n",
        "                     dff=dff,\n",
        "                     dropout_rate=dropout_rate)\n",
        "        for _ in range(num_layers)]\n",
        "    self.dropout = tf.keras.layers.Dropout(dropout_rate)\n",
        "\n",
        "  def call(self, x):\n",
        "    # `x` is token-IDs shape: (batch, seq_len)\n",
        "    x = self.pos_embedding(x)  # Shape `(batch_size, seq_len, d_model)`.\n",
        "    # Add dropout.\n",
        "    x = self.dropout(x)\n",
        "    for i in range(self.num_layers):\n",
        "      x = self.enc_layers[i](x)\n",
        "    return x  # Shape `(batch_size, seq_len, d_model)`."
      ],
      "metadata": {
        "id": "g2UW3YR7S0Z-",
        "execution": {
          "iopub.status.busy": "2023-10-22T04:43:25.386362Z",
          "iopub.execute_input": "2023-10-22T04:43:25.386808Z",
          "iopub.status.idle": "2023-10-22T04:43:25.396551Z",
          "shell.execute_reply.started": "2023-10-22T04:43:25.386765Z",
          "shell.execute_reply": "2023-10-22T04:43:25.394919Z"
        },
        "trusted": true
      },
      "execution_count": 34,
      "outputs": []
    },
    {
      "cell_type": "code",
      "source": [
        "# Instantiate the encoder.\n",
        "sample_encoder = Encoder(num_layers=4,\n",
        "                         d_model=512,\n",
        "                         num_heads=8,\n",
        "                         dff=2048,\n",
        "                         vocab_size=vocab_size_en)\n",
        "sample_encoder_output = sample_encoder(eng, training=False)\n",
        "print(eng.shape)\n",
        "print(sample_encoder_output.shape)  # Shape `(batch_size, input_seq_len, d_model)`."
      ],
      "metadata": {
        "id": "7C_MFnxcS7gd",
        "outputId": "2e3696c4-c40a-462b-fa4b-7c6cfb36b8ab",
        "colab": {
          "base_uri": "https://localhost:8080/"
        },
        "execution": {
          "iopub.status.busy": "2023-10-22T04:43:25.398120Z",
          "iopub.execute_input": "2023-10-22T04:43:25.398521Z",
          "iopub.status.idle": "2023-10-22T04:43:25.765480Z",
          "shell.execute_reply.started": "2023-10-22T04:43:25.398483Z",
          "shell.execute_reply": "2023-10-22T04:43:25.764291Z"
        },
        "trusted": true
      },
      "execution_count": 35,
      "outputs": [
        {
          "output_type": "stream",
          "name": "stdout",
          "text": [
            "(64, 15)\n",
            "(64, 15, 512)\n"
          ]
        }
      ]
    },
    {
      "cell_type": "markdown",
      "source": [
        "## Decoder"
      ],
      "metadata": {
        "id": "LJ7uvGogY2Qy"
      }
    },
    {
      "cell_type": "code",
      "source": [
        "class DecoderLayer(tf.keras.layers.Layer):\n",
        "  def __init__(self,\n",
        "               *,\n",
        "               d_model,\n",
        "               num_heads,\n",
        "               dff,\n",
        "               dropout_rate=0.1):\n",
        "    super(DecoderLayer, self).__init__()\n",
        "    self.causal_self_attention = CausalSelfAttention(\n",
        "        num_heads=num_heads,\n",
        "        key_dim=d_model,\n",
        "        dropout=dropout_rate)\n",
        "    self.cross_attention = CrossAttention(\n",
        "        num_heads=num_heads,\n",
        "        key_dim=d_model,\n",
        "        dropout=dropout_rate)\n",
        "    self.ffn = FeedForward(d_model, dff)\n",
        "\n",
        "  def call(self, x, context):\n",
        "    x = self.causal_self_attention(x=x)\n",
        "    x = self.cross_attention(x=x, context=context)\n",
        "    # Cache the last attention scores for plotting later\n",
        "    self.last_attn_scores = self.cross_attention.last_attn_scores\n",
        "    x = self.ffn(x)  # Shape `(batch_size, seq_len, d_model)`.\n",
        "    return x"
      ],
      "metadata": {
        "id": "Y6QcpGeXcvsD",
        "execution": {
          "iopub.status.busy": "2023-10-22T04:43:25.766759Z",
          "iopub.execute_input": "2023-10-22T04:43:25.767057Z",
          "iopub.status.idle": "2023-10-22T04:43:25.775392Z",
          "shell.execute_reply.started": "2023-10-22T04:43:25.767032Z",
          "shell.execute_reply": "2023-10-22T04:43:25.774158Z"
        },
        "trusted": true
      },
      "execution_count": 36,
      "outputs": []
    },
    {
      "cell_type": "code",
      "source": [
        "class Decoder(tf.keras.layers.Layer):\n",
        "  def __init__(self, *, num_layers, d_model, num_heads, dff, vocab_size,\n",
        "               dropout_rate=0.1):\n",
        "    super(Decoder, self).__init__()\n",
        "    self.d_model = d_model\n",
        "    self.num_layers = num_layers\n",
        "    self.pos_embedding = PositionalEmbedding(vocab_size=vocab_size,\n",
        "                                             d_model=d_model)\n",
        "    self.dropout = tf.keras.layers.Dropout(dropout_rate)\n",
        "    self.dec_layers = [\n",
        "        DecoderLayer(d_model=d_model, num_heads=num_heads,\n",
        "                     dff=dff, dropout_rate=dropout_rate)\n",
        "        for _ in range(num_layers)]\n",
        "    self.last_attn_scores = None\n",
        "\n",
        "  def call(self, x, context):\n",
        "    # `x` is token-IDs shape (batch, target_seq_len)\n",
        "    x = self.pos_embedding(x)  # (batch_size, target_seq_len, d_model)\n",
        "    x = self.dropout(x)\n",
        "    for i in range(self.num_layers):\n",
        "      x  = self.dec_layers[i](x, context)\n",
        "    self.last_attn_scores = self.dec_layers[-1].last_attn_scores\n",
        "    # The shape of x is (batch_size, target_seq_len, d_model).\n",
        "    return x"
      ],
      "metadata": {
        "id": "huNZYkKMUeS0",
        "execution": {
          "iopub.status.busy": "2023-10-22T04:43:25.909208Z",
          "iopub.execute_input": "2023-10-22T04:43:25.909632Z",
          "iopub.status.idle": "2023-10-22T04:43:25.918906Z",
          "shell.execute_reply.started": "2023-10-22T04:43:25.909595Z",
          "shell.execute_reply": "2023-10-22T04:43:25.917903Z"
        },
        "trusted": true
      },
      "execution_count": 37,
      "outputs": []
    },
    {
      "cell_type": "code",
      "source": [
        "# Instantiate the decoder.\n",
        "sample_decoder = Decoder(num_layers=4,\n",
        "                         d_model=512,\n",
        "                         num_heads=8,\n",
        "                         dff=2048,\n",
        "                         vocab_size=vocab_size_hn)\n",
        "output = sample_decoder(x=hin,context=emb_output_eng)\n",
        "# Print the shapes.\n",
        "print(hin.shape)\n",
        "print(emb_output_hin.shape)\n",
        "print(output.shape)"
      ],
      "metadata": {
        "id": "83Vikt41UhQD",
        "outputId": "1ebcae3e-94ca-47e1-bcd6-30e81841e241",
        "colab": {
          "base_uri": "https://localhost:8080/"
        },
        "execution": {
          "iopub.status.busy": "2023-10-22T04:43:25.920026Z",
          "iopub.execute_input": "2023-10-22T04:43:25.920313Z",
          "iopub.status.idle": "2023-10-22T04:43:26.598556Z",
          "shell.execute_reply.started": "2023-10-22T04:43:25.920287Z",
          "shell.execute_reply": "2023-10-22T04:43:26.597457Z"
        },
        "trusted": true
      },
      "execution_count": 38,
      "outputs": [
        {
          "output_type": "stream",
          "name": "stdout",
          "text": [
            "(64, 15)\n",
            "(64, 15, 512)\n",
            "(64, 15, 512)\n"
          ]
        }
      ]
    },
    {
      "cell_type": "code",
      "source": [
        "sample_decoder.last_attn_scores.shape"
      ],
      "metadata": {
        "id": "e1VgXYNQVMOH",
        "outputId": "09ca63d5-4706-4dc3-b52b-a54d762a8046",
        "colab": {
          "base_uri": "https://localhost:8080/"
        },
        "execution": {
          "iopub.status.busy": "2023-10-22T04:43:26.600061Z",
          "iopub.execute_input": "2023-10-22T04:43:26.600462Z",
          "iopub.status.idle": "2023-10-22T04:43:26.607256Z",
          "shell.execute_reply.started": "2023-10-22T04:43:26.600427Z",
          "shell.execute_reply": "2023-10-22T04:43:26.606238Z"
        },
        "trusted": true
      },
      "execution_count": 39,
      "outputs": [
        {
          "output_type": "execute_result",
          "data": {
            "text/plain": [
              "TensorShape([64, 8, 15, 15])"
            ]
          },
          "metadata": {},
          "execution_count": 39
        }
      ]
    },
    {
      "cell_type": "markdown",
      "source": [
        "## Transformer Model"
      ],
      "metadata": {
        "id": "CRbKuSF8bRIv"
      }
    },
    {
      "cell_type": "code",
      "source": [
        "class Transformer(tf.keras.Model):\n",
        "  def __init__(self, *, num_layers, d_model, num_heads, dff,\n",
        "               input_vocab_size, target_vocab_size, dropout_rate=0.1):\n",
        "    super().__init__()\n",
        "    self.encoder = Encoder(num_layers=num_layers, d_model=d_model,\n",
        "                           num_heads=num_heads, dff=dff,\n",
        "                           vocab_size=input_vocab_size,\n",
        "                           dropout_rate=dropout_rate)\n",
        "\n",
        "    self.decoder = Decoder(num_layers=num_layers, d_model=d_model,\n",
        "                           num_heads=num_heads, dff=dff,\n",
        "                           vocab_size=target_vocab_size,\n",
        "                           dropout_rate=dropout_rate)\n",
        "\n",
        "    self.final_layer = tf.keras.layers.Dense(target_vocab_size)\n",
        "\n",
        "  def call(self, inputs):\n",
        "    # To use a Keras model with `.fit` you must pass all your inputs in the\n",
        "    # first argument.\n",
        "    context, x  = inputs\n",
        "    context = self.encoder(context)  # (batch_size, context_len, d_model)\n",
        "    x = self.decoder(x, context)  # (batch_size, target_len, d_model)\n",
        "    # Final linear layer output.\n",
        "    logits = self.final_layer(x)  # (batch_size, target_len, target_vocab_size)\n",
        "    try:\n",
        "      # Drop the keras mask, so it doesn't scale the losses/metrics.\n",
        "      # b/250038731\n",
        "      del logits._keras_mask\n",
        "    except AttributeError:\n",
        "      pass\n",
        "\n",
        "    # Return the final output and the attention weights.\n",
        "    return logits"
      ],
      "metadata": {
        "id": "f2LpORoYtQJE",
        "execution": {
          "iopub.status.busy": "2023-10-22T04:43:26.608782Z",
          "iopub.execute_input": "2023-10-22T04:43:26.609229Z",
          "iopub.status.idle": "2023-10-22T04:43:26.618875Z",
          "shell.execute_reply.started": "2023-10-22T04:43:26.609201Z",
          "shell.execute_reply": "2023-10-22T04:43:26.617728Z"
        },
        "trusted": true
      },
      "execution_count": 40,
      "outputs": []
    },
    {
      "cell_type": "markdown",
      "source": [
        "## Training Utilities"
      ],
      "metadata": {
        "id": "sHEBhPdXibco"
      }
    },
    {
      "cell_type": "code",
      "source": [
        "class CustomSchedule(tf.keras.optimizers.schedules.LearningRateSchedule):\n",
        "  def __init__(self, key_dim, warmup_steps=4000):\n",
        "    super().__init__()\n",
        "    self.key_dim=key_dim\n",
        "    self.warmup_steps=warmup_steps\n",
        "    self.d=tf.cast(self.key_dim, tf.float32)\n",
        "\n",
        "  def __call__(self, step):\n",
        "    step = tf.cast(step, tf.float32)\n",
        "    arg1 = tf.math.rsqrt(step)\n",
        "    arg2 = step * (self.warmup_steps ** -1.5)\n",
        "    return tf.math.rsqrt(self.d) * tf.math.minimum(arg1, arg2)\n",
        "\n",
        "  def get_config(self):\n",
        "    config = {\n",
        "        \"key_dim\": self.key_dim,\n",
        "        \"warmup_steps\": self.warmup_steps\n",
        "    }\n",
        "    return config\n",
        "\n",
        "key_dim = 512\n",
        "lr = CustomSchedule(key_dim)\n",
        "optimizer = tf.keras.optimizers.Adam(lr, beta_1=0.9, beta_2=0.98, epsilon=1e-9)\n",
        "plt.plot(lr(tf.range(50000, dtype=tf.float32)))\n",
        "plt.ylabel('Learning Rate')\n",
        "plt.xlabel('Train Step')\n",
        "plt.show()"
      ],
      "metadata": {
        "colab": {
          "base_uri": "https://localhost:8080/",
          "height": 449
        },
        "id": "LpJUx205idZx",
        "outputId": "1916458a-42ff-4226-a4de-19c5b56b0db0",
        "execution": {
          "iopub.status.busy": "2023-10-22T04:43:26.620271Z",
          "iopub.execute_input": "2023-10-22T04:43:26.620641Z",
          "iopub.status.idle": "2023-10-22T04:43:26.930907Z",
          "shell.execute_reply.started": "2023-10-22T04:43:26.620614Z",
          "shell.execute_reply": "2023-10-22T04:43:26.929922Z"
        },
        "trusted": true
      },
      "execution_count": 41,
      "outputs": [
        {
          "output_type": "display_data",
          "data": {
            "text/plain": [
              "<Figure size 640x480 with 1 Axes>"
            ],
            "image/png": "[encoded data removed]"
          },
          "metadata": {}
        }
      ]
    },
    {
      "cell_type": "code",
      "source": [
        "def masked_loss(label, pred):\n",
        "  mask = label != 0\n",
        "  loss_object = tf.keras.losses.SparseCategoricalCrossentropy(from_logits=True, reduction='none')\n",
        "  loss = loss_object(label, pred)\n",
        "  mask = tf.cast(mask, dtype=loss.dtype)\n",
        "  loss *= mask\n",
        "  loss = tf.reduce_sum(loss)/tf.reduce_sum(mask)\n",
        "  return loss\n",
        "\n",
        "def masked_accuracy(label, pred):\n",
        "  pred = tf.argmax(pred, axis=2)\n",
        "  label = tf.cast(label, dtype=pred.dtype)\n",
        "  match = pred==label\n",
        "  mask = label !=0\n",
        "  match = match & mask\n",
        "  match = tf.cast(match, dtype=tf.float32)\n",
        "  mask = tf.cast(mask, dtype=tf.float32)\n",
        "  return tf.reduce_sum(match) / tf.reduce_sum(mask)\n"
      ],
      "metadata": {
        "id": "t0qrwEIX14E8",
        "execution": {
          "iopub.status.busy": "2023-10-22T04:43:26.932256Z",
          "iopub.execute_input": "2023-10-22T04:43:26.932649Z",
          "iopub.status.idle": "2023-10-22T04:43:26.940582Z",
          "shell.execute_reply.started": "2023-10-22T04:43:26.932614Z",
          "shell.execute_reply": "2023-10-22T04:43:26.939591Z"
        },
        "trusted": true
      },
      "execution_count": 42,
      "outputs": []
    },
    {
      "cell_type": "markdown",
      "source": [
        "## Final Model"
      ],
      "metadata": {
        "id": "YUwhaPsp3Qur"
      }
    },
    {
      "cell_type": "code",
      "source": [
        "# Parameters\n",
        "n_sentences = None\n",
        "num_layers = 4\n",
        "d_model = 512\n",
        "dff = 512\n",
        "num_heads = 8\n",
        "dropout_rate = 0.2"
      ],
      "metadata": {
        "id": "AvEUKOmqfx4y",
        "execution": {
          "iopub.status.busy": "2023-10-22T04:43:26.941902Z",
          "iopub.execute_input": "2023-10-22T04:43:26.942239Z",
          "iopub.status.idle": "2023-10-22T04:43:37.961616Z",
          "shell.execute_reply.started": "2023-10-22T04:43:26.942213Z",
          "shell.execute_reply": "2023-10-22T04:43:37.960551Z"
        },
        "trusted": true
      },
      "execution_count": 43,
      "outputs": []
    },
    {
      "cell_type": "code",
      "source": [
        "model = Transformer(\n",
        "    num_layers=num_layers,\n",
        "    d_model=d_model,\n",
        "    num_heads=num_heads,\n",
        "    dff=dff,\n",
        "    input_vocab_size=vocab_size_en,\n",
        "    target_vocab_size=vocab_size_hn,\n",
        "    dropout_rate=dropout_rate)\n",
        "lr = CustomSchedule(512)\n",
        "optimizer = tf.keras.optimizers.Adam(lr, beta_1=0.9, beta_2=0.98, epsilon=1e-9)\n",
        "model.compile(loss=masked_loss, optimizer=optimizer, metrics=[masked_accuracy])\n"
      ],
      "metadata": {
        "id": "2p2LASBd5SYN",
        "execution": {
          "iopub.status.busy": "2023-10-22T04:43:37.963032Z",
          "iopub.execute_input": "2023-10-22T04:43:37.963351Z",
          "iopub.status.idle": "2023-10-22T04:43:38.131246Z",
          "shell.execute_reply.started": "2023-10-22T04:43:37.963324Z",
          "shell.execute_reply": "2023-10-22T04:43:38.130301Z"
        },
        "trusted": true
      },
      "execution_count": 44,
      "outputs": []
    },
    {
      "cell_type": "markdown",
      "source": [
        "## Training"
      ],
      "metadata": {
        "id": "Iw0Z-2Us3vGw"
      }
    },
    {
      "cell_type": "code",
      "source": [
        "epochs = 15\n",
        "history = model.fit(train_ds, epochs=epochs, validation_data=val_ds)\n",
        "\n",
        "# Plot the loss and accuracy history\n",
        "fig, axs = plt.subplots(2, figsize=(6, 8), sharex=True)\n",
        "fig.suptitle('Traininig history')\n",
        "x = list(range(1, epochs+1))\n",
        "axs[0].plot(x, history.history[\"loss\"], alpha=0.5, label=\"loss\")\n",
        "axs[0].plot(x, history.history[\"val_loss\"], alpha=0.5, label=\"val_loss\")\n",
        "axs[0].set_ylabel(\"Loss\")\n",
        "axs[0].legend(loc=\"upper right\")\n",
        "axs[1].plot(x, history.history[\"masked_accuracy\"], alpha=0.5, label=\"acc\")\n",
        "axs[1].plot(x, history.history[\"val_masked_accuracy\"], alpha=0.5, label=\"val_acc\")\n",
        "axs[1].set_ylabel(\"Accuracy\")\n",
        "axs[1].set_xlabel(\"epoch\")\n",
        "axs[1].legend(loc=\"lower right\")\n",
        "plt.show()"
      ],
      "metadata": {
        "colab": {
          "base_uri": "https://localhost:8080/",
          "height": 1000
        },
        "id": "7MrIMDm34B7c",
        "outputId": "41491fcf-d51b-4f59-fcd2-fd83a1e39614",
        "execution": {
          "iopub.status.busy": "2023-10-22T04:43:38.875671Z",
          "iopub.execute_input": "2023-10-22T04:43:38.876041Z"
        },
        "trusted": true
      },
      "execution_count": 45,
      "outputs": [
        {
          "output_type": "stream",
          "name": "stdout",
          "text": [
            "Epoch 1/15\n",
            "723/723 [==============================] - 337s 428ms/step - loss: 7.6864 - masked_accuracy: 0.1362 - val_loss: 6.2269 - val_masked_accuracy: 0.1985\n",
            "Epoch 2/15\n",
            "723/723 [==============================] - 306s 423ms/step - loss: 5.7349 - masked_accuracy: 0.2323 - val_loss: 5.4802 - val_masked_accuracy: 0.2643\n",
            "Epoch 3/15\n",
            "723/723 [==============================] - 306s 424ms/step - loss: 5.0229 - masked_accuracy: 0.2828 - val_loss: 5.1106 - val_masked_accuracy: 0.2970\n",
            "Epoch 4/15\n",
            "723/723 [==============================] - 306s 423ms/step - loss: 4.4843 - masked_accuracy: 0.3226 - val_loss: 4.9016 - val_masked_accuracy: 0.3150\n",
            "Epoch 5/15\n",
            "723/723 [==============================] - 306s 423ms/step - loss: 4.0151 - masked_accuracy: 0.3582 - val_loss: 4.7609 - val_masked_accuracy: 0.3335\n",
            "Epoch 6/15\n",
            "723/723 [==============================] - 306s 423ms/step - loss: 3.5947 - masked_accuracy: 0.3956 - val_loss: 4.6646 - val_masked_accuracy: 0.3475\n",
            "Epoch 7/15\n",
            "723/723 [==============================] - 306s 423ms/step - loss: 3.0964 - masked_accuracy: 0.4498 - val_loss: 4.6093 - val_masked_accuracy: 0.3626\n",
            "Epoch 8/15\n",
            "723/723 [==============================] - 305s 423ms/step - loss: 2.6360 - masked_accuracy: 0.5073 - val_loss: 4.5850 - val_masked_accuracy: 0.3702\n",
            "Epoch 9/15\n",
            "723/723 [==============================] - 305s 422ms/step - loss: 2.2409 - masked_accuracy: 0.5634 - val_loss: 4.6511 - val_masked_accuracy: 0.3772\n",
            "Epoch 10/15\n",
            "723/723 [==============================] - 305s 422ms/step - loss: 1.9225 - masked_accuracy: 0.6135 - val_loss: 4.6840 - val_masked_accuracy: 0.3885\n",
            "Epoch 11/15\n",
            "723/723 [==============================] - 305s 422ms/step - loss: 1.6712 - masked_accuracy: 0.6556 - val_loss: 4.7274 - val_masked_accuracy: 0.3950\n",
            "Epoch 12/15\n",
            "723/723 [==============================] - 305s 422ms/step - loss: 1.4732 - masked_accuracy: 0.6904 - val_loss: 4.8156 - val_masked_accuracy: 0.3983\n",
            "Epoch 13/15\n",
            "723/723 [==============================] - 305s 421ms/step - loss: 1.3212 - masked_accuracy: 0.7204 - val_loss: 4.9034 - val_masked_accuracy: 0.4028\n",
            "Epoch 14/15\n",
            "723/723 [==============================] - 305s 421ms/step - loss: 1.1541 - masked_accuracy: 0.7527 - val_loss: 5.0161 - val_masked_accuracy: 0.4031\n",
            "Epoch 15/15\n",
            "723/723 [==============================] - 305s 422ms/step - loss: 1.0362 - masked_accuracy: 0.7765 - val_loss: 5.2105 - val_masked_accuracy: 0.4046\n"
          ]
        },
        {
          "output_type": "display_data",
          "data": {
            "text/plain": [
              "<Figure size 600x800 with 2 Axes>"
            ],
            "image/png": "[encoded data removed]"
          },
          "metadata": {}
        }
      ]
    },
    {
      "cell_type": "code",
      "source": [
        "# training parameters used\n",
        "seq_len = 20\n",
        "def translate(sentence):\n",
        "    \"\"\"Create the translated sentence\"\"\"\n",
        "    enc_tokens = eng_vectorizer([sentence])\n",
        "    lookup = list(hin_vectorizer.get_vocabulary())\n",
        "    start_sentinel, end_sentinel = \"[start]\", \"[end]\"\n",
        "    output_sentence = [start_sentinel]\n",
        "    # generate the translated sentence word by word\n",
        "    for i in range(seq_len):\n",
        "        vector = hin_vectorizer([\" \".join(output_sentence)])\n",
        "        dec_tokens = vector[:, :-1]\n",
        "        pred = model([enc_tokens, dec_tokens])\n",
        "        word = lookup[np.argmax(pred[0, i, :])]\n",
        "        output_sentence.append(word)\n",
        "        if word == end_sentinel:\n",
        "            break\n",
        "    return output_sentence\n",
        "\n",
        "test_count = 5\n",
        "for n in range(test_count):\n",
        "    english_sentence, Hindi_sentence = random.choice(val_tp)\n",
        "    translated = translate(english_sentence)\n",
        "    print(f\"Test {n}:\")\n",
        "    print(f\"{english_sentence}\")\n",
        "    print(f\"== {Hindi_sentence}\")\n",
        "    print(f\"-> {' '.join(translated)}\")\n",
        "    print()"
      ],
      "metadata": {
        "id": "MQgnnk9NSZTQ",
        "trusted": true,
        "colab": {
          "base_uri": "https://localhost:8080/"
        },
        "outputId": "1184e491-a6d6-4016-c5a4-4b300e1a7c40"
      },
      "execution_count": 46,
      "outputs": [
        {
          "output_type": "stream",
          "name": "stdout",
          "text": [
            "Test 0:\n",
            "[start] because by the time you're a social worker for 10 years [end]\n",
            "== [start] क्योंकि 10 सालों तक समाज सेवा करने के बाद, [end]\n",
            "-> [start] क्यूंकि आप दस साल के शहर में एक सामाजिक क्रांतिकारी होना चाहिए. [end]\n",
            "\n",
            "Test 1:\n",
            "[start] to suss out clues [end]\n",
            "== [start] उन ग्रहों के सुरागो को [end]\n",
            "-> [start] वाह्य सूत्र [end]\n",
            "\n",
            "Test 2:\n",
            "[start] that is why millions of people doodle [end]\n",
            "== [start] इसलिये दसियों लाख लोग ऐसा करते हैं। [end]\n",
            "-> [start] इसीलिए आम मेक्सिको के लोग इस कारण हैं कि [end]\n",
            "\n",
            "Test 3:\n",
            "[start] uttarkand is the epilogue of the rama's story [end]\n",
            "== [start] उत्तरकाण्ड राम कथा का उपसंहार है। [end]\n",
            "-> [start] उत्तरकाण्ड का समापन राम की संतोपंथ की चोटियों में है। [end]\n",
            "\n",
            "Test 4:\n",
            "[start] and they are deliberately distorting it [end]\n",
            "== [start] और वे जान - बूझकर उसे विकृत कर रहे हैं [end]\n",
            "-> [start] और वे वनस्पति विविधता का स्रोत बना रहे हैं, [end]\n",
            "\n"
          ]
        }
      ]
    },
    {
      "cell_type": "code",
      "source": [
        "\n"
      ],
      "metadata": {
        "id": "pnOY3YaFuykv"
      },
      "execution_count": 46,
      "outputs": []
    },
    {
      "cell_type": "code",
      "source": [],
      "metadata": {
        "id": "RyXCibz7DdGT"
      },
      "execution_count": 46,
      "outputs": []
    }
  ]
}