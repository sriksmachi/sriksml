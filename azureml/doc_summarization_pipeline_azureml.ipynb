{
 "cells": [
  {
   "cell_type": "code",
   "execution_count": 1,
   "metadata": {},
   "outputs": [
    {
     "name": "stdout",
     "output_type": "stream",
     "text": [
      "Note: you may need to restart the kernel to use updated packages.\n",
      "Requirement already satisfied: azureml-rag[azure,cognitive_search]>=0.2.2 in /anaconda/envs/azureml_py38_PT_TF/lib/python3.8/site-packages (0.2.26)\n",
      "Requirement already satisfied: openai>=0.27.8 in /anaconda/envs/azureml_py38_PT_TF/lib/python3.8/site-packages (from azureml-rag[azure,cognitive_search]>=0.2.2) (1.13.3)\n",
      "Requirement already satisfied: requests in /anaconda/envs/azureml_py38_PT_TF/lib/python3.8/site-packages (from azureml-rag[azure,cognitive_search]>=0.2.2) (2.31.0)\n",
      "Requirement already satisfied: azureml-fsspec in /anaconda/envs/azureml_py38_PT_TF/lib/python3.8/site-packages (from azureml-rag[azure,cognitive_search]>=0.2.2) (1.3.1)\n",
      "Requirement already satisfied: tiktoken<0.6 in /anaconda/envs/azureml_py38_PT_TF/lib/python3.8/site-packages (from azureml-rag[azure,cognitive_search]>=0.2.2) (0.5.2)\n",
      "Requirement already satisfied: mmh3 in /anaconda/envs/azureml_py38_PT_TF/lib/python3.8/site-packages (from azureml-rag[azure,cognitive_search]>=0.2.2) (4.1.0)\n",
      "Requirement already satisfied: fsspec~=2023.3 in /anaconda/envs/azureml_py38_PT_TF/lib/python3.8/site-packages (from azureml-rag[azure,cognitive_search]>=0.2.2) (2023.10.0)\n",
      "Requirement already satisfied: cloudpickle in /anaconda/envs/azureml_py38_PT_TF/lib/python3.8/site-packages (from azureml-rag[azure,cognitive_search]>=0.2.2) (2.2.1)\n",
      "Requirement already satisfied: pyyaml<7.0.0,>=5.1.0 in /anaconda/envs/azureml_py38_PT_TF/lib/python3.8/site-packages (from azureml-rag[azure,cognitive_search]>=0.2.2) (6.0)\n",
      "Requirement already satisfied: azureml-dataprep[parquet]>4.11 in /anaconda/envs/azureml_py38_PT_TF/lib/python3.8/site-packages (from azureml-rag[azure,cognitive_search]>=0.2.2) (5.1.6)\n",
      "Requirement already satisfied: azure-ai-ml>=1.10.0 in /anaconda/envs/azureml_py38_PT_TF/lib/python3.8/site-packages (from azureml-rag[azure,cognitive_search]>=0.2.2) (1.14.0)\n",
      "Requirement already satisfied: azure-search-documents==11.4.0b8 in /anaconda/envs/azureml_py38_PT_TF/lib/python3.8/site-packages (from azureml-rag[azure,cognitive_search]>=0.2.2) (11.4.0b8)\n",
      "Requirement already satisfied: azure-common~=1.1 in /anaconda/envs/azureml_py38_PT_TF/lib/python3.8/site-packages (from azure-search-documents==11.4.0b8->azureml-rag[azure,cognitive_search]>=0.2.2) (1.1.28)\n",
      "Requirement already satisfied: azure-core<2.0.0,>=1.24.0 in /anaconda/envs/azureml_py38_PT_TF/lib/python3.8/site-packages (from azure-search-documents==11.4.0b8->azureml-rag[azure,cognitive_search]>=0.2.2) (1.30.1)\n",
      "Requirement already satisfied: isodate>=0.6.0 in /anaconda/envs/azureml_py38_PT_TF/lib/python3.8/site-packages (from azure-search-documents==11.4.0b8->azureml-rag[azure,cognitive_search]>=0.2.2) (0.6.1)\n",
      "Requirement already satisfied: pydash>=6.0.0 in /anaconda/envs/azureml_py38_PT_TF/lib/python3.8/site-packages (from azure-ai-ml>=1.10.0->azureml-rag[azure,cognitive_search]>=0.2.2) (7.0.5)\n",
      "Requirement already satisfied: colorama<0.5.0 in /anaconda/envs/azureml_py38_PT_TF/lib/python3.8/site-packages (from azure-ai-ml>=1.10.0->azureml-rag[azure,cognitive_search]>=0.2.2) (0.4.6)\n",
      "Requirement already satisfied: strictyaml<2.0.0 in /anaconda/envs/azureml_py38_PT_TF/lib/python3.8/site-packages (from azure-ai-ml>=1.10.0->azureml-rag[azure,cognitive_search]>=0.2.2) (1.7.3)\n",
      "Requirement already satisfied: azure-mgmt-core<2.0.0,>=1.3.0 in /anaconda/envs/azureml_py38_PT_TF/lib/python3.8/site-packages (from azure-ai-ml>=1.10.0->azureml-rag[azure,cognitive_search]>=0.2.2) (1.4.0)\n",
      "Requirement already satisfied: marshmallow<4.0.0,>=3.5 in /anaconda/envs/azureml_py38_PT_TF/lib/python3.8/site-packages (from azure-ai-ml>=1.10.0->azureml-rag[azure,cognitive_search]>=0.2.2) (3.21.1)\n",
      "Requirement already satisfied: msrest>=0.6.18 in /anaconda/envs/azureml_py38_PT_TF/lib/python3.8/site-packages (from azure-ai-ml>=1.10.0->azureml-rag[azure,cognitive_search]>=0.2.2) (0.7.1)\n",
      "Requirement already satisfied: typing-extensions<5.0.0 in /anaconda/envs/azureml_py38_PT_TF/lib/python3.8/site-packages (from azure-ai-ml>=1.10.0->azureml-rag[azure,cognitive_search]>=0.2.2) (4.10.0)\n",
      "Requirement already satisfied: pyjwt<3.0.0 in /anaconda/envs/azureml_py38_PT_TF/lib/python3.8/site-packages (from azure-ai-ml>=1.10.0->azureml-rag[azure,cognitive_search]>=0.2.2) (2.7.0)\n",
      "Requirement already satisfied: jsonschema<5.0.0,>=4.0.0 in /anaconda/envs/azureml_py38_PT_TF/lib/python3.8/site-packages (from azure-ai-ml>=1.10.0->azureml-rag[azure,cognitive_search]>=0.2.2) (4.17.3)\n",
      "Requirement already satisfied: opencensus-ext-logging<=0.1.1 in /anaconda/envs/azureml_py38_PT_TF/lib/python3.8/site-packages (from azure-ai-ml>=1.10.0->azureml-rag[azure,cognitive_search]>=0.2.2) (0.1.1)\n",
      "Requirement already satisfied: azure-storage-file-share<13.0.0 in /anaconda/envs/azureml_py38_PT_TF/lib/python3.8/site-packages (from azure-ai-ml>=1.10.0->azureml-rag[azure,cognitive_search]>=0.2.2) (12.15.0)\n",
      "Requirement already satisfied: azure-storage-file-datalake<13.0.0 in /anaconda/envs/azureml_py38_PT_TF/lib/python3.8/site-packages (from azure-ai-ml>=1.10.0->azureml-rag[azure,cognitive_search]>=0.2.2) (12.14.0)\n",
      "Requirement already satisfied: tqdm<5.0.0 in /anaconda/envs/azureml_py38_PT_TF/lib/python3.8/site-packages (from azure-ai-ml>=1.10.0->azureml-rag[azure,cognitive_search]>=0.2.2) (4.65.0)\n",
      "Requirement already satisfied: opencensus-ext-azure<2.0.0 in /anaconda/envs/azureml_py38_PT_TF/lib/python3.8/site-packages (from azure-ai-ml>=1.10.0->azureml-rag[azure,cognitive_search]>=0.2.2) (1.1.9)\n",
      "Requirement already satisfied: azure-storage-blob<13.0.0,>=12.10.0 in /anaconda/envs/azureml_py38_PT_TF/lib/python3.8/site-packages (from azure-ai-ml>=1.10.0->azureml-rag[azure,cognitive_search]>=0.2.2) (12.19.0)\n",
      "Requirement already satisfied: azureml-dataprep-native<42.0.0,>=41.0.0 in /anaconda/envs/azureml_py38_PT_TF/lib/python3.8/site-packages (from azureml-dataprep[parquet]>4.11->azureml-rag[azure,cognitive_search]>=0.2.2) (41.0.0)\n",
      "Requirement already satisfied: azureml-dataprep-rslex~=2.22.2dev0 in /anaconda/envs/azureml_py38_PT_TF/lib/python3.8/site-packages (from azureml-dataprep[parquet]>4.11->azureml-rag[azure,cognitive_search]>=0.2.2) (2.22.2)\n",
      "Requirement already satisfied: azure-identity>=1.7.0 in /anaconda/envs/azureml_py38_PT_TF/lib/python3.8/site-packages (from azureml-dataprep[parquet]>4.11->azureml-rag[azure,cognitive_search]>=0.2.2) (1.13.0)\n",
      "Requirement already satisfied: pyarrow>=0.17.0 in /anaconda/envs/azureml_py38_PT_TF/lib/python3.8/site-packages (from azureml-dataprep[parquet]>4.11->azureml-rag[azure,cognitive_search]>=0.2.2) (9.0.0)\n",
      "Requirement already satisfied: pydantic<3,>=1.9.0 in /anaconda/envs/azureml_py38_PT_TF/lib/python3.8/site-packages (from openai>=0.27.8->azureml-rag[azure,cognitive_search]>=0.2.2) (1.10.9)\n",
      "Requirement already satisfied: httpx<1,>=0.23.0 in /anaconda/envs/azureml_py38_PT_TF/lib/python3.8/site-packages (from openai>=0.27.8->azureml-rag[azure,cognitive_search]>=0.2.2) (0.27.0)\n",
      "Requirement already satisfied: sniffio in /anaconda/envs/azureml_py38_PT_TF/lib/python3.8/site-packages (from openai>=0.27.8->azureml-rag[azure,cognitive_search]>=0.2.2) (1.3.1)\n",
      "Requirement already satisfied: anyio<5,>=3.5.0 in /anaconda/envs/azureml_py38_PT_TF/lib/python3.8/site-packages (from openai>=0.27.8->azureml-rag[azure,cognitive_search]>=0.2.2) (4.3.0)\n",
      "Requirement already satisfied: distro<2,>=1.7.0 in /anaconda/envs/azureml_py38_PT_TF/lib/python3.8/site-packages (from openai>=0.27.8->azureml-rag[azure,cognitive_search]>=0.2.2) (1.8.0)\n",
      "Requirement already satisfied: regex>=2022.1.18 in /anaconda/envs/azureml_py38_PT_TF/lib/python3.8/site-packages (from tiktoken<0.6->azureml-rag[azure,cognitive_search]>=0.2.2) (2023.12.25)\n",
      "Requirement already satisfied: idna<4,>=2.5 in /anaconda/envs/azureml_py38_PT_TF/lib/python3.8/site-packages (from requests->azureml-rag[azure,cognitive_search]>=0.2.2) (3.4)\n",
      "Requirement already satisfied: certifi>=2017.4.17 in /anaconda/envs/azureml_py38_PT_TF/lib/python3.8/site-packages (from requests->azureml-rag[azure,cognitive_search]>=0.2.2) (2023.5.7)\n",
      "Requirement already satisfied: charset-normalizer<4,>=2 in /anaconda/envs/azureml_py38_PT_TF/lib/python3.8/site-packages (from requests->azureml-rag[azure,cognitive_search]>=0.2.2) (3.1.0)\n",
      "Requirement already satisfied: urllib3<3,>=1.21.1 in /anaconda/envs/azureml_py38_PT_TF/lib/python3.8/site-packages (from requests->azureml-rag[azure,cognitive_search]>=0.2.2) (1.26.16)\n",
      "Requirement already satisfied: pytz in /anaconda/envs/azureml_py38_PT_TF/lib/python3.8/site-packages (from azureml-fsspec->azureml-rag[azure,cognitive_search]>=0.2.2) (2023.3)\n",
      "Requirement already satisfied: exceptiongroup>=1.0.2 in /anaconda/envs/azureml_py38_PT_TF/lib/python3.8/site-packages (from anyio<5,>=3.5.0->openai>=0.27.8->azureml-rag[azure,cognitive_search]>=0.2.2) (1.2.0)\n",
      "Requirement already satisfied: six>=1.11.0 in /anaconda/envs/azureml_py38_PT_TF/lib/python3.8/site-packages (from azure-core<2.0.0,>=1.24.0->azure-search-documents==11.4.0b8->azureml-rag[azure,cognitive_search]>=0.2.2) (1.16.0)\n",
      "Requirement already satisfied: cryptography>=2.5 in /anaconda/envs/azureml_py38_PT_TF/lib/python3.8/site-packages (from azure-identity>=1.7.0->azureml-dataprep[parquet]>4.11->azureml-rag[azure,cognitive_search]>=0.2.2) (41.0.1)\n",
      "Requirement already satisfied: msal<2.0.0,>=1.20.0 in /anaconda/envs/azureml_py38_PT_TF/lib/python3.8/site-packages (from azure-identity>=1.7.0->azureml-dataprep[parquet]>4.11->azureml-rag[azure,cognitive_search]>=0.2.2) (1.22.0)\n",
      "Requirement already satisfied: msal-extensions<2.0.0,>=0.3.0 in /anaconda/envs/azureml_py38_PT_TF/lib/python3.8/site-packages (from azure-identity>=1.7.0->azureml-dataprep[parquet]>4.11->azureml-rag[azure,cognitive_search]>=0.2.2) (1.0.0)\n",
      "Requirement already satisfied: httpcore==1.* in /anaconda/envs/azureml_py38_PT_TF/lib/python3.8/site-packages (from httpx<1,>=0.23.0->openai>=0.27.8->azureml-rag[azure,cognitive_search]>=0.2.2) (1.0.4)\n",
      "Requirement already satisfied: h11<0.15,>=0.13 in /anaconda/envs/azureml_py38_PT_TF/lib/python3.8/site-packages (from httpcore==1.*->httpx<1,>=0.23.0->openai>=0.27.8->azureml-rag[azure,cognitive_search]>=0.2.2) (0.14.0)\n",
      "Requirement already satisfied: pyrsistent!=0.17.0,!=0.17.1,!=0.17.2,>=0.14.0 in /anaconda/envs/azureml_py38_PT_TF/lib/python3.8/site-packages (from jsonschema<5.0.0,>=4.0.0->azure-ai-ml>=1.10.0->azureml-rag[azure,cognitive_search]>=0.2.2) (0.19.3)\n",
      "Requirement already satisfied: attrs>=17.4.0 in /anaconda/envs/azureml_py38_PT_TF/lib/python3.8/site-packages (from jsonschema<5.0.0,>=4.0.0->azure-ai-ml>=1.10.0->azureml-rag[azure,cognitive_search]>=0.2.2) (23.1.0)\n",
      "Requirement already satisfied: pkgutil-resolve-name>=1.3.10 in /anaconda/envs/azureml_py38_PT_TF/lib/python3.8/site-packages (from jsonschema<5.0.0,>=4.0.0->azure-ai-ml>=1.10.0->azureml-rag[azure,cognitive_search]>=0.2.2) (1.3.10)\n",
      "Requirement already satisfied: importlib-resources>=1.4.0 in /anaconda/envs/azureml_py38_PT_TF/lib/python3.8/site-packages (from jsonschema<5.0.0,>=4.0.0->azure-ai-ml>=1.10.0->azureml-rag[azure,cognitive_search]>=0.2.2) (5.12.0)\n",
      "Requirement already satisfied: packaging>=17.0 in /anaconda/envs/azureml_py38_PT_TF/lib/python3.8/site-packages (from marshmallow<4.0.0,>=3.5->azure-ai-ml>=1.10.0->azureml-rag[azure,cognitive_search]>=0.2.2) (23.1)\n",
      "Requirement already satisfied: requests-oauthlib>=0.5.0 in /anaconda/envs/azureml_py38_PT_TF/lib/python3.8/site-packages (from msrest>=0.6.18->azure-ai-ml>=1.10.0->azureml-rag[azure,cognitive_search]>=0.2.2) (1.3.1)\n",
      "Requirement already satisfied: psutil>=5.6.3 in /anaconda/envs/azureml_py38_PT_TF/lib/python3.8/site-packages (from opencensus-ext-azure<2.0.0->azure-ai-ml>=1.10.0->azureml-rag[azure,cognitive_search]>=0.2.2) (5.9.5)\n",
      "Requirement already satisfied: opencensus<1.0.0,>=0.11.2 in /anaconda/envs/azureml_py38_PT_TF/lib/python3.8/site-packages (from opencensus-ext-azure<2.0.0->azure-ai-ml>=1.10.0->azureml-rag[azure,cognitive_search]>=0.2.2) (0.11.2)\n",
      "Requirement already satisfied: numpy>=1.16.6 in /anaconda/envs/azureml_py38_PT_TF/lib/python3.8/site-packages (from pyarrow>=0.17.0->azureml-dataprep[parquet]>4.11->azureml-rag[azure,cognitive_search]>=0.2.2) (1.23.5)\n",
      "Requirement already satisfied: python-dateutil>=2.6.0 in /anaconda/envs/azureml_py38_PT_TF/lib/python3.8/site-packages (from strictyaml<2.0.0->azure-ai-ml>=1.10.0->azureml-rag[azure,cognitive_search]>=0.2.2) (2.8.2)\n",
      "Requirement already satisfied: cffi>=1.12 in /anaconda/envs/azureml_py38_PT_TF/lib/python3.8/site-packages (from cryptography>=2.5->azure-identity>=1.7.0->azureml-dataprep[parquet]>4.11->azureml-rag[azure,cognitive_search]>=0.2.2) (1.15.1)\n",
      "Requirement already satisfied: zipp>=3.1.0 in /anaconda/envs/azureml_py38_PT_TF/lib/python3.8/site-packages (from importlib-resources>=1.4.0->jsonschema<5.0.0,>=4.0.0->azure-ai-ml>=1.10.0->azureml-rag[azure,cognitive_search]>=0.2.2) (3.15.0)\n",
      "Requirement already satisfied: portalocker<3,>=1.0 in /anaconda/envs/azureml_py38_PT_TF/lib/python3.8/site-packages (from msal-extensions<2.0.0,>=0.3.0->azure-identity>=1.7.0->azureml-dataprep[parquet]>4.11->azureml-rag[azure,cognitive_search]>=0.2.2) (2.7.0)\n",
      "Requirement already satisfied: opencensus-context>=0.1.3 in /anaconda/envs/azureml_py38_PT_TF/lib/python3.8/site-packages (from opencensus<1.0.0,>=0.11.2->opencensus-ext-azure<2.0.0->azure-ai-ml>=1.10.0->azureml-rag[azure,cognitive_search]>=0.2.2) (0.1.3)\n",
      "Requirement already satisfied: google-api-core<3.0.0,>=1.0.0 in /anaconda/envs/azureml_py38_PT_TF/lib/python3.8/site-packages (from opencensus<1.0.0,>=0.11.2->opencensus-ext-azure<2.0.0->azure-ai-ml>=1.10.0->azureml-rag[azure,cognitive_search]>=0.2.2) (2.11.1)\n",
      "Requirement already satisfied: oauthlib>=3.0.0 in /anaconda/envs/azureml_py38_PT_TF/lib/python3.8/site-packages (from requests-oauthlib>=0.5.0->msrest>=0.6.18->azure-ai-ml>=1.10.0->azureml-rag[azure,cognitive_search]>=0.2.2) (3.2.2)\n",
      "Requirement already satisfied: pycparser in /anaconda/envs/azureml_py38_PT_TF/lib/python3.8/site-packages (from cffi>=1.12->cryptography>=2.5->azure-identity>=1.7.0->azureml-dataprep[parquet]>4.11->azureml-rag[azure,cognitive_search]>=0.2.2) (2.21)\n",
      "Requirement already satisfied: protobuf!=3.20.0,!=3.20.1,!=4.21.0,!=4.21.1,!=4.21.2,!=4.21.3,!=4.21.4,!=4.21.5,<5.0.0.dev0,>=3.19.5 in /anaconda/envs/azureml_py38_PT_TF/lib/python3.8/site-packages (from google-api-core<3.0.0,>=1.0.0->opencensus<1.0.0,>=0.11.2->opencensus-ext-azure<2.0.0->azure-ai-ml>=1.10.0->azureml-rag[azure,cognitive_search]>=0.2.2) (3.19.6)\n",
      "Requirement already satisfied: googleapis-common-protos<2.0.dev0,>=1.56.2 in /anaconda/envs/azureml_py38_PT_TF/lib/python3.8/site-packages (from google-api-core<3.0.0,>=1.0.0->opencensus<1.0.0,>=0.11.2->opencensus-ext-azure<2.0.0->azure-ai-ml>=1.10.0->azureml-rag[azure,cognitive_search]>=0.2.2) (1.59.1)\n",
      "Requirement already satisfied: google-auth<3.0.dev0,>=2.14.1 in /anaconda/envs/azureml_py38_PT_TF/lib/python3.8/site-packages (from google-api-core<3.0.0,>=1.0.0->opencensus<1.0.0,>=0.11.2->opencensus-ext-azure<2.0.0->azure-ai-ml>=1.10.0->azureml-rag[azure,cognitive_search]>=0.2.2) (2.20.0)\n",
      "Requirement already satisfied: rsa<5,>=3.1.4 in /anaconda/envs/azureml_py38_PT_TF/lib/python3.8/site-packages (from google-auth<3.0.dev0,>=2.14.1->google-api-core<3.0.0,>=1.0.0->opencensus<1.0.0,>=0.11.2->opencensus-ext-azure<2.0.0->azure-ai-ml>=1.10.0->azureml-rag[azure,cognitive_search]>=0.2.2) (4.9)\n",
      "Requirement already satisfied: cachetools<6.0,>=2.0.0 in /anaconda/envs/azureml_py38_PT_TF/lib/python3.8/site-packages (from google-auth<3.0.dev0,>=2.14.1->google-api-core<3.0.0,>=1.0.0->opencensus<1.0.0,>=0.11.2->opencensus-ext-azure<2.0.0->azure-ai-ml>=1.10.0->azureml-rag[azure,cognitive_search]>=0.2.2) (5.3.1)\n",
      "Requirement already satisfied: pyasn1-modules>=0.2.1 in /anaconda/envs/azureml_py38_PT_TF/lib/python3.8/site-packages (from google-auth<3.0.dev0,>=2.14.1->google-api-core<3.0.0,>=1.0.0->opencensus<1.0.0,>=0.11.2->opencensus-ext-azure<2.0.0->azure-ai-ml>=1.10.0->azureml-rag[azure,cognitive_search]>=0.2.2) (0.3.0)\n",
      "Requirement already satisfied: pyasn1<0.6.0,>=0.4.6 in /anaconda/envs/azureml_py38_PT_TF/lib/python3.8/site-packages (from pyasn1-modules>=0.2.1->google-auth<3.0.dev0,>=2.14.1->google-api-core<3.0.0,>=1.0.0->opencensus<1.0.0,>=0.11.2->opencensus-ext-azure<2.0.0->azure-ai-ml>=1.10.0->azureml-rag[azure,cognitive_search]>=0.2.2) (0.5.0)\n",
      "Note: you may need to restart the kernel to use updated packages.\n"
     ]
    }
   ],
   "source": [
    "%pip install -U azure-ai-ml>=1.10\n",
    "%pip install -U 'azureml-rag[azure,cognitive_search]>=0.2.2'"
   ]
  },
  {
   "cell_type": "code",
   "execution_count": 2,
   "metadata": {},
   "outputs": [
    {
     "name": "stdout",
     "output_type": "stream",
     "text": [
      "Overwriting config.json\n"
     ]
    }
   ],
   "source": [
    "%%writefile config.json\n",
    "{\n",
    "    \"subscription_id\": \"6a01260f-39d6-415f-a6c9-cf4fd479cbec\",\n",
    "    \"resource_group\": \"sriks-ml-rg\",\n",
    "    \"workspace_name\": \"sriks-ml-sea\"\n",
    "}"
   ]
  },
  {
   "cell_type": "code",
   "execution_count": 3,
   "metadata": {},
   "outputs": [
    {
     "name": "stderr",
     "output_type": "stream",
     "text": [
      "Found the config file in: ./config.json\n"
     ]
    }
   ],
   "source": [
    "from azure.identity import DefaultAzureCredential, AzureCliCredential\n",
    "from azure.ai.ml import MLClient\n",
    "\n",
    "try:\n",
    "    credential = DefaultAzureCredential()\n",
    "    # Check if given credential can get token successfully.\n",
    "    credential.get_token(\"https://management.azure.com/.default\")\n",
    "except Exception as ex:\n",
    "    # Fall back to InteractiveBrowserCredential in case DefaultAzureCredential not work\n",
    "    credential = AzureCliCredential()\n",
    "\n",
    "ml_client = MLClient.from_config(credential=credential)"
   ]
  },
  {
   "cell_type": "code",
   "execution_count": 3,
   "metadata": {},
   "outputs": [],
   "source": [
    "# create a compute\n",
    "from azure.ai.ml.entities import AmlCompute\n",
    "\n"
   ]
  },
  {
   "cell_type": "markdown",
   "metadata": {},
   "source": [
    "- Download data\n",
    "- Chunk and Ingest using in- memory story. This should be extensible to parallel chunk and upload using ray.\n",
    "- Incremental summarization and storing the results. \n",
    "- Closed loop evaluation. "
   ]
  },
  {
   "cell_type": "code",
   "execution_count": null,
   "metadata": {},
   "outputs": [],
   "source": [
    "# Download data\n"
   ]
  }
 ],
 "metadata": {
  "kernelspec": {
   "display_name": "azureml_py38",
   "language": "python",
   "name": "python3"
  },
  "language_info": {
   "codemirror_mode": {
    "name": "ipython",
    "version": 3
   },
   "file_extension": ".py",
   "mimetype": "text/x-python",
   "name": "python",
   "nbconvert_exporter": "python",
   "pygments_lexer": "ipython3",
   "version": "3.8.5"
  }
 },
 "nbformat": 4,
 "nbformat_minor": 2
}
