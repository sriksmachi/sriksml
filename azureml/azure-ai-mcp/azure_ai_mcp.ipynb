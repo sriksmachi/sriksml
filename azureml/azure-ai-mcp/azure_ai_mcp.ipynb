{
 "cells": [
  {
   "cell_type": "markdown",
   "metadata": {},
   "source": [
    "## Building Agentic Workflows with Model Context Protocol on Azure\n",
    "\n",
    "✍️ AI Applications are evolving rapidly. With every new AI application built, orgnaziations are facing the the complexity of managing AI Assistants, Tools and Data sources increase. As the AI applications evolve, organizations want to add more tools and embed the new knowledge or intelligence into existing applictions. However, the challenge always is that there is no standard protocol to connect LLMs to AI Assistants, tools and datasources. \n",
    "\n",
    "\n",
    "Every new "
   ]
  },
  {
   "cell_type": "code",
   "execution_count": null,
   "metadata": {},
   "outputs": [
    {
     "name": "stdout",
     "output_type": "stream",
     "text": [
      "Note: you may need to restart the kernel to use updated packages.\n"
     ]
    },
    {
     "name": "stderr",
     "output_type": "stream",
     "text": [
      "ERROR: pip's dependency resolver does not currently take into account all the packages that are installed. This behaviour is the source of the following dependency conflicts.\n",
      "fastapi 0.112.1 requires starlette<0.39.0,>=0.37.2, but you have starlette 0.46.1 which is incompatible.\n",
      "\n",
      "[notice] A new release of pip is available: 24.2 -> 25.0.1\n",
      "[notice] To update, run: python.exe -m pip install --upgrade pip\n"
     ]
    }
   ],
   "source": [
    "## Install dependencies\n",
    "# %pip install -q mcp[cli] azure-identity python-dotenv azure-ai-projects aiohttp"
   ]
  },
  {
   "cell_type": "markdown",
   "metadata": {},
   "source": [
    "Download the dataset from the URL and save it to ./data folder\n",
    "\n",
    "```\n",
    "#!/bin/bash\n",
    "curl -L -o ~/Downloads/smartphones.zip\\\n",
    "  https://www.kaggle.com/api/v1/datasets/download/amansingh0000000/smartphones\n",
    "```\n"
   ]
  },
  {
   "cell_type": "markdown",
   "metadata": {},
   "source": [
    "### Deploy Agents to Azure AI Agentic Service"
   ]
  },
  {
   "cell_type": "code",
   "execution_count": null,
   "metadata": {},
   "outputs": [
    {
     "name": "stdout",
     "output_type": "stream",
     "text": [
      "Uploaded file, file ID: assistant-FPCRh6h6vWH254T62x85WJ\n",
      "Created vector store, vector store ID: vs_UQHorx2KCyBEPX2HoEfnwwMo\n"
     ]
    }
   ],
   "source": [
    "from azure.ai.projects import AIProjectClient\n",
    "from azure.identity import DefaultAzureCredential\n",
    "from azure.ai.projects.models import FileSearchTool, MessageAttachment, FilePurpose\n",
    "import os\n",
    "from dotenv import load_dotenv\n",
    "\n",
    "# Load environment variables from .env file\n",
    "load_dotenv()\n",
    "\n",
    "project_client = AIProjectClient.from_connection_string(credential=DefaultAzureCredential(), conn_str=os.environ[\"PROJECT_CONNECTION_STRING\"])\n",
    "    \n",
    "# We will upload the local file and will use it for vector store creation.\n",
    "#upload a file\n",
    "file = project_client.agents.upload_file_and_poll(file_path='../data/research_paper.pdf', purpose=FilePurpose.AGENTS)\n",
    "print(f\"Uploaded file, file ID: {file.id}\")\n",
    "\n",
    "# create a vector store with the file you uploaded\n",
    "vector_store = project_client.agents.create_vector_store_and_poll(file_ids=[file.id], name=\"my_vectorstore\")\n",
    "print(f\"Created vector store, vector store ID: {vector_store.id}\")\n",
    "\n",
    "# create a file search tool\n",
    "file_search_tool = FileSearchTool(vector_store_ids=[vector_store.id])\n",
    "\n",
    "# notices that FileSearchTool as tool and tool_resources must be added or the agent will be unable to search the file\n",
    "agent = project_client.agents.create_agent(\n",
    "    model=\"gpt-4o-mini\",\n",
    "    name=\"research-assistant-agent\",\n",
    "    instructions=\"You are a helpful research assistant. You will answer questions based on the research paper.\",\n",
    "    tools=file_search_tool.definitions,\n",
    "    tool_resources=file_search_tool.resources,\n",
    ")     "
   ]
  },
  {
   "cell_type": "markdown",
   "metadata": {},
   "source": [
    "### Connect to Agents using Claude Desktop Client"
   ]
  },
  {
   "cell_type": "markdown",
   "metadata": {},
   "source": [
    "### Connect to Agents using our own console client"
   ]
  },
  {
   "cell_type": "markdown",
   "metadata": {},
   "source": []
  }
 ],
 "metadata": {
  "kernelspec": {
   "display_name": ".venv",
   "language": "python",
   "name": "python3"
  },
  "language_info": {
   "codemirror_mode": {
    "name": "ipython",
    "version": 3
   },
   "file_extension": ".py",
   "mimetype": "text/x-python",
   "name": "python",
   "nbconvert_exporter": "python",
   "pygments_lexer": "ipython3",
   "version": "3.11.9"
  }
 },
 "nbformat": 4,
 "nbformat_minor": 2
}
