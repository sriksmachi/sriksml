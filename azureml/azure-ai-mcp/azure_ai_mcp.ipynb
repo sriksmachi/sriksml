{
 "cells": [
  {
   "cell_type": "markdown",
   "metadata": {},
   "source": [
    "## Building Agentic Workflows with Model Context Protocol on Azure\n",
    "\n",
    "✍️ AI Applications are evolving rapidly. With every new AI application built, orgnaziations are facing the the complexity of managing AI Assistants, Tools and Data sources increase. As the AI applications evolve, organizations want to add more tools and embed the new knowledge or intelligence into existing applictions. However, the challenge always is that there is no standard protocol to connect LLMs to AI Assistants, tools and datasources. \n",
    "\n",
    "\n",
    "Every new "
   ]
  },
  {
   "cell_type": "code",
   "execution_count": 1,
   "metadata": {},
   "outputs": [],
   "source": [
    "## Install dependencies\n",
    "# %pip install -q mcp[cli] azure-identity python-dotenv azure-ai-projects aiohttp"
   ]
  },
  {
   "cell_type": "markdown",
   "metadata": {},
   "source": [
    "Download the dataset from the [link](\"https://arxiv.org/pdf/2503.05142\") and save it to ./data folder."
   ]
  },
  {
   "cell_type": "markdown",
   "metadata": {},
   "source": [
    "### Deploy Agents to Azure AI Agentic Service\n",
    "\n",
    "Before you begin, follow the below steps\n",
    "\n",
    "1. Create an Azure Open AI service. [Link](https://learn.microsoft.com/en-us/azure/ai-services/openai/how-to/create-resource?pivots=web-portal)\n",
    "2. Create a Azure AI Foundry Project [Link](https://learn.microsoft.com/en-us/azure/ai-foundry/how-to/create-projects?tabs=ai-studio)\n",
    "3. Create a .env file at the root with following arguments\n",
    "\n",
    "```\n",
    "PROJECT_CONNECTION_STRING=\"<<PROJECT-CONNECTION-STRING-FROM-PORTAL>>\"\n",
    "```"
   ]
  },
  {
   "cell_type": "code",
   "execution_count": null,
   "metadata": {},
   "outputs": [
    {
     "name": "stdout",
     "output_type": "stream",
     "text": [
      "Uploaded file, file ID: assistant-5XdTgwav69hHtW3L7EMixo\n",
      "Created vector store, vector store ID: vs_JnMPe5D6Fqd3okJMtaltT026\n",
      "Created agent, agent ID: asst_23dlCRuxI2tkX4WTNOQYoVrT\n"
     ]
    }
   ],
   "source": [
    "from azure.ai.projects import AIProjectClient\n",
    "from azure.identity import DefaultAzureCredential\n",
    "from azure.ai.projects.models import FileSearchTool, MessageAttachment, FilePurpose\n",
    "import os\n",
    "from dotenv import load_dotenv\n",
    "\n",
    "# Load environment variables from .env file\n",
    "load_dotenv()\n",
    "\n",
    "project_client = AIProjectClient.from_connection_string(credential=DefaultAzureCredential(), conn_str=os.environ[\"PROJECT_CONNECTION_STRING\"])\n",
    "    \n",
    "# We will upload the local file and will use it for vector store creation.\n",
    "#upload a file\n",
    "file = project_client.agents.upload_file_and_poll(file_path='../data/mobile_phones_2000.txt', purpose=FilePurpose.AGENTS)\n",
    "print(f\"Uploaded file, file ID: {file.id}\")\n",
    "\n",
    "# create a vector store with the file you uploaded\n",
    "vector_store = project_client.agents.create_vector_store_and_poll(file_ids=[file.id], name=\"my_vectorstore\")\n",
    "print(f\"Created vector store, vector store ID: {vector_store.id}\")\n",
    "\n",
    "# create a file search tool\n",
    "file_search_tool = FileSearchTool(vector_store_ids=[vector_store.id])\n",
    "\n",
    "# notices that FileSearchTool as tool and tool_resources must be added or the agent will be unable to search the file\n",
    "agent = project_client.agents.create_agent(\n",
    "    model=\"phi4-reasoning\",\n",
    "    name=\"mobiles-recommender-agent\",\n",
    "    instructions=\"You are an expert at identify best mobile phones given query from customer. \\\n",
    "        You will search the file for relevant information and provide the best answer in the form of JSON.\",\n",
    "    tools=file_search_tool.definitions,\n",
    "    tool_resources=file_search_tool.resources,\n",
    ")   \n",
    "\n",
    "print(f\"Created agent, agent ID: {agent.id}\")  "
   ]
  },
  {
   "cell_type": "code",
   "execution_count": null,
   "metadata": {},
   "outputs": [
    {
     "ename": "AttributeError",
     "evalue": "'AgentsOperations' object has no attribute 'threads'",
     "output_type": "error",
     "traceback": [
      "\u001b[1;31m---------------------------------------------------------------------------\u001b[0m",
      "\u001b[1;31mAttributeError\u001b[0m                            Traceback (most recent call last)",
      "Cell \u001b[1;32mIn[10], line 1\u001b[0m\n\u001b[1;32m----> 1\u001b[0m thread \u001b[38;5;241m=\u001b[39m \u001b[43mproject_client\u001b[49m\u001b[38;5;241;43m.\u001b[39;49m\u001b[43magents\u001b[49m\u001b[38;5;241;43m.\u001b[39;49m\u001b[43mthreads\u001b[49m\u001b[38;5;241m.\u001b[39mcreate()\n\u001b[0;32m      2\u001b[0m \u001b[38;5;28mprint\u001b[39m(\u001b[38;5;124mf\u001b[39m\u001b[38;5;124m\"\u001b[39m\u001b[38;5;124mCreated thread, ID: \u001b[39m\u001b[38;5;132;01m{\u001b[39;00mthread\u001b[38;5;241m.\u001b[39mid\u001b[38;5;132;01m}\u001b[39;00m\u001b[38;5;124m\"\u001b[39m)\n\u001b[0;32m      4\u001b[0m \u001b[38;5;66;03m# Send a message to the thread\u001b[39;00m\n",
      "\u001b[1;31mAttributeError\u001b[0m: 'AgentsOperations' object has no attribute 'threads'"
     ]
    }
   ],
   "source": [
    "# create a writer agent\n",
    "writer_agent = project_client.agents.create_agent(\n",
    "    model=\"gpt-4o-mini\",\n",
    "    name=\"mobiles-agent\",\n",
    "    instructions=\"\",\n",
    ")\n",
    "\n",
    "\n",
    "\n"
   ]
  },
  {
   "cell_type": "markdown",
   "metadata": {},
   "source": [
    "### Run the server\n",
    "\n",
    "Run the below command to start the MCP Server.\n",
    "```\n",
    "python -m azure_agent_mcp_server.py\n",
    "```\n",
    "\n",
    "**Note**: Optional\n",
    "If you have many agents, you can declare a default agent. Copy the Agent name from above and add a new Key/Value pair in .env file  as shown below. \n",
    "```\n",
    "DEFAULT_AGENT_ID='<<AGENT-ID-FROM-ABOVE>>'\n",
    "```\n"
   ]
  },
  {
   "attachments": {
    "image.png": {
     "image/png": "[encoded data removed]"
    }
   },
   "cell_type": "markdown",
   "metadata": {},
   "source": [
    "### Connect to Agents using Claude Desktop Client\n",
    "\n",
    "Claude desktop is tool that understands the MCP server protol. Hence it can be used quickly connect to MCP servers and \n",
    "\n",
    "```\n",
    "{\n",
    "  \"mcpServers\": {\n",
    "    \"azure-agent\": {\n",
    "      \"command\": \"uv\",\n",
    "      \"args\": [\n",
    "        \"--directory\",\n",
    "        \"C:/azureml/azure-ai-mcp/\", # Absolute path to server.py file\n",
    "        \"run\",\n",
    "        \"-m\",\n",
    "        \"azure_agent_mcp_server\"\n",
    "      ],\n",
    "      \"env\": {\n",
    "        \"PROJECT_CONNECTION_STRING\": \"\", # Project connection string\n",
    "        \"DEFAULT_AGENT_ID\": \"\" # default agent id.\n",
    "      }\n",
    "    }\n",
    "  }\n",
    "}\n",
    "```\n",
    "\n",
    "\n",
    "Reopen Claude desktop, notice that the chat interface shows 3 tools available for chat. \n",
    "\n",
    "![image.png](attachment:image.png)\n",
    "\n"
   ]
  },
  {
   "cell_type": "markdown",
   "metadata": {},
   "source": [
    "### Connect to Agents using our own console client"
   ]
  },
  {
   "cell_type": "markdown",
   "metadata": {},
   "source": []
  },
  {
   "cell_type": "markdown",
   "metadata": {},
   "source": [
    "### Cleanup"
   ]
  },
  {
   "cell_type": "code",
   "execution_count": null,
   "metadata": {},
   "outputs": [
    {
     "name": "stdout",
     "output_type": "stream",
     "text": [
      "Deleted vector store\n",
      "Deleted agent\n"
     ]
    }
   ],
   "source": [
    "print(f\"Created writer agent, agent ID: {writer_agent.id}\")"
   ]
  },
  {
   "cell_type": "code",
   "execution_count": null,
   "metadata": {},
   "outputs": [],
   "source": []
  }
 ],
 "metadata": {
  "kernelspec": {
   "display_name": ".venv",
   "language": "python",
   "name": "python3"
  },
  "language_info": {
   "codemirror_mode": {
    "name": "ipython",
    "version": 3
   },
   "file_extension": ".py",
   "mimetype": "text/x-python",
   "name": "python",
   "nbconvert_exporter": "python",
   "pygments_lexer": "ipython3",
   "version": "3.11.9"
  }
 },
 "nbformat": 4,
 "nbformat_minor": 2
}
