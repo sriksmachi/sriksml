{
 "cells": [
  {
   "cell_type": "code",
   "execution_count": null,
   "metadata": {},
   "outputs": [],
   "source": [
    "%pip install -U azure-ai-ml>=1.10\n",
    "%pip install -U 'azureml-rag[azure,cognitive_search]>=0.2.2'"
   ]
  },
  {
   "cell_type": "code",
   "execution_count": 36,
   "metadata": {},
   "outputs": [
    {
     "name": "stdout",
     "output_type": "stream",
     "text": [
      "Writing config.json\n"
     ]
    }
   ],
   "source": [
    "%%writefile config.json\n",
    "{\n",
    "    \"subscription_id\": \"6a01260f-39d6-415f-a6c9-cf4fd479cbec\",\n",
    "    \"resource_group\": \"sriks-ml-rg\",\n",
    "    \"workspace_name\": \"sriks-ml-sea\"\n",
    "}"
   ]
  },
  {
   "cell_type": "code",
   "execution_count": 37,
   "metadata": {},
   "outputs": [
    {
     "name": "stderr",
     "output_type": "stream",
     "text": [
      "Found the config file in: ./config.json\n"
     ]
    }
   ],
   "source": [
    "from azure.identity import DefaultAzureCredential, AzureCliCredential\n",
    "from azure.ai.ml import MLClient\n",
    "\n",
    "try:\n",
    "    credential = DefaultAzureCredential()\n",
    "    # Check if given credential can get token successfully.\n",
    "    credential.get_token(\"https://management.azure.com/.default\")\n",
    "except Exception as ex:\n",
    "    # Fall back to InteractiveBrowserCredential in case DefaultAzureCredential not work\n",
    "    credential = AzureCliCredential()\n",
    "\n",
    "ml_client = MLClient.from_config(credential=credential)"
   ]
  },
  {
   "cell_type": "code",
   "execution_count": 38,
   "metadata": {},
   "outputs": [
    {
     "name": "stdout",
     "output_type": "stream",
     "text": [
      "successfully fetched compute: AMLComputeCluster\n"
     ]
    }
   ],
   "source": [
    "from azure.ai.ml.entities import AmlCompute\n",
    "experiment_name = \"doc-summarization-hf\"\n",
    "# If you already have a gpu cluster, mention it here. Else will create a new one\n",
    "compute_cluster = \"AMLComputeCluster\"\n",
    "try:\n",
    "    compute = ml_client.compute.get(compute_cluster)\n",
    "    print(\"successfully fetched compute:\", compute.name)\n",
    "except Exception as ex:\n",
    "    print(\"failed to fetch compute:\", compute_cluster)\n",
    "    print(\"creating new Standard_ND40rs_v2 compute\")\n",
    "    compute = AmlCompute(\n",
    "        name=compute_cluster,\n",
    "        size=\"Standard_NC4as_T4_v3\", # Info on Standard_ND40rs_v2 SKU: https://learn.microsoft.com/en-us/azure/virtual-machines/ndv2-series\n",
    "        min_instances=1,\n",
    "        max_instances=2,  # For multi node training set this to an integer value more than 1\n",
    "    )\n",
    "    ml_client.compute.begin_create_or_update(compute).wait()\n",
    "    print(\"successfully created compute:\", compute.name)"
   ]
  },
  {
   "cell_type": "code",
   "execution_count": 39,
   "metadata": {},
   "outputs": [
    {
     "data": {
      "text/plain": [
       "Environment({'intellectual_property': None, 'is_anonymous': False, 'auto_increment_version': False, 'auto_delete_setting': None, 'name': 'finetuning_hf', 'description': 'Environment created from a Docker context.', 'tags': {}, 'properties': {'azureml.labels': 'latest'}, 'print_as_yaml': True, 'id': '/subscriptions/6a01260f-39d6-415f-a6c9-cf4fd479cbec/resourceGroups/sriks-ml-rg/providers/Microsoft.MachineLearningServices/workspaces/sriks-ml-sea/environments/finetuning_hf/versions/12', 'Resource__source_path': None, 'base_path': '/mnt/batch/tasks/shared/LS_root/mounts/clusters/vism-gpu-4c/code/Users/vism/sriksml/azureml/finetuning_hf_models', 'creation_context': <azure.ai.ml.entities._system_data.SystemData object at 0x7f6167910c70>, 'serialize': <msrest.serialization.Serializer object at 0x7f61667f8f70>, 'version': '12', 'latest_version': None, 'conda_file': None, 'image': None, 'build': <azure.ai.ml.entities._assets.environment.BuildContext object at 0x7f6167910190>, 'inference_config': None, 'os_type': 'Linux', 'arm_type': 'environment_version', 'conda_file_path': None, 'path': None, 'datastore': None, 'upload_hash': None, 'translated_conda_file': None})"
      ]
     },
     "execution_count": 39,
     "metadata": {},
     "output_type": "execute_result"
    }
   ],
   "source": [
    "# Download data\n",
    "from azure.ai.ml.entities import Environment, BuildContext\n",
    "\n",
    "Env_Name = \"finetuning_hf\"\n",
    "env_docker_context = Environment(\n",
    "    build=BuildContext(path=\"env\"),\n",
    "    name=Env_Name,\n",
    "    description=\"Environment created from a Docker context.\",\n",
    ")\n",
    "ml_client.environments.create_or_update(env_docker_context)"
   ]
  },
  {
   "cell_type": "code",
   "execution_count": 40,
   "metadata": {},
   "outputs": [
    {
     "name": "stderr",
     "output_type": "stream",
     "text": [
      "\u001b[32mUploading finetuning_hf_models (0.01 MBs): 100%|██████████| 13851/13851 [00:00<00:00, 86893.18it/s]\n",
      "\u001b[39m\n",
      "\n",
      "Readonly attribute status will be ignored in class <class 'azure.ai.ml._restclient.v2023_04_01_preview.models._models_py3.JobService'>\n",
      "Readonly attribute status will be ignored in class <class 'azure.ai.ml._restclient.v2023_04_01_preview.models._models_py3.JobService'>\n",
      "Readonly attribute status will be ignored in class <class 'azure.ai.ml._restclient.v2023_04_01_preview.models._models_py3.JobService'>\n"
     ]
    },
    {
     "data": {
      "text/html": [
       "<table style=\"width:100%\"><tr><th>Experiment</th><th>Name</th><th>Type</th><th>Status</th><th>Details Page</th></tr><tr><td>finetuning_hf_models</td><td>frosty_chain_nl53cbxqqg</td><td>command</td><td>Starting</td><td><a href=\"https://ml.azure.com/runs/frosty_chain_nl53cbxqqg?wsid=/subscriptions/6a01260f-39d6-415f-a6c9-cf4fd479cbec/resourcegroups/sriks-ml-rg/workspaces/sriks-ml-sea&amp;tid=16b3c013-d300-468d-ac64-7eda0820b6d3\" target=\"_blank\" rel=\"noopener\">Link to Azure Machine Learning studio</a></td></tr></table>"
      ],
      "text/plain": [
       "Command({'parameters': {}, 'init': False, 'name': 'frosty_chain_nl53cbxqqg', 'type': 'command', 'status': 'Starting', 'log_files': None, 'description': None, 'tags': {}, 'properties': {'mlflow.source.git.repoURL': 'https://github.com/sriksmachi/sriksml', 'mlflow.source.git.branch': 'main', 'mlflow.source.git.commit': '182bab2e440e25ace55e180f1c45bc674d24aee8', 'azureml.git.dirty': 'True', '_azureml.ComputeTargetType': 'amlctrain', '_azureml.ClusterName': 'AMLComputeCluster', 'ContentSnapshotId': '17fffcf6-e5c4-48dc-9af3-60ea78e0a214'}, 'print_as_yaml': True, 'id': '/subscriptions/6a01260f-39d6-415f-a6c9-cf4fd479cbec/resourceGroups/sriks-ml-rg/providers/Microsoft.MachineLearningServices/workspaces/sriks-ml-sea/jobs/frosty_chain_nl53cbxqqg', 'Resource__source_path': None, 'base_path': '/mnt/batch/tasks/shared/LS_root/mounts/clusters/vism-gpu-4c/code/Users/vism/sriksml/azureml/finetuning_hf_models', 'creation_context': <azure.ai.ml.entities._system_data.SystemData object at 0x7f6166f416d0>, 'serialize': <msrest.serialization.Serializer object at 0x7f6166f419d0>, 'allowed_keys': {}, 'key_restriction': False, 'logger': <Logger attr_dict (WARNING)>, 'display_name': 'hf_finetuning', 'experiment_name': 'finetuning_hf_models', 'compute': 'AMLComputeCluster', 'services': {'My_jupyterlab': {'type': 'jupyter_lab', 'properties': {}}, 'My_vscode': {'type': 'vs_code', 'properties': {}}, 'My_tensorboard': {'type': 'tensor_board', 'properties': {'logDir': 'outputs/runs'}, 'log_dir': 'outputs/runs'}, 'Tracking': {'endpoint': 'azureml://southeastasia.api.azureml.ms/mlflow/v1.0/subscriptions/6a01260f-39d6-415f-a6c9-cf4fd479cbec/resourceGroups/sriks-ml-rg/providers/Microsoft.MachineLearningServices/workspaces/sriks-ml-sea?', 'type': 'Tracking'}, 'Studio': {'endpoint': 'https://ml.azure.com/runs/frosty_chain_nl53cbxqqg?wsid=/subscriptions/6a01260f-39d6-415f-a6c9-cf4fd479cbec/resourcegroups/sriks-ml-rg/workspaces/sriks-ml-sea&tid=16b3c013-d300-468d-ac64-7eda0820b6d3', 'type': 'Studio'}}, 'comment': None, 'job_inputs': {}, 'job_outputs': {'default': {'type': 'uri_folder', 'path': 'azureml://datastores/workspaceartifactstore/ExperimentRun/dcid.frosty_chain_nl53cbxqqg', 'mode': 'rw_mount'}}, 'inputs': {}, 'outputs': {'default': <azure.ai.ml.entities._job.pipeline._io.base.NodeOutput object at 0x7f6166f41e20>}, 'component': CommandComponent({'intellectual_property': None, 'auto_increment_version': True, 'source': 'REMOTE.WORKSPACE.JOB', 'is_anonymous': False, 'auto_delete_setting': None, 'name': 'frosty_chain_nl53cbxqqg', 'description': None, 'tags': {}, 'properties': {}, 'print_as_yaml': True, 'id': None, 'Resource__source_path': None, 'base_path': '/mnt/batch/tasks/shared/LS_root/mounts/clusters/vism-gpu-4c/code/Users/vism/sriksml/azureml/finetuning_hf_models', 'creation_context': <azure.ai.ml.entities._system_data.SystemData object at 0x7f6166f416d0>, 'serialize': <msrest.serialization.Serializer object at 0x7f6166f41490>, 'command': 'python finetune_hf_models.py         --model_name google/flan-t5-small         --dataset squad         --target_input_length=512         --target_max_length=100         --train_size=1000', 'code': '/subscriptions/6a01260f-39d6-415f-a6c9-cf4fd479cbec/resourceGroups/sriks-ml-rg/providers/Microsoft.MachineLearningServices/workspaces/sriks-ml-sea/codes/179b0d95-2226-46ad-8cb0-2d9516222160/versions/1', 'environment_variables': {}, 'environment': '/subscriptions/6a01260f-39d6-415f-a6c9-cf4fd479cbec/resourceGroups/sriks-ml-rg/providers/Microsoft.MachineLearningServices/workspaces/sriks-ml-sea/environments/finetuning_hf/versions/12', 'distribution': None, 'resources': None, 'queue_settings': None, 'version': None, 'latest_version': None, 'schema': None, 'type': 'command', 'display_name': 'hf_finetuning', 'is_deterministic': True, 'inputs': {}, 'outputs': {'default': {'type': 'uri_folder', 'path': 'azureml://datastores/workspaceartifactstore/ExperimentRun/dcid.frosty_chain_nl53cbxqqg', 'mode': 'rw_mount'}}, 'yaml_str': None, 'other_parameter': {'status': 'Starting', 'parameters': {}}, 'additional_includes': []}), 'referenced_control_flow_node_instance_id': None, 'kwargs': {'services': {'My_jupyterlab': {'type': 'jupyter_lab', 'properties': {}}, 'My_vscode': {'type': 'vs_code', 'properties': {}}, 'My_tensorboard': {'type': 'tensor_board', 'properties': {'logDir': 'outputs/runs'}, 'log_dir': 'outputs/runs'}, 'Tracking': {'endpoint': 'azureml://southeastasia.api.azureml.ms/mlflow/v1.0/subscriptions/6a01260f-39d6-415f-a6c9-cf4fd479cbec/resourceGroups/sriks-ml-rg/providers/Microsoft.MachineLearningServices/workspaces/sriks-ml-sea?', 'type': 'Tracking'}, 'Studio': {'endpoint': 'https://ml.azure.com/runs/frosty_chain_nl53cbxqqg?wsid=/subscriptions/6a01260f-39d6-415f-a6c9-cf4fd479cbec/resourcegroups/sriks-ml-rg/workspaces/sriks-ml-sea&tid=16b3c013-d300-468d-ac64-7eda0820b6d3', 'type': 'Studio'}}, 'status': 'Starting', 'creation_context': <azure.ai.ml.entities._system_data.SystemData object at 0x7f6166f416d0>}, 'instance_id': '92300f5c-9e61-4ea6-88df-78c66c59e1db', 'source': 'BUILDER', 'validate_required_input_not_provided': True, 'limits': None, 'identity': None, 'distribution': None, 'environment_variables': {}, 'environment': 'finetuning_hf:12', 'resources': {'instance_count': 1, 'shm_size': '2g'}, 'queue_settings': None, 'swept': False})"
      ]
     },
     "execution_count": 40,
     "metadata": {},
     "output_type": "execute_result"
    }
   ],
   "source": [
    "from azure.ai.ml import command, Input, Output\n",
    "from azure.ai.ml.entities import Data\n",
    "from azure.ai.ml.constants import AssetTypes\n",
    "\n",
    "from azure.ai.ml.entities import (\n",
    "    VsCodeJobService,\n",
    "    TensorBoardJobService,\n",
    "    JupyterLabJobService,\n",
    ")\n",
    "\n",
    "job = command(\n",
    "    code=\".\",\n",
    "    command=\"python finetune_hf_models.py \\\n",
    "        --model_name google/flan-t5-small \\\n",
    "        --dataset squad \\\n",
    "        --target_input_length=512 \\\n",
    "        --target_max_length=100 \\\n",
    "        --train_size=1000\",\n",
    "    compute=compute_cluster,\n",
    "    services={\n",
    "      \"My_jupyterlab\": JupyterLabJobService(\n",
    "        nodes=\"all\" # For distributed jobs, use the `nodes` property to pick which node you want to enable interactive services on. If `nodes` are not selected, by default, interactive applications are only enabled on the head node. Values are \"all\", or compute node index (for ex. \"0\", \"1\" etc.)\n",
    "      ),\n",
    "      \"My_vscode\": VsCodeJobService(\n",
    "        nodes=\"all\"\n",
    "      ),\n",
    "      \"My_tensorboard\": TensorBoardJobService(\n",
    "        nodes=\"all\",\n",
    "        log_dir=\"outputs/runs\"  # relative path of Tensorboard logs (same as in your training script)         \n",
    "      ),\n",
    "    },\n",
    "    environment=\"finetuning_hf@latest\",\n",
    "    instance_count=1,  \n",
    "    display_name=\"hf_finetuning\"\n",
    ") # basic environment comes with my workspace\n",
    "job = ml_client.jobs.create_or_update(job)\n",
    "job"
   ]
  },
  {
   "cell_type": "code",
   "execution_count": null,
   "metadata": {},
   "outputs": [],
   "source": []
  }
 ],
 "metadata": {
  "kernelspec": {
   "display_name": "Python 3.8 - AzureML",
   "language": "python",
   "name": "python38-azureml"
  }
 },
 "nbformat": 4,
 "nbformat_minor": 2
}
