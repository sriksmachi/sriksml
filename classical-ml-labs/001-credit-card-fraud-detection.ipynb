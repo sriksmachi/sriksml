{
 "cells": [
  {
   "cell_type": "markdown",
   "metadata": {},
   "source": [
    "## Credit Card Fraud Detection\n",
    "\n",
    "In this notebook we will learn\n",
    "- Treating Imbalanced Dataset using SMOTE, ADASYN\n",
    "- "
   ]
  },
  {
   "cell_type": "code",
   "execution_count": 2,
   "metadata": {},
   "outputs": [],
   "source": [
    "import pandas as pd\n",
    "import numpy as np\n",
    "import seaborn as sns\n",
    "import matplotlib.pyplot as plt\n",
    "from sklearn.model_selection import train_test_split\n",
    "from sklearn.model_selection import StratifiedKFold\n",
    "import warnings\n",
    "from imblearn.over_sampling import SMOTE, ADASYN\n",
    "warnings.filterwarnings('ignore')\n",
    "from sklearn.model_selection import train_test_split\n",
    "from xgboost import XGBClassifier\n",
    "from sklearn import metrics\n",
    "from sklearn.linear_model import LogisticRegression"
   ]
  },
  {
   "cell_type": "markdown",
   "metadata": {},
   "source": [
    "## Treating Imbalance in the data"
   ]
  },
  {
   "cell_type": "code",
   "execution_count": 3,
   "metadata": {},
   "outputs": [],
   "source": [
    "# Download dataset from https://drive.google.com/file/d/1aOrE9cD1qo6SfamSWrYJJBuLhvM_C8-Y/view?usp=sharing\n",
    "df = pd.read_csv(\"data/creditcard.csv\")"
   ]
  },
  {
   "cell_type": "code",
   "execution_count": 4,
   "metadata": {},
   "outputs": [
    {
     "data": {
      "text/html": [
       "<div>\n",
       "<style scoped>\n",
       "    .dataframe tbody tr th:only-of-type {\n",
       "        vertical-align: middle;\n",
       "    }\n",
       "\n",
       "    .dataframe tbody tr th {\n",
       "        vertical-align: top;\n",
       "    }\n",
       "\n",
       "    .dataframe thead th {\n",
       "        text-align: right;\n",
       "    }\n",
       "</style>\n",
       "<table border=\"1\" class=\"dataframe\">\n",
       "  <thead>\n",
       "    <tr style=\"text-align: right;\">\n",
       "      <th></th>\n",
       "      <th>Time</th>\n",
       "      <th>V1</th>\n",
       "      <th>V2</th>\n",
       "      <th>V3</th>\n",
       "      <th>V4</th>\n",
       "      <th>V5</th>\n",
       "      <th>V6</th>\n",
       "      <th>V7</th>\n",
       "      <th>V8</th>\n",
       "      <th>V9</th>\n",
       "      <th>...</th>\n",
       "      <th>V21</th>\n",
       "      <th>V22</th>\n",
       "      <th>V23</th>\n",
       "      <th>V24</th>\n",
       "      <th>V25</th>\n",
       "      <th>V26</th>\n",
       "      <th>V27</th>\n",
       "      <th>V28</th>\n",
       "      <th>Amount</th>\n",
       "      <th>Class</th>\n",
       "    </tr>\n",
       "  </thead>\n",
       "  <tbody>\n",
       "    <tr>\n",
       "      <th>0</th>\n",
       "      <td>0.0</td>\n",
       "      <td>-1.359807</td>\n",
       "      <td>-0.072781</td>\n",
       "      <td>2.536347</td>\n",
       "      <td>1.378155</td>\n",
       "      <td>-0.338321</td>\n",
       "      <td>0.462388</td>\n",
       "      <td>0.239599</td>\n",
       "      <td>0.098698</td>\n",
       "      <td>0.363787</td>\n",
       "      <td>...</td>\n",
       "      <td>-0.018307</td>\n",
       "      <td>0.277838</td>\n",
       "      <td>-0.110474</td>\n",
       "      <td>0.066928</td>\n",
       "      <td>0.128539</td>\n",
       "      <td>-0.189115</td>\n",
       "      <td>0.133558</td>\n",
       "      <td>-0.021053</td>\n",
       "      <td>149.62</td>\n",
       "      <td>0</td>\n",
       "    </tr>\n",
       "    <tr>\n",
       "      <th>1</th>\n",
       "      <td>0.0</td>\n",
       "      <td>1.191857</td>\n",
       "      <td>0.266151</td>\n",
       "      <td>0.166480</td>\n",
       "      <td>0.448154</td>\n",
       "      <td>0.060018</td>\n",
       "      <td>-0.082361</td>\n",
       "      <td>-0.078803</td>\n",
       "      <td>0.085102</td>\n",
       "      <td>-0.255425</td>\n",
       "      <td>...</td>\n",
       "      <td>-0.225775</td>\n",
       "      <td>-0.638672</td>\n",
       "      <td>0.101288</td>\n",
       "      <td>-0.339846</td>\n",
       "      <td>0.167170</td>\n",
       "      <td>0.125895</td>\n",
       "      <td>-0.008983</td>\n",
       "      <td>0.014724</td>\n",
       "      <td>2.69</td>\n",
       "      <td>0</td>\n",
       "    </tr>\n",
       "    <tr>\n",
       "      <th>2</th>\n",
       "      <td>1.0</td>\n",
       "      <td>-1.358354</td>\n",
       "      <td>-1.340163</td>\n",
       "      <td>1.773209</td>\n",
       "      <td>0.379780</td>\n",
       "      <td>-0.503198</td>\n",
       "      <td>1.800499</td>\n",
       "      <td>0.791461</td>\n",
       "      <td>0.247676</td>\n",
       "      <td>-1.514654</td>\n",
       "      <td>...</td>\n",
       "      <td>0.247998</td>\n",
       "      <td>0.771679</td>\n",
       "      <td>0.909412</td>\n",
       "      <td>-0.689281</td>\n",
       "      <td>-0.327642</td>\n",
       "      <td>-0.139097</td>\n",
       "      <td>-0.055353</td>\n",
       "      <td>-0.059752</td>\n",
       "      <td>378.66</td>\n",
       "      <td>0</td>\n",
       "    </tr>\n",
       "    <tr>\n",
       "      <th>3</th>\n",
       "      <td>1.0</td>\n",
       "      <td>-0.966272</td>\n",
       "      <td>-0.185226</td>\n",
       "      <td>1.792993</td>\n",
       "      <td>-0.863291</td>\n",
       "      <td>-0.010309</td>\n",
       "      <td>1.247203</td>\n",
       "      <td>0.237609</td>\n",
       "      <td>0.377436</td>\n",
       "      <td>-1.387024</td>\n",
       "      <td>...</td>\n",
       "      <td>-0.108300</td>\n",
       "      <td>0.005274</td>\n",
       "      <td>-0.190321</td>\n",
       "      <td>-1.175575</td>\n",
       "      <td>0.647376</td>\n",
       "      <td>-0.221929</td>\n",
       "      <td>0.062723</td>\n",
       "      <td>0.061458</td>\n",
       "      <td>123.50</td>\n",
       "      <td>0</td>\n",
       "    </tr>\n",
       "    <tr>\n",
       "      <th>4</th>\n",
       "      <td>2.0</td>\n",
       "      <td>-1.158233</td>\n",
       "      <td>0.877737</td>\n",
       "      <td>1.548718</td>\n",
       "      <td>0.403034</td>\n",
       "      <td>-0.407193</td>\n",
       "      <td>0.095921</td>\n",
       "      <td>0.592941</td>\n",
       "      <td>-0.270533</td>\n",
       "      <td>0.817739</td>\n",
       "      <td>...</td>\n",
       "      <td>-0.009431</td>\n",
       "      <td>0.798278</td>\n",
       "      <td>-0.137458</td>\n",
       "      <td>0.141267</td>\n",
       "      <td>-0.206010</td>\n",
       "      <td>0.502292</td>\n",
       "      <td>0.219422</td>\n",
       "      <td>0.215153</td>\n",
       "      <td>69.99</td>\n",
       "      <td>0</td>\n",
       "    </tr>\n",
       "  </tbody>\n",
       "</table>\n",
       "<p>5 rows × 31 columns</p>\n",
       "</div>"
      ],
      "text/plain": [
       "   Time        V1        V2        V3        V4        V5        V6        V7  \\\n",
       "0   0.0 -1.359807 -0.072781  2.536347  1.378155 -0.338321  0.462388  0.239599   \n",
       "1   0.0  1.191857  0.266151  0.166480  0.448154  0.060018 -0.082361 -0.078803   \n",
       "2   1.0 -1.358354 -1.340163  1.773209  0.379780 -0.503198  1.800499  0.791461   \n",
       "3   1.0 -0.966272 -0.185226  1.792993 -0.863291 -0.010309  1.247203  0.237609   \n",
       "4   2.0 -1.158233  0.877737  1.548718  0.403034 -0.407193  0.095921  0.592941   \n",
       "\n",
       "         V8        V9  ...       V21       V22       V23       V24       V25  \\\n",
       "0  0.098698  0.363787  ... -0.018307  0.277838 -0.110474  0.066928  0.128539   \n",
       "1  0.085102 -0.255425  ... -0.225775 -0.638672  0.101288 -0.339846  0.167170   \n",
       "2  0.247676 -1.514654  ...  0.247998  0.771679  0.909412 -0.689281 -0.327642   \n",
       "3  0.377436 -1.387024  ... -0.108300  0.005274 -0.190321 -1.175575  0.647376   \n",
       "4 -0.270533  0.817739  ... -0.009431  0.798278 -0.137458  0.141267 -0.206010   \n",
       "\n",
       "        V26       V27       V28  Amount  Class  \n",
       "0 -0.189115  0.133558 -0.021053  149.62      0  \n",
       "1  0.125895 -0.008983  0.014724    2.69      0  \n",
       "2 -0.139097 -0.055353 -0.059752  378.66      0  \n",
       "3 -0.221929  0.062723  0.061458  123.50      0  \n",
       "4  0.502292  0.219422  0.215153   69.99      0  \n",
       "\n",
       "[5 rows x 31 columns]"
      ]
     },
     "execution_count": 4,
     "metadata": {},
     "output_type": "execute_result"
    }
   ],
   "source": [
    "df.head()"
   ]
  },
  {
   "cell_type": "code",
   "execution_count": 5,
   "metadata": {},
   "outputs": [
    {
     "data": {
      "text/plain": [
       "0    284315\n",
       "1       492\n",
       "Name: Class, dtype: int64"
      ]
     },
     "execution_count": 5,
     "metadata": {},
     "output_type": "execute_result"
    }
   ],
   "source": [
    "y = df.pop('Class')\n",
    "X = df\n",
    "y.value_counts()"
   ]
  },
  {
   "cell_type": "code",
   "execution_count": 7,
   "metadata": {},
   "outputs": [
    {
     "name": "stdout",
     "output_type": "stream",
     "text": [
      "492\n",
      "369\n",
      "123\n"
     ]
    }
   ],
   "source": [
    "X_train,X_test,y_train,y_test =train_test_split(X,y, stratify=y, random_state=42)\n",
    "print(np.sum(y))\n",
    "print(np.sum(y_train))\n",
    "print(np.sum(y_test))"
   ]
  },
  {
   "cell_type": "markdown",
   "metadata": {},
   "source": [
    "## Training with Logistic Regression"
   ]
  },
  {
   "cell_type": "code",
   "execution_count": 8,
   "metadata": {},
   "outputs": [
    {
     "name": "stdout",
     "output_type": "stream",
     "text": [
      "C_val = 0.001 ; auc = 0.9812518236607681 ; cv_num = 0\n",
      "C_val = 0.01 ; auc = 0.9635138595930762 ; cv_num = 0\n",
      "C_val = 0.1 ; auc = 0.9627261182078752 ; cv_num = 0\n",
      "C_val = 1.0 ; auc = 0.9574895310004887 ; cv_num = 0\n",
      "C_val = 10.0 ; auc = 0.9621422036193097 ; cv_num = 0\n",
      "C_val = 100.0 ; auc = 0.9616811341371337 ; cv_num = 0\n",
      "C_val = 1000.0 ; auc = 0.962404250303424 ; cv_num = 0\n",
      "C_val = 0.001 ; auc = 0.9853903540512635 ; cv_num = 1\n",
      "C_val = 0.01 ; auc = 0.9339944321656528 ; cv_num = 1\n",
      "C_val = 0.1 ; auc = 0.93778398637403 ; cv_num = 1\n",
      "C_val = 1.0 ; auc = 0.9395143409079809 ; cv_num = 1\n",
      "C_val = 10.0 ; auc = 0.9330388939731208 ; cv_num = 1\n",
      "C_val = 100.0 ; auc = 0.9401262788215607 ; cv_num = 1\n",
      "C_val = 1000.0 ; auc = 0.9524119332697146 ; cv_num = 1\n",
      "C_val = 0.001 ; auc = 0.914452163739961 ; cv_num = 2\n",
      "C_val = 0.01 ; auc = 0.9367049413480713 ; cv_num = 2\n",
      "C_val = 0.1 ; auc = 0.9403779930761968 ; cv_num = 2\n",
      "C_val = 1.0 ; auc = 0.9407851948746562 ; cv_num = 2\n",
      "C_val = 10.0 ; auc = 0.9408927144506538 ; cv_num = 2\n",
      "C_val = 100.0 ; auc = 0.940820996605813 ; cv_num = 2\n",
      "C_val = 1000.0 ; auc = 0.9406989504488027 ; cv_num = 2\n",
      "Best C: 0.001\n",
      "Best auc corresponding to Best C: 0.9603647804839975\n"
     ]
    }
   ],
   "source": [
    "num_cv_splits = 3\n",
    "num_C = [0.001, 0.01, 0.1, 1.0, 10.0, 100.0, 1000.0]\n",
    "auc = np.zeros((len(num_C), num_cv_splits))\n",
    "skf = StratifiedKFold(n_splits=num_cv_splits, random_state=0, shuffle=True)\n",
    "cv_num=0\n",
    "for train_index, test_index in skf.split(X_train, y_train):\n",
    "    X_train_cv, X_test_cv = X_train.iloc[train_index], X_train.iloc[test_index]\n",
    "    y_train_cv, y_test_cv = y_train.iloc[train_index], y_train.iloc[test_index]\n",
    "    for c_id, c_val in enumerate(num_C):\n",
    "        lr = LogisticRegression(C=c_val, random_state=0, solver='lbfgs', max_iter=1000, n_jobs=-1)\n",
    "        lr.fit(X_train_cv, y_train_cv)\n",
    "        auc[c_id, cv_num] = metrics.roc_auc_score(y_true = y_test_cv, y_score = lr.predict_proba(X_test_cv)[:,1])\n",
    "        print('C_val =', c_val, '; auc =', auc[c_id, cv_num], '; cv_num =', cv_num)\n",
    "    cv_num += 1\n",
    "mean_auc = np.mean(auc, axis=1)\n",
    "print('Best C:', num_C[np.argmax(mean_auc)])\n",
    "print('Best auc corresponding to Best C:', mean_auc[np.argmax(mean_auc)])\n",
    "\n"
   ]
  },
  {
   "cell_type": "markdown",
   "metadata": {},
   "source": [
    "## Training with XGBoost"
   ]
  },
  {
   "cell_type": "code",
   "execution_count": 11,
   "metadata": {},
   "outputs": [
    {
     "name": "stdout",
     "output_type": "stream",
     "text": [
      "num_trees = 2 ; auc = 0.9557044451970708 ; cv_num = 0\n",
      "num_trees = 7 ; auc = 0.9659545196304535 ; cv_num = 0\n",
      "num_trees = 12 ; auc = 0.9672911750431817 ; cv_num = 0\n",
      "num_trees = 17 ; auc = 0.9642214199544603 ; cv_num = 0\n",
      "num_trees = 22 ; auc = 0.965666108144642 ; cv_num = 0\n",
      "num_trees = 27 ; auc = 0.967267097859853 ; cv_num = 0\n",
      "num_trees = 32 ; auc = 0.9741979524214268 ; cv_num = 0\n",
      "num_trees = 37 ; auc = 0.9764016723862845 ; cv_num = 0\n",
      "num_trees = 42 ; auc = 0.9765484802950843 ; cv_num = 0\n",
      "num_trees = 47 ; auc = 0.978283295684854 ; cv_num = 0\n",
      "num_trees = 2 ; auc = 0.9317083007490693 ; cv_num = 1\n",
      "num_trees = 7 ; auc = 0.9477318664209307 ; cv_num = 1\n",
      "num_trees = 12 ; auc = 0.956512603576211 ; cv_num = 1\n",
      "num_trees = 17 ; auc = 0.9670069956513518 ; cv_num = 1\n",
      "num_trees = 22 ; auc = 0.9703886675046214 ; cv_num = 1\n",
      "num_trees = 27 ; auc = 0.9725778039023795 ; cv_num = 1\n",
      "num_trees = 32 ; auc = 0.9776206870244113 ; cv_num = 1\n",
      "num_trees = 37 ; auc = 0.9755509643054899 ; cv_num = 1\n",
      "num_trees = 42 ; auc = 0.9762186057263434 ; cv_num = 1\n",
      "num_trees = 47 ; auc = 0.97582422031961 ; cv_num = 1\n",
      "num_trees = 2 ; auc = 0.974875191504947 ; cv_num = 2\n",
      "num_trees = 7 ; auc = 0.963702363394663 ; cv_num = 2\n",
      "num_trees = 12 ; auc = 0.9813474124498975 ; cv_num = 2\n",
      "num_trees = 17 ; auc = 0.975684791035704 ; cv_num = 2\n",
      "num_trees = 22 ; auc = 0.9732925376610191 ; cv_num = 2\n",
      "num_trees = 27 ; auc = 0.9749486250877029 ; cv_num = 2\n",
      "num_trees = 32 ; auc = 0.9713973907515322 ; cv_num = 2\n",
      "num_trees = 37 ; auc = 0.9717304154808057 ; cv_num = 2\n",
      "num_trees = 42 ; auc = 0.972079339381424 ; cv_num = 2\n",
      "num_trees = 47 ; auc = 0.9714751708703391 ; cv_num = 2\n",
      "Best num_trees: 47\n",
      "Best auc corresponding to Best num_trees : 0.9751942289582677\n"
     ]
    }
   ],
   "source": [
    "tree_ranges = range(2,50,5)\n",
    "score1 = []\n",
    "score2 = []\n",
    "auc = np.zeros((len(tree_ranges), num_cv_splits))\n",
    "cv_num = 0\n",
    "for train_index, test_index in skf.split(X_train, y_train):\n",
    "    X_train_cv, X_test_cv = X_train.iloc[train_index], X_train.iloc[test_index]\n",
    "    y_train_cv, y_test_cv = y_train.iloc[train_index], y_train.iloc[test_index]\n",
    "    X_train_cv, y_train_cv = ADASYN().fit_resample(X_train_cv, y_train_cv)\n",
    "    for tree_id, tree in enumerate(tree_ranges):\n",
    "        classifier = XGBClassifier(n_estimators=tree)\n",
    "        classifier.fit(X_train_cv, y_train_cv)\n",
    "        auc[tree_id, cv_num] = metrics.roc_auc_score(y_true = y_test_cv, y_score = classifier.predict_proba(X_test_cv)[:,1])\n",
    "        print('num_trees =', tree, '; auc =', auc[tree_id, cv_num], '; cv_num =', cv_num)\n",
    "    cv_num += 1\n",
    "mean_auc = np.mean(auc, axis=1)\n",
    "print('Best num_trees:', tree_ranges[np.argmax(mean_auc)])\n",
    "print('Best auc corresponding to Best num_trees :', mean_auc[np.argmax(mean_auc)])"
   ]
  },
  {
   "cell_type": "code",
   "execution_count": 12,
   "metadata": {},
   "outputs": [
    {
     "name": "stdout",
     "output_type": "stream",
     "text": [
      "0.020382658\n"
     ]
    }
   ],
   "source": [
    "xgb = XGBClassifier(n_estimators=47)\n",
    "X_train_smote, y_train_smote = SMOTE(random_state=0).fit_resample(X_train, y_train)\n",
    "xgb.fit(X_train_smote, y_train_smote)\n",
    "xgb.score(X_test, y_test)\n",
    "metrics.roc_auc_score(y_true = y_test, y_score = classifier.predict_proba(X_test)[:,1])\n",
    "fpr, tpr, thresholds = metrics.roc_curve(y_train_smote, classifier.predict_proba(X_train_smote)[:,1])\n",
    "threshold = thresholds[np.argmax(tpr-fpr)]\n",
    "print(threshold)"
   ]
  },
  {
   "cell_type": "code",
   "execution_count": null,
   "metadata": {},
   "outputs": [],
   "source": []
  }
 ],
 "metadata": {
  "kernelspec": {
   "display_name": "Python 3.9.1 64-bit (system)",
   "language": "python",
   "name": "python3"
  },
  "language_info": {
   "codemirror_mode": {
    "name": "ipython",
    "version": 3
   },
   "file_extension": ".py",
   "mimetype": "text/x-python",
   "name": "python",
   "nbconvert_exporter": "python",
   "pygments_lexer": "ipython3",
   "version": "3.9.1"
  },
  "orig_nbformat": 4,
  "vscode": {
   "interpreter": {
    "hash": "81794d4967e6c3204c66dcd87b604927b115b27c00565d3d43f05ba2f3a2cb0d"
   }
  }
 },
 "nbformat": 4,
 "nbformat_minor": 2
}
