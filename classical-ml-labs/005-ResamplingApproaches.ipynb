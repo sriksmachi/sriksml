{
  "nbformat": 4,
  "nbformat_minor": 0,
  "metadata": {
    "colab": {
      "provenance": [],
      "collapsed_sections": [],
      "authorship_tag": "ABX9TyMEnqDV56LnvENJSwcalTRH",
      "include_colab_link": true
    },
    "kernelspec": {
      "name": "python3",
      "display_name": "Python 3"
    },
    "language_info": {
      "name": "python"
    }
  },
  "cells": [
    {
      "cell_type": "markdown",
      "metadata": {
        "id": "view-in-github",
        "colab_type": "text"
      },
      "source": [
        "<a href=\"https://colab.research.google.com/github/sriksmachi/sriksml/blob/main/ResamplingApproaches.ipynb\" target=\"_parent\"><img src=\"https://colab.research.google.com/assets/colab-badge.svg\" alt=\"Open In Colab\"/></a>"
      ]
    },
    {
      "cell_type": "markdown",
      "source": [
        "# Resampling Approaches\n",
        "\n",
        "Test error plays a key role in assessing the model performance. An ideal model contains low error rate (low bias) and which does not change with variations in the data (low variance). However, it is practically unrealistic to find real estimates of test error or a low-variance & low-bias model because we do not have the population data. Hence choosing a right resampling method to identify the test error estimates helps in model assessment. \n",
        "\n",
        "Resampling is an approach to estimations of test error in case of predictive modeling where samples are repeatedly drawn from population data. Statistical models are proven to work better with more data.  Resampling methods are applied to get better estimates of the model. Based on how the samples are drawn various resampling approaches exist. \n",
        "\n",
        "### Types of resampling methods\n",
        "\n",
        "- Validation set or hold-out validation (Baseline)\n",
        "- Leave One Out cross-validation (LOOCV)\n",
        "- K-fold cross-validation\n",
        "- Bootstrap method.\n",
        "\n",
        "In the following sections we understand each method and at the end of this notebook we will learn how to choose a method based on the problem statement.\n"
      ],
      "metadata": {
        "id": "mTbtyQEPrF6E"
      }
    },
    {
      "cell_type": "code",
      "execution_count": 157,
      "metadata": {
        "id": "32dZ-OfFrCkf"
      },
      "outputs": [],
      "source": [
        "# Importing libraries\n",
        "\n",
        "import time\n",
        "import numpy as np\n",
        "import pandas as pd\n",
        "import matplotlib.pyplot as plt\n",
        "import seaborn as sns\n",
        "import warnings\n",
        "from sklearn.linear_model import LinearRegression\n",
        "from sklearn.metrics import mean_squared_error\n",
        "from sklearn.metrics import r2_score\n",
        "from sklearn.model_selection import LeaveOneOut\n",
        "\n",
        "%matplotlib inline\n",
        "warnings.filterwarnings('ignore')"
      ]
    },
    {
      "cell_type": "markdown",
      "source": [
        "In this notebook we will use open dataset called advertising data set. The data contains sales data which represents the amount of investment made towards 'TV, Radio, Newspaper' advertisement that resulted in increase in unit 'Sales' of a product. The investment amount is in $1000s of dollars, and Sales shows the increase in the units. "
      ],
      "metadata": {
        "id": "yLcoeZeZskz9"
      }
    },
    {
      "cell_type": "code",
      "source": [
        "df = pd.read_csv(\"https://raw.githubusercontent.com/sriksmachi/sriksml/main/data/Advertising.csv\", index_col=0)\n",
        "df.head()"
      ],
      "metadata": {
        "colab": {
          "base_uri": "https://localhost:8080/",
          "height": 206
        },
        "id": "IbVlMTWtrUPL",
        "outputId": "e98c31d4-4bbd-4593-976d-112fec45f8df"
      },
      "execution_count": 158,
      "outputs": [
        {
          "output_type": "execute_result",
          "data": {
            "text/plain": [
              "      TV  Radio  Newspaper  Sales\n",
              "1  230.1   37.8       69.2   22.1\n",
              "2   44.5   39.3       45.1   10.4\n",
              "3   17.2   45.9       69.3    9.3\n",
              "4  151.5   41.3       58.5   18.5\n",
              "5  180.8   10.8       58.4   12.9"
            ],
            "text/html": [
              "\n",
              "  <div id=\"df-a40268b1-1847-43b8-8dee-539f7b8d6fde\">\n",
              "    <div class=\"colab-df-container\">\n",
              "      <div>\n",
              "<style scoped>\n",
              "    .dataframe tbody tr th:only-of-type {\n",
              "        vertical-align: middle;\n",
              "    }\n",
              "\n",
              "    .dataframe tbody tr th {\n",
              "        vertical-align: top;\n",
              "    }\n",
              "\n",
              "    .dataframe thead th {\n",
              "        text-align: right;\n",
              "    }\n",
              "</style>\n",
              "<table border=\"1\" class=\"dataframe\">\n",
              "  <thead>\n",
              "    <tr style=\"text-align: right;\">\n",
              "      <th></th>\n",
              "      <th>TV</th>\n",
              "      <th>Radio</th>\n",
              "      <th>Newspaper</th>\n",
              "      <th>Sales</th>\n",
              "    </tr>\n",
              "  </thead>\n",
              "  <tbody>\n",
              "    <tr>\n",
              "      <th>1</th>\n",
              "      <td>230.1</td>\n",
              "      <td>37.8</td>\n",
              "      <td>69.2</td>\n",
              "      <td>22.1</td>\n",
              "    </tr>\n",
              "    <tr>\n",
              "      <th>2</th>\n",
              "      <td>44.5</td>\n",
              "      <td>39.3</td>\n",
              "      <td>45.1</td>\n",
              "      <td>10.4</td>\n",
              "    </tr>\n",
              "    <tr>\n",
              "      <th>3</th>\n",
              "      <td>17.2</td>\n",
              "      <td>45.9</td>\n",
              "      <td>69.3</td>\n",
              "      <td>9.3</td>\n",
              "    </tr>\n",
              "    <tr>\n",
              "      <th>4</th>\n",
              "      <td>151.5</td>\n",
              "      <td>41.3</td>\n",
              "      <td>58.5</td>\n",
              "      <td>18.5</td>\n",
              "    </tr>\n",
              "    <tr>\n",
              "      <th>5</th>\n",
              "      <td>180.8</td>\n",
              "      <td>10.8</td>\n",
              "      <td>58.4</td>\n",
              "      <td>12.9</td>\n",
              "    </tr>\n",
              "  </tbody>\n",
              "</table>\n",
              "</div>\n",
              "      <button class=\"colab-df-convert\" onclick=\"convertToInteractive('df-a40268b1-1847-43b8-8dee-539f7b8d6fde')\"\n",
              "              title=\"Convert this dataframe to an interactive table.\"\n",
              "              style=\"display:none;\">\n",
              "        \n",
              "  <svg xmlns=\"http://www.w3.org/2000/svg\" height=\"24px\"viewBox=\"0 0 24 24\"\n",
              "       width=\"24px\">\n",
              "    <path d=\"M0 0h24v24H0V0z\" fill=\"none\"/>\n",
              "    <path d=\"M18.56 5.44l.94 2.06.94-2.06 2.06-.94-2.06-.94-.94-2.06-.94 2.06-2.06.94zm-11 1L8.5 8.5l.94-2.06 2.06-.94-2.06-.94L8.5 2.5l-.94 2.06-2.06.94zm10 10l.94 2.06.94-2.06 2.06-.94-2.06-.94-.94-2.06-.94 2.06-2.06.94z\"/><path d=\"M17.41 7.96l-1.37-1.37c-.4-.4-.92-.59-1.43-.59-.52 0-1.04.2-1.43.59L10.3 9.45l-7.72 7.72c-.78.78-.78 2.05 0 2.83L4 21.41c.39.39.9.59 1.41.59.51 0 1.02-.2 1.41-.59l7.78-7.78 2.81-2.81c.8-.78.8-2.07 0-2.86zM5.41 20L4 18.59l7.72-7.72 1.47 1.35L5.41 20z\"/>\n",
              "  </svg>\n",
              "      </button>\n",
              "      \n",
              "  <style>\n",
              "    .colab-df-container {\n",
              "      display:flex;\n",
              "      flex-wrap:wrap;\n",
              "      gap: 12px;\n",
              "    }\n",
              "\n",
              "    .colab-df-convert {\n",
              "      background-color: #E8F0FE;\n",
              "      border: none;\n",
              "      border-radius: 50%;\n",
              "      cursor: pointer;\n",
              "      display: none;\n",
              "      fill: #1967D2;\n",
              "      height: 32px;\n",
              "      padding: 0 0 0 0;\n",
              "      width: 32px;\n",
              "    }\n",
              "\n",
              "    .colab-df-convert:hover {\n",
              "      background-color: #E2EBFA;\n",
              "      box-shadow: 0px 1px 2px rgba(60, 64, 67, 0.3), 0px 1px 3px 1px rgba(60, 64, 67, 0.15);\n",
              "      fill: #174EA6;\n",
              "    }\n",
              "\n",
              "    [theme=dark] .colab-df-convert {\n",
              "      background-color: #3B4455;\n",
              "      fill: #D2E3FC;\n",
              "    }\n",
              "\n",
              "    [theme=dark] .colab-df-convert:hover {\n",
              "      background-color: #434B5C;\n",
              "      box-shadow: 0px 1px 3px 1px rgba(0, 0, 0, 0.15);\n",
              "      filter: drop-shadow(0px 1px 2px rgba(0, 0, 0, 0.3));\n",
              "      fill: #FFFFFF;\n",
              "    }\n",
              "  </style>\n",
              "\n",
              "      <script>\n",
              "        const buttonEl =\n",
              "          document.querySelector('#df-a40268b1-1847-43b8-8dee-539f7b8d6fde button.colab-df-convert');\n",
              "        buttonEl.style.display =\n",
              "          google.colab.kernel.accessAllowed ? 'block' : 'none';\n",
              "\n",
              "        async function convertToInteractive(key) {\n",
              "          const element = document.querySelector('#df-a40268b1-1847-43b8-8dee-539f7b8d6fde');\n",
              "          const dataTable =\n",
              "            await google.colab.kernel.invokeFunction('convertToInteractive',\n",
              "                                                     [key], {});\n",
              "          if (!dataTable) return;\n",
              "\n",
              "          const docLinkHtml = 'Like what you see? Visit the ' +\n",
              "            '<a target=\"_blank\" href=https://colab.research.google.com/notebooks/data_table.ipynb>data table notebook</a>'\n",
              "            + ' to learn more about interactive tables.';\n",
              "          element.innerHTML = '';\n",
              "          dataTable['output_type'] = 'display_data';\n",
              "          await google.colab.output.renderOutput(dataTable, element);\n",
              "          const docLink = document.createElement('div');\n",
              "          docLink.innerHTML = docLinkHtml;\n",
              "          element.appendChild(docLink);\n",
              "        }\n",
              "      </script>\n",
              "    </div>\n",
              "  </div>\n",
              "  "
            ]
          },
          "metadata": {},
          "execution_count": 158
        }
      ]
    },
    {
      "cell_type": "code",
      "source": [
        "fig = plt.figure()\n",
        "fig, ax = plt.subplots(1, 3, figsize=(16,4))\n",
        "ax[0].scatter(x=df['TV'], y=df['Sales'])\n",
        "ax[0].set_ylabel(\"Sales\")\n",
        "ax[0].set_xlabel('TV')\n",
        "ax[1].scatter(x=df['Radio'], y=df['Sales'])\n",
        "ax[1].set_ylabel(\"Sales\")\n",
        "ax[1].set_xlabel('Radio')\n",
        "ax[2].scatter(x=df['Newspaper'], y=df['Sales'])\n",
        "ax[2].set_ylabel(\"Sales\")\n",
        "ax[2].set_xlabel('Newspaper')\n",
        "plt.show()\n",
        "print('Figure displaying the relationship between Sales and Budget invested in TV, Radio, Newspaper')"
      ],
      "metadata": {
        "colab": {
          "base_uri": "https://localhost:8080/",
          "height": 314
        },
        "id": "IASHraxFvvbQ",
        "outputId": "e9b9a442-65e4-4094-d9e3-f9f89d448778"
      },
      "execution_count": 159,
      "outputs": [
        {
          "output_type": "display_data",
          "data": {
            "text/plain": [
              "<Figure size 432x288 with 0 Axes>"
            ]
          },
          "metadata": {}
        },
        {
          "output_type": "display_data",
          "data": {
            "text/plain": [
              "<Figure size 1152x288 with 3 Axes>"
            ],
            "image/png": "[encoded data removed]"
          },
          "metadata": {
            "needs_background": "light"
          }
        },
        {
          "output_type": "stream",
          "name": "stdout",
          "text": [
            "Figure displaying the relationship between Sales and Budget invested in TV, Radio, Newspaper\n"
          ]
        }
      ]
    },
    {
      "cell_type": "markdown",
      "source": [
        "\n",
        "From the graphs above we can notice that the relationship is almost Linear, hence we will use simple linear regression model (least squares) to estimate the coefficients.\n",
        "\n",
        "Often a model works well on training data, more flexible (linear -> non-linear) the model lower the bias of the model, because the model tends to learn the noise as well. However, this results in high variance and high test error as the flexibility increases. Hence, test error plays a vital role in identifying the fitness of the model. For this example, we will use the Mean Squared Error & R-square (R2) as the quality metric to identify how the well the model is performing."
      ],
      "metadata": {
        "id": "KEf4XiVQxiJU"
      }
    },
    {
      "cell_type": "code",
      "source": [
        "# Calculating the MSE and R2 using all the training data.\n",
        "\n",
        "y = df['Sales']\n",
        "X = df[['TV', 'Radio', 'Newspaper']]\n",
        "lm = LinearRegression()\n",
        "lm.fit(X, y)\n",
        "y_preds = lm.predict(X)\n",
        "residuals = (y_preds - y)\n",
        "print(f'RMSE: {mean_squared_error(y, y_preds)}')\n",
        "print(f'R2: {r2_score(y, y_preds)}')\n",
        "\n",
        "fig = plt.figure()\n",
        "sns.distplot((y_preds - y), bins = 20)\n",
        "fig.suptitle('Error Terms', fontsize = 20)                  # Plot heading \n",
        "plt.xlabel('Errors', fontsize = 18)                         # X-label\n",
        "print('Residual graph shows the errors are centered around 0')\n",
        "plt.show()"
      ],
      "metadata": {
        "colab": {
          "base_uri": "https://localhost:8080/",
          "height": 368
        },
        "id": "j439aL0sMm0M",
        "outputId": "723ca36c-4d07-476e-bf37-e5c669623d77"
      },
      "execution_count": 160,
      "outputs": [
        {
          "output_type": "stream",
          "name": "stdout",
          "text": [
            "RMSE: 2.784126314510936\n",
            "R2: 0.8972106381789522\n",
            "Residual graph shows the errors are centered around 0\n"
          ]
        },
        {
          "output_type": "display_data",
          "data": {
            "text/plain": [
              "<Figure size 432x288 with 1 Axes>"
            ],
            "image/png": "[encoded data removed]"
          },
          "metadata": {
            "needs_background": "light"
          }
        }
      ]
    },
    {
      "cell_type": "markdown",
      "source": [
        "## Validation Set Approach\n",
        "\n",
        "In Validation set approach we randomly divide the training data into training set and validation set also called hold-out set. The model is trained on the training set and validation set is used to calculate the test error. It is simplest of the methods and often acts as baseline while evaluating different resampling approaches. "
      ],
      "metadata": {
        "id": "Mgx7p_HPwfDC"
      }
    },
    {
      "cell_type": "code",
      "source": [
        "from sklearn.model_selection import train_test_split\n",
        "y = df['Sales']\n",
        "X = df[['TV', 'Radio', 'Newspaper']]\n",
        "X_train, X_test, y_train, y_test = train_test_split(X, y, train_size= 0.7, random_state=42)\n",
        "X_train.info()"
      ],
      "metadata": {
        "colab": {
          "base_uri": "https://localhost:8080/"
        },
        "id": "KUDAMDOpwiqr",
        "outputId": "f2ca7fb3-ab3c-49e0-ec7a-3742d7b2145b"
      },
      "execution_count": 161,
      "outputs": [
        {
          "output_type": "stream",
          "name": "stdout",
          "text": [
            "<class 'pandas.core.frame.DataFrame'>\n",
            "Int64Index: 140 entries, 170 to 103\n",
            "Data columns (total 3 columns):\n",
            " #   Column     Non-Null Count  Dtype  \n",
            "---  ------     --------------  -----  \n",
            " 0   TV         140 non-null    float64\n",
            " 1   Radio      140 non-null    float64\n",
            " 2   Newspaper  140 non-null    float64\n",
            "dtypes: float64(3)\n",
            "memory usage: 4.4 KB\n"
          ]
        }
      ]
    },
    {
      "cell_type": "code",
      "source": [
        "now = time.time()\n",
        "lm = LinearRegression()\n",
        "lm.fit(X_train, y_train)\n",
        "y_test_preds = lm.predict(X_test)\n",
        "y_train_preds = lm.predict(X_train)\n",
        "\n",
        "def summary(y_train, y_test, y_train_preds, y_test_preds):\n",
        "  residuals = (y_test_preds - y_test)\n",
        "  print(f'Train MSE: {mean_squared_error(y_train, y_train_preds)}')\n",
        "  print(f'Train R2: {r2_score(y_train, y_train_preds)}')\n",
        "  print(f'Test MSE: {mean_squared_error(y_test, y_test_preds)}')\n",
        "  print(f'Test R2: {r2_score(y_test, y_test_preds)}') \n",
        "  fig = plt.figure()\n",
        "  sns.distplot((y_preds - y), bins = 20)\n",
        "  fig.suptitle('Error Terms', fontsize = 20)                  # Plot heading \n",
        "  plt.xlabel('Errors', fontsize = 18)    \n",
        "\n",
        "summary(y_train, np.array(y_test), y_train_preds, y_test_preds)\n",
        "print(f\"Time taken: {time.time() - now}s\")\n",
        "print(f\"Coefficient Estimates : {lm.coef_}\")"
      ],
      "metadata": {
        "colab": {
          "base_uri": "https://localhost:8080/",
          "height": 420
        },
        "id": "8D7NoOV9-KyY",
        "outputId": "98359501-8a0d-487b-9df1-38fd76ab8473"
      },
      "execution_count": 162,
      "outputs": [
        {
          "output_type": "stream",
          "name": "stdout",
          "text": [
            "Train MSE: 2.4793551789057866\n",
            "Train R2: 0.9055159502227753\n",
            "Test MSE: 3.79679723671522\n",
            "Test R2: 0.8609466508230368\n",
            "Time taken: 0.06824016571044922s\n",
            "Coefficient Estimates : [0.04405928 0.1992875  0.00688245]\n"
          ]
        },
        {
          "output_type": "display_data",
          "data": {
            "text/plain": [
              "<Figure size 432x288 with 1 Axes>"
            ],
            "image/png": "[encoded data removed]"
          },
          "metadata": {
            "needs_background": "light"
          }
        }
      ]
    },
    {
      "cell_type": "markdown",
      "source": [
        "Notice that the test MSE is higher than the train MSE, R2 is also lower this proves the point that the model performs well when only training data is used. Only the test error represents the model's performance. \n",
        "\n",
        "Validation set approach has the following disadvantages.\n",
        "- Statistical models like LS fit perform well when the sample size is large. Since we are using only 70% of the data, the coefficient estimates are sub-optimal. This difference can be noticed in slight increase in Train MSE and decrease in Train R2 compared to the step above where all samples are used.\n",
        "- The model is as good as the samples included in the training set, since the split is random. If the training set contains good samples, the model performs good. \n",
        "- Due to the randomness in generating the training set and validation set, the results are not always the same. "
      ],
      "metadata": {
        "id": "MkpPc6l8vaS_"
      }
    },
    {
      "cell_type": "markdown",
      "source": [
        "# Leave one out cross-validation\n",
        "\n",
        "LOOCV addresses the problems associated with validation set approach. For a training set with **n** observations, LOOCV proposes to fit the model **n** times, with each time leaving exactly one observation out. The left out observation is then used to calculate the test error. The final test error is then calculated as mean of test errors from each iteration.\n",
        "\n",
        "Use this approach we get to train the model with all the samples, repeated number of times (with a slight difference in sample data)\n",
        "\n"
      ],
      "metadata": {
        "id": "bOUbdCi-_u8G"
      }
    },
    {
      "cell_type": "code",
      "source": [
        "now = time.time()\n",
        "loo = LeaveOneOut()\n",
        "y = df['Sales']\n",
        "X = df[['TV', 'Radio', 'Newspaper']]\n",
        "lm = LinearRegression()\n",
        "mse = []\n",
        "i = 0\n",
        "for train_index, test_index in loo.split(X):\n",
        "  i+=1\n",
        "  X_train, X_test = X.iloc[train_index], X.iloc[test_index]\n",
        "  y_train, y_test = y.iloc[train_index], y.iloc[test_index]\n",
        "  lm.fit(X_train, y_train)\n",
        "  y_train_preds = lm.predict(X_train)\n",
        "  y_test_preds = lm.predict(X_test)\n",
        "  mse.append(mean_squared_error(np.array(y_test), y_test_preds))\n",
        "  \n",
        "print(f\"Test MSE : {np.sum(mse)/len(mse)}\")\n",
        "print(f\"Time taken: {time.time() - now}s for {i} splits\")\n",
        "print(f\"Coefficient Estimates : {lm.coef_}\")"
      ],
      "metadata": {
        "colab": {
          "base_uri": "https://localhost:8080/"
        },
        "id": "F5Tr_RI_VYCF",
        "outputId": "23e0d6f9-e590-436a-b5bd-75814b57a2e9"
      },
      "execution_count": 163,
      "outputs": [
        {
          "output_type": "stream",
          "name": "stdout",
          "text": [
            "Test MSE : 2.946899800569503\n",
            "Time taken: 0.9413318634033203s for 200 splits\n",
            "Coefficient Estimates : [ 0.04587856  0.18806189 -0.00136808]\n"
          ]
        }
      ]
    },
    {
      "cell_type": "markdown",
      "source": [
        "Using LOOCV, the test MSE is reduced (low bias) since the model now has more observations to use. Secondly, since all the data samples are used for validation and an average of the MSE is taken, as a result the test MSE when LOOCV is used is always a constant. However, the time taken to fit the model increased, this is due to increase in number of iterations. For training a larger dataset, using LOOCV is not practical where each training is computationally expensive."
      ],
      "metadata": {
        "id": "umFLScktzanU"
      }
    },
    {
      "cell_type": "markdown",
      "source": [
        "# K-Fold Cross Validation\n",
        "\n",
        "K-Fold cross validation is very similar to LOOCV except that instead of leaving one sample out we divide the data samples into K folds (or groups). The model is trained on K-1 folds and the remaining hold-out set is used to calculate the Test MSE. The training is repeated K times by shuffling the hold-out set. Final Test MSE is calculated as a mean of Test MSE for K iterations. "
      ],
      "metadata": {
        "id": "o3duDx8KGsaF"
      }
    },
    {
      "cell_type": "code",
      "source": [
        "from sklearn.model_selection import KFold\n",
        "now = time.time()\n",
        "kf = KFold(n_splits=5)\n",
        "lm = LinearRegression()\n",
        "i=0\n",
        "# kf.split returns a list of train and test indexes\n",
        "for train_index, test_index in kf.split(X):\n",
        "  i+=1\n",
        "  X_train, X_test = X.iloc[train_index], X.iloc[test_index]\n",
        "  y_train, y_test = y.iloc[train_index], y.iloc[test_index]\n",
        "  lm.fit(X_train, y_train)\n",
        "  y_test_preds = lm.predict(X_test)\n",
        "  mse.append(mean_squared_error(np.array(y_test), y_test_preds))\n",
        "\n",
        "print(f\"Test MSE : {np.sum(mse)/len(mse)}\")\n",
        "print(f\"Time taken: {time.time() - now}s for {i} splits\")\n",
        "print(f\"Coefficient Estiates: {lm.coef_}\")"
      ],
      "metadata": {
        "colab": {
          "base_uri": "https://localhost:8080/"
        },
        "id": "Tdh9sY7QGv83",
        "outputId": "1a33d963-9ef8-41ba-c57b-5573dd3182d4"
      },
      "execution_count": 164,
      "outputs": [
        {
          "output_type": "stream",
          "name": "stdout",
          "text": [
            "Test MSE : 2.949974112680008\n",
            "Time taken: 0.02764415740966797s for 5 splits\n",
            "Coefficient Estiates: [ 0.0472521   0.179922   -0.00094408]\n"
          ]
        }
      ]
    },
    {
      "cell_type": "markdown",
      "source": [
        "This model performs almost same as LOOCV with a considerable reduction in the time taken. However given the randomness of the split, the result always varies slightly."
      ],
      "metadata": {
        "id": "UOrSuepUo54R"
      }
    },
    {
      "cell_type": "markdown",
      "source": [
        "# Bootstrap\n",
        "\n",
        "Using bootstrap we can identify the standard error associated with estimating the coefficients of the model. In bootstrap sampling we continuously sample from population data with repeatition. Unlike remaining methods, here we do not calculate test MSE because the data is sampled at random with repetitions. \n",
        "If the data contains outliers, this approach may lead to incorrect estimates of the coefficients due to multiple repetitions of the outlier in the training dataset."
      ],
      "metadata": {
        "id": "a7XWKMVzpgdI"
      }
    },
    {
      "cell_type": "code",
      "source": [
        "iterations = 2000 \n",
        "n_points = 100\n",
        "i = 0\n",
        "coeff = []\n",
        "tv, radio, newsp = [], [], []\n",
        "now = time.time()\n",
        "for _ in range(iterations):\n",
        "  i+=1\n",
        "  sample_df = df.sample(n=n_points, replace=True)\n",
        "  y = sample_df['Sales']\n",
        "  X = sample_df[['TV', 'Radio', 'Newspaper']]\n",
        "  lm.fit(X, y)\n",
        "  tv.append(lm.coef_[0])\n",
        "  radio.append(lm.coef_[1])\n",
        "  newsp.append(lm.coef_[2])\n",
        "print(f\"Time taken: {time.time() - now}s for {i} splits\")\n",
        "tv_mean = np.sum(tv)/iterations\n",
        "tv_se = np.var(tv) ** 0.5\n",
        "radio_mean = np.sum(radio)/iterations\n",
        "radio_se = np.var(radio) ** 0.5\n",
        "newsp_mean = np.sum(newsp)/iterations\n",
        "newsp_se = np.var(newsp) ** 0.5\n",
        "print(f\"Coefficient Estimates: {tv_mean, radio_mean, newsp_mean}\")\n",
        "print(f\"Standard Error Estimates: {tv_se, radio_se, newsp_se}\")\n"
      ],
      "metadata": {
        "colab": {
          "base_uri": "https://localhost:8080/"
        },
        "id": "gY4jGvyKpkYT",
        "outputId": "13bd7e46-a07b-40f9-9fc0-f785ef859b71"
      },
      "execution_count": 166,
      "outputs": [
        {
          "output_type": "stream",
          "name": "stdout",
          "text": [
            "Time taken: 6.590977668762207s for 2000 splits\n",
            "Coefficient Estimates: (0.04568309656857888, 0.18800106570639902, -0.0006252843966201198)\n",
            "Standard Error Estimates: (0.0027333896891250016, 0.015601281152763173, 0.009386998123708757)\n"
          ]
        }
      ]
    },
    {
      "cell_type": "markdown",
      "source": [
        "Ofcourse we would never know how close these estimates are to the real coefficients. However for a known population data, it can be empirically proven that if bootstrap method is repeated for large iterations, the coefficients / standard error are pretty close to the actual values. "
      ],
      "metadata": {
        "id": "6XtTxB0z4xiZ"
      }
    },
    {
      "cell_type": "markdown",
      "source": [
        "# Summary\n",
        "\n",
        "The table below summarizes the concepts explained in this notebook. \n",
        "For any given predictive modeling problem, all of these approaches can be applied. Validation set approach being the simplest can always act as baseline on which other methods can be evaluated.  \n",
        "\n",
        "||Test MSE|Bias|Variance|Time Taken|When to use\n",
        "|-|-|-|-|-|-|\n",
        "|Validation set|3.796|High|High|0.0113| Baseline\n",
        "|LOOCV|2.946|Low|Highest|0.9468| Reduce bias,Smaller datasets, computationally inexpensive.\n",
        "|K-Fold|2.949|Intermediate (little higher than LOOCV)|Low|0.0263|Larger dataset, reduce variance.\n",
        "\n",
        "Bootstrap though only an estimation technique, it can still be used in estimating the standard error in case of regression models where coefficients are estimated. "
      ],
      "metadata": {
        "id": "bwXlRYupzMT_"
      }
    }
  ]
}