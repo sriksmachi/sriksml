{
  "cells": [
    {
      "cell_type": "markdown",
      "metadata": {
        "id": "view-in-github",
        "colab_type": "text"
      },
      "source": [
        "<a href=\"https://colab.research.google.com/github/sriksmachi/sriksml/blob/main/genai/transformers_101_nmt_eng_hin.ipynb\" target=\"_parent\"><img src=\"https://colab.research.google.com/assets/colab-badge.svg\" alt=\"Open In Colab\"/></a>"
      ]
    },
    {
      "cell_type": "markdown",
      "metadata": {
        "id": "XQ9FiUiN6slr"
      },
      "source": [
        "## Neural Machine Translation using Transformers.\n",
        "==========================================================================================================\n",
        "\n",
        "In this notebook we will create a transformer model using multi-headed attention for neural machine translation task.\n",
        "\n",
        "A little bit about transformers, before we get started. RNNs were traditionally used for modelling seq2seq tasks, however they have few inherent challenges\n",
        "- They fail to learn as the length of the sequence of input increases. In a typical Encoder-Decoder network architecture, the encoder is responsible for encoding the entire input sentence into latent vector space, which is then used by the decoder network to predict each token.\n",
        "- The learning process in RNN is also sequential due to the auto regressive nature. The prediction of the next token in RNN models depends on the previous token.\n",
        "\n",
        "The breakthough technique that made transformers so popular is the attention mechanism. Let us now understand how transformers solve this problem\n",
        "- Transformers learn using self attention mechanism. Intuitevly, this means they learn the relative weights of every word with respect to other words in the sentence.\n",
        "- For every next token that should be predicted the network learns the relative importance that should be given to the input tokens, that can be learned in parallel.\n",
        "\n",
        " Note: Attention technique can be used with RNNs as well. Using attention mechanism RNNs learn hidden state for each word so that it is easy to pay more attention or discard words rather than learning the hidden state for the entire sentence. However this does not solve 2 problems\n",
        "1.   The entire process is still sequential, it cannot be parallelized\n",
        "2.   For a large sentence the time taken for translating the sentence to encodings is large.\n",
        "\n",
        "Transformers introduced a completely new concept, with some learnings from how CNNs learn embeddings in parallel. Transformers use encoder, decoder architecture to learn attention weights in parallel and they can be used for a variety of tasks like neural language translation, question answering, next word prediction etc.\n",
        "\n",
        "Complete understanding of how transformers work is not explained in this notebook but you may refer to the following blogs for better understanding.\n",
        "- https://jalammar.github.io/illustrated-transformer/\n",
        "- https://mchromiak.github.io/articles/2017/Sep/12/Transformer-Attention-is-all-you-need/#.XIWlzBNKjOR\n",
        "\n",
        "This notebook builds a transformer model following the explanation from the original paper (https://arxiv.org/pdf/1706.03762.pdf).\n"
      ]
    },
    {
      "cell_type": "code",
      "execution_count": 1,
      "metadata": {
        "execution": {
          "iopub.execute_input": "2023-10-22T04:42:40.524883Z",
          "iopub.status.busy": "2023-10-22T04:42:40.524538Z",
          "iopub.status.idle": "2023-10-22T04:42:49.170759Z",
          "shell.execute_reply": "2023-10-22T04:42:49.169842Z",
          "shell.execute_reply.started": "2023-10-22T04:42:40.524856Z"
        },
        "id": "_fGjw2YZ_BLF",
        "trusted": true
      },
      "outputs": [],
      "source": [
        "## Importing required libraries\n",
        "\n",
        "import tensorflow as tf\n",
        "from tensorflow import matmul, cast, float32,sqrt, math, transpose\n",
        "from tensorflow import convert_to_tensor, string\n",
        "from keras.backend import softmax\n",
        "from numpy import random\n",
        "from tensorflow.keras.layers import TextVectorization, Embedding, Layer, Dropout, Input\n",
        "from tensorflow.keras import Model\n",
        "from tensorflow.data import Dataset\n",
        "import numpy as np\n",
        "import matplotlib.pyplot as plt\n",
        "import pathlib\n",
        "import pickle\n",
        "import random\n",
        "import re\n",
        "import tqdm\n",
        "import unicodedata\n",
        "import tensorflow as tf\n",
        "from tensorflow import convert_to_tensor, int64\n",
        "from pickle import load\n",
        "from numpy.random import shuffle\n",
        "import pandas as pd"
      ]
    },
    {
      "cell_type": "markdown",
      "metadata": {
        "id": "ig9WSiTY2yc0"
      },
      "source": [
        "## Transformers Architecture.\n",
        "\n",
        "The following images shows the transformers architecture.\n",
        "\n",
        "![image.png](https://github.com/sriksmachi/sriksml/blob/main/genai/images/trans-arch.png?raw=1)\n",
        "\n",
        "Image Source :  https://arxiv.org/pdf/1706.03762.pdf"
      ]
    },
    {
      "cell_type": "markdown",
      "metadata": {
        "id": "lVEmW-et8LmZ"
      },
      "source": [
        "We will use the bottom-up approach, i.e. build the transformer from the bottom most layer and then walk upwards.\n",
        "This notebook builds each layer as a separate model so that they can be plugged into a full fledged model."
      ]
    },
    {
      "cell_type": "markdown",
      "metadata": {
        "id": "ZSO1L1TzKjUy"
      },
      "source": [
        "## Download and Preprocess"
      ]
    },
    {
      "cell_type": "code",
      "execution_count": 2,
      "metadata": {
        "colab": {
          "base_uri": "https://localhost:8080/"
        },
        "id": "sQRP4wpuuIS_",
        "outputId": "1bcc9bdf-efee-452f-c21b-f1c9582d10c6"
      },
      "outputs": [
        {
          "output_type": "stream",
          "name": "stdout",
          "text": [
            "Downloading...\n",
            "From: https://drive.google.com/uc?id=1vyR40sftEJ1Jexoat17JzzB2cdcMVI0T\n",
            "To: /content/Hindi_English_Truncated_Corpus.csv\n",
            "100% 41.4M/41.4M [00:00<00:00, 64.0MB/s]\n"
          ]
        }
      ],
      "source": [
        "# for this notebook I'm using a hindi-english Truncated Corpus from OPUS, it can be downloaded from the link below\n",
        "!gdown 1vyR40sftEJ1Jexoat17JzzB2cdcMVI0T"
      ]
    },
    {
      "cell_type": "code",
      "execution_count": 3,
      "metadata": {
        "colab": {
          "base_uri": "https://localhost:8080/",
          "height": 225
        },
        "execution": {
          "iopub.execute_input": "2023-10-22T04:42:49.172859Z",
          "iopub.status.busy": "2023-10-22T04:42:49.172324Z",
          "iopub.status.idle": "2023-10-22T04:42:50.979430Z",
          "shell.execute_reply": "2023-10-22T04:42:50.978266Z",
          "shell.execute_reply.started": "2023-10-22T04:42:49.172818Z"
        },
        "id": "L6LNUZqOtqn5",
        "outputId": "e2c0842c-ed9d-4069-a283-982cbd60a05f",
        "trusted": true
      },
      "outputs": [
        {
          "output_type": "stream",
          "name": "stdout",
          "text": [
            "Total number of examples = 127607\n"
          ]
        },
        {
          "output_type": "execute_result",
          "data": {
            "text/plain": [
              "      source                                   english_sentence  \\\n",
              "0        ted  politicians do not have permission to do what ...   \n",
              "1        ted         I'd like to tell you about one such child,   \n",
              "2  indic2012  This percentage is even greater than the perce...   \n",
              "3        ted  what we really mean is that they're bad at not...   \n",
              "4  indic2012  .The ending portion of these Vedas is called U...   \n",
              "\n",
              "                                      hindi_sentence  \n",
              "0  राजनीतिज्ञों के पास जो कार्य करना चाहिए, वह कर...  \n",
              "1  मई आपको ऐसे ही एक बच्चे के बारे में बताना चाहू...  \n",
              "2   यह प्रतिशत भारत में हिन्दुओं प्रतिशत से अधिक है।  \n",
              "3     हम ये नहीं कहना चाहते कि वो ध्यान नहीं दे पाते  \n",
              "4        इन्हीं वेदों का अंतिम भाग उपनिषद कहलाता है।  "
            ],
            "text/html": [
              "\n",
              "  <div id=\"df-23f50e94-c685-4b44-874f-7b5f345e62b2\" class=\"colab-df-container\">\n",
              "    <div>\n",
              "<style scoped>\n",
              "    .dataframe tbody tr th:only-of-type {\n",
              "        vertical-align: middle;\n",
              "    }\n",
              "\n",
              "    .dataframe tbody tr th {\n",
              "        vertical-align: top;\n",
              "    }\n",
              "\n",
              "    .dataframe thead th {\n",
              "        text-align: right;\n",
              "    }\n",
              "</style>\n",
              "<table border=\"1\" class=\"dataframe\">\n",
              "  <thead>\n",
              "    <tr style=\"text-align: right;\">\n",
              "      <th></th>\n",
              "      <th>source</th>\n",
              "      <th>english_sentence</th>\n",
              "      <th>hindi_sentence</th>\n",
              "    </tr>\n",
              "  </thead>\n",
              "  <tbody>\n",
              "    <tr>\n",
              "      <th>0</th>\n",
              "      <td>ted</td>\n",
              "      <td>politicians do not have permission to do what ...</td>\n",
              "      <td>राजनीतिज्ञों के पास जो कार्य करना चाहिए, वह कर...</td>\n",
              "    </tr>\n",
              "    <tr>\n",
              "      <th>1</th>\n",
              "      <td>ted</td>\n",
              "      <td>I'd like to tell you about one such child,</td>\n",
              "      <td>मई आपको ऐसे ही एक बच्चे के बारे में बताना चाहू...</td>\n",
              "    </tr>\n",
              "    <tr>\n",
              "      <th>2</th>\n",
              "      <td>indic2012</td>\n",
              "      <td>This percentage is even greater than the perce...</td>\n",
              "      <td>यह प्रतिशत भारत में हिन्दुओं प्रतिशत से अधिक है।</td>\n",
              "    </tr>\n",
              "    <tr>\n",
              "      <th>3</th>\n",
              "      <td>ted</td>\n",
              "      <td>what we really mean is that they're bad at not...</td>\n",
              "      <td>हम ये नहीं कहना चाहते कि वो ध्यान नहीं दे पाते</td>\n",
              "    </tr>\n",
              "    <tr>\n",
              "      <th>4</th>\n",
              "      <td>indic2012</td>\n",
              "      <td>.The ending portion of these Vedas is called U...</td>\n",
              "      <td>इन्हीं वेदों का अंतिम भाग उपनिषद कहलाता है।</td>\n",
              "    </tr>\n",
              "  </tbody>\n",
              "</table>\n",
              "</div>\n",
              "    <div class=\"colab-df-buttons\">\n",
              "\n",
              "  <div class=\"colab-df-container\">\n",
              "    <button class=\"colab-df-convert\" onclick=\"convertToInteractive('df-23f50e94-c685-4b44-874f-7b5f345e62b2')\"\n",
              "            title=\"Convert this dataframe to an interactive table.\"\n",
              "            style=\"display:none;\">\n",
              "\n",
              "  <svg xmlns=\"http://www.w3.org/2000/svg\" height=\"24px\" viewBox=\"0 -960 960 960\">\n",
              "    <path d=\"M120-120v-720h720v720H120Zm60-500h600v-160H180v160Zm220 220h160v-160H400v160Zm0 220h160v-160H400v160ZM180-400h160v-160H180v160Zm440 0h160v-160H620v160ZM180-180h160v-160H180v160Zm440 0h160v-160H620v160Z\"/>\n",
              "  </svg>\n",
              "    </button>\n",
              "\n",
              "  <style>\n",
              "    .colab-df-container {\n",
              "      display:flex;\n",
              "      gap: 12px;\n",
              "    }\n",
              "\n",
              "    .colab-df-convert {\n",
              "      background-color: #E8F0FE;\n",
              "      border: none;\n",
              "      border-radius: 50%;\n",
              "      cursor: pointer;\n",
              "      display: none;\n",
              "      fill: #1967D2;\n",
              "      height: 32px;\n",
              "      padding: 0 0 0 0;\n",
              "      width: 32px;\n",
              "    }\n",
              "\n",
              "    .colab-df-convert:hover {\n",
              "      background-color: #E2EBFA;\n",
              "      box-shadow: 0px 1px 2px rgba(60, 64, 67, 0.3), 0px 1px 3px 1px rgba(60, 64, 67, 0.15);\n",
              "      fill: #174EA6;\n",
              "    }\n",
              "\n",
              "    .colab-df-buttons div {\n",
              "      margin-bottom: 4px;\n",
              "    }\n",
              "\n",
              "    [theme=dark] .colab-df-convert {\n",
              "      background-color: #3B4455;\n",
              "      fill: #D2E3FC;\n",
              "    }\n",
              "\n",
              "    [theme=dark] .colab-df-convert:hover {\n",
              "      background-color: #434B5C;\n",
              "      box-shadow: 0px 1px 3px 1px rgba(0, 0, 0, 0.15);\n",
              "      filter: drop-shadow(0px 1px 2px rgba(0, 0, 0, 0.3));\n",
              "      fill: #FFFFFF;\n",
              "    }\n",
              "  </style>\n",
              "\n",
              "    <script>\n",
              "      const buttonEl =\n",
              "        document.querySelector('#df-23f50e94-c685-4b44-874f-7b5f345e62b2 button.colab-df-convert');\n",
              "      buttonEl.style.display =\n",
              "        google.colab.kernel.accessAllowed ? 'block' : 'none';\n",
              "\n",
              "      async function convertToInteractive(key) {\n",
              "        const element = document.querySelector('#df-23f50e94-c685-4b44-874f-7b5f345e62b2');\n",
              "        const dataTable =\n",
              "          await google.colab.kernel.invokeFunction('convertToInteractive',\n",
              "                                                    [key], {});\n",
              "        if (!dataTable) return;\n",
              "\n",
              "        const docLinkHtml = 'Like what you see? Visit the ' +\n",
              "          '<a target=\"_blank\" href=https://colab.research.google.com/notebooks/data_table.ipynb>data table notebook</a>'\n",
              "          + ' to learn more about interactive tables.';\n",
              "        element.innerHTML = '';\n",
              "        dataTable['output_type'] = 'display_data';\n",
              "        await google.colab.output.renderOutput(dataTable, element);\n",
              "        const docLink = document.createElement('div');\n",
              "        docLink.innerHTML = docLinkHtml;\n",
              "        element.appendChild(docLink);\n",
              "      }\n",
              "    </script>\n",
              "  </div>\n",
              "\n",
              "\n",
              "<div id=\"df-5bc1820e-97ab-40a6-948b-e8de477c7051\">\n",
              "  <button class=\"colab-df-quickchart\" onclick=\"quickchart('df-5bc1820e-97ab-40a6-948b-e8de477c7051')\"\n",
              "            title=\"Suggest charts.\"\n",
              "            style=\"display:none;\">\n",
              "\n",
              "<svg xmlns=\"http://www.w3.org/2000/svg\" height=\"24px\"viewBox=\"0 0 24 24\"\n",
              "     width=\"24px\">\n",
              "    <g>\n",
              "        <path d=\"M19 3H5c-1.1 0-2 .9-2 2v14c0 1.1.9 2 2 2h14c1.1 0 2-.9 2-2V5c0-1.1-.9-2-2-2zM9 17H7v-7h2v7zm4 0h-2V7h2v10zm4 0h-2v-4h2v4z\"/>\n",
              "    </g>\n",
              "</svg>\n",
              "  </button>\n",
              "\n",
              "<style>\n",
              "  .colab-df-quickchart {\n",
              "      --bg-color: #E8F0FE;\n",
              "      --fill-color: #1967D2;\n",
              "      --hover-bg-color: #E2EBFA;\n",
              "      --hover-fill-color: #174EA6;\n",
              "      --disabled-fill-color: #AAA;\n",
              "      --disabled-bg-color: #DDD;\n",
              "  }\n",
              "\n",
              "  [theme=dark] .colab-df-quickchart {\n",
              "      --bg-color: #3B4455;\n",
              "      --fill-color: #D2E3FC;\n",
              "      --hover-bg-color: #434B5C;\n",
              "      --hover-fill-color: #FFFFFF;\n",
              "      --disabled-bg-color: #3B4455;\n",
              "      --disabled-fill-color: #666;\n",
              "  }\n",
              "\n",
              "  .colab-df-quickchart {\n",
              "    background-color: var(--bg-color);\n",
              "    border: none;\n",
              "    border-radius: 50%;\n",
              "    cursor: pointer;\n",
              "    display: none;\n",
              "    fill: var(--fill-color);\n",
              "    height: 32px;\n",
              "    padding: 0;\n",
              "    width: 32px;\n",
              "  }\n",
              "\n",
              "  .colab-df-quickchart:hover {\n",
              "    background-color: var(--hover-bg-color);\n",
              "    box-shadow: 0 1px 2px rgba(60, 64, 67, 0.3), 0 1px 3px 1px rgba(60, 64, 67, 0.15);\n",
              "    fill: var(--button-hover-fill-color);\n",
              "  }\n",
              "\n",
              "  .colab-df-quickchart-complete:disabled,\n",
              "  .colab-df-quickchart-complete:disabled:hover {\n",
              "    background-color: var(--disabled-bg-color);\n",
              "    fill: var(--disabled-fill-color);\n",
              "    box-shadow: none;\n",
              "  }\n",
              "\n",
              "  .colab-df-spinner {\n",
              "    border: 2px solid var(--fill-color);\n",
              "    border-color: transparent;\n",
              "    border-bottom-color: var(--fill-color);\n",
              "    animation:\n",
              "      spin 1s steps(1) infinite;\n",
              "  }\n",
              "\n",
              "  @keyframes spin {\n",
              "    0% {\n",
              "      border-color: transparent;\n",
              "      border-bottom-color: var(--fill-color);\n",
              "      border-left-color: var(--fill-color);\n",
              "    }\n",
              "    20% {\n",
              "      border-color: transparent;\n",
              "      border-left-color: var(--fill-color);\n",
              "      border-top-color: var(--fill-color);\n",
              "    }\n",
              "    30% {\n",
              "      border-color: transparent;\n",
              "      border-left-color: var(--fill-color);\n",
              "      border-top-color: var(--fill-color);\n",
              "      border-right-color: var(--fill-color);\n",
              "    }\n",
              "    40% {\n",
              "      border-color: transparent;\n",
              "      border-right-color: var(--fill-color);\n",
              "      border-top-color: var(--fill-color);\n",
              "    }\n",
              "    60% {\n",
              "      border-color: transparent;\n",
              "      border-right-color: var(--fill-color);\n",
              "    }\n",
              "    80% {\n",
              "      border-color: transparent;\n",
              "      border-right-color: var(--fill-color);\n",
              "      border-bottom-color: var(--fill-color);\n",
              "    }\n",
              "    90% {\n",
              "      border-color: transparent;\n",
              "      border-bottom-color: var(--fill-color);\n",
              "    }\n",
              "  }\n",
              "</style>\n",
              "\n",
              "  <script>\n",
              "    async function quickchart(key) {\n",
              "      const quickchartButtonEl =\n",
              "        document.querySelector('#' + key + ' button');\n",
              "      quickchartButtonEl.disabled = true;  // To prevent multiple clicks.\n",
              "      quickchartButtonEl.classList.add('colab-df-spinner');\n",
              "      try {\n",
              "        const charts = await google.colab.kernel.invokeFunction(\n",
              "            'suggestCharts', [key], {});\n",
              "      } catch (error) {\n",
              "        console.error('Error during call to suggestCharts:', error);\n",
              "      }\n",
              "      quickchartButtonEl.classList.remove('colab-df-spinner');\n",
              "      quickchartButtonEl.classList.add('colab-df-quickchart-complete');\n",
              "    }\n",
              "    (() => {\n",
              "      let quickchartButtonEl =\n",
              "        document.querySelector('#df-5bc1820e-97ab-40a6-948b-e8de477c7051 button');\n",
              "      quickchartButtonEl.style.display =\n",
              "        google.colab.kernel.accessAllowed ? 'block' : 'none';\n",
              "    })();\n",
              "  </script>\n",
              "</div>\n",
              "\n",
              "    </div>\n",
              "  </div>\n"
            ]
          },
          "metadata": {},
          "execution_count": 3
        }
      ],
      "source": [
        "ds = pd.read_csv('/content/Hindi_English_Truncated_Corpus.csv')\n",
        "print(f'Total number of examples = {len(ds)}')\n",
        "ds.head()"
      ]
    },
    {
      "cell_type": "code",
      "execution_count": 4,
      "metadata": {
        "colab": {
          "base_uri": "https://localhost:8080/",
          "height": 206
        },
        "id": "rcP035IKJmOY",
        "outputId": "a13ce818-e59b-4128-ca2c-274f4dc88134"
      },
      "outputs": [
        {
          "output_type": "execute_result",
          "data": {
            "text/plain": [
              "      source                                   english_sentence  \\\n",
              "0        ted  politicians do not have permission to do what ...   \n",
              "1        ted         I'd like to tell you about one such child,   \n",
              "2  indic2012  This percentage is even greater than the perce...   \n",
              "3        ted  what we really mean is that they're bad at not...   \n",
              "4  indic2012  .The ending portion of these Vedas is called U...   \n",
              "\n",
              "                                      hindi_sentence  eng_len  hin_len  \n",
              "0  राजनीतिज्ञों के पास जो कार्य करना चाहिए, वह कर...       12       14  \n",
              "1  मई आपको ऐसे ही एक बच्चे के बारे में बताना चाहू...        9       11  \n",
              "2   यह प्रतिशत भारत में हिन्दुओं प्रतिशत से अधिक है।       10        9  \n",
              "3     हम ये नहीं कहना चाहते कि वो ध्यान नहीं दे पाते       12       11  \n",
              "4        इन्हीं वेदों का अंतिम भाग उपनिषद कहलाता है।        9        8  "
            ],
            "text/html": [
              "\n",
              "  <div id=\"df-4e78fe04-a933-4c0d-b940-8a731333fc61\" class=\"colab-df-container\">\n",
              "    <div>\n",
              "<style scoped>\n",
              "    .dataframe tbody tr th:only-of-type {\n",
              "        vertical-align: middle;\n",
              "    }\n",
              "\n",
              "    .dataframe tbody tr th {\n",
              "        vertical-align: top;\n",
              "    }\n",
              "\n",
              "    .dataframe thead th {\n",
              "        text-align: right;\n",
              "    }\n",
              "</style>\n",
              "<table border=\"1\" class=\"dataframe\">\n",
              "  <thead>\n",
              "    <tr style=\"text-align: right;\">\n",
              "      <th></th>\n",
              "      <th>source</th>\n",
              "      <th>english_sentence</th>\n",
              "      <th>hindi_sentence</th>\n",
              "      <th>eng_len</th>\n",
              "      <th>hin_len</th>\n",
              "    </tr>\n",
              "  </thead>\n",
              "  <tbody>\n",
              "    <tr>\n",
              "      <th>0</th>\n",
              "      <td>ted</td>\n",
              "      <td>politicians do not have permission to do what ...</td>\n",
              "      <td>राजनीतिज्ञों के पास जो कार्य करना चाहिए, वह कर...</td>\n",
              "      <td>12</td>\n",
              "      <td>14</td>\n",
              "    </tr>\n",
              "    <tr>\n",
              "      <th>1</th>\n",
              "      <td>ted</td>\n",
              "      <td>I'd like to tell you about one such child,</td>\n",
              "      <td>मई आपको ऐसे ही एक बच्चे के बारे में बताना चाहू...</td>\n",
              "      <td>9</td>\n",
              "      <td>11</td>\n",
              "    </tr>\n",
              "    <tr>\n",
              "      <th>2</th>\n",
              "      <td>indic2012</td>\n",
              "      <td>This percentage is even greater than the perce...</td>\n",
              "      <td>यह प्रतिशत भारत में हिन्दुओं प्रतिशत से अधिक है।</td>\n",
              "      <td>10</td>\n",
              "      <td>9</td>\n",
              "    </tr>\n",
              "    <tr>\n",
              "      <th>3</th>\n",
              "      <td>ted</td>\n",
              "      <td>what we really mean is that they're bad at not...</td>\n",
              "      <td>हम ये नहीं कहना चाहते कि वो ध्यान नहीं दे पाते</td>\n",
              "      <td>12</td>\n",
              "      <td>11</td>\n",
              "    </tr>\n",
              "    <tr>\n",
              "      <th>4</th>\n",
              "      <td>indic2012</td>\n",
              "      <td>.The ending portion of these Vedas is called U...</td>\n",
              "      <td>इन्हीं वेदों का अंतिम भाग उपनिषद कहलाता है।</td>\n",
              "      <td>9</td>\n",
              "      <td>8</td>\n",
              "    </tr>\n",
              "  </tbody>\n",
              "</table>\n",
              "</div>\n",
              "    <div class=\"colab-df-buttons\">\n",
              "\n",
              "  <div class=\"colab-df-container\">\n",
              "    <button class=\"colab-df-convert\" onclick=\"convertToInteractive('df-4e78fe04-a933-4c0d-b940-8a731333fc61')\"\n",
              "            title=\"Convert this dataframe to an interactive table.\"\n",
              "            style=\"display:none;\">\n",
              "\n",
              "  <svg xmlns=\"http://www.w3.org/2000/svg\" height=\"24px\" viewBox=\"0 -960 960 960\">\n",
              "    <path d=\"M120-120v-720h720v720H120Zm60-500h600v-160H180v160Zm220 220h160v-160H400v160Zm0 220h160v-160H400v160ZM180-400h160v-160H180v160Zm440 0h160v-160H620v160ZM180-180h160v-160H180v160Zm440 0h160v-160H620v160Z\"/>\n",
              "  </svg>\n",
              "    </button>\n",
              "\n",
              "  <style>\n",
              "    .colab-df-container {\n",
              "      display:flex;\n",
              "      gap: 12px;\n",
              "    }\n",
              "\n",
              "    .colab-df-convert {\n",
              "      background-color: #E8F0FE;\n",
              "      border: none;\n",
              "      border-radius: 50%;\n",
              "      cursor: pointer;\n",
              "      display: none;\n",
              "      fill: #1967D2;\n",
              "      height: 32px;\n",
              "      padding: 0 0 0 0;\n",
              "      width: 32px;\n",
              "    }\n",
              "\n",
              "    .colab-df-convert:hover {\n",
              "      background-color: #E2EBFA;\n",
              "      box-shadow: 0px 1px 2px rgba(60, 64, 67, 0.3), 0px 1px 3px 1px rgba(60, 64, 67, 0.15);\n",
              "      fill: #174EA6;\n",
              "    }\n",
              "\n",
              "    .colab-df-buttons div {\n",
              "      margin-bottom: 4px;\n",
              "    }\n",
              "\n",
              "    [theme=dark] .colab-df-convert {\n",
              "      background-color: #3B4455;\n",
              "      fill: #D2E3FC;\n",
              "    }\n",
              "\n",
              "    [theme=dark] .colab-df-convert:hover {\n",
              "      background-color: #434B5C;\n",
              "      box-shadow: 0px 1px 3px 1px rgba(0, 0, 0, 0.15);\n",
              "      filter: drop-shadow(0px 1px 2px rgba(0, 0, 0, 0.3));\n",
              "      fill: #FFFFFF;\n",
              "    }\n",
              "  </style>\n",
              "\n",
              "    <script>\n",
              "      const buttonEl =\n",
              "        document.querySelector('#df-4e78fe04-a933-4c0d-b940-8a731333fc61 button.colab-df-convert');\n",
              "      buttonEl.style.display =\n",
              "        google.colab.kernel.accessAllowed ? 'block' : 'none';\n",
              "\n",
              "      async function convertToInteractive(key) {\n",
              "        const element = document.querySelector('#df-4e78fe04-a933-4c0d-b940-8a731333fc61');\n",
              "        const dataTable =\n",
              "          await google.colab.kernel.invokeFunction('convertToInteractive',\n",
              "                                                    [key], {});\n",
              "        if (!dataTable) return;\n",
              "\n",
              "        const docLinkHtml = 'Like what you see? Visit the ' +\n",
              "          '<a target=\"_blank\" href=https://colab.research.google.com/notebooks/data_table.ipynb>data table notebook</a>'\n",
              "          + ' to learn more about interactive tables.';\n",
              "        element.innerHTML = '';\n",
              "        dataTable['output_type'] = 'display_data';\n",
              "        await google.colab.output.renderOutput(dataTable, element);\n",
              "        const docLink = document.createElement('div');\n",
              "        docLink.innerHTML = docLinkHtml;\n",
              "        element.appendChild(docLink);\n",
              "      }\n",
              "    </script>\n",
              "  </div>\n",
              "\n",
              "\n",
              "<div id=\"df-6c645bf0-6913-4b7c-8f3f-217b58f4354e\">\n",
              "  <button class=\"colab-df-quickchart\" onclick=\"quickchart('df-6c645bf0-6913-4b7c-8f3f-217b58f4354e')\"\n",
              "            title=\"Suggest charts.\"\n",
              "            style=\"display:none;\">\n",
              "\n",
              "<svg xmlns=\"http://www.w3.org/2000/svg\" height=\"24px\"viewBox=\"0 0 24 24\"\n",
              "     width=\"24px\">\n",
              "    <g>\n",
              "        <path d=\"M19 3H5c-1.1 0-2 .9-2 2v14c0 1.1.9 2 2 2h14c1.1 0 2-.9 2-2V5c0-1.1-.9-2-2-2zM9 17H7v-7h2v7zm4 0h-2V7h2v10zm4 0h-2v-4h2v4z\"/>\n",
              "    </g>\n",
              "</svg>\n",
              "  </button>\n",
              "\n",
              "<style>\n",
              "  .colab-df-quickchart {\n",
              "      --bg-color: #E8F0FE;\n",
              "      --fill-color: #1967D2;\n",
              "      --hover-bg-color: #E2EBFA;\n",
              "      --hover-fill-color: #174EA6;\n",
              "      --disabled-fill-color: #AAA;\n",
              "      --disabled-bg-color: #DDD;\n",
              "  }\n",
              "\n",
              "  [theme=dark] .colab-df-quickchart {\n",
              "      --bg-color: #3B4455;\n",
              "      --fill-color: #D2E3FC;\n",
              "      --hover-bg-color: #434B5C;\n",
              "      --hover-fill-color: #FFFFFF;\n",
              "      --disabled-bg-color: #3B4455;\n",
              "      --disabled-fill-color: #666;\n",
              "  }\n",
              "\n",
              "  .colab-df-quickchart {\n",
              "    background-color: var(--bg-color);\n",
              "    border: none;\n",
              "    border-radius: 50%;\n",
              "    cursor: pointer;\n",
              "    display: none;\n",
              "    fill: var(--fill-color);\n",
              "    height: 32px;\n",
              "    padding: 0;\n",
              "    width: 32px;\n",
              "  }\n",
              "\n",
              "  .colab-df-quickchart:hover {\n",
              "    background-color: var(--hover-bg-color);\n",
              "    box-shadow: 0 1px 2px rgba(60, 64, 67, 0.3), 0 1px 3px 1px rgba(60, 64, 67, 0.15);\n",
              "    fill: var(--button-hover-fill-color);\n",
              "  }\n",
              "\n",
              "  .colab-df-quickchart-complete:disabled,\n",
              "  .colab-df-quickchart-complete:disabled:hover {\n",
              "    background-color: var(--disabled-bg-color);\n",
              "    fill: var(--disabled-fill-color);\n",
              "    box-shadow: none;\n",
              "  }\n",
              "\n",
              "  .colab-df-spinner {\n",
              "    border: 2px solid var(--fill-color);\n",
              "    border-color: transparent;\n",
              "    border-bottom-color: var(--fill-color);\n",
              "    animation:\n",
              "      spin 1s steps(1) infinite;\n",
              "  }\n",
              "\n",
              "  @keyframes spin {\n",
              "    0% {\n",
              "      border-color: transparent;\n",
              "      border-bottom-color: var(--fill-color);\n",
              "      border-left-color: var(--fill-color);\n",
              "    }\n",
              "    20% {\n",
              "      border-color: transparent;\n",
              "      border-left-color: var(--fill-color);\n",
              "      border-top-color: var(--fill-color);\n",
              "    }\n",
              "    30% {\n",
              "      border-color: transparent;\n",
              "      border-left-color: var(--fill-color);\n",
              "      border-top-color: var(--fill-color);\n",
              "      border-right-color: var(--fill-color);\n",
              "    }\n",
              "    40% {\n",
              "      border-color: transparent;\n",
              "      border-right-color: var(--fill-color);\n",
              "      border-top-color: var(--fill-color);\n",
              "    }\n",
              "    60% {\n",
              "      border-color: transparent;\n",
              "      border-right-color: var(--fill-color);\n",
              "    }\n",
              "    80% {\n",
              "      border-color: transparent;\n",
              "      border-right-color: var(--fill-color);\n",
              "      border-bottom-color: var(--fill-color);\n",
              "    }\n",
              "    90% {\n",
              "      border-color: transparent;\n",
              "      border-bottom-color: var(--fill-color);\n",
              "    }\n",
              "  }\n",
              "</style>\n",
              "\n",
              "  <script>\n",
              "    async function quickchart(key) {\n",
              "      const quickchartButtonEl =\n",
              "        document.querySelector('#' + key + ' button');\n",
              "      quickchartButtonEl.disabled = true;  // To prevent multiple clicks.\n",
              "      quickchartButtonEl.classList.add('colab-df-spinner');\n",
              "      try {\n",
              "        const charts = await google.colab.kernel.invokeFunction(\n",
              "            'suggestCharts', [key], {});\n",
              "      } catch (error) {\n",
              "        console.error('Error during call to suggestCharts:', error);\n",
              "      }\n",
              "      quickchartButtonEl.classList.remove('colab-df-spinner');\n",
              "      quickchartButtonEl.classList.add('colab-df-quickchart-complete');\n",
              "    }\n",
              "    (() => {\n",
              "      let quickchartButtonEl =\n",
              "        document.querySelector('#df-6c645bf0-6913-4b7c-8f3f-217b58f4354e button');\n",
              "      quickchartButtonEl.style.display =\n",
              "        google.colab.kernel.accessAllowed ? 'block' : 'none';\n",
              "    })();\n",
              "  </script>\n",
              "</div>\n",
              "\n",
              "    </div>\n",
              "  </div>\n"
            ]
          },
          "metadata": {},
          "execution_count": 4
        }
      ],
      "source": [
        "ds['eng_len']=ds['english_sentence'].apply(lambda x:len(str(x).split(\" \")))\n",
        "ds['hin_len']=ds['hindi_sentence'].apply(lambda x:len(str(x).split(\" \")))\n",
        "ds.head()"
      ]
    },
    {
      "cell_type": "markdown",
      "metadata": {
        "id": "MjXsgwyJwAgA"
      },
      "source": [
        "Let us take only sentences less than 15 words to reduce training time."
      ]
    },
    {
      "cell_type": "code",
      "execution_count": 5,
      "metadata": {
        "colab": {
          "base_uri": "https://localhost:8080/"
        },
        "execution": {
          "iopub.execute_input": "2023-10-22T04:42:51.760692Z",
          "iopub.status.busy": "2023-10-22T04:42:51.760345Z",
          "iopub.status.idle": "2023-10-22T04:42:51.799146Z",
          "shell.execute_reply": "2023-10-22T04:42:51.798143Z",
          "shell.execute_reply.started": "2023-10-22T04:42:51.760663Z"
        },
        "id": "n9XzwKoItqn5",
        "outputId": "7ef9a9f0-db06-488d-9bc3-62403a5da1ee",
        "trusted": true
      },
      "outputs": [
        {
          "output_type": "stream",
          "name": "stdout",
          "text": [
            "Total number of examples = 66074\n"
          ]
        }
      ],
      "source": [
        "ds = ds[(ds['eng_len'] < 15)]\n",
        "ds = ds[(ds['hin_len'] < 15)]\n",
        "print(f'Total number of examples = {len(ds)}')"
      ]
    },
    {
      "cell_type": "code",
      "execution_count": 6,
      "metadata": {
        "id": "t2q97ePcEKmn"
      },
      "outputs": [],
      "source": [
        "# removing the punctuations\n",
        "filters = '!\"#$%&()*+,-./:;=?@[\\\\]^_`{|}~\\t\\n'\n",
        "ds['english_sentence']=ds['english_sentence'].apply(lambda x: ''.join(ch for ch in x if ch not in filters))"
      ]
    },
    {
      "cell_type": "code",
      "execution_count": 7,
      "metadata": {
        "colab": {
          "base_uri": "https://localhost:8080/"
        },
        "id": "YxmVZv7Dv2jK",
        "outputId": "ea78e651-aee6-405d-c2e0-722a962792fb"
      },
      "outputs": [
        {
          "output_type": "stream",
          "name": "stdout",
          "text": [
            "Total number of examples = 66074\n"
          ]
        }
      ],
      "source": [
        "# we can further reduce the number of examples by setting n_sentences to lower number, this can be useful for debugging\n",
        "n_sentences = None\n",
        "batch_size=32\n",
        "if n_sentences is not None:\n",
        "    ds = ds.head(n_sentences)\n",
        "print(f'Total number of examples = {len(ds)}')"
      ]
    },
    {
      "cell_type": "code",
      "execution_count": 8,
      "metadata": {
        "colab": {
          "base_uri": "https://localhost:8080/"
        },
        "id": "t0HUxyyBKNPF",
        "outputId": "2603f122-6bbc-4b65-ed47-0fbad8055833"
      },
      "outputs": [
        {
          "output_type": "stream",
          "name": "stdout",
          "text": [
            "66074\n"
          ]
        }
      ],
      "source": [
        "# creating a list of all the english and hindi sentences\n",
        "def normalize(eng, hin):\n",
        "    \"\"\"Normalize a line of text and split into two at the tab character\"\"\"\n",
        "    eng = str(eng.strip().lower())\n",
        "    hin = str(hin.strip())\n",
        "    eng = \"[start] \" + eng + \" [end]\"\n",
        "    hin = \"[start] \" + hin + \" [end]\"\n",
        "    return eng, hin\n",
        "\n",
        "text_pairs = []\n",
        "for index in ds.index:\n",
        "    text_pairs.append(normalize(ds['english_sentence'][index], ds['hindi_sentence'][index]))\n",
        "print(len(text_pairs))"
      ]
    },
    {
      "cell_type": "code",
      "source": [
        "text_pairs[0]"
      ],
      "metadata": {
        "id": "N9dSDVFOy7YO",
        "outputId": "59ca675e-e595-49be-f967-7d3136ee68aa",
        "colab": {
          "base_uri": "https://localhost:8080/"
        }
      },
      "execution_count": 9,
      "outputs": [
        {
          "output_type": "execute_result",
          "data": {
            "text/plain": [
              "('[start] politicians do not have permission to do what needs to be done [end]',\n",
              " '[start] राजनीतिज्ञों के पास जो कार्य करना चाहिए, वह करने कि अनुमति नहीं है . [end]')"
            ]
          },
          "metadata": {},
          "execution_count": 9
        }
      ]
    },
    {
      "cell_type": "markdown",
      "metadata": {
        "id": "TKSTu2wW4uDh"
      },
      "source": [
        "## Prepare dataset"
      ]
    },
    {
      "cell_type": "code",
      "execution_count": 10,
      "metadata": {
        "colab": {
          "base_uri": "https://localhost:8080/"
        },
        "id": "GNsjfotokWRn",
        "outputId": "aa7c8e30-f07a-405c-e68d-ec327e808404"
      },
      "outputs": [
        {
          "output_type": "stream",
          "name": "stdout",
          "text": [
            "Train: 46252\n",
            "Validation: 19822\n"
          ]
        }
      ],
      "source": [
        "# Create train, val and testing datasets\n",
        "val_split = 0.30\n",
        "\n",
        "len_text_pairs = len(text_pairs)\n",
        "n_val_index = int(val_split * len_text_pairs)\n",
        "n_train_index = len_text_pairs - n_val_index\n",
        "\n",
        "train_tp = text_pairs[:n_train_index]\n",
        "val_tp = text_pairs[n_train_index:]\n",
        "print(f\"Train: {len(train_tp)}\")\n",
        "print(f\"Validation: {len(val_tp)}\")"
      ]
    },
    {
      "cell_type": "code",
      "execution_count": 11,
      "metadata": {
        "colab": {
          "base_uri": "https://localhost:8080/"
        },
        "id": "ftsUg6HRYi7q",
        "outputId": "53d2c75e-19b3-4529-d009-a8ec2efe17fe"
      },
      "outputs": [
        {
          "output_type": "execute_result",
          "data": {
            "text/plain": [
              "[('[start] politicians do not have permission to do what needs to be done [end]',\n",
              "  '[start] राजनीतिज्ञों के पास जो कार्य करना चाहिए, वह करने कि अनुमति नहीं है . [end]')]"
            ]
          },
          "metadata": {},
          "execution_count": 11
        }
      ],
      "source": [
        "train_tp[:1]"
      ]
    },
    {
      "cell_type": "code",
      "execution_count": 12,
      "metadata": {
        "colab": {
          "base_uri": "https://localhost:8080/",
          "height": 452
        },
        "execution": {
          "iopub.execute_input": "2023-10-22T04:43:15.479987Z",
          "iopub.status.busy": "2023-10-22T04:43:15.479579Z",
          "iopub.status.idle": "2023-10-22T04:43:17.993364Z",
          "shell.execute_reply": "2023-10-22T04:43:17.992391Z",
          "shell.execute_reply.started": "2023-10-22T04:43:15.479930Z"
        },
        "id": "agg-7Oc2ONKB",
        "outputId": "c565003c-1e0e-4f9f-daa2-d1879db27621",
        "trusted": true
      },
      "outputs": [
        {
          "output_type": "display_data",
          "data": {
            "text/plain": [
              "<Figure size 640x480 with 1 Axes>"
            ],
            "image/png": "[encoded data removed]"
          },
          "metadata": {}
        }
      ],
      "source": [
        "# histogram of sentence length in tokens\n",
        "en_lengths = [len(e.split()) for e, h in train_tp]\n",
        "hn_lengths = [len(h.split()) for e, h in train_tp]\n",
        "\n",
        "plt.hist(en_lengths, label=\"en\", color=\"red\", alpha=0.33)\n",
        "plt.hist(hn_lengths, label=\"hn\", color=\"blue\", alpha=0.33)\n",
        "plt.yscale(\"log\")     # sentence length fits Benford\"s law\n",
        "plt.ylim(plt.ylim())  # make y-axis consistent for both plots\n",
        "plt.plot([max(en_lengths), max(en_lengths)], plt.ylim(), color=\"red\")\n",
        "plt.plot([max(hn_lengths), max(hn_lengths)], plt.ylim(), color=\"blue\")\n",
        "plt.legend()\n",
        "plt.title(\"Examples count vs Token length\")\n",
        "plt.show()"
      ]
    },
    {
      "cell_type": "code",
      "execution_count": 13,
      "metadata": {
        "colab": {
          "base_uri": "https://localhost:8080/"
        },
        "id": "cOv3zcar3Whm",
        "outputId": "d25af759-fe03-45e7-eefe-d585439ec533"
      },
      "outputs": [
        {
          "output_type": "stream",
          "name": "stdout",
          "text": [
            "Total English tokens: 32403\n",
            "Total Hindi tokens: 37674\n",
            "Max English length: 16\n",
            "Max Hindi length: 16\n",
            "66074 total pairs\n"
          ]
        }
      ],
      "source": [
        " # count tokens\n",
        "eng_tokens, hin_tokens = set(), set()\n",
        "eng_maxlen, hin_maxlen = 0, 0\n",
        "for eng, hin in text_pairs:\n",
        "    eng_tok, hin_tok = eng.split(), hin.split()\n",
        "    eng_maxlen = max(eng_maxlen, len(eng_tok))\n",
        "    fra_maxlen = max(hin_maxlen, len(hin_tok))\n",
        "    eng_tokens.update(eng_tok)\n",
        "    hin_tokens.update(hin_tok)\n",
        "print(f\"Total English tokens: {len(eng_tokens)}\")\n",
        "print(f\"Total Hindi tokens: {len(hin_tokens)}\")\n",
        "print(f\"Max English length: {eng_maxlen}\")\n",
        "print(f\"Max Hindi length: {fra_maxlen}\")\n",
        "print(f\"{len(text_pairs)} total pairs\")\n",
        "vocab_size_en = len(eng_tokens)\n",
        "vocab_size_hn = len(hin_tokens)"
      ]
    },
    {
      "cell_type": "code",
      "execution_count": 14,
      "metadata": {
        "execution": {
          "iopub.execute_input": "2023-10-22T04:43:03.951559Z",
          "iopub.status.busy": "2023-10-22T04:43:03.951199Z",
          "iopub.status.idle": "2023-10-22T04:43:14.624167Z",
          "shell.execute_reply": "2023-10-22T04:43:14.623233Z",
          "shell.execute_reply.started": "2023-10-22T04:43:03.951533Z"
        },
        "id": "BXVcdS4gkNoH",
        "trusted": true
      },
      "outputs": [],
      "source": [
        "seq_length = 15\n",
        "\n",
        "# Create vectorizer for english sentences\n",
        "eng_vectorizer = TextVectorization(\n",
        "    max_tokens=vocab_size_en,\n",
        "    standardize=None,\n",
        "    split=\"whitespace\",\n",
        "    output_mode=\"int\",\n",
        "    output_sequence_length=seq_length,\n",
        ")\n",
        "\n",
        "# Create vectorizer for hindi sentences\n",
        "# For hindi we need to use a language specific tokenizer, since the default one in tensorflow doesn't support hindi\n",
        "# one such tokenizer is indic-nlp-library, which can be installed using the command below\n",
        "# !pip install indic-nlp-library\n",
        "hin_vectorizer = TextVectorization(\n",
        "    max_tokens=vocab_size_hn,\n",
        "    standardize=None,\n",
        "    split=\"whitespace\",\n",
        "    output_mode=\"int\",\n",
        "    output_sequence_length=seq_length + 1\n",
        ")"
      ]
    },
    {
      "cell_type": "code",
      "execution_count": 15,
      "metadata": {
        "execution": {
          "iopub.execute_input": "2023-10-22T04:43:17.995282Z",
          "iopub.status.busy": "2023-10-22T04:43:17.994970Z",
          "iopub.status.idle": "2023-10-22T04:43:18.011061Z",
          "shell.execute_reply": "2023-10-22T04:43:18.010011Z",
          "shell.execute_reply.started": "2023-10-22T04:43:17.995254Z"
        },
        "id": "tMubKI2Mqkw8",
        "trusted": true
      },
      "outputs": [],
      "source": [
        "# adapt the vectorizers to the training data\n",
        "train_eng_texts = [pairs[0] for pairs in train_tp]\n",
        "train_hin_texts = [pairs[1] for pairs in train_tp]\n",
        "eng_vectorizer.adapt(train_eng_texts)\n",
        "hin_vectorizer.adapt(train_hin_texts)\n",
        "\n",
        "# set up Dataset object\n",
        "def format_dataset(eng, hin):\n",
        "    eng = eng_vectorizer(eng)\n",
        "    hin = hin_vectorizer(hin)\n",
        "    # split input and target\n",
        "    # Notice that hindi is shifted by 1 to the right, as you will see later that the input to the decoder is the target sequence, right shifted by 1\n",
        "    source = (eng, hin[:, :-1])\n",
        "    # Notice that the target is shifted by `shift` tokens\n",
        "    target = hin[:, 1:]\n",
        "    return (source, target)\n",
        "\n",
        "def make_dataset(pairs, batch_size=64):\n",
        "    \"\"\"Create TensorFlow Dataset for the sentence pairs\"\"\"\n",
        "    # aggregate sentences using zip(*pairs)\n",
        "    eng_texts, hin_texts = zip(*pairs)\n",
        "    # convert them into list, and then create tensors\n",
        "    dataset = tf.data.Dataset.from_tensor_slices((list(eng_texts), list(hin_texts)))\n",
        "    return dataset.shuffle(2048) \\\n",
        "                  .batch(batch_size).map(format_dataset) \\\n",
        "                  .prefetch(16).cache()\n",
        "\n",
        "train_ds = make_dataset(train_tp)\n",
        "val_ds = make_dataset(val_tp)"
      ]
    },
    {
      "cell_type": "code",
      "execution_count": 16,
      "metadata": {
        "colab": {
          "base_uri": "https://localhost:8080/"
        },
        "execution": {
          "iopub.execute_input": "2023-10-22T04:43:18.013207Z",
          "iopub.status.busy": "2023-10-22T04:43:18.012286Z",
          "iopub.status.idle": "2023-10-22T04:43:22.254969Z",
          "shell.execute_reply": "2023-10-22T04:43:22.253799Z",
          "shell.execute_reply.started": "2023-10-22T04:43:18.013177Z"
        },
        "id": "p7t9PFD0y00l",
        "outputId": "843155d5-0767-494a-8b2a-bd7fb362db7d",
        "trusted": true
      },
      "outputs": [
        {
          "output_type": "stream",
          "name": "stdout",
          "text": [
            "inputs[\"encoder_inputs\"].shape: (64, 15)\n",
            "inputs[\"encoder_inputs\"][0]: [   2   12   10  131   77 2220 1466   53 1711   32 2421  405    3    0\n",
            "    0]\n",
            "inputs[\"decoder_inputs\"].shape: (64, 15)\n",
            "inputs[\"decoder_inputs\"][0]: [   2   21  116   38 4547 4490 4280    9 4295  208   30    3    0    0\n",
            "    0]\n",
            "targets.shape: (64, 15)\n",
            "targets[0]: [  21  116   38 4547 4490 4280    9 4295  208   30    3    0    0    0\n",
            "    0]\n"
          ]
        }
      ],
      "source": [
        "# test the dataset\n",
        "for inputs, targets in train_ds.take(1):\n",
        "    print(f'inputs[\"encoder_inputs\"].shape: {inputs[0].shape}')\n",
        "    print(f'inputs[\"encoder_inputs\"][0]: {inputs[0][0]}')\n",
        "    print(f'inputs[\"decoder_inputs\"].shape: {inputs[1].shape}')\n",
        "    print(f'inputs[\"decoder_inputs\"][0]: {inputs[1][0]}')\n",
        "    print(f\"targets.shape: {targets.shape}\")\n",
        "    print(f\"targets[0]: {targets[0]}\")"
      ]
    },
    {
      "cell_type": "code",
      "execution_count": 17,
      "metadata": {
        "colab": {
          "base_uri": "https://localhost:8080/"
        },
        "execution": {
          "iopub.execute_input": "2023-10-22T04:43:22.256553Z",
          "iopub.status.busy": "2023-10-22T04:43:22.256183Z",
          "iopub.status.idle": "2023-10-22T04:43:22.320250Z",
          "shell.execute_reply": "2023-10-22T04:43:22.319260Z",
          "shell.execute_reply.started": "2023-10-22T04:43:22.256525Z"
        },
        "id": "HKfvkKeaKKty",
        "outputId": "86451b41-7a8a-4046-9504-0e6853bb7b12",
        "trusted": true
      },
      "outputs": [
        {
          "output_type": "stream",
          "name": "stdout",
          "text": [
            "(64, 15)\n",
            "source: [start] this is why some ladies cover their faces from unknown men [end]   \n",
            "hin source: [start] इस लिये कुछ स्त्रियाँ अजनबी पुर्षों से पर्दा करती हैं। [end]    \n",
            "target: इस लिये कुछ स्त्रियाँ अजनबी पुर्षों से पर्दा करती हैं। [end]     \n"
          ]
        }
      ],
      "source": [
        "eng_lookup = list(eng_vectorizer.get_vocabulary())\n",
        "hin_lookup = list(hin_vectorizer.get_vocabulary())\n",
        "eng_sen, hin_tar, hin_source = \"\", \"\",\"\"\n",
        "print(inputs[1].shape)\n",
        "for index in inputs[0][0]:\n",
        "  eng_sen += eng_lookup[index.numpy()] + \" \"\n",
        "for index in inputs[1][0]:\n",
        "  hin_source += hin_lookup[index.numpy()] + \" \"\n",
        "for index in targets[0]:\n",
        "  hin_tar += hin_lookup[index.numpy()] + \" \"\n",
        "print(f\"source: {eng_sen}\")\n",
        "print(f\"hin source: {hin_source}\")\n",
        "print(f\"target: {hin_tar}\")"
      ]
    },
    {
      "cell_type": "markdown",
      "metadata": {
        "id": "UQOyjE95EJ7y"
      },
      "source": [
        "## Vocab size"
      ]
    },
    {
      "cell_type": "code",
      "execution_count": 18,
      "metadata": {
        "colab": {
          "base_uri": "https://localhost:8080/"
        },
        "execution": {
          "iopub.execute_input": "2023-10-22T04:43:22.322598Z",
          "iopub.status.busy": "2023-10-22T04:43:22.321757Z",
          "iopub.status.idle": "2023-10-22T04:43:22.345887Z",
          "shell.execute_reply": "2023-10-22T04:43:22.344881Z",
          "shell.execute_reply.started": "2023-10-22T04:43:22.322560Z"
        },
        "id": "iiiVhpnJRdRp",
        "outputId": "7d6070ad-4c58-4e74-d654-d818a86dafed",
        "trusted": true
      },
      "outputs": [
        {
          "output_type": "stream",
          "name": "stdout",
          "text": [
            "Total English tokens = 32403.\n",
            "Total Hindi tokens = 37674.\n"
          ]
        }
      ],
      "source": [
        "# find out how many distinct tokens exist\n",
        "print(f\"Total English tokens = {vocab_size_en}.\")\n",
        "print(f\"Total Hindi tokens = {vocab_size_hn}.\")"
      ]
    },
    {
      "cell_type": "code",
      "execution_count": 19,
      "metadata": {
        "colab": {
          "base_uri": "https://localhost:8080/"
        },
        "id": "2g9r7GokBBaB",
        "outputId": "b38ece89-5a7b-41c7-9096-86b1f51ab33e"
      },
      "outputs": [
        {
          "output_type": "stream",
          "name": "stdout",
          "text": [
            "(64, 15)\n",
            "(64, 15)\n",
            "(64, 15)\n",
            "tf.Tensor([   2   84 1330  420  528 1943  694    3    0    0], shape=(10,), dtype=int64)\n",
            "tf.Tensor([  84 1330  420  528 1943  694    3    0    0    0], shape=(10,), dtype=int64)\n"
          ]
        }
      ],
      "source": [
        "for (eng, hin), hn_labels in train_ds.take(1):\n",
        "  break\n",
        "print(eng.shape)\n",
        "print(hin.shape)\n",
        "print(hn_labels.shape)\n",
        "\n",
        "print(hin[0][:10])\n",
        "print(hn_labels[0][:10])"
      ]
    },
    {
      "cell_type": "markdown",
      "metadata": {
        "id": "oSr-WkRA_33s"
      },
      "source": [
        "## Positional Embedding Layer\n",
        "\n",
        "Transformers should have the context have relative position of words in a sentence. Hence in positional encoding layer, we create encoding matrix that represent the position of the word in the sentence. Position encodings are then added to the input embeddings.\n",
        "\n",
        "Position encodings are calculated using the below equation\n",
        "\n",
        "![image](https://github.com/sriksmachi/sriksml/blob/main/genai/images/trans-pos-enc.png?raw=1)\n",
        "\n",
        "- d_model -> Size of the embedding <br/>\n",
        "- Pos -> position of the work in the sentence <br/>\n",
        "- i -> i is used to make alternative sequences for even and odd sequences. If this is not considered then ith word on every sentence will have same position encoding\n",
        "\n",
        "Positional encoding is a means of translating the location of objects in a sequence into information that a neural network (or other model) can understand and use.\n",
        "\n",
        "For better understanding of how positional encoding works\n",
        "- Read: https://towardsdatascience.com/master-positional-encoding-part-i-63c05d90a0c3\n",
        "- Video link: https://www.youtube.com/watch?v=dichIcUZfOw\n",
        "\n",
        "The below two cells form the input to the first encoding layer, as described in the below image.\n",
        "\n",
        "![image.png](https://github.com/sriksmachi/sriksml/blob/main/genai/images/trans-PositionalEmbedding.png?raw=1)\n",
        "\n",
        "Intuitively the position encoding matrix represents an overlapping sine and cosine waves, with variations for each sentence such that when all the ith positions have similar representations."
      ]
    },
    {
      "cell_type": "code",
      "execution_count": 20,
      "metadata": {
        "colab": {
          "base_uri": "https://localhost:8080/"
        },
        "execution": {
          "iopub.execute_input": "2023-10-22T04:43:22.347604Z",
          "iopub.status.busy": "2023-10-22T04:43:22.347214Z",
          "iopub.status.idle": "2023-10-22T04:43:22.361671Z",
          "shell.execute_reply": "2023-10-22T04:43:22.360576Z",
          "shell.execute_reply.started": "2023-10-22T04:43:22.347568Z"
        },
        "id": "SWNd4soU1dTv",
        "outputId": "ef098d6f-f10b-42da-8b14-5bb0bf9f683c",
        "trusted": true
      },
      "outputs": [
        {
          "output_type": "stream",
          "name": "stdout",
          "text": [
            "(4, 4)\n",
            "tf.Tensor(\n",
            "[[ 0.          0.          1.          1.        ]\n",
            " [ 0.84147096  0.00999983  0.5403023   0.99995   ]\n",
            " [ 0.9092974   0.01999867 -0.41614684  0.9998    ]\n",
            " [ 0.14112     0.0299955  -0.9899925   0.99955004]], shape=(4, 4), dtype=float32)\n"
          ]
        }
      ],
      "source": [
        "# Positional embedding matrix - This matrix represents the position of the word in the sentence.\n",
        "# It takes input as length of the sentence and size of the vector embeddings\n",
        "# The output is a matrix where every row is a word in the sentence, each row represents the position encoding of that word\n",
        "# The length of each row is equal to the length of word embeddings.\n",
        "def positional_encoding(length, depth):\n",
        "  depth = depth/2\n",
        "  positions = np.arange(length)[:, np.newaxis]     # (seq, 1)\n",
        "  depths = np.arange(depth)[np.newaxis, :]/depth   # (1, depth)\n",
        "  angle_rates = 1 / (10000**depths)         # (1, depth)\n",
        "  angle_rads = positions * angle_rates      # (pos, depth)\n",
        "  pos_encoding = np.concatenate(\n",
        "      [np.sin(angle_rads), np.cos(angle_rads)],\n",
        "      axis=-1)\n",
        "  return tf.cast(pos_encoding, dtype=tf.float32)\n",
        "\n",
        "pos_matrix = positional_encoding(4, 4)\n",
        "assert pos_matrix.shape == (4,4)\n",
        "print(pos_matrix.shape)\n",
        "print(pos_matrix)\n"
      ]
    },
    {
      "cell_type": "code",
      "execution_count": 21,
      "metadata": {
        "execution": {
          "iopub.execute_input": "2023-10-22T04:43:22.363213Z",
          "iopub.status.busy": "2023-10-22T04:43:22.362842Z",
          "iopub.status.idle": "2023-10-22T04:43:22.371065Z",
          "shell.execute_reply": "2023-10-22T04:43:22.370169Z",
          "shell.execute_reply.started": "2023-10-22T04:43:22.363183Z"
        },
        "id": "OUmDv5MuIAO2",
        "trusted": true
      },
      "outputs": [],
      "source": [
        "# Positional Embedding\n",
        "class PositionalEmbedding(tf.keras.layers.Layer):\n",
        "  def __init__(self, vocab_size, d_model):\n",
        "    super().__init__()\n",
        "    self.d_model = d_model\n",
        "    # Create a matrix of shape (vocab_size, d_model)\n",
        "    # Embedding matrix maps word index to a vector of size d_model\n",
        "    self.embedding = tf.keras.layers.Embedding(vocab_size, d_model, mask_zero=True)\n",
        "    self.pos_encoding = positional_encoding(length=vocab_size, depth=d_model)\n",
        "\n",
        "  def compute_mask(self, *args, **kwargs):\n",
        "    return self.embedding.compute_mask(*args, **kwargs)\n",
        "\n",
        "  def call(self, x):\n",
        "    length = tf.shape(x)[1]\n",
        "    x = self.embedding(x)\n",
        "    # This factor sets the relative scale of the embedding and positonal_encoding.\n",
        "    x *= tf.math.sqrt(tf.cast(self.d_model, tf.float32))\n",
        "    x = x + self.pos_encoding[tf.newaxis, :length, :]\n",
        "    return x"
      ]
    },
    {
      "cell_type": "code",
      "execution_count": 22,
      "metadata": {
        "colab": {
          "base_uri": "https://localhost:8080/"
        },
        "execution": {
          "iopub.execute_input": "2023-10-22T04:43:22.372551Z",
          "iopub.status.busy": "2023-10-22T04:43:22.372204Z",
          "iopub.status.idle": "2023-10-22T04:43:22.482002Z",
          "shell.execute_reply": "2023-10-22T04:43:22.481059Z",
          "shell.execute_reply.started": "2023-10-22T04:43:22.372507Z"
        },
        "id": "_gZ0CIdtDkHZ",
        "outputId": "63457c1d-4226-45c5-999c-217ee5cedef9",
        "trusted": true
      },
      "outputs": [
        {
          "output_type": "stream",
          "name": "stdout",
          "text": [
            "(64, 15, 512)\n",
            "(64, 15, 512)\n"
          ]
        }
      ],
      "source": [
        "eng_pos = PositionalEmbedding(vocab_size_en, 512)\n",
        "hin_pos = PositionalEmbedding(vocab_size_hn, 512)\n",
        "print(eng_pos(eng).shape)\n",
        "print(hin_pos(hin).shape)"
      ]
    },
    {
      "cell_type": "markdown",
      "metadata": {
        "id": "HyiMqSKn__kH"
      },
      "source": [
        "## Self Attention Layer\n",
        "\n",
        "Before understanding the input to the attention layer, let us understand how attention mechanism works.\n",
        "\n",
        "#### Attention Mechanism\n",
        "Attention mechanism contains 3 matrices : query, key and value. If you consider key, value as a dictionary, query matches one of those keys and relates to values correspondingly.\n",
        "The objective here is to find the right values for these attention matrices, so that the attention scores are ideal. Because end of the day, attention scores determine what tokens to focus on.\n",
        "So, how are the attention scores calculated.\n",
        "\n",
        "- Let us take a simple sentence -> \"I can see\". If I consider a 4 dim embedding vector the dimension of the input will be (3 * 4). Each row represents a word in the sentence.\n",
        "- We initialize the weight matrices query, key and value with a 4 * 3 matrix. Every word gets multiplied with its weight matrices resulting in its own query, key and value matrix. So, we have 3 paris of query, key and value matrices, each of size 3 * 3.  Since we are going to multiply Query and Key matrices they should be of same shape, the Value can have a different shape. You will notice that the final outcome dimension is same as dimension of value matrix.\n",
        "- The input (each word has position embedding of size 1 * 4) with dim 3 * 4 gets multiplied by the weight matrix 4 * 3. This results in 3 * 3 Query matrix.\n",
        "- The same operation is applied to keys, values as well.  That is, input gets multiplied by Keys, Value matrices each resulting in  3 * 3 Matrices.\n",
        "- The values within attention filters are scaled by square root of the Key dimension in our case 4.\n",
        "- Softmax function is applied on scores to standardize the values between 0-1\n",
        "- The final matrix of size 3 * 3, is multiplied with Value filter resulting in a final out of size 3 * 3.\n",
        "\n",
        "The steps explained above are visually represented in this rought hand sketch.\n",
        "\n",
        "![image.png](https://github.com/sriksmachi/sriksml/blob/main/genai/images/trans-self.png?raw=1)\n",
        "\n",
        "In the nutshell we have implemented the below mathematical operation\n",
        "\n",
        "![image.png](https://github.com/sriksmachi/sriksml/blob/main/genai/images/trans-atten-math.png?raw=1)\n",
        "\n",
        "#### Multi headed attention\n",
        "\n",
        "The final attention scores are a result of one attention head. In multi-headed attention, there are multiple attention heads resulting in multiple attention matrices.\n",
        "Each attention matrix learns different representations of the sentences.\n"
      ]
    },
    {
      "cell_type": "code",
      "execution_count": 23,
      "metadata": {
        "execution": {
          "iopub.execute_input": "2023-10-22T04:43:22.483351Z",
          "iopub.status.busy": "2023-10-22T04:43:22.483092Z",
          "iopub.status.idle": "2023-10-22T04:43:22.490128Z",
          "shell.execute_reply": "2023-10-22T04:43:22.489165Z",
          "shell.execute_reply.started": "2023-10-22T04:43:22.483330Z"
        },
        "id": "IrefrQsA_iWE",
        "trusted": true
      },
      "outputs": [],
      "source": [
        "class BaseAttention(tf.keras.layers.Layer):\n",
        "  def __init__(self, **kwargs):\n",
        "    super().__init__()\n",
        "    self.mha = tf.keras.layers.MultiHeadAttention(**kwargs)\n",
        "    self.layernorm = tf.keras.layers.LayerNormalization()\n",
        "    self.add = tf.keras.layers.Add()\n",
        "\n",
        "class GlobalSelfAttention(BaseAttention):\n",
        "  def call(self, x):\n",
        "    attn_output = self.mha(\n",
        "        query=x,\n",
        "        value=x,\n",
        "        key=x)\n",
        "    x = self.add([x, attn_output])\n",
        "    x = self.layernorm(x)\n",
        "    return x"
      ]
    },
    {
      "cell_type": "code",
      "execution_count": 24,
      "metadata": {
        "colab": {
          "base_uri": "https://localhost:8080/"
        },
        "execution": {
          "iopub.execute_input": "2023-10-22T04:43:22.491634Z",
          "iopub.status.busy": "2023-10-22T04:43:22.491298Z",
          "iopub.status.idle": "2023-10-22T04:43:25.040081Z",
          "shell.execute_reply": "2023-10-22T04:43:25.038858Z",
          "shell.execute_reply.started": "2023-10-22T04:43:22.491602Z"
        },
        "id": "GqqGTnJ2E9wv",
        "outputId": "721d50f6-7d57-4fac-c3cd-680e37ff7e26",
        "trusted": true
      },
      "outputs": [
        {
          "output_type": "stream",
          "name": "stdout",
          "text": [
            "(64, 15, 512)\n",
            "(64, 15, 512)\n"
          ]
        }
      ],
      "source": [
        "sample_gsa = GlobalSelfAttention(num_heads=2, key_dim=512)\n",
        "enc_output = eng_pos(eng)\n",
        "print(enc_output.shape)\n",
        "print(sample_gsa(enc_output).shape)"
      ]
    },
    {
      "cell_type": "markdown",
      "metadata": {
        "id": "LKFWcmfmJexs"
      },
      "source": [
        "## Cross Attention Layer\n",
        "\n",
        "The decoder network uses a cross attention layer. In cross attention layer, along with the input we pass the context vector to the key and value parameters.\n",
        "The context vector is the final output from the encoder network, that represents the final attention scores of the input sentences across all heads. The following image represents the Cross attention part of the decoder network.\n",
        "\n",
        "![image.png](https://github.com/sriksmachi/sriksml/blob/main/genai/images/trans-crossatten.png?raw=1)"
      ]
    },
    {
      "cell_type": "code",
      "execution_count": 25,
      "metadata": {
        "execution": {
          "iopub.execute_input": "2023-10-22T04:43:25.041834Z",
          "iopub.status.busy": "2023-10-22T04:43:25.041493Z",
          "iopub.status.idle": "2023-10-22T04:43:25.048186Z",
          "shell.execute_reply": "2023-10-22T04:43:25.047063Z",
          "shell.execute_reply.started": "2023-10-22T04:43:25.041804Z"
        },
        "id": "XArWRqWdJh-t",
        "trusted": true
      },
      "outputs": [],
      "source": [
        "class CrossAttention(BaseAttention):\n",
        "  def call(self, x, context):\n",
        "    attn_output, attn_scores = self.mha(\n",
        "        query=x,\n",
        "        key=context,\n",
        "        value=context,\n",
        "        return_attention_scores=True)\n",
        "    # Cache the attention scores for plotting later.\n",
        "    self.last_attn_scores = attn_scores\n",
        "    x = self.add([x, attn_output])\n",
        "    x = self.layernorm(x)\n",
        "    return x"
      ]
    },
    {
      "cell_type": "code",
      "execution_count": 26,
      "metadata": {
        "colab": {
          "base_uri": "https://localhost:8080/"
        },
        "execution": {
          "iopub.execute_input": "2023-10-22T04:43:25.049854Z",
          "iopub.status.busy": "2023-10-22T04:43:25.049529Z",
          "iopub.status.idle": "2023-10-22T04:43:25.108484Z",
          "shell.execute_reply": "2023-10-22T04:43:25.107447Z",
          "shell.execute_reply.started": "2023-10-22T04:43:25.049807Z"
        },
        "id": "Ge-jOyeqJfm8",
        "outputId": "bd779dba-e44a-4de9-e586-08ddc0ef62e9",
        "trusted": true
      },
      "outputs": [
        {
          "output_type": "stream",
          "name": "stdout",
          "text": [
            "(64, 15, 512)\n",
            "(64, 15, 512)\n",
            "(64, 15, 512)\n"
          ]
        }
      ],
      "source": [
        "sample_ca = CrossAttention(num_heads=2, key_dim=512)\n",
        "emb_output_eng = eng_pos(eng)\n",
        "emb_output_hin = hin_pos(hin)\n",
        "print(emb_output_eng.shape)\n",
        "print(emb_output_hin.shape)\n",
        "print(sample_ca(emb_output_eng, emb_output_hin).shape)"
      ]
    },
    {
      "cell_type": "markdown",
      "metadata": {
        "id": "tXsQFv7pKY-E"
      },
      "source": [
        "## Causal Self Attention\n",
        "\n",
        "The first layer of the decoder network has different inputs compared to the other cross attention layers mentioned above.\n",
        "During training phase the input to the decoder network is same as that of the encoder network, except that certain areas of the input are masked.\n",
        "The causal mask ensures that for predicting a token the network has access only to the tokens that come before it.\n",
        "\n",
        "The below images shows the part of the architecture related to causal self attention.\n",
        "\n",
        "![image.png](https://github.com/sriksmachi/sriksml/blob/main/genai/images/trans-dec-input.png?raw=1)\n"
      ]
    },
    {
      "cell_type": "code",
      "execution_count": 27,
      "metadata": {
        "execution": {
          "iopub.execute_input": "2023-10-22T04:43:25.109995Z",
          "iopub.status.busy": "2023-10-22T04:43:25.109673Z",
          "iopub.status.idle": "2023-10-22T04:43:25.115625Z",
          "shell.execute_reply": "2023-10-22T04:43:25.114687Z",
          "shell.execute_reply.started": "2023-10-22T04:43:25.109971Z"
        },
        "id": "XegPUftHKbxO",
        "trusted": true
      },
      "outputs": [],
      "source": [
        "class CausalSelfAttention(BaseAttention):\n",
        "  def call(self, x):\n",
        "    attn_output = self.mha(\n",
        "        query=x,\n",
        "        value=x,\n",
        "        key=x,\n",
        "        use_causal_mask = True)\n",
        "    x = self.add([x, attn_output])\n",
        "    x = self.layernorm(x)\n",
        "    return x"
      ]
    },
    {
      "cell_type": "code",
      "execution_count": 28,
      "metadata": {
        "colab": {
          "base_uri": "https://localhost:8080/"
        },
        "execution": {
          "iopub.execute_input": "2023-10-22T04:43:25.117206Z",
          "iopub.status.busy": "2023-10-22T04:43:25.116939Z",
          "iopub.status.idle": "2023-10-22T04:43:25.174222Z",
          "shell.execute_reply": "2023-10-22T04:43:25.173253Z",
          "shell.execute_reply.started": "2023-10-22T04:43:25.117183Z"
        },
        "id": "eDQnHr9sKdIV",
        "outputId": "e1f23df6-11c4-4987-dd62-6a4caa155d61",
        "trusted": true
      },
      "outputs": [
        {
          "output_type": "stream",
          "name": "stdout",
          "text": [
            "(64, 15, 512)\n",
            "(64, 15, 512)\n"
          ]
        }
      ],
      "source": [
        "sample_csa = CausalSelfAttention(num_heads=2, key_dim=512)\n",
        "emb_output_eng = eng_pos(eng)\n",
        "print(emb_output_eng.shape)\n",
        "print(sample_csa(emb_output_eng).shape)"
      ]
    },
    {
      "cell_type": "markdown",
      "metadata": {
        "id": "CXsPLh9hN4xL"
      },
      "source": [
        "## Feedforward Layer\n",
        "\n",
        "Feedforward layer is a common layer that is added on top of every Multi head attention block in both encoder and decoder networks.\n",
        "The feedforward layer has 2 key components - 1. Feed forward 2. Add & Norm\n",
        "The feedfoward layer is composed using a sequential model consists of 2 dense layers that perform point-wise feed forward and a drop out layer.\n",
        "The outcome of the feedforward layer is added to the input (skip connection) followed by normalization layer.\n"
      ]
    },
    {
      "cell_type": "code",
      "execution_count": 29,
      "metadata": {
        "execution": {
          "iopub.execute_input": "2023-10-22T04:43:25.176207Z",
          "iopub.status.busy": "2023-10-22T04:43:25.175801Z",
          "iopub.status.idle": "2023-10-22T04:43:25.184325Z",
          "shell.execute_reply": "2023-10-22T04:43:25.183350Z",
          "shell.execute_reply.started": "2023-10-22T04:43:25.176168Z"
        },
        "id": "XAmJ_GS0W3TW",
        "trusted": true
      },
      "outputs": [],
      "source": [
        "class FeedForward(tf.keras.layers.Layer):\n",
        "  def __init__(self, d_model, dff, dropout_rate=0.1):\n",
        "    super().__init__()\n",
        "    self.seq = tf.keras.Sequential([\n",
        "      tf.keras.layers.Dense(dff, activation='relu'),\n",
        "      tf.keras.layers.Dense(d_model),\n",
        "      tf.keras.layers.Dropout(dropout_rate)\n",
        "    ])\n",
        "    self.add = tf.keras.layers.Add()\n",
        "    self.layer_norm = tf.keras.layers.LayerNormalization()\n",
        "\n",
        "  def call(self, x):\n",
        "    x = self.add([x, self.seq(x)])\n",
        "    x = self.layer_norm(x)\n",
        "    return x\n"
      ]
    },
    {
      "cell_type": "code",
      "execution_count": 30,
      "metadata": {
        "colab": {
          "base_uri": "https://localhost:8080/"
        },
        "execution": {
          "iopub.execute_input": "2023-10-22T04:43:25.186022Z",
          "iopub.status.busy": "2023-10-22T04:43:25.185699Z",
          "iopub.status.idle": "2023-10-22T04:43:25.269065Z",
          "shell.execute_reply": "2023-10-22T04:43:25.267963Z",
          "shell.execute_reply.started": "2023-10-22T04:43:25.185995Z"
        },
        "id": "IA0vBi3sQLoN",
        "outputId": "1f7b8911-84ce-45e6-890d-a5343ca78380",
        "trusted": true
      },
      "outputs": [
        {
          "output_type": "stream",
          "name": "stdout",
          "text": [
            "(64, 15, 512)\n"
          ]
        }
      ],
      "source": [
        "sample_ffn = FeedForward(512, 2048)\n",
        "print(sample_ffn(emb_output_eng).shape)"
      ]
    },
    {
      "cell_type": "markdown",
      "metadata": {
        "id": "3bHMYBxqYfyX"
      },
      "source": [
        "## Encoder\n",
        "\n",
        "The encoder layer is built by stacking one global attention block followed by feedforward layer, this forms one multi-headed attention block. This notebook uses 8 headed attention as configured in the paper.\n",
        "You will later see that layer we stack the encoder layers, there can be any number of encoder layers. The below picture represents one encoder layer.\n",
        "\n",
        "![image.png](https://github.com/sriksmachi/sriksml/blob/main/genai/images/trans-enc-layer.png?raw=1)"
      ]
    },
    {
      "cell_type": "code",
      "execution_count": 31,
      "metadata": {
        "execution": {
          "iopub.execute_input": "2023-10-22T04:43:25.270544Z",
          "iopub.status.busy": "2023-10-22T04:43:25.270227Z",
          "iopub.status.idle": "2023-10-22T04:43:25.277258Z",
          "shell.execute_reply": "2023-10-22T04:43:25.276221Z",
          "shell.execute_reply.started": "2023-10-22T04:43:25.270517Z"
        },
        "id": "Mv2dLw3uZ5LZ",
        "trusted": true
      },
      "outputs": [],
      "source": [
        "class EncoderLayer(tf.keras.layers.Layer):\n",
        "  def __init__(self,*, d_model, num_heads, dff, dropout_rate=0.1):\n",
        "    super().__init__()\n",
        "    self.self_attention = GlobalSelfAttention(\n",
        "        num_heads=num_heads,\n",
        "        key_dim=d_model,\n",
        "        dropout=dropout_rate)\n",
        "    self.ffn = FeedForward(d_model, dff)\n",
        "\n",
        "  def call(self, x):\n",
        "    x = self.self_attention(x)\n",
        "    x = self.ffn(x)\n",
        "    return x"
      ]
    },
    {
      "cell_type": "code",
      "execution_count": 32,
      "metadata": {
        "colab": {
          "base_uri": "https://localhost:8080/"
        },
        "execution": {
          "iopub.execute_input": "2023-10-22T04:43:25.285074Z",
          "iopub.status.busy": "2023-10-22T04:43:25.284773Z",
          "iopub.status.idle": "2023-10-22T04:43:25.385018Z",
          "shell.execute_reply": "2023-10-22T04:43:25.383948Z",
          "shell.execute_reply.started": "2023-10-22T04:43:25.285048Z"
        },
        "id": "YxYYSA2uSh6n",
        "outputId": "edc5770a-1d02-4ae4-d623-ed11902d7dad",
        "trusted": true
      },
      "outputs": [
        {
          "output_type": "stream",
          "name": "stdout",
          "text": [
            "(64, 15, 512)\n",
            "(64, 15, 512)\n"
          ]
        }
      ],
      "source": [
        "sample_encoder_layer = EncoderLayer(d_model=512, num_heads=8, dff=2048)\n",
        "print(emb_output_eng.shape)\n",
        "print(sample_encoder_layer(emb_output_eng).shape)"
      ]
    },
    {
      "cell_type": "code",
      "execution_count": 33,
      "metadata": {
        "execution": {
          "iopub.execute_input": "2023-10-22T04:43:25.386808Z",
          "iopub.status.busy": "2023-10-22T04:43:25.386362Z",
          "iopub.status.idle": "2023-10-22T04:43:25.396551Z",
          "shell.execute_reply": "2023-10-22T04:43:25.394919Z",
          "shell.execute_reply.started": "2023-10-22T04:43:25.386765Z"
        },
        "id": "g2UW3YR7S0Z-",
        "trusted": true
      },
      "outputs": [],
      "source": [
        "class Encoder(tf.keras.layers.Layer):\n",
        "  def __init__(self, *, num_layers, d_model, num_heads,\n",
        "               dff, vocab_size, dropout_rate=0.1):\n",
        "    super().__init__()\n",
        "    self.d_model = d_model\n",
        "    self.num_layers = num_layers\n",
        "    self.pos_embedding = PositionalEmbedding(\n",
        "        vocab_size=vocab_size, d_model=d_model)\n",
        "    self.enc_layers = [\n",
        "        EncoderLayer(d_model=d_model,\n",
        "                     num_heads=num_heads,\n",
        "                     dff=dff,\n",
        "                     dropout_rate=dropout_rate)\n",
        "        for _ in range(num_layers)]\n",
        "    self.dropout = tf.keras.layers.Dropout(dropout_rate)\n",
        "\n",
        "  def call(self, x):\n",
        "    # `x` is token-IDs shape: (batch, seq_len)\n",
        "    x = self.pos_embedding(x)  # Shape `(batch_size, seq_len, d_model)`.\n",
        "    # Add dropout.\n",
        "    x = self.dropout(x)\n",
        "    for i in range(self.num_layers):\n",
        "      x = self.enc_layers[i](x)\n",
        "    return x  # Shape `(batch_size, seq_len, d_model)`."
      ]
    },
    {
      "cell_type": "code",
      "execution_count": 34,
      "metadata": {
        "colab": {
          "base_uri": "https://localhost:8080/"
        },
        "execution": {
          "iopub.execute_input": "2023-10-22T04:43:25.398521Z",
          "iopub.status.busy": "2023-10-22T04:43:25.398120Z",
          "iopub.status.idle": "2023-10-22T04:43:25.765480Z",
          "shell.execute_reply": "2023-10-22T04:43:25.764291Z",
          "shell.execute_reply.started": "2023-10-22T04:43:25.398483Z"
        },
        "id": "7C_MFnxcS7gd",
        "outputId": "94cbe8c6-f986-42e5-a25d-f84246b5e9ce",
        "trusted": true
      },
      "outputs": [
        {
          "output_type": "stream",
          "name": "stdout",
          "text": [
            "(64, 15)\n",
            "(64, 15, 512)\n"
          ]
        }
      ],
      "source": [
        "# Instantiate the encoder.\n",
        "sample_encoder = Encoder(num_layers=4,\n",
        "                         d_model=512,\n",
        "                         num_heads=8,\n",
        "                         dff=2048,\n",
        "                         vocab_size=vocab_size_en)\n",
        "sample_encoder_output = sample_encoder(eng, training=False)\n",
        "print(eng.shape)\n",
        "print(sample_encoder_output.shape)  # Shape `(batch_size, input_seq_len, d_model)`."
      ]
    },
    {
      "cell_type": "markdown",
      "metadata": {
        "id": "LJ7uvGogY2Qy"
      },
      "source": [
        "## Decoder\n",
        "\n",
        "The decoder layer is same as encoder except that each layer contains two attention layers - causal self attention (masked inputs) and cross attention (context vector from encoder and inputs from causal attention layer).\n",
        "It outcome of the causal attention layer passes through the feedforward layer as in the encoder network."
      ]
    },
    {
      "cell_type": "code",
      "execution_count": 35,
      "metadata": {
        "execution": {
          "iopub.execute_input": "2023-10-22T04:43:25.767057Z",
          "iopub.status.busy": "2023-10-22T04:43:25.766759Z",
          "iopub.status.idle": "2023-10-22T04:43:25.775392Z",
          "shell.execute_reply": "2023-10-22T04:43:25.774158Z",
          "shell.execute_reply.started": "2023-10-22T04:43:25.767032Z"
        },
        "id": "Y6QcpGeXcvsD",
        "trusted": true
      },
      "outputs": [],
      "source": [
        "class DecoderLayer(tf.keras.layers.Layer):\n",
        "  def __init__(self,\n",
        "               *,\n",
        "               d_model,\n",
        "               num_heads,\n",
        "               dff,\n",
        "               dropout_rate=0.1):\n",
        "    super(DecoderLayer, self).__init__()\n",
        "    self.causal_self_attention = CausalSelfAttention(\n",
        "        num_heads=num_heads,\n",
        "        key_dim=d_model,\n",
        "        dropout=dropout_rate)\n",
        "    self.cross_attention = CrossAttention(\n",
        "        num_heads=num_heads,\n",
        "        key_dim=d_model,\n",
        "        dropout=dropout_rate)\n",
        "    self.ffn = FeedForward(d_model, dff)\n",
        "\n",
        "  def call(self, x, context):\n",
        "    x = self.causal_self_attention(x=x)\n",
        "    x = self.cross_attention(x=x, context=context)\n",
        "    # Cache the last attention scores for plotting later\n",
        "    self.last_attn_scores = self.cross_attention.last_attn_scores\n",
        "    x = self.ffn(x)  # Shape `(batch_size, seq_len, d_model)`.\n",
        "    return x"
      ]
    },
    {
      "cell_type": "markdown",
      "metadata": {
        "id": "CmX7H225xpiw"
      },
      "source": [
        "The decoder network can also be stacked using any number of decoder layers."
      ]
    },
    {
      "cell_type": "code",
      "execution_count": 36,
      "metadata": {
        "execution": {
          "iopub.execute_input": "2023-10-22T04:43:25.909632Z",
          "iopub.status.busy": "2023-10-22T04:43:25.909208Z",
          "iopub.status.idle": "2023-10-22T04:43:25.918906Z",
          "shell.execute_reply": "2023-10-22T04:43:25.917903Z",
          "shell.execute_reply.started": "2023-10-22T04:43:25.909595Z"
        },
        "id": "huNZYkKMUeS0",
        "trusted": true
      },
      "outputs": [],
      "source": [
        "class Decoder(tf.keras.layers.Layer):\n",
        "  def __init__(self, *, num_layers, d_model, num_heads, dff, vocab_size,\n",
        "               dropout_rate=0.1):\n",
        "    super(Decoder, self).__init__()\n",
        "    self.d_model = d_model\n",
        "    self.num_layers = num_layers\n",
        "    self.pos_embedding = PositionalEmbedding(vocab_size=vocab_size,\n",
        "                                             d_model=d_model)\n",
        "    self.dropout = tf.keras.layers.Dropout(dropout_rate)\n",
        "    self.dec_layers = [\n",
        "        DecoderLayer(d_model=d_model, num_heads=num_heads,\n",
        "                     dff=dff, dropout_rate=dropout_rate)\n",
        "        for _ in range(num_layers)]\n",
        "    self.last_attn_scores = None\n",
        "\n",
        "  def call(self, x, context):\n",
        "    # `x` is token-IDs shape (batch, target_seq_len)\n",
        "    x = self.pos_embedding(x)  # (batch_size, target_seq_len, d_model)\n",
        "    x = self.dropout(x)\n",
        "    for i in range(self.num_layers):\n",
        "      x  = self.dec_layers[i](x, context)\n",
        "    self.last_attn_scores = self.dec_layers[-1].last_attn_scores\n",
        "    # The shape of x is (batch_size, target_seq_len, d_model).\n",
        "    return x"
      ]
    },
    {
      "cell_type": "code",
      "execution_count": 37,
      "metadata": {
        "colab": {
          "base_uri": "https://localhost:8080/"
        },
        "execution": {
          "iopub.execute_input": "2023-10-22T04:43:25.920313Z",
          "iopub.status.busy": "2023-10-22T04:43:25.920026Z",
          "iopub.status.idle": "2023-10-22T04:43:26.598556Z",
          "shell.execute_reply": "2023-10-22T04:43:26.597457Z",
          "shell.execute_reply.started": "2023-10-22T04:43:25.920287Z"
        },
        "id": "83Vikt41UhQD",
        "outputId": "393761d5-6581-4f14-d1a4-b39e79378877",
        "trusted": true
      },
      "outputs": [
        {
          "output_type": "stream",
          "name": "stdout",
          "text": [
            "(64, 15)\n",
            "(64, 15, 512)\n",
            "(64, 15, 512)\n"
          ]
        }
      ],
      "source": [
        "# Instantiate the decoder.\n",
        "sample_decoder = Decoder(num_layers=4,\n",
        "                         d_model=512,\n",
        "                         num_heads=8,\n",
        "                         dff=2048,\n",
        "                         vocab_size=vocab_size_hn)\n",
        "output = sample_decoder(x=hin,context=emb_output_eng)\n",
        "# Print the shapes.\n",
        "print(hin.shape)\n",
        "print(emb_output_hin.shape)\n",
        "print(output.shape)"
      ]
    },
    {
      "cell_type": "code",
      "execution_count": 38,
      "metadata": {
        "colab": {
          "base_uri": "https://localhost:8080/"
        },
        "execution": {
          "iopub.execute_input": "2023-10-22T04:43:26.600462Z",
          "iopub.status.busy": "2023-10-22T04:43:26.600061Z",
          "iopub.status.idle": "2023-10-22T04:43:26.607256Z",
          "shell.execute_reply": "2023-10-22T04:43:26.606238Z",
          "shell.execute_reply.started": "2023-10-22T04:43:26.600427Z"
        },
        "id": "e1VgXYNQVMOH",
        "outputId": "24918377-624c-4dba-9cfe-2248b00bbfc5",
        "trusted": true
      },
      "outputs": [
        {
          "output_type": "execute_result",
          "data": {
            "text/plain": [
              "TensorShape([64, 8, 15, 15])"
            ]
          },
          "metadata": {},
          "execution_count": 38
        }
      ],
      "source": [
        "sample_decoder.last_attn_scores.shape"
      ]
    },
    {
      "cell_type": "markdown",
      "metadata": {
        "id": "CRbKuSF8bRIv"
      },
      "source": [
        "## Transformer Model\n",
        "\n",
        "The final transformer model contains of three key components\n",
        "1. Encoder Network with multiple layers of Encoders\n",
        "2. Decoder Network with multiple layers of Decoders\n",
        "3. The output of the decoder passes through a Dense layer that reduces the output to a dense vector of target vocab size. This is specific to the downstream task, neural machine translation in this case."
      ]
    },
    {
      "cell_type": "code",
      "execution_count": 39,
      "metadata": {
        "execution": {
          "iopub.execute_input": "2023-10-22T04:43:26.609229Z",
          "iopub.status.busy": "2023-10-22T04:43:26.608782Z",
          "iopub.status.idle": "2023-10-22T04:43:26.618875Z",
          "shell.execute_reply": "2023-10-22T04:43:26.617728Z",
          "shell.execute_reply.started": "2023-10-22T04:43:26.609201Z"
        },
        "id": "f2LpORoYtQJE",
        "trusted": true
      },
      "outputs": [],
      "source": [
        "class Transformer(tf.keras.Model):\n",
        "  def __init__(self, *, num_layers, d_model, num_heads, dff,\n",
        "               input_vocab_size, target_vocab_size, dropout_rate=0.1):\n",
        "    super().__init__()\n",
        "    self.encoder = Encoder(num_layers=num_layers, d_model=d_model,\n",
        "                           num_heads=num_heads, dff=dff,\n",
        "                           vocab_size=input_vocab_size,\n",
        "                           dropout_rate=dropout_rate)\n",
        "\n",
        "    self.decoder = Decoder(num_layers=num_layers, d_model=d_model,\n",
        "                           num_heads=num_heads, dff=dff,\n",
        "                           vocab_size=target_vocab_size,\n",
        "                           dropout_rate=dropout_rate)\n",
        "\n",
        "    self.final_layer = tf.keras.layers.Dense(target_vocab_size)\n",
        "\n",
        "  def call(self, inputs):\n",
        "    # To use a Keras model with `.fit` you must pass all your inputs in the\n",
        "    # first argument.\n",
        "    context, x  = inputs\n",
        "    context = self.encoder(context)  # (batch_size, context_len, d_model)\n",
        "    x = self.decoder(x, context)  # (batch_size, target_len, d_model)\n",
        "    # Final linear layer output.\n",
        "    logits = self.final_layer(x)  # (batch_size, target_len, target_vocab_size)\n",
        "    try:\n",
        "      # Drop the keras mask, so it doesn't scale the losses/metrics.\n",
        "      # b/250038731\n",
        "      del logits._keras_mask\n",
        "    except AttributeError:\n",
        "      pass\n",
        "\n",
        "    # Return the final output and the attention weights.\n",
        "    return logits"
      ]
    },
    {
      "cell_type": "markdown",
      "metadata": {
        "id": "sHEBhPdXibco"
      },
      "source": [
        "## Training Utilities\n",
        "\n",
        "Here we are using a custom training schedule which is also used in the paper."
      ]
    },
    {
      "cell_type": "code",
      "execution_count": 40,
      "metadata": {
        "colab": {
          "base_uri": "https://localhost:8080/",
          "height": 449
        },
        "execution": {
          "iopub.execute_input": "2023-10-22T04:43:26.620641Z",
          "iopub.status.busy": "2023-10-22T04:43:26.620271Z",
          "iopub.status.idle": "2023-10-22T04:43:26.930907Z",
          "shell.execute_reply": "2023-10-22T04:43:26.929922Z",
          "shell.execute_reply.started": "2023-10-22T04:43:26.620614Z"
        },
        "id": "LpJUx205idZx",
        "outputId": "7c0ff380-a027-4c98-f2d3-3a9af446a61d",
        "trusted": true
      },
      "outputs": [
        {
          "output_type": "display_data",
          "data": {
            "text/plain": [
              "<Figure size 640x480 with 1 Axes>"
            ],
            "image/png": "[encoded data removed]"
          },
          "metadata": {}
        }
      ],
      "source": [
        "class CustomSchedule(tf.keras.optimizers.schedules.LearningRateSchedule):\n",
        "  def __init__(self, key_dim, warmup_steps=4000):\n",
        "    super().__init__()\n",
        "    self.key_dim=key_dim\n",
        "    self.warmup_steps=warmup_steps\n",
        "    self.d=tf.cast(self.key_dim, tf.float32)\n",
        "\n",
        "  def __call__(self, step):\n",
        "    step = tf.cast(step, tf.float32)\n",
        "    arg1 = tf.math.rsqrt(step)\n",
        "    arg2 = step * (self.warmup_steps ** -1.5)\n",
        "    return tf.math.rsqrt(self.d) * tf.math.minimum(arg1, arg2)\n",
        "\n",
        "  def get_config(self):\n",
        "    config = {\n",
        "        \"key_dim\": self.key_dim,\n",
        "        \"warmup_steps\": self.warmup_steps\n",
        "    }\n",
        "    return config\n",
        "\n",
        "key_dim = 512\n",
        "lr = CustomSchedule(key_dim)\n",
        "optimizer = tf.keras.optimizers.Adam(lr, beta_1=0.9, beta_2=0.98, epsilon=1e-9)\n",
        "plt.plot(lr(tf.range(50000, dtype=tf.float32)))\n",
        "plt.ylabel('Learning Rate')\n",
        "plt.xlabel('Train Step')\n",
        "plt.show()"
      ]
    },
    {
      "cell_type": "code",
      "execution_count": 41,
      "metadata": {
        "execution": {
          "iopub.execute_input": "2023-10-22T04:43:26.932649Z",
          "iopub.status.busy": "2023-10-22T04:43:26.932256Z",
          "iopub.status.idle": "2023-10-22T04:43:26.940582Z",
          "shell.execute_reply": "2023-10-22T04:43:26.939591Z",
          "shell.execute_reply.started": "2023-10-22T04:43:26.932614Z"
        },
        "id": "t0qrwEIX14E8",
        "trusted": true
      },
      "outputs": [],
      "source": [
        "# Compute masked loss\n",
        "# Since we are masking the inputs that are after the current token\n",
        "# the loss and accuracy should be updated to consider only the unmasked values.\n",
        "def masked_loss(label, pred):\n",
        "  # pred shape is (batch_size, seq_len, vocab_size)\n",
        "  mask = label != 0\n",
        "  # shape of mask is (batch_size, seq_len)\n",
        "  loss_object = tf.keras.losses.SparseCategoricalCrossentropy(from_logits=True, reduction='none')\n",
        "  loss = loss_object(label, pred)\n",
        "  mask = tf.cast(mask, dtype=loss.dtype)\n",
        "  loss *= mask\n",
        "  loss = tf.reduce_sum(loss)/tf.reduce_sum(mask)\n",
        "  return loss\n",
        "\n",
        "def masked_accuracy(label, pred):\n",
        "  pred = tf.argmax(pred, axis=2)\n",
        "  label = tf.cast(label, dtype=pred.dtype)\n",
        "  match = pred==label\n",
        "  mask = label !=0\n",
        "  match = match & mask\n",
        "  match = tf.cast(match, dtype=tf.float32)\n",
        "  mask = tf.cast(mask, dtype=tf.float32)\n",
        "  return tf.reduce_sum(match) / tf.reduce_sum(mask)\n"
      ]
    },
    {
      "cell_type": "markdown",
      "metadata": {
        "id": "YUwhaPsp3Qur"
      },
      "source": [
        "## Final Model"
      ]
    },
    {
      "cell_type": "code",
      "execution_count": 42,
      "metadata": {
        "execution": {
          "iopub.execute_input": "2023-10-22T04:43:26.942239Z",
          "iopub.status.busy": "2023-10-22T04:43:26.941902Z",
          "iopub.status.idle": "2023-10-22T04:43:37.961616Z",
          "shell.execute_reply": "2023-10-22T04:43:37.960551Z",
          "shell.execute_reply.started": "2023-10-22T04:43:26.942213Z"
        },
        "id": "AvEUKOmqfx4y",
        "trusted": true
      },
      "outputs": [],
      "source": [
        "# Parameters\n",
        "n_sentences = None\n",
        "num_layers = 4\n",
        "d_model = 512\n",
        "dff = 512\n",
        "# run with 8 heads\n",
        "num_heads = 8\n",
        "dropout_rate = 0.2"
      ]
    },
    {
      "cell_type": "code",
      "execution_count": 43,
      "metadata": {
        "execution": {
          "iopub.execute_input": "2023-10-22T04:43:37.963351Z",
          "iopub.status.busy": "2023-10-22T04:43:37.963032Z",
          "iopub.status.idle": "2023-10-22T04:43:38.131246Z",
          "shell.execute_reply": "2023-10-22T04:43:38.130301Z",
          "shell.execute_reply.started": "2023-10-22T04:43:37.963324Z"
        },
        "id": "2p2LASBd5SYN",
        "trusted": true
      },
      "outputs": [],
      "source": [
        "model = Transformer(\n",
        "    num_layers=num_layers,\n",
        "    d_model=d_model,\n",
        "    num_heads=num_heads,\n",
        "    dff=dff,\n",
        "    input_vocab_size=vocab_size_en,\n",
        "    target_vocab_size=vocab_size_hn,\n",
        "    dropout_rate=dropout_rate)\n",
        "lr = CustomSchedule(dff)\n",
        "optimizer = tf.keras.optimizers.Adam(lr, beta_1=0.9, beta_2=0.98, epsilon=1e-9)\n",
        "model.compile(loss=masked_loss, optimizer=optimizer, metrics=[masked_accuracy])\n"
      ]
    },
    {
      "cell_type": "markdown",
      "metadata": {
        "id": "Iw0Z-2Us3vGw"
      },
      "source": [
        "## Training"
      ]
    },
    {
      "cell_type": "code",
      "execution_count": 44,
      "metadata": {
        "colab": {
          "base_uri": "https://localhost:8080/",
          "height": 1000
        },
        "execution": {
          "iopub.execute_input": "2023-10-22T04:43:38.876041Z",
          "iopub.status.busy": "2023-10-22T04:43:38.875671Z"
        },
        "id": "7MrIMDm34B7c",
        "outputId": "1fece4ed-5bf6-4a56-c842-8dd0b81cd29c",
        "trusted": true
      },
      "outputs": [
        {
          "metadata": {
            "tags": null
          },
          "name": "stdout",
          "output_type": "stream",
          "text": [
            "Epoch 1/15\n",
            "723/723 [==============================] - 157s 178ms/step - loss: 7.7071 - masked_accuracy: 0.1326 - val_loss: 6.3243 - val_masked_accuracy: 0.1883\n",
            "Epoch 2/15\n",
            "723/723 [==============================] - 116s 161ms/step - loss: 5.8406 - masked_accuracy: 0.2208 - val_loss: 5.6201 - val_masked_accuracy: 0.2483\n",
            "Epoch 3/15\n",
            "723/723 [==============================] - 117s 161ms/step - loss: 5.1839 - masked_accuracy: 0.2659 - val_loss: 5.2808 - val_masked_accuracy: 0.2771\n",
            "Epoch 4/15\n",
            "723/723 [==============================] - 117s 161ms/step - loss: 4.7151 - masked_accuracy: 0.2970 - val_loss: 5.0321 - val_masked_accuracy: 0.2975\n",
            "Epoch 5/15\n",
            "723/723 [==============================] - 116s 161ms/step - loss: 4.2952 - masked_accuracy: 0.3252 - val_loss: 4.9344 - val_masked_accuracy: 0.3047\n",
            "Epoch 6/15\n",
            "723/723 [==============================] - 117s 161ms/step - loss: 3.9244 - masked_accuracy: 0.3539 - val_loss: 4.7861 - val_masked_accuracy: 0.3212\n",
            "Epoch 7/15\n",
            "723/723 [==============================] - 116s 161ms/step - loss: 3.4648 - masked_accuracy: 0.3990 - val_loss: 4.6848 - val_masked_accuracy: 0.3417\n",
            "Epoch 8/15\n",
            "723/723 [==============================] - 116s 161ms/step - loss: 3.0670 - masked_accuracy: 0.4443 - val_loss: 4.6026 - val_masked_accuracy: 0.3597\n",
            "Epoch 9/15\n",
            "723/723 [==============================] - 116s 161ms/step - loss: 2.7213 - masked_accuracy: 0.4869 - val_loss: 4.7119 - val_masked_accuracy: 0.3636\n",
            "Epoch 10/15\n",
            "723/723 [==============================] - 116s 161ms/step - loss: 2.4557 - masked_accuracy: 0.5240 - val_loss: 4.6326 - val_masked_accuracy: 0.3752\n",
            "Epoch 11/15\n",
            "723/723 [==============================] - 116s 161ms/step - loss: 2.1949 - masked_accuracy: 0.5622 - val_loss: 4.6839 - val_masked_accuracy: 0.3787\n",
            "Epoch 12/15\n",
            "723/723 [==============================] - 116s 161ms/step - loss: 1.9959 - masked_accuracy: 0.5938 - val_loss: 4.6696 - val_masked_accuracy: 0.3863\n",
            "Epoch 13/15\n",
            "723/723 [==============================] - 116s 160ms/step - loss: 1.8303 - masked_accuracy: 0.6224 - val_loss: 4.7590 - val_masked_accuracy: 0.3843\n",
            "Epoch 14/15\n",
            "723/723 [==============================] - 116s 161ms/step - loss: 1.6654 - masked_accuracy: 0.6504 - val_loss: 4.8869 - val_masked_accuracy: 0.3914\n",
            "Epoch 15/15\n",
            "723/723 [==============================] - 116s 161ms/step - loss: 1.5246 - masked_accuracy: 0.6759 - val_loss: 4.9079 - val_masked_accuracy: 0.3947\n"
          ]
        },
        {
          "data": {
            "image/png": "[encoded data removed]",
            "text/plain": [
              "<Figure size 600x800 with 2 Axes>"
            ]
          },
          "metadata": {},
          "output_type": "display_data"
        }
      ],
      "source": [
        "epochs = 15\n",
        "history = model.fit(train_ds, epochs=epochs, validation_data=val_ds)\n",
        "\n",
        "# Plot the loss and accuracy history\n",
        "fig, axs = plt.subplots(2, figsize=(6, 8), sharex=True)\n",
        "fig.suptitle('Traininig history')\n",
        "x = list(range(1, epochs+1))\n",
        "axs[0].plot(x, history.history[\"loss\"], alpha=0.5, label=\"loss\")\n",
        "axs[0].plot(x, history.history[\"val_loss\"], alpha=0.5, label=\"val_loss\")\n",
        "axs[0].set_ylabel(\"Loss\")\n",
        "axs[0].legend(loc=\"upper right\")\n",
        "axs[1].plot(x, history.history[\"masked_accuracy\"], alpha=0.5, label=\"acc\")\n",
        "axs[1].plot(x, history.history[\"val_masked_accuracy\"], alpha=0.5, label=\"val_acc\")\n",
        "axs[1].set_ylabel(\"Accuracy\")\n",
        "axs[1].set_xlabel(\"epoch\")\n",
        "axs[1].legend(loc=\"lower right\")\n",
        "plt.show()"
      ]
    },
    {
      "cell_type": "code",
      "execution_count": 45,
      "metadata": {
        "colab": {
          "base_uri": "https://localhost:8080/"
        },
        "id": "MQgnnk9NSZTQ",
        "outputId": "3fbbfd8f-18c0-41e0-e1a5-4177d82e68fe",
        "trusted": true
      },
      "outputs": [
        {
          "metadata": {
            "tags": null
          },
          "name": "stdout",
          "output_type": "stream",
          "text": [
            "Test 0:\n",
            "[start] but before we start we set this golden rule [end]\n",
            "== [start] लेकिन शुरू करने से पहले हम ये नियम बनाते है | [end]\n",
            "-> [start] लेकिन इससे पहले हमने इसे विदेशी शासक में शुरु किया । [end]\n",
            "\n",
            "Test 1:\n",
            "[start] hindi editor and spell checker [end]\n",
            "== [start] हिन्दी संपादक तथा वर्तनी जाँचकर्ता [end]\n",
            "-> [start] हिन्दी संपादक तथा वर्तनी जाँचकर्ता [end]\n",
            "\n",
            "Test 2:\n",
            "[start] every single day [end]\n",
            "== [start] हर एक दिन. [end]\n",
            "-> [start] हर दिन [end]\n",
            "\n",
            "Test 3:\n",
            "[start] four vedas [end]\n",
            "== [start] चार वेद [end]\n",
            "-> [start] चार वेद [end]\n",
            "\n",
            "Test 4:\n",
            "[start] very efficient process [end]\n",
            "== [start] हमारी कार्यप्रणाली अत्यंत सुचारु है, [end]\n",
            "-> [start] बहुत ही मजबूत प्रक्रिया से तुलना [end]\n",
            "\n"
          ]
        }
      ],
      "source": [
        "# training parameters used\n",
        "seq_len = 20\n",
        "def translate(sentence):\n",
        "    \"\"\"Create the translated sentence\"\"\"\n",
        "    enc_tokens = eng_vectorizer([sentence])\n",
        "    lookup = list(hin_vectorizer.get_vocabulary())\n",
        "    start_sentinel, end_sentinel = \"[start]\", \"[end]\"\n",
        "    output_sentence = [start_sentinel]\n",
        "    # generate the translated sentence word by word\n",
        "    for i in range(seq_len):\n",
        "        vector = hin_vectorizer([\" \".join(output_sentence)])\n",
        "        dec_tokens = vector[:, :-1]\n",
        "        pred = model([enc_tokens, dec_tokens])\n",
        "        word = lookup[np.argmax(pred[0, i, :])]\n",
        "        output_sentence.append(word)\n",
        "        if word == end_sentinel:\n",
        "            break\n",
        "    return output_sentence\n",
        "\n",
        "test_count = 5\n",
        "for n in range(test_count):\n",
        "    english_sentence, Hindi_sentence = random.choice(val_tp)\n",
        "    translated = translate(english_sentence)\n",
        "    print(f\"Test {n}:\")\n",
        "    print(f\"{english_sentence}\")\n",
        "    print(f\"== {Hindi_sentence}\")\n",
        "    print(f\"-> {' '.join(translated)}\")\n",
        "    print()"
      ]
    },
    {
      "cell_type": "markdown",
      "source": [
        "The model has overfit. since this notebook is only to understand how transformers architecture works I choose to ignore this. However, there are few ways the accuracy can be improved.\n",
        "- First of all, the vectorization can be replace with language toolkits that understand \"hindi\".\n",
        "- The english text can be tokenized better using lemmatization or sub word tokenization.\n",
        "- Use more data, ofcourse the training time increases as you use more data but transformers have proven to learn better with more data."
      ],
      "metadata": {
        "id": "aNe3S5YfwblK"
      }
    },
    {
      "cell_type": "code",
      "execution_count": 45,
      "metadata": {
        "id": "RyXCibz7DdGT"
      },
      "outputs": [],
      "source": []
    }
  ],
  "metadata": {
    "accelerator": "GPU",
    "colab": {
      "gpuType": "V100",
      "machine_shape": "hm",
      "provenance": [],
      "toc_visible": true,
      "include_colab_link": true
    },
    "kernelspec": {
      "display_name": "Python 3",
      "name": "python3"
    },
    "language_info": {
      "codemirror_mode": {
        "name": "ipython",
        "version": 3
      },
      "file_extension": ".py",
      "mimetype": "text/x-python",
      "name": "python",
      "nbconvert_exporter": "python",
      "pygments_lexer": "ipython3",
      "version": "3.10.12"
    }
  },
  "nbformat": 4,
  "nbformat_minor": 0
}