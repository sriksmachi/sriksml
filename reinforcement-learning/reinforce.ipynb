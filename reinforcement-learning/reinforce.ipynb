{
 "cells": [
  {
   "cell_type": "markdown",
   "metadata": {},
   "source": [
    "# Reinforce Algorithm\n",
    "\n",
    "Reinforce is a easy and simple to understand RL algorithm that belongs to policy gradient class of algorithms.\n",
    "In policy gradient class of algorithms, the agent learns a policy which is a receipe of action to taken for a given state.\n",
    "\n",
    "The agent goes through following steps\n",
    "- The agent acts on the environment and collects - next state, reward, action. \n",
    "- The agents continuous to take action on the environment until it reaches the end state.\n",
    "- The next state, reward and the action taken  "
   ]
  },
  {
   "cell_type": "code",
   "execution_count": null,
   "metadata": {},
   "outputs": [],
   "source": [
    "import tensorflow as tf\n",
    "import numpy as np\n",
    "import gym \n",
    "import tensorflow_probability as tfp\n",
    "from tqdm import tqdm"
   ]
  },
  {
   "cell_type": "code",
   "execution_count": null,
   "metadata": {},
   "outputs": [],
   "source": [
    "env= gym.make(\"CartPole-v1\")\n",
    "low = env.observation_space.low\n",
    "high = env.observation_space.high\n",
    "print(f'Number of action spaces:  {env.action_space.n}')"
   ]
  },
  {
   "cell_type": "code",
   "execution_count": null,
   "metadata": {},
   "outputs": [],
   "source": [
    "class model(tf.keras.Model):\n",
    "  def __init__(self):\n",
    "    super().__init__()\n",
    "    self.d1 = tf.keras.layers.Dense(30,activation='relu')\n",
    "    self.d2 = tf.keras.layers.Dense(30,activation='relu')\n",
    "    self.out = tf.keras.layers.Dense(env.action_space.n,activation='softmax')\n",
    "\n",
    "  def call(self, input_data):\n",
    "    x = tf.convert_to_tensor(input_data)\n",
    "    x = self.d1(x)\n",
    "    x = self.d2(x)\n",
    "    x = self.out(x)\n",
    "    return x"
   ]
  },
  {
   "cell_type": "code",
   "execution_count": null,
   "metadata": {},
   "outputs": [],
   "source": [
    "class agent():\n",
    "  def __init__(self):\n",
    "    self.model = model()\n",
    "    self.opt = tf.keras.optimizers.Adam(learning_rate=0.001)\n",
    "    self.gamma = 1\n",
    "\n",
    "  def act(self,state):\n",
    "    prob = self.model(np.array([state]))\n",
    "    dist = tfp.distributions.Categorical(probs=prob, dtype=tf.float32)\n",
    "    action = dist.sample()\n",
    "    return int(action.numpy()[0])\n",
    "\n",
    "  def a_loss(self,prob, action, reward): \n",
    "    dist = tfp.distributions.Categorical(probs=prob, dtype=tf.float32)\n",
    "    log_prob = dist.log_prob(action)\n",
    "    loss = -log_prob*reward\n",
    "    return loss \n",
    "\n",
    "  def train(self, states, rewards, actions):\n",
    "    sum_reward = 0\n",
    "    discnt_rewards = []\n",
    "    rewards.reverse()\n",
    "    for r in rewards:\n",
    "      sum_reward = r + self.gamma*sum_reward\n",
    "      discnt_rewards.append(sum_reward)\n",
    "    discnt_rewards.reverse()  \n",
    "\n",
    "    for state, reward, action in zip(states, discnt_rewards, actions):\n",
    "      with tf.GradientTape() as tape:\n",
    "        # forward pass\n",
    "        p = self.model(np.array([state]), training=True)\n",
    "        # compute loss\n",
    "        loss = self.a_loss(p, action, reward)\n",
    "      # compute gradients\n",
    "      grads = tape.gradient(loss, self.model.trainable_variables)\n",
    "      # update weights\n",
    "      self.opt.apply_gradients(zip(grads, self.model.trainable_variables))"
   ]
  },
  {
   "cell_type": "code",
   "execution_count": null,
   "metadata": {},
   "outputs": [],
   "source": [
    "agentoo7 = agent()\n",
    "steps = 1000\n",
    "rewards_tracked = []\n",
    "for s in tqdm(range(steps)):\n",
    "  done = False\n",
    "  state = env.reset()[0]\n",
    "  total_reward = 0\n",
    "  rewards = []\n",
    "  states = []\n",
    "  actions = []\n",
    "  while not done:\n",
    "    # env.render()\n",
    "    action = agentoo7.act(state)\n",
    "    next_state, reward, done, info, _ = env.step(action)\n",
    "    rewards.append(reward)\n",
    "    states.append(state)\n",
    "    actions.append(action)\n",
    "    state = next_state\n",
    "    total_reward += reward\n",
    "    if done:\n",
    "      agentoo7.train(states, rewards, actions)\n",
    "      rewards_tracked.append(total_reward)"
   ]
  },
  {
   "cell_type": "markdown",
   "metadata": {},
   "source": [
    "## Analysis"
   ]
  },
  {
   "cell_type": "code",
   "execution_count": null,
   "metadata": {},
   "outputs": [],
   "source": [
    "import matplotlib.pyplot as plt\n",
    "import pandas as pd"
   ]
  },
  {
   "cell_type": "code",
   "execution_count": null,
   "metadata": {},
   "outputs": [],
   "source": [
    "x_axis = np.asarray(range(0, len(rewards_tracked)))\n",
    "y_axis = np.asarray(rewards_tracked)\n",
    "plt.figure(0, figsize=(16,4))\n",
    "plt.title('Rewards per episode')\n",
    "plt.xlabel('Episodes')\n",
    "plt.ylabel('Rewards')\n",
    "plt.plot(x_axis,y_axis,'green')\n",
    "plt.grid()\n",
    "plt.show()"
   ]
  }
 ],
 "metadata": {
  "kernelspec": {
   "display_name": ".rlenv",
   "language": "python",
   "name": "python3"
  },
  "language_info": {
   "codemirror_mode": {
    "name": "ipython",
    "version": 3
   },
   "file_extension": ".py",
   "mimetype": "text/x-python",
   "name": "python",
   "nbconvert_exporter": "python",
   "pygments_lexer": "ipython3",
   "version": "3.11.4"
  },
  "orig_nbformat": 4
 },
 "nbformat": 4,
 "nbformat_minor": 2
}
