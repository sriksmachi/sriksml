{
 "cells": [
  {
   "cell_type": "markdown",
   "id": "33e1e8d1",
   "metadata": {},
   "source": [
    "# Principal Component Analysis for Anomaly Detection"
   ]
  },
  {
   "cell_type": "code",
   "execution_count": 16,
   "id": "673a4d9e",
   "metadata": {},
   "outputs": [],
   "source": [
    "import pandas as pd\n",
    "from sklearn.preprocessing import StandardScaler, MinMaxScaler\n",
    "from sklearn.decomposition import PCA\n",
    "import numpy as np\n",
    "import seaborn as sns\n",
    "import matplotlib.pyplot as plt\n",
    "from sklearn.model_selection import train_test_split\n",
    "import warnings\n",
    "warnings.filterwarnings('ignore')"
   ]
  },
  {
   "cell_type": "code",
   "execution_count": 3,
   "id": "90d2c1e5",
   "metadata": {},
   "outputs": [
    {
     "data": {
      "text/plain": [
       "array([0.92461872, 0.05306648, 0.01710261, 0.00521218])"
      ]
     },
     "execution_count": 3,
     "metadata": {},
     "output_type": "execute_result"
    }
   ],
   "source": [
    "df = pd.read_csv('https://gist.githubusercontent.com/netj/8836201/raw/6f9306ad21398ea43cba4f7d537619d0e07d5ae3/iris.csv')\n",
    "df = df.drop(['variety'], axis=1)\n",
    "pca = PCA(n_components=4, random_state=0)\n",
    "pca.fit_transform(df)\n",
    "pca.explained_variance_ratio_"
   ]
  },
  {
   "cell_type": "code",
   "execution_count": 4,
   "id": "98e52df5",
   "metadata": {},
   "outputs": [],
   "source": [
    "plt.figure(figsize=(16,4))\n",
    "sns.pairplot(data=df, hue='variety')"
   ]
  },
  {
   "cell_type": "code",
   "execution_count": 5,
   "id": "ba04d45c",
   "metadata": {},
   "outputs": [],
   "source": [
    "df_pca = pd.DataFrame(pca.fit_transform(df), index=df.index)\n",
    "df_restored = pd.DataFrame(pca.inverse_transform(df_pca), index=df_pca.index)"
   ]
  },
  {
   "cell_type": "code",
   "execution_count": 6,
   "id": "a057f218",
   "metadata": {},
   "outputs": [],
   "source": [
    "def get_anomaly_scores(df_original, df_restored):\n",
    "    loss = np.sum((np.array(df_original) - np.array(df_restored)) ** 2, axis=1)\n",
    "    loss = pd.Series(data=loss, index=df_original.index)\n",
    "    return loss\n",
    "\n",
    "def is_anomaly(data, pca, threshold):\n",
    "    pca_data = pca.transform(data)\n",
    "    restored_data = pca.inverse_transform(pca_data)\n",
    "    loss = np.sum((data - restored_data) ** 2)\n",
    "    return loss > threshold"
   ]
  },
  {
   "cell_type": "code",
   "execution_count": 7,
   "id": "3afda891",
   "metadata": {},
   "outputs": [
    {
     "data": {
      "image/png": "[encoded data removed]",
      "text/plain": [
       "<Figure size 576x288 with 1 Axes>"
      ]
     },
     "metadata": {
      "needs_background": "light"
     },
     "output_type": "display_data"
    }
   ],
   "source": [
    "reconstruction_errors = get_anomaly_scores(df, df_restored)\n",
    "plt.figure(figsize = (8,4))\n",
    "sns.lineplot(data=reconstruction_errors)\n",
    "for index, row in df.iterrows():\n",
    "    if is_anomaly([row], pca, 0.4):\n",
    "        plt.axvline(row.name, color='r', alpha=0.2)"
   ]
  },
  {
   "cell_type": "markdown",
   "id": "a888c1e6",
   "metadata": {},
   "source": [
    "## Azure Diagnostics Data"
   ]
  },
  {
   "cell_type": "code",
   "execution_count": 9,
   "id": "d4334e50",
   "metadata": {},
   "outputs": [
    {
     "data": {
      "text/html": [
       "<div>\n",
       "<style scoped>\n",
       "    .dataframe tbody tr th:only-of-type {\n",
       "        vertical-align: middle;\n",
       "    }\n",
       "\n",
       "    .dataframe tbody tr th {\n",
       "        vertical-align: top;\n",
       "    }\n",
       "\n",
       "    .dataframe thead th {\n",
       "        text-align: right;\n",
       "    }\n",
       "</style>\n",
       "<table border=\"1\" class=\"dataframe\">\n",
       "  <thead>\n",
       "    <tr style=\"text-align: right;\">\n",
       "      <th>MetricName</th>\n",
       "      <th>Availability</th>\n",
       "      <th>ServiceApiHit</th>\n",
       "      <th>ServiceApiLatency</th>\n",
       "      <th>ServiceApiResult</th>\n",
       "    </tr>\n",
       "  </thead>\n",
       "  <tbody>\n",
       "    <tr>\n",
       "      <th>0</th>\n",
       "      <td>23.0</td>\n",
       "      <td>23.0</td>\n",
       "      <td>982.5</td>\n",
       "      <td>23.0</td>\n",
       "    </tr>\n",
       "    <tr>\n",
       "      <th>1</th>\n",
       "      <td>248.5</td>\n",
       "      <td>248.5</td>\n",
       "      <td>4216.5</td>\n",
       "      <td>248.5</td>\n",
       "    </tr>\n",
       "    <tr>\n",
       "      <th>2</th>\n",
       "      <td>284.5</td>\n",
       "      <td>284.5</td>\n",
       "      <td>4817.0</td>\n",
       "      <td>284.5</td>\n",
       "    </tr>\n",
       "    <tr>\n",
       "      <th>3</th>\n",
       "      <td>59.0</td>\n",
       "      <td>59.0</td>\n",
       "      <td>2094.0</td>\n",
       "      <td>59.0</td>\n",
       "    </tr>\n",
       "    <tr>\n",
       "      <th>4</th>\n",
       "      <td>11.5</td>\n",
       "      <td>11.5</td>\n",
       "      <td>834.0</td>\n",
       "      <td>11.5</td>\n",
       "    </tr>\n",
       "  </tbody>\n",
       "</table>\n",
       "</div>"
      ],
      "text/plain": [
       "MetricName  Availability  ServiceApiHit  ServiceApiLatency  ServiceApiResult\n",
       "0                   23.0           23.0              982.5              23.0\n",
       "1                  248.5          248.5             4216.5             248.5\n",
       "2                  284.5          284.5             4817.0             284.5\n",
       "3                   59.0           59.0             2094.0              59.0\n",
       "4                   11.5           11.5              834.0              11.5"
      ]
     },
     "execution_count": 9,
     "metadata": {},
     "output_type": "execute_result"
    }
   ],
   "source": [
    "df = pd.read_csv(\"data\\pca_data.csv\")\n",
    "df = df.fillna(0)\n",
    "df = df.pivot_table('Total', ['TimeGenerated [Local Time]'], 'MetricName')\n",
    "df.reset_index(drop=False, inplace=True)\n",
    "df.reindex(['TimeGenerated [Local Time]', 'ServiceApiLatency', 'ServiceApiLatency', 'ServiceApiLatency', 'ServiceApiResult'], axis=1)\n",
    "df.drop(['TimeGenerated [Local Time]'], axis=1, inplace=True)\n",
    "df.head()"
   ]
  },
  {
   "cell_type": "code",
   "execution_count": 10,
   "id": "49d655ae",
   "metadata": {},
   "outputs": [
    {
     "data": {
      "text/html": [
       "<div>\n",
       "<style scoped>\n",
       "    .dataframe tbody tr th:only-of-type {\n",
       "        vertical-align: middle;\n",
       "    }\n",
       "\n",
       "    .dataframe tbody tr th {\n",
       "        vertical-align: top;\n",
       "    }\n",
       "\n",
       "    .dataframe thead th {\n",
       "        text-align: right;\n",
       "    }\n",
       "</style>\n",
       "<table border=\"1\" class=\"dataframe\">\n",
       "  <thead>\n",
       "    <tr style=\"text-align: right;\">\n",
       "      <th>MetricName</th>\n",
       "      <th>Availability</th>\n",
       "      <th>ServiceApiHit</th>\n",
       "      <th>ServiceApiLatency</th>\n",
       "      <th>ServiceApiResult</th>\n",
       "    </tr>\n",
       "  </thead>\n",
       "  <tbody>\n",
       "    <tr>\n",
       "      <th>0</th>\n",
       "      <td>-0.434548</td>\n",
       "      <td>-0.434554</td>\n",
       "      <td>-0.698706</td>\n",
       "      <td>-0.434548</td>\n",
       "    </tr>\n",
       "    <tr>\n",
       "      <th>1</th>\n",
       "      <td>2.311898</td>\n",
       "      <td>2.311932</td>\n",
       "      <td>1.869128</td>\n",
       "      <td>2.311898</td>\n",
       "    </tr>\n",
       "    <tr>\n",
       "      <th>2</th>\n",
       "      <td>2.750356</td>\n",
       "      <td>2.750395</td>\n",
       "      <td>2.345932</td>\n",
       "      <td>2.750356</td>\n",
       "    </tr>\n",
       "    <tr>\n",
       "      <th>3</th>\n",
       "      <td>0.003909</td>\n",
       "      <td>0.003909</td>\n",
       "      <td>0.183838</td>\n",
       "      <td>0.003909</td>\n",
       "    </tr>\n",
       "    <tr>\n",
       "      <th>4</th>\n",
       "      <td>-0.574611</td>\n",
       "      <td>-0.574619</td>\n",
       "      <td>-0.816617</td>\n",
       "      <td>-0.574611</td>\n",
       "    </tr>\n",
       "  </tbody>\n",
       "</table>\n",
       "</div>"
      ],
      "text/plain": [
       "MetricName  Availability  ServiceApiHit  ServiceApiLatency  ServiceApiResult\n",
       "0              -0.434548      -0.434554          -0.698706         -0.434548\n",
       "1               2.311898       2.311932           1.869128          2.311898\n",
       "2               2.750356       2.750395           2.345932          2.750356\n",
       "3               0.003909       0.003909           0.183838          0.003909\n",
       "4              -0.574611      -0.574619          -0.816617         -0.574611"
      ]
     },
     "execution_count": 10,
     "metadata": {},
     "output_type": "execute_result"
    }
   ],
   "source": [
    "scaler = StandardScaler()\n",
    "scaled_features = scaler.fit_transform(df.values)\n",
    "scaled_df = pd.DataFrame(scaled_features, index=df.index, columns=df.columns)\n",
    "scaled_df.head()"
   ]
  },
  {
   "cell_type": "code",
   "execution_count": 15,
   "id": "4eda4133",
   "metadata": {},
   "outputs": [
    {
     "data": {
      "text/plain": [
       "array([0.96656127])"
      ]
     },
     "execution_count": 15,
     "metadata": {},
     "output_type": "execute_result"
    }
   ],
   "source": [
    "pca = PCA(n_components=1, random_state=0)\n",
    "df_pca = pd.DataFrame(pca.fit_transform(scaled_df), index=scaled_df.index)\n",
    "df_restored = pd.DataFrame(pca.inverse_transform(df_pca), index=df_pca.index)\n",
    "pca.explained_variance_ratio_"
   ]
  },
  {
   "cell_type": "code",
   "execution_count": 13,
   "id": "b190a58f",
   "metadata": {},
   "outputs": [],
   "source": [
    "reconstruction_errors = get_anomaly_scores(scaled_df, df_restored)"
   ]
  },
  {
   "cell_type": "code",
   "execution_count": 14,
   "id": "5b5c876e",
   "metadata": {},
   "outputs": [
    {
     "data": {
      "image/png": "[encoded data removed]",
      "text/plain": [
       "<Figure size 576x288 with 1 Axes>"
      ]
     },
     "metadata": {
      "needs_background": "light"
     },
     "output_type": "display_data"
    }
   ],
   "source": [
    "plt.figure(figsize = (8,4))\n",
    "sns.lineplot(data=reconstruction_errors)\n",
    "for index, row in scaled_df.iterrows():\n",
    "    if is_anomaly([row], pca, 1):\n",
    "        plt.axvline(row.name, color='r', alpha=0.150)"
   ]
  },
  {
   "cell_type": "code",
   "execution_count": null,
   "id": "243c432a",
   "metadata": {},
   "outputs": [],
   "source": []
  }
 ],
 "metadata": {
  "kernelspec": {
   "display_name": "Python 3.9.1 64-bit (system)",
   "language": "python",
   "name": "python3"
  },
  "language_info": {
   "codemirror_mode": {
    "name": "ipython",
    "version": 3
   },
   "file_extension": ".py",
   "mimetype": "text/x-python",
   "name": "python",
   "nbconvert_exporter": "python",
   "pygments_lexer": "ipython3",
   "version": "3.9.1"
  },
  "vscode": {
   "interpreter": {
    "hash": "81794d4967e6c3204c66dcd87b604927b115b27c00565d3d43f05ba2f3a2cb0d"
   }
  }
 },
 "nbformat": 4,
 "nbformat_minor": 5
}
