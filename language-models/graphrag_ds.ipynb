{
 "cells": [
  {
   "cell_type": "code",
   "execution_count": 1,
   "metadata": {},
   "outputs": [],
   "source": [
    "# !pip install --quiet langchain-community \n",
    "# !pip install --quiet langchain-experimental langchain-openai \n",
    "# !pip install --quiet graphdatascience tiktoken retry neo4j\n",
    "# !pip install --quiet matplotlib pandas numpy seaborn"
   ]
  },
  {
   "cell_type": "markdown",
   "metadata": {},
   "source": [
    "## Graph RAG"
   ]
  },
  {
   "cell_type": "code",
   "execution_count": 2,
   "metadata": {},
   "outputs": [],
   "source": [
    "import os\n",
    "import pandas as pd\n",
    "import tiktoken\n",
    "from langchain_community.graphs import Neo4jGraph\n",
    "from tqdm import tqdm\n",
    "\n",
    "pd.set_option('display.max_columns', None)"
   ]
  },
  {
   "cell_type": "code",
   "execution_count": 3,
   "metadata": {},
   "outputs": [],
   "source": [
    "os.environ[\"NEO4J_URI\"] = \"bolt://localhost:7687\"\n",
    "os.environ[\"NEO4J_USERNAME\"] = \"neo4j\"\n",
    "os.environ[\"NEO4J_PASSWORD\"] = \"Password@123\"\n",
    "graph = Neo4jGraph()"
   ]
  },
  {
   "cell_type": "code",
   "execution_count": 34,
   "metadata": {},
   "outputs": [
    {
     "data": {
      "text/html": [
       "<div>\n",
       "<style scoped>\n",
       "    .dataframe tbody tr th:only-of-type {\n",
       "        vertical-align: middle;\n",
       "    }\n",
       "\n",
       "    .dataframe tbody tr th {\n",
       "        vertical-align: top;\n",
       "    }\n",
       "\n",
       "    .dataframe thead th {\n",
       "        text-align: right;\n",
       "    }\n",
       "</style>\n",
       "<table border=\"1\" class=\"dataframe\">\n",
       "  <thead>\n",
       "    <tr style=\"text-align: right;\">\n",
       "      <th></th>\n",
       "      <th>Match_id</th>\n",
       "      <th>Team</th>\n",
       "      <th>Over_num</th>\n",
       "      <th>Commentary</th>\n",
       "      <th>batsman</th>\n",
       "      <th>score</th>\n",
       "    </tr>\n",
       "  </thead>\n",
       "  <tbody>\n",
       "    <tr>\n",
       "      <th>0</th>\n",
       "      <td>4281444</td>\n",
       "      <td>RCB 1st Inns</td>\n",
       "      <td>0.5</td>\n",
       "      <td>Nehra to Mandeep, FOUR, first boundary for Man...</td>\n",
       "      <td>Nehra to Mandeep</td>\n",
       "      <td>FOUR</td>\n",
       "    </tr>\n",
       "    <tr>\n",
       "      <th>1</th>\n",
       "      <td>4281444</td>\n",
       "      <td>RCB 1st Inns</td>\n",
       "      <td>1.0</td>\n",
       "      <td>Nehra to Mandeep, FOUR, back-to-back boundarie...</td>\n",
       "      <td>Nehra to Mandeep</td>\n",
       "      <td>FOUR</td>\n",
       "    </tr>\n",
       "    <tr>\n",
       "      <th>2</th>\n",
       "      <td>4281444</td>\n",
       "      <td>RCB 1st Inns</td>\n",
       "      <td>10.0</td>\n",
       "      <td>Henriques to Kedar Jadhav, FOUR, hit straight ...</td>\n",
       "      <td>Henriques to Kedar Jadhav</td>\n",
       "      <td>FOUR</td>\n",
       "    </tr>\n",
       "    <tr>\n",
       "      <th>3</th>\n",
       "      <td>4281444</td>\n",
       "      <td>RCB 1st Inns</td>\n",
       "      <td>10.4</td>\n",
       "      <td>Nehra to Kedar Jadhav, FOUR, another full toss...</td>\n",
       "      <td>Nehra to Kedar Jadhav</td>\n",
       "      <td>FOUR</td>\n",
       "    </tr>\n",
       "    <tr>\n",
       "      <th>4</th>\n",
       "      <td>4281444</td>\n",
       "      <td>RCB 1st Inns</td>\n",
       "      <td>10.5</td>\n",
       "      <td>Nehra to Kedar Jadhav, FOUR, four more. Jadhav...</td>\n",
       "      <td>Nehra to Kedar Jadhav</td>\n",
       "      <td>FOUR</td>\n",
       "    </tr>\n",
       "  </tbody>\n",
       "</table>\n",
       "</div>"
      ],
      "text/plain": [
       "   Match_id          Team  Over_num  \\\n",
       "0   4281444  RCB 1st Inns       0.5   \n",
       "1   4281444  RCB 1st Inns       1.0   \n",
       "2   4281444  RCB 1st Inns      10.0   \n",
       "3   4281444  RCB 1st Inns      10.4   \n",
       "4   4281444  RCB 1st Inns      10.5   \n",
       "\n",
       "                                          Commentary  \\\n",
       "0  Nehra to Mandeep, FOUR, first boundary for Man...   \n",
       "1  Nehra to Mandeep, FOUR, back-to-back boundarie...   \n",
       "2  Henriques to Kedar Jadhav, FOUR, hit straight ...   \n",
       "3  Nehra to Kedar Jadhav, FOUR, another full toss...   \n",
       "4  Nehra to Kedar Jadhav, FOUR, four more. Jadhav...   \n",
       "\n",
       "                     batsman score  \n",
       "0           Nehra to Mandeep  FOUR  \n",
       "1           Nehra to Mandeep  FOUR  \n",
       "2  Henriques to Kedar Jadhav  FOUR  \n",
       "3      Nehra to Kedar Jadhav  FOUR  \n",
       "4      Nehra to Kedar Jadhav  FOUR  "
      ]
     },
     "execution_count": 34,
     "metadata": {},
     "output_type": "execute_result"
    }
   ],
   "source": [
    "data = pd.read_csv(\"IPL_Match_Highlights_Commentary.csv\")\n",
    "data.head()"
   ]
  },
  {
   "cell_type": "code",
   "execution_count": 39,
   "metadata": {},
   "outputs": [
    {
     "data": {
      "text/plain": [
       "Match_id\n",
       "3495290    25\n",
       "1922365    27\n",
       "9007667    28\n",
       "7841262    32\n",
       "9944694    36\n",
       "           ..\n",
       "2266358    76\n",
       "7266994    80\n",
       "2544566    80\n",
       "4947883    85\n",
       "5002114    87\n",
       "Name: count, Length: 201, dtype: int64"
      ]
     },
     "execution_count": 39,
     "metadata": {},
     "output_type": "execute_result"
    }
   ],
   "source": [
    "data['Match_id'].value_counts().sort_values(ascending=True)\n",
    "# Match 3495290 has the less number of rows"
   ]
  },
  {
   "cell_type": "code",
   "execution_count": 40,
   "metadata": {},
   "outputs": [],
   "source": [
    "def get_token_count(text, model='gpt-4o'):\n",
    "    encoding = tiktoken.encoding_for_model(model)\n",
    "    num_tokens = len(encoding.encode(text))\n",
    "    return num_tokens\n",
    "data['token_count'] = [get_token_count(f\"{row['Team']} {row['Commentary']}\") for i, row in data.iterrows()]"
   ]
  },
  {
   "cell_type": "code",
   "execution_count": 41,
   "metadata": {},
   "outputs": [
    {
     "data": {
      "text/plain": [
       "<Axes: title={'center': 'Token Count Distribution'}, xlabel='Token Count', ylabel='Frequency'>"
      ]
     },
     "execution_count": 41,
     "metadata": {},
     "output_type": "execute_result"
    },
    {
     "data": {
      "image/png": "[encoded data removed]",
      "text/plain": [
       "<Figure size 1000x300 with 1 Axes>"
      ]
     },
     "metadata": {},
     "output_type": "display_data"
    }
   ],
   "source": [
    "import matplotlib.pyplot as plt\n",
    "\n",
    "plt.figure(figsize=(10, 3))\n",
    "plt.title(\"Token Count Distribution\")\n",
    "plt.xlabel(\"Token Count\")\n",
    "plt.ylabel(\"Frequency\")\n",
    "data['token_count'].hist()"
   ]
  },
  {
   "cell_type": "code",
   "execution_count": 42,
   "metadata": {},
   "outputs": [],
   "source": [
    "from langchain_experimental.graph_transformers import LLMGraphTransformer\n",
    "from langchain_community.graphs.graph_document import GraphDocument\n",
    "from langchain_core.documents import Document\n",
    "from langchain_core.messages import HumanMessage\n",
    "from langchain_openai import AzureChatOpenAI\n",
    "\n",
    "os.environ[\"AZURE_OPENAI_API_KEY\"] = \"533894d8f28d4f238f10c0a51a46789e\"\n",
    "os.environ[\"AZURE_OPENAI_ENDPOINT\"] = \"https://sriks-openai.openai.azure.com/\"\n",
    "os.environ[\"AZURE_OPENAI_API_VERSION\"] = \"2024-05-01-preview\"\n",
    "os.environ[\"AZURE_OPENAI_CHAT_DEPLOYMENT\"] = \"gpt-4o\"\n",
    "\n",
    "llm = AzureChatOpenAI(\n",
    "    openai_api_version=os.environ[\"AZURE_OPENAI_API_VERSION\"],\n",
    "    azure_deployment=os.environ[\"AZURE_OPENAI_CHAT_DEPLOYMENT\"],\n",
    ")\n",
    "\n",
    "llm_transformer = LLMGraphTransformer(\n",
    "    llm=llm,\n",
    "    node_properties=[\"description\"],\n",
    "    relationship_properties=[\"description\"]\n",
    ")     "
   ]
  },
  {
   "cell_type": "markdown",
   "metadata": {},
   "source": [
    "Extract the entities, relationships from text and create graph"
   ]
  },
  {
   "cell_type": "code",
   "execution_count": 43,
   "metadata": {},
   "outputs": [
    {
     "data": {
      "text/html": [
       "<div>\n",
       "<style scoped>\n",
       "    .dataframe tbody tr th:only-of-type {\n",
       "        vertical-align: middle;\n",
       "    }\n",
       "\n",
       "    .dataframe tbody tr th {\n",
       "        vertical-align: top;\n",
       "    }\n",
       "\n",
       "    .dataframe thead th {\n",
       "        text-align: right;\n",
       "    }\n",
       "</style>\n",
       "<table border=\"1\" class=\"dataframe\">\n",
       "  <thead>\n",
       "    <tr style=\"text-align: right;\">\n",
       "      <th></th>\n",
       "      <th>Match_id</th>\n",
       "      <th>Team</th>\n",
       "      <th>Over_num</th>\n",
       "      <th>Commentary</th>\n",
       "      <th>batsman</th>\n",
       "      <th>score</th>\n",
       "      <th>token_count</th>\n",
       "    </tr>\n",
       "  </thead>\n",
       "  <tbody>\n",
       "    <tr>\n",
       "      <th>9638</th>\n",
       "      <td>3495290</td>\n",
       "      <td>RCB 1st Inns</td>\n",
       "      <td>0.1</td>\n",
       "      <td>Aaron to Kohli, SIX, Kohli wasting no time wha...</td>\n",
       "      <td>Aaron to Kohli</td>\n",
       "      <td>SIX</td>\n",
       "      <td>49</td>\n",
       "    </tr>\n",
       "    <tr>\n",
       "      <th>9639</th>\n",
       "      <td>3495290</td>\n",
       "      <td>RCB 1st Inns</td>\n",
       "      <td>0.2</td>\n",
       "      <td>Aaron to Kohli, SIX, six more! Not so convinci...</td>\n",
       "      <td>Aaron to Kohli</td>\n",
       "      <td>SIX</td>\n",
       "      <td>78</td>\n",
       "    </tr>\n",
       "    <tr>\n",
       "      <th>9640</th>\n",
       "      <td>3495290</td>\n",
       "      <td>RCB 1st Inns</td>\n",
       "      <td>0.4</td>\n",
       "      <td>Aaron to de Villiers, FOUR, de Villiers is off...</td>\n",
       "      <td>Aaron to de Villiers</td>\n",
       "      <td>FOUR</td>\n",
       "      <td>70</td>\n",
       "    </tr>\n",
       "    <tr>\n",
       "      <th>9641</th>\n",
       "      <td>3495290</td>\n",
       "      <td>RCB 1st Inns</td>\n",
       "      <td>1.0</td>\n",
       "      <td>Aaron to de Villiers, FOUR, one bounce and ove...</td>\n",
       "      <td>Aaron to de Villiers</td>\n",
       "      <td>FOUR</td>\n",
       "      <td>68</td>\n",
       "    </tr>\n",
       "    <tr>\n",
       "      <th>9642</th>\n",
       "      <td>3495290</td>\n",
       "      <td>RCB 1st Inns</td>\n",
       "      <td>1.1</td>\n",
       "      <td>Shreyas Gopal to Kohli, SIX, this is some stat...</td>\n",
       "      <td>Shreyas Gopal to Kohli</td>\n",
       "      <td>SIX</td>\n",
       "      <td>64</td>\n",
       "    </tr>\n",
       "  </tbody>\n",
       "</table>\n",
       "</div>"
      ],
      "text/plain": [
       "      Match_id          Team  Over_num  \\\n",
       "9638   3495290  RCB 1st Inns       0.1   \n",
       "9639   3495290  RCB 1st Inns       0.2   \n",
       "9640   3495290  RCB 1st Inns       0.4   \n",
       "9641   3495290  RCB 1st Inns       1.0   \n",
       "9642   3495290  RCB 1st Inns       1.1   \n",
       "\n",
       "                                             Commentary  \\\n",
       "9638  Aaron to Kohli, SIX, Kohli wasting no time wha...   \n",
       "9639  Aaron to Kohli, SIX, six more! Not so convinci...   \n",
       "9640  Aaron to de Villiers, FOUR, de Villiers is off...   \n",
       "9641  Aaron to de Villiers, FOUR, one bounce and ove...   \n",
       "9642  Shreyas Gopal to Kohli, SIX, this is some stat...   \n",
       "\n",
       "                     batsman score  token_count  \n",
       "9638          Aaron to Kohli   SIX           49  \n",
       "9639          Aaron to Kohli   SIX           78  \n",
       "9640    Aaron to de Villiers  FOUR           70  \n",
       "9641    Aaron to de Villiers  FOUR           68  \n",
       "9642  Shreyas Gopal to Kohli   SIX           64  "
      ]
     },
     "execution_count": 43,
     "metadata": {},
     "output_type": "execute_result"
    }
   ],
   "source": [
    "import random\n",
    "random.seed(42)\n",
    "data = data[data['Match_id'] == 3495290]\n",
    "ids = random.sample(range(1, len(data)-1), 10)\n",
    "data.head()"
   ]
  },
  {
   "cell_type": "code",
   "execution_count": 45,
   "metadata": {},
   "outputs": [
    {
     "name": "stderr",
     "output_type": "stream",
     "text": [
      "Converting to Graph Documents: 100%|██████████| 25/25 [03:19<00:00,  7.97s/it]\n"
     ]
    }
   ],
   "source": [
    "from concurrent.futures import ThreadPoolExecutor, as_completed\n",
    "from tqdm import tqdm\n",
    "\n",
    "graph_documents = []\n",
    "# Convert each row to a Graph Document\n",
    "# this will take some time\n",
    "with ThreadPoolExecutor(max_workers=2) as executor:\n",
    "    futures = [executor.submit(llm_transformer.convert_to_graph_documents, [Document(page_content=f\"\"\"You are a data processing assistant, your task is to extract entities, relationships and their labels from commentary of IPL matches. \n",
    "                                                                                     {row['Match_id'], row['Team'], row['batsman']} Commentary:{row['Commentary']} Score:{row['score']}. \n",
    "                                                                                     Extract entities not limited to bowler, batsman, fielder, score, shot_played, runs_scored, wickets_fallen, speed of the ball, spin etc.\"\"\")]) for i, row in data.iterrows()]\n",
    "    for future in tqdm(as_completed(futures), total=len(futures), desc=\"Converting to Graph Documents\"):\n",
    "        graph_documents.extend(future.result())\n",
    "        "
   ]
  },
  {
   "cell_type": "code",
   "execution_count": 103,
   "metadata": {},
   "outputs": [],
   "source": [
    "graph.add_graph_documents(\n",
    "    graph_documents,\n",
    "    baseEntityLabel=True,\n",
    "    include_source=True\n",
    ")"
   ]
  },
  {
   "cell_type": "markdown",
   "metadata": {},
   "source": [
    "Generate embeddings for the extracted entities"
   ]
  },
  {
   "cell_type": "code",
   "execution_count": 106,
   "metadata": {},
   "outputs": [
    {
     "name": "stdout",
     "output_type": "stream",
     "text": [
      "['Field_position', 'Shot', 'Team_inning', 'Person', 'Ball_type', 'Shot_played', 'Match_inning', 'Fielding position', 'Nationality', 'Location', 'Area', 'Place', 'Inning', 'Delivery', 'Document', 'Team', 'Achievement', 'Event', 'Spin']\n"
     ]
    }
   ],
   "source": [
    "\n",
    "from langchain_community.vectorstores import Neo4jVector\n",
    "from langchain_openai import AzureOpenAIEmbeddings\n",
    "\n",
    "# Create a vector store from the existing graph\n",
    "graph_labels = graph.query(\"MATCH (n) RETURN DISTINCT labels(n) as labels\")\n",
    "labels =  set([label for row in graph_labels for label in row['labels'] if label != '__Entity__'])\n",
    "# exclusion list, numbers are not good for embeddings\n",
    "# you may use LLM to identify the numberic types / find a better approach\n",
    "exclusion_list = ['Runs_scored', 'score', 'Score', 'Wickets_fallen', 'Wickets', 'Speed']\n",
    "labels = [label for label in labels if label not in exclusion_list]\n",
    "print(labels)\n",
    "for labels in labels:\n",
    "    vector = Neo4jVector.from_existing_graph(\n",
    "        AzureOpenAIEmbeddings(),\n",
    "        node_label=labels,\n",
    "        text_node_properties=['id', 'description'],\n",
    "        embedding_node_property='embedding'\n",
    ")"
   ]
  },
  {
   "cell_type": "code",
   "execution_count": 48,
   "metadata": {},
   "outputs": [
    {
     "name": "stderr",
     "output_type": "stream",
     "text": [
      "Received notification from DBMS server: {severity: WARNING} {code: Neo.ClientNotification.Statement.FeatureDeprecationWarning} {category: DEPRECATION} {title: This feature is deprecated and will be removed in future versions.} {description: The query used a deprecated field from a procedure. ('serverLocation' returned by 'gds.debug.arrow' is deprecated.)} {position: line: 1, column: 1, offset: 0} for query: 'CALL gds.debug.arrow()'\n",
      "Received notification from DBMS server: {severity: WARNING} {code: Neo.ClientNotification.Statement.FeatureDeprecationWarning} {category: DEPRECATION} {title: This feature is deprecated and will be removed in future versions.} {description: The query used a deprecated field from a procedure. ('advertisedListenAddress' returned by 'gds.debug.arrow' is deprecated.)} {position: line: 1, column: 1, offset: 0} for query: 'CALL gds.debug.arrow()'\n"
     ]
    }
   ],
   "source": [
    "from graphdatascience import GraphDataScience\n",
    "\n",
    "# Create a GraphDataScience instance\n",
    "# GDS plugin must be installed in the Neo4j instance\n",
    "gds = GraphDataScience(\n",
    "    os.environ[\"NEO4J_URI\"],\n",
    "    auth=(os.environ[\"NEO4J_USERNAME\"], os.environ[\"NEO4J_PASSWORD\"])\n",
    ")"
   ]
  },
  {
   "cell_type": "code",
   "execution_count": 68,
   "metadata": {},
   "outputs": [
    {
     "name": "stderr",
     "output_type": "stream",
     "text": [
      "Received notification from DBMS server: {severity: WARNING} {code: Neo.ClientNotification.Statement.FeatureDeprecationWarning} {category: DEPRECATION} {title: This feature is deprecated and will be removed in future versions.} {description: The query used a deprecated field from a procedure. ('schema' returned by 'gds.graph.drop' is deprecated.)} {position: line: 1, column: 1, offset: 0} for query: 'CALL gds.graph.drop($graph_name, $fail_if_missing, $db_name)'\n"
     ]
    },
    {
     "name": "stdout",
     "output_type": "stream",
     "text": [
      "ranIterations                                                             5\n",
      "nodePairsConsidered                                                   20906\n",
      "didConverge                                                            True\n",
      "preProcessingMillis                                                       0\n",
      "computeMillis                                                            71\n",
      "mutateMillis                                                             30\n",
      "postProcessingMillis                                                      0\n",
      "nodesCompared                                                            78\n",
      "relationshipsWritten                                                    157\n",
      "similarityDistribution    {'min': 0.950531005859375, 'p5': 0.95071029663...\n",
      "configuration             {'mutateProperty': 'score', 'jobId': '23ea858e...\n",
      "Name: 0, dtype: object\n"
     ]
    }
   ],
   "source": [
    "similrity_threshold = 0.95\n",
    "gds.graph.drop(\"entities\")\n",
    "# exclude the score property from the graph\n",
    "G, result = gds.graph.project(\n",
    "    \"entities\", \n",
    "    \"__Entity__\",\n",
    "    \"*\",\n",
    "    nodeProperties=[\"embedding\"],\n",
    "    )   \n",
    "\n",
    "# mutating the graph to add similar relationships\n",
    "result = gds.knn.mutate(\n",
    "    G,\n",
    "    nodeProperties=[\"embedding\"],\n",
    "    mutateRelationshipType=\"SIMILAR\",\n",
    "    mutateProperty=\"score\",\n",
    "    similarityCutoff=similrity_threshold,\n",
    ")\n",
    "result.similarityDistribution    \n",
    "print(result)"
   ]
  },
  {
   "cell_type": "code",
   "execution_count": 73,
   "metadata": {},
   "outputs": [
    {
     "name": "stdout",
     "output_type": "stream",
     "text": [
      "Number of relationships created: 157\n",
      "ranIterations                                                             4\n",
      "didConverge                                                            True\n",
      "nodePairsConsidered                                                   19663\n",
      "preProcessingMillis                                                       0\n",
      "computeMillis                                                            64\n",
      "writeMillis                                                              14\n",
      "postProcessingMillis                                                      0\n",
      "nodesCompared                                                            78\n",
      "relationshipsWritten                                                    157\n",
      "similarityDistribution    {'min': 0.950531005859375, 'p5': 0.95071029663...\n",
      "configuration             {'writeProperty': 'score', 'writeRelationshipT...\n",
      "Name: 0, dtype: object\n"
     ]
    }
   ],
   "source": [
    "# writing the graph back to the database\n",
    "result = gds.knn.write(\n",
    "    G,\n",
    "    nodeProperties=[\"embedding\"],\n",
    "    writeRelationshipType=\"SIMILAR\",\n",
    "    writeProperty=\"score\",\n",
    "    similarityCutoff=similrity_threshold,\n",
    ")\n",
    "print(f\"Number of relationships created: {result.relationshipsWritten}\")\n",
    "print(result)"
   ]
  },
  {
   "cell_type": "code",
   "execution_count": 86,
   "metadata": {},
   "outputs": [
    {
     "data": {
      "text/html": [
       "<div>\n",
       "<style scoped>\n",
       "    .dataframe tbody tr th:only-of-type {\n",
       "        vertical-align: middle;\n",
       "    }\n",
       "\n",
       "    .dataframe tbody tr th {\n",
       "        vertical-align: top;\n",
       "    }\n",
       "\n",
       "    .dataframe thead th {\n",
       "        text-align: right;\n",
       "    }\n",
       "</style>\n",
       "<table border=\"1\" class=\"dataframe\">\n",
       "  <thead>\n",
       "    <tr style=\"text-align: right;\">\n",
       "      <th></th>\n",
       "      <th>node1</th>\n",
       "      <th>node2</th>\n",
       "      <th>score</th>\n",
       "    </tr>\n",
       "  </thead>\n",
       "  <tbody>\n",
       "    <tr>\n",
       "      <th>1860</th>\n",
       "      <td>0</td>\n",
       "      <td>1</td>\n",
       "      <td>0.981114</td>\n",
       "    </tr>\n",
       "    <tr>\n",
       "      <th>1861</th>\n",
       "      <td>4</td>\n",
       "      <td>1</td>\n",
       "      <td>0.976142</td>\n",
       "    </tr>\n",
       "    <tr>\n",
       "      <th>1862</th>\n",
       "      <td>0</td>\n",
       "      <td>1</td>\n",
       "      <td>0.981114</td>\n",
       "    </tr>\n",
       "    <tr>\n",
       "      <th>1863</th>\n",
       "      <td>1 Run</td>\n",
       "      <td>1</td>\n",
       "      <td>0.957599</td>\n",
       "    </tr>\n",
       "    <tr>\n",
       "      <th>1864</th>\n",
       "      <td>4(3)</td>\n",
       "      <td>1</td>\n",
       "      <td>0.962356</td>\n",
       "    </tr>\n",
       "    <tr>\n",
       "      <th>1865</th>\n",
       "      <td>28(13)</td>\n",
       "      <td>1</td>\n",
       "      <td>0.953783</td>\n",
       "    </tr>\n",
       "    <tr>\n",
       "      <th>1866</th>\n",
       "      <td>6</td>\n",
       "      <td>1</td>\n",
       "      <td>0.975913</td>\n",
       "    </tr>\n",
       "    <tr>\n",
       "      <th>1867</th>\n",
       "      <td>8</td>\n",
       "      <td>1</td>\n",
       "      <td>0.972954</td>\n",
       "    </tr>\n",
       "    <tr>\n",
       "      <th>1868</th>\n",
       "      <td>Four</td>\n",
       "      <td>1</td>\n",
       "      <td>0.955086</td>\n",
       "    </tr>\n",
       "    <tr>\n",
       "      <th>1869</th>\n",
       "      <td>Rr</td>\n",
       "      <td>1</td>\n",
       "      <td>0.957091</td>\n",
       "    </tr>\n",
       "    <tr>\n",
       "      <th>1870</th>\n",
       "      <td>6(7)</td>\n",
       "      <td>1</td>\n",
       "      <td>0.959690</td>\n",
       "    </tr>\n",
       "    <tr>\n",
       "      <th>1871</th>\n",
       "      <td>8</td>\n",
       "      <td>1</td>\n",
       "      <td>0.972954</td>\n",
       "    </tr>\n",
       "    <tr>\n",
       "      <th>1872</th>\n",
       "      <td>1 Run</td>\n",
       "      <td>1</td>\n",
       "      <td>0.957599</td>\n",
       "    </tr>\n",
       "    <tr>\n",
       "      <th>1873</th>\n",
       "      <td>Rr</td>\n",
       "      <td>1</td>\n",
       "      <td>0.957091</td>\n",
       "    </tr>\n",
       "    <tr>\n",
       "      <th>1874</th>\n",
       "      <td>6</td>\n",
       "      <td>1</td>\n",
       "      <td>0.975913</td>\n",
       "    </tr>\n",
       "    <tr>\n",
       "      <th>1875</th>\n",
       "      <td>0</td>\n",
       "      <td>1</td>\n",
       "      <td>0.981114</td>\n",
       "    </tr>\n",
       "    <tr>\n",
       "      <th>1876</th>\n",
       "      <td>4</td>\n",
       "      <td>1</td>\n",
       "      <td>0.976142</td>\n",
       "    </tr>\n",
       "    <tr>\n",
       "      <th>1877</th>\n",
       "      <td>6(7)</td>\n",
       "      <td>1</td>\n",
       "      <td>0.959690</td>\n",
       "    </tr>\n",
       "    <tr>\n",
       "      <th>1878</th>\n",
       "      <td>4(3)</td>\n",
       "      <td>1</td>\n",
       "      <td>0.962356</td>\n",
       "    </tr>\n",
       "    <tr>\n",
       "      <th>1879</th>\n",
       "      <td>Four</td>\n",
       "      <td>1</td>\n",
       "      <td>0.955086</td>\n",
       "    </tr>\n",
       "  </tbody>\n",
       "</table>\n",
       "</div>"
      ],
      "text/plain": [
       "       node1 node2     score\n",
       "1860       0     1  0.981114\n",
       "1861       4     1  0.976142\n",
       "1862       0     1  0.981114\n",
       "1863   1 Run     1  0.957599\n",
       "1864    4(3)     1  0.962356\n",
       "1865  28(13)     1  0.953783\n",
       "1866       6     1  0.975913\n",
       "1867       8     1  0.972954\n",
       "1868    Four     1  0.955086\n",
       "1869      Rr     1  0.957091\n",
       "1870    6(7)     1  0.959690\n",
       "1871       8     1  0.972954\n",
       "1872   1 Run     1  0.957599\n",
       "1873      Rr     1  0.957091\n",
       "1874       6     1  0.975913\n",
       "1875       0     1  0.981114\n",
       "1876       4     1  0.976142\n",
       "1877    6(7)     1  0.959690\n",
       "1878    4(3)     1  0.962356\n",
       "1879    Four     1  0.955086"
      ]
     },
     "execution_count": 86,
     "metadata": {},
     "output_type": "execute_result"
    }
   ],
   "source": [
    "# get nodes with relationtype as SIMILAR\n",
    "query = \"\"\"\n",
    "MATCH (n:__Entity__)-[r:SIMILAR]-(m:__Entity__)\n",
    "RETURN n.id as node1, m.id as node2, r.score as score\n",
    "\"\"\"\n",
    "result = gds.run_cypher(query)\n",
    "result.tail(20)"
   ]
  },
  {
   "cell_type": "markdown",
   "metadata": {},
   "source": [
    "Find similar entities by Levenshtein distance"
   ]
  },
  {
   "cell_type": "code",
   "execution_count": 76,
   "metadata": {},
   "outputs": [
    {
     "name": "stdout",
     "output_type": "stream",
     "text": [
      "Number of entities: 78\n",
      "3\n"
     ]
    },
    {
     "data": {
      "text/plain": [
       "{('136.4Kph', '152.4Kph'): 2.0, ('152.4Kph', '136.4Kph'): 2.0}"
      ]
     },
     "execution_count": 76,
     "metadata": {},
     "output_type": "execute_result"
    }
   ],
   "source": [
    "import Levenshtein\n",
    "\n",
    "edit_distance_threshold = 3\n",
    "query = \"\"\"\n",
    "MATCH (n:__Entity__)\n",
    "RETURN n.id as id, n.wcc as wcc\n",
    "\"\"\"\n",
    "entities_df = pd.DataFrame.from_records(graph.query(query))\n",
    "print(f\"Number of entities: {entities_df.shape[0]}\")\n",
    "print(Levenshtein.distance('Boult', 'Rohit'))\n",
    "edit_distances = pd.crosstab(entities_df['id'], entities_df['id'])\n",
    "# fill values with edit distance between column and row names\n",
    "for i in edit_distances.columns:\n",
    "    for j in edit_distances.index:\n",
    "        if len(i) > 4 and len(j) > 4:\n",
    "            # if i or j has \"innings\" in it, skip\n",
    "            if \"Inns\" in i:\n",
    "                continue\n",
    "            edit_distances.loc[j, i] = Levenshtein.distance(i, j)\n",
    "# find edit distances below threshold and greater than 0\n",
    "edit_distances = edit_distances[(edit_distances < edit_distance_threshold)]\n",
    "# create a dictionary of similar entities\n",
    "edit_distances = edit_distances[edit_distances > 1].stack().to_dict()\n",
    "edit_distances\n",
    "# Conclusion: Probably, not a good idea to merge by names"
   ]
  },
  {
   "cell_type": "markdown",
   "metadata": {},
   "source": [
    "## Identify Graph communities and enhance the knowledge using LLM"
   ]
  },
  {
   "cell_type": "code",
   "execution_count": 77,
   "metadata": {},
   "outputs": [
    {
     "name": "stderr",
     "output_type": "stream",
     "text": [
      "Received notification from DBMS server: {severity: WARNING} {code: Neo.ClientNotification.Statement.FeatureDeprecationWarning} {category: DEPRECATION} {title: This feature is deprecated and will be removed in future versions.} {description: The query used a deprecated field from a procedure. ('schema' returned by 'gds.graph.drop' is deprecated.)} {position: line: 1, column: 1, offset: 0} for query: 'CALL gds.graph.drop($graph_name, $fail_if_missing, $db_name)'\n"
     ]
    }
   ],
   "source": [
    "# Project the graph to create a community graph\n",
    "gds.graph.drop(\"communities\")\n",
    "G, result = gds.graph.project(\n",
    "    \"communities\",  #  Graph name\n",
    "    \"__Entity__\",  #  Node projection\n",
    "    {\n",
    "        \"_ALL_\": {\n",
    "            \"type\": \"*\",\n",
    "            \"orientation\": \"UNDIRECTED\",\n",
    "            \"properties\": {\"weight\": {\"property\": \"*\", \"aggregation\": \"COUNT\"}},\n",
    "        }\n",
    "    },\n",
    ")"
   ]
  },
  {
   "cell_type": "code",
   "execution_count": 78,
   "metadata": {},
   "outputs": [
    {
     "data": {
      "text/plain": [
       "mutateMillis                                                             2\n",
       "nodePropertiesWritten                                                   78\n",
       "componentCount                                                           2\n",
       "componentDistribution    {'min': 1, 'p5': 1, 'max': 77, 'p999': 77, 'p9...\n",
       "postProcessingMillis                                                     8\n",
       "preProcessingMillis                                                      0\n",
       "computeMillis                                                           15\n",
       "configuration            {'mutateProperty': 'componentId', 'jobId': '92...\n",
       "Name: 0, dtype: object"
      ]
     },
     "execution_count": 78,
     "metadata": {},
     "output_type": "execute_result"
    }
   ],
   "source": [
    "gds.wcc.mutate(G, mutateProperty=\"componentId\")"
   ]
  },
  {
   "cell_type": "code",
   "execution_count": 79,
   "metadata": {},
   "outputs": [
    {
     "data": {
      "text/html": [
       "<div>\n",
       "<style scoped>\n",
       "    .dataframe tbody tr th:only-of-type {\n",
       "        vertical-align: middle;\n",
       "    }\n",
       "\n",
       "    .dataframe tbody tr th {\n",
       "        vertical-align: top;\n",
       "    }\n",
       "\n",
       "    .dataframe thead th {\n",
       "        text-align: right;\n",
       "    }\n",
       "</style>\n",
       "<table border=\"1\" class=\"dataframe\">\n",
       "  <thead>\n",
       "    <tr style=\"text-align: right;\">\n",
       "      <th></th>\n",
       "      <th>componentId</th>\n",
       "      <th>componentSize</th>\n",
       "      <th>subgroups</th>\n",
       "    </tr>\n",
       "  </thead>\n",
       "  <tbody>\n",
       "    <tr>\n",
       "      <th>0</th>\n",
       "      <td>0</td>\n",
       "      <td>77</td>\n",
       "      <td>[Negi, Samson, Hook, 4, 4(3), Short Of A Lengt...</td>\n",
       "    </tr>\n",
       "    <tr>\n",
       "      <th>1</th>\n",
       "      <td>25</td>\n",
       "      <td>1</td>\n",
       "      <td>[Crouched]</td>\n",
       "    </tr>\n",
       "  </tbody>\n",
       "</table>\n",
       "</div>"
      ],
      "text/plain": [
       "   componentId  componentSize  \\\n",
       "0            0             77   \n",
       "1           25              1   \n",
       "\n",
       "                                           subgroups  \n",
       "0  [Negi, Samson, Hook, 4, 4(3), Short Of A Lengt...  \n",
       "1                                         [Crouched]  "
      ]
     },
     "execution_count": 79,
     "metadata": {},
     "output_type": "execute_result"
    }
   ],
   "source": [
    "query = \"\"\"\n",
    "    CALL gds.graph.nodeProperties.stream('communities', 'componentId')\n",
    "    YIELD nodeId, propertyValue\n",
    "    WITH gds.util.asNode(nodeId).id AS node, propertyValue AS componentId\n",
    "    WITH componentId, collect(node) as subgroups\n",
    "    WITH componentId, subgroups, size(subgroups) AS componentSize\n",
    "    RETURN componentId, componentSize, subgroups\n",
    "    ORDER BY componentSize DESC\n",
    "\"\"\"\n",
    "components = gds.run_cypher(query)\n",
    "components"
   ]
  },
  {
   "cell_type": "code",
   "execution_count": 80,
   "metadata": {},
   "outputs": [
    {
     "name": "stdout",
     "output_type": "stream",
     "text": [
      "The largest component has the id 0 with 77 subgroups.\n"
     ]
    }
   ],
   "source": [
    "largest_component = components[\"componentId\"][0]\n",
    "print(f\"The largest component has the id {largest_component} with {components['componentSize'][0]} subgroups.\")"
   ]
  },
  {
   "cell_type": "code",
   "execution_count": 81,
   "metadata": {},
   "outputs": [
    {
     "name": "stderr",
     "output_type": "stream",
     "text": [
      "Received notification from DBMS server: {severity: WARNING} {code: Neo.ClientNotification.Statement.FeatureDeprecationWarning} {category: DEPRECATION} {title: This feature is deprecated and will be removed in future versions.} {description: The query used a deprecated procedure. ('gds.beta.graph.project.subgraph' has been replaced by 'gds.graph.filter')} {position: line: 1, column: 1, offset: 0} for query: 'CALL gds.beta.graph.project.subgraph($graph_name, $from_graph_name, $node_filter, $relationship_filter, $config)'\n",
      "Received notification from DBMS server: {severity: WARNING} {code: Neo.ClientNotification.Statement.FeatureDeprecationWarning} {category: DEPRECATION} {title: This feature is deprecated and will be removed in future versions.} {description: The query used a deprecated field from a procedure. ('schema' returned by 'gds.graph.list' is deprecated.)} {position: line: 1, column: 106, offset: 105} for query: 'CALL gds.graph.list($graph_name) YIELD graphName, nodeCount, relationshipCount, database, configuration, schema, memoryUsage'\n"
     ]
    },
    {
     "data": {
      "text/plain": [
       "Graph({'graphName': 'largest_connected_components', 'nodeCount': 77, 'relationshipCount': 356, 'database': 'neo4j', 'configuration': {'relationshipProperties': {}, 'jobId': '49c14fd3-4ff9-41b9-a43c-000131277302', 'validateRelationships': False, 'nodeFilter': 'n.componentId=0', 'sudo': False, 'relationshipProjection': {'_ALL_': {'aggregation': 'DEFAULT', 'orientation': 'UNDIRECTED', 'indexInverse': False, 'properties': {'weight': {'aggregation': 'COUNT', 'property': '*', 'defaultValue': None}}, 'type': '*'}}, 'readConcurrency': 4, 'nodeProperties': {}, 'nodeProjection': {'__Entity__': {'label': '__Entity__', 'properties': {}}}, 'logProgress': True, 'concurrency': 4, 'creationTime': neo4j.time.DateTime(2024, 7, 15, 13, 44, 39, 58932500, tzinfo=<UTC>), 'relationshipFilter': '*', 'parameters': {}}, 'schema': {'graphProperties': {}, 'nodes': {'__Entity__': {'componentId': 'Integer (DefaultValue(-9223372036854775808), TRANSIENT)'}}, 'relationships': {'_ALL_': {'weight': 'Float (DefaultValue(NaN), PERSISTENT, Aggregation.COUNT)'}}}, 'memoryUsage': '2373 KiB'})"
      ]
     },
     "execution_count": 81,
     "metadata": {},
     "output_type": "execute_result"
    }
   ],
   "source": [
    "largest_component_graph, _ = gds.beta.graph.project.subgraph(\n",
    "    \"largest_connected_components\", G, f\"n.componentId={largest_component}\", \"*\"\n",
    ")\n",
    "largest_component_graph"
   ]
  },
  {
   "cell_type": "code",
   "execution_count": 82,
   "metadata": {},
   "outputs": [
    {
     "data": {
      "text/plain": [
       "mutateMillis                                                             0\n",
       "nodePropertiesWritten                                                   77\n",
       "modularity                                                        0.470395\n",
       "modularities             [0.39546774397172074, 0.4629465976518117, 0.47...\n",
       "ranLevels                                                                3\n",
       "communityCount                                                           8\n",
       "communityDistribution    {'min': 2, 'p5': 2, 'max': 15, 'p999': 15, 'p9...\n",
       "postProcessingMillis                                                    10\n",
       "preProcessingMillis                                                      0\n",
       "computeMillis                                                          747\n",
       "configuration            {'mutateProperty': 'louvainCommunityId', 'jobI...\n",
       "Name: 0, dtype: object"
      ]
     },
     "execution_count": 82,
     "metadata": {},
     "output_type": "execute_result"
    }
   ],
   "source": [
    "gds.louvain.mutate(largest_component_graph, mutateProperty=\"louvainCommunityId\")"
   ]
  },
  {
   "cell_type": "code",
   "execution_count": 83,
   "metadata": {},
   "outputs": [
    {
     "data": {
      "text/plain": [
       "writeMillis                                    10\n",
       "graphName            largest_connected_components\n",
       "nodeProperties               [louvainCommunityId]\n",
       "propertiesWritten                              77\n",
       "Name: 0, dtype: object"
      ]
     },
     "execution_count": 83,
     "metadata": {},
     "output_type": "execute_result"
    }
   ],
   "source": [
    "gds.graph.nodeProperties.write(largest_component_graph, [\"louvainCommunityId\"])"
   ]
  },
  {
   "cell_type": "code",
   "execution_count": 84,
   "metadata": {},
   "outputs": [
    {
     "data": {
      "text/html": [
       "<div>\n",
       "<style scoped>\n",
       "    .dataframe tbody tr th:only-of-type {\n",
       "        vertical-align: middle;\n",
       "    }\n",
       "\n",
       "    .dataframe tbody tr th {\n",
       "        vertical-align: top;\n",
       "    }\n",
       "\n",
       "    .dataframe thead th {\n",
       "        text-align: right;\n",
       "    }\n",
       "</style>\n",
       "<table border=\"1\" class=\"dataframe\">\n",
       "  <thead>\n",
       "    <tr style=\"text-align: right;\">\n",
       "      <th></th>\n",
       "      <th>communityId</th>\n",
       "      <th>communitySize</th>\n",
       "      <th>subgroups</th>\n",
       "    </tr>\n",
       "  </thead>\n",
       "  <tbody>\n",
       "    <tr>\n",
       "      <th>0</th>\n",
       "      <td>1</td>\n",
       "      <td>15</td>\n",
       "      <td>[Negi, Samson, Hook, Short Of A Length Deliver...</td>\n",
       "    </tr>\n",
       "    <tr>\n",
       "      <th>1</th>\n",
       "      <td>2</td>\n",
       "      <td>11</td>\n",
       "      <td>[4, 4(3), 28(13), Four, Rr, 10(4) [4S-2], 0, 6...</td>\n",
       "    </tr>\n",
       "    <tr>\n",
       "      <th>2</th>\n",
       "      <td>56</td>\n",
       "      <td>11</td>\n",
       "      <td>[Rr 1St Inns, Cover-Point, 1 Run, South Africa...</td>\n",
       "    </tr>\n",
       "    <tr>\n",
       "      <th>3</th>\n",
       "      <td>34</td>\n",
       "      <td>10</td>\n",
       "      <td>[Heaves, Pull, Long-On Fielder, Deep Mid-Wicke...</td>\n",
       "    </tr>\n",
       "    <tr>\n",
       "      <th>4</th>\n",
       "      <td>50</td>\n",
       "      <td>10</td>\n",
       "      <td>[Off-Side, Shreyas Gopal, Flighted Delivery, M...</td>\n",
       "    </tr>\n",
       "    <tr>\n",
       "      <th>5</th>\n",
       "      <td>60</td>\n",
       "      <td>9</td>\n",
       "      <td>[Pick-Up Shot, Rcb Fans, Rcb, Hit, Riyan Parag...</td>\n",
       "    </tr>\n",
       "    <tr>\n",
       "      <th>6</th>\n",
       "      <td>17</td>\n",
       "      <td>9</td>\n",
       "      <td>[Navdeep Saini, 152.4Kph, Skiddy, Pacy, Back O...</td>\n",
       "    </tr>\n",
       "    <tr>\n",
       "      <th>7</th>\n",
       "      <td>25</td>\n",
       "      <td>2</td>\n",
       "      <td>[Touch Fuller, Ball]</td>\n",
       "    </tr>\n",
       "  </tbody>\n",
       "</table>\n",
       "</div>"
      ],
      "text/plain": [
       "   communityId  communitySize  \\\n",
       "0            1             15   \n",
       "1            2             11   \n",
       "2           56             11   \n",
       "3           34             10   \n",
       "4           50             10   \n",
       "5           60              9   \n",
       "6           17              9   \n",
       "7           25              2   \n",
       "\n",
       "                                           subgroups  \n",
       "0  [Negi, Samson, Hook, Short Of A Length Deliver...  \n",
       "1  [4, 4(3), 28(13), Four, Rr, 10(4) [4S-2], 0, 6...  \n",
       "2  [Rr 1St Inns, Cover-Point, 1 Run, South Africa...  \n",
       "3  [Heaves, Pull, Long-On Fielder, Deep Mid-Wicke...  \n",
       "4  [Off-Side, Shreyas Gopal, Flighted Delivery, M...  \n",
       "5  [Pick-Up Shot, Rcb Fans, Rcb, Hit, Riyan Parag...  \n",
       "6  [Navdeep Saini, 152.4Kph, Skiddy, Pacy, Back O...  \n",
       "7                               [Touch Fuller, Ball]  "
      ]
     },
     "execution_count": 84,
     "metadata": {},
     "output_type": "execute_result"
    }
   ],
   "source": [
    "query = \"\"\"\n",
    "    CALL gds.graph.nodeProperties.stream('largest_connected_components', 'louvainCommunityId')\n",
    "    YIELD nodeId, propertyValue\n",
    "    WITH gds.util.asNode(nodeId).id AS node, propertyValue AS communityId\n",
    "    WITH communityId, collect(node) AS subgroups\n",
    "    WITH communityId, subgroups, size(subgroups) AS communitySize\n",
    "    RETURN communityId, communitySize, subgroups\n",
    "    ORDER BY communitySize DESC\n",
    "\"\"\"\n",
    "\n",
    "communities = gds.run_cypher(query)\n",
    "communities"
   ]
  },
  {
   "cell_type": "code",
   "execution_count": null,
   "metadata": {},
   "outputs": [],
   "source": []
  }
 ],
 "metadata": {
  "kernelspec": {
   "display_name": ".venv",
   "language": "python",
   "name": "python3"
  },
  "language_info": {
   "codemirror_mode": {
    "name": "ipython",
    "version": 3
   },
   "file_extension": ".py",
   "mimetype": "text/x-python",
   "name": "python",
   "nbconvert_exporter": "python",
   "pygments_lexer": "ipython3",
   "version": "3.11.9"
  }
 },
 "nbformat": 4,
 "nbformat_minor": 2
}
