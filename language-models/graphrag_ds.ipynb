{
 "cells": [
  {
   "cell_type": "code",
   "execution_count": 1,
   "metadata": {},
   "outputs": [],
   "source": [
    "# !pip install --quiet langchain-community \n",
    "# !pip install --quiet langchain-experimental langchain-openai \n",
    "# !pip install --quiet graphdatascience tiktoken retry neo4j\n",
    "# !pip install --quiet matplotlib pandas numpy seaborn"
   ]
  },
  {
   "cell_type": "markdown",
   "metadata": {},
   "source": [
    "## Graph RAG"
   ]
  },
  {
   "cell_type": "code",
   "execution_count": 71,
   "metadata": {},
   "outputs": [],
   "source": [
    "import os\n",
    "import pandas as pd\n",
    "import tiktoken\n",
    "from langchain_community.graphs import Neo4jGraph\n",
    "from tqdm import tqdm\n",
    "import numpy as np\n",
    "import re\n",
    "\n",
    "pd.set_option('display.max_columns', None)"
   ]
  },
  {
   "cell_type": "code",
   "execution_count": 3,
   "metadata": {},
   "outputs": [],
   "source": [
    "os.environ[\"NEO4J_URI\"] = \"bolt://localhost:7687\"\n",
    "os.environ[\"NEO4J_USERNAME\"] = \"neo4j\"\n",
    "os.environ[\"NEO4J_PASSWORD\"] = \"Password@123\"\n",
    "graph = Neo4jGraph()"
   ]
  },
  {
   "cell_type": "code",
   "execution_count": 127,
   "metadata": {},
   "outputs": [
    {
     "data": {
      "text/html": [
       "<div>\n",
       "<style scoped>\n",
       "    .dataframe tbody tr th:only-of-type {\n",
       "        vertical-align: middle;\n",
       "    }\n",
       "\n",
       "    .dataframe tbody tr th {\n",
       "        vertical-align: top;\n",
       "    }\n",
       "\n",
       "    .dataframe thead th {\n",
       "        text-align: right;\n",
       "    }\n",
       "</style>\n",
       "<table border=\"1\" class=\"dataframe\">\n",
       "  <thead>\n",
       "    <tr style=\"text-align: right;\">\n",
       "      <th></th>\n",
       "      <th>ProductName</th>\n",
       "      <th>Price</th>\n",
       "      <th>Rate</th>\n",
       "      <th>Review</th>\n",
       "      <th>Summary</th>\n",
       "    </tr>\n",
       "  </thead>\n",
       "  <tbody>\n",
       "    <tr>\n",
       "      <th>0</th>\n",
       "      <td>Candes 12 L Room Personal Air Cooler ÿ ÿ White...</td>\n",
       "      <td>[3, 999]</td>\n",
       "      <td>5</td>\n",
       "      <td>Super!</td>\n",
       "      <td>Great cooler   excellent air flow and for this...</td>\n",
       "    </tr>\n",
       "    <tr>\n",
       "      <th>1</th>\n",
       "      <td>Candes 12 L Room Personal Air Cooler ÿ ÿ White...</td>\n",
       "      <td>[3, 999]</td>\n",
       "      <td>5</td>\n",
       "      <td>Awesome</td>\n",
       "      <td>Best budget 2 fit cooler  Nice cooling</td>\n",
       "    </tr>\n",
       "    <tr>\n",
       "      <th>2</th>\n",
       "      <td>Candes 12 L Room Personal Air Cooler ÿ ÿ White...</td>\n",
       "      <td>[3, 999]</td>\n",
       "      <td>3</td>\n",
       "      <td>Fair</td>\n",
       "      <td>The quality is good but the power of air is de...</td>\n",
       "    </tr>\n",
       "    <tr>\n",
       "      <th>3</th>\n",
       "      <td>Candes 12 L Room Personal Air Cooler ÿ ÿ White...</td>\n",
       "      <td>[3, 999]</td>\n",
       "      <td>1</td>\n",
       "      <td>Useless product</td>\n",
       "      <td>Very bad product it's a only a fan</td>\n",
       "    </tr>\n",
       "    <tr>\n",
       "      <th>4</th>\n",
       "      <td>Candes 12 L Room Personal Air Cooler ÿ ÿ White...</td>\n",
       "      <td>[3, 999]</td>\n",
       "      <td>3</td>\n",
       "      <td>Fair</td>\n",
       "      <td>Ok ok product</td>\n",
       "    </tr>\n",
       "  </tbody>\n",
       "</table>\n",
       "</div>"
      ],
      "text/plain": [
       "                                         ProductName     Price Rate  \\\n",
       "0  Candes 12 L Room Personal Air Cooler ÿ ÿ White...  [3, 999]    5   \n",
       "1  Candes 12 L Room Personal Air Cooler ÿ ÿ White...  [3, 999]    5   \n",
       "2  Candes 12 L Room Personal Air Cooler ÿ ÿ White...  [3, 999]    3   \n",
       "3  Candes 12 L Room Personal Air Cooler ÿ ÿ White...  [3, 999]    1   \n",
       "4  Candes 12 L Room Personal Air Cooler ÿ ÿ White...  [3, 999]    3   \n",
       "\n",
       "            Review                                            Summary  \n",
       "0           Super!  Great cooler   excellent air flow and for this...  \n",
       "1          Awesome             Best budget 2 fit cooler  Nice cooling  \n",
       "2             Fair  The quality is good but the power of air is de...  \n",
       "3  Useless product                 Very bad product it's a only a fan  \n",
       "4             Fair                                      Ok ok product  "
      ]
     },
     "execution_count": 127,
     "metadata": {},
     "output_type": "execute_result"
    }
   ],
   "source": [
    "data = pd.read_csv(\"flipkart_product.csv\", encoding=\"latin1\")\n",
    "# remove special characters from ProductName\n",
    "# Using regex to replace all special characters with a space\n",
    "spl_chars = '[!@#$%^&*()\\[\\]{};:,./<>?\\|`~\\-=_+]'\n",
    "data[\"ProductName\"] = data[\"ProductName\"].apply(lambda x: re.sub(spl_chars, ' ', x))\n",
    "data[\"Price\"] = data[\"Price\"].apply(lambda x: re.sub(spl_chars, ' ', str(x)))\n",
    "data[\"Summary\"] = data[\"Summary\"].apply(lambda x: re.sub(spl_chars, ' ', str(x)))\n",
    "# extract number from price\n",
    "data[\"Price\"] = data[\"Price\"].apply(lambda x: re.findall(r'\\d+', x))\n",
    "data.head()"
   ]
  },
  {
   "cell_type": "code",
   "execution_count": 53,
   "metadata": {},
   "outputs": [],
   "source": [
    "# data['Match_id'].value_counts().sort_values(ascending=True)\n",
    "# Match 3495290 has the less number of rows"
   ]
  },
  {
   "cell_type": "code",
   "execution_count": 81,
   "metadata": {},
   "outputs": [],
   "source": [
    "def get_token_count(text, model='gpt-4o'):\n",
    "    encoding = tiktoken.encoding_for_model(model)\n",
    "    num_tokens = len(encoding.encode(text))\n",
    "    return num_tokens\n",
    "data['token_count'] = [get_token_count(f\"{row['ProductName']} {row['Summary']}\") for i, row in data.iterrows()]"
   ]
  },
  {
   "cell_type": "code",
   "execution_count": 82,
   "metadata": {},
   "outputs": [
    {
     "data": {
      "text/plain": [
       "<Axes: title={'center': 'Token Count Distribution'}, xlabel='Token Count', ylabel='Frequency'>"
      ]
     },
     "execution_count": 82,
     "metadata": {},
     "output_type": "execute_result"
    },
    {
     "data": {
      "image/png": "[encoded data removed]",
      "text/plain": [
       "<Figure size 1000x300 with 1 Axes>"
      ]
     },
     "metadata": {},
     "output_type": "display_data"
    }
   ],
   "source": [
    "import matplotlib.pyplot as plt\n",
    "\n",
    "plt.figure(figsize=(10, 3))\n",
    "plt.title(\"Token Count Distribution\")\n",
    "plt.xlabel(\"Token Count\")\n",
    "plt.ylabel(\"Frequency\")\n",
    "data['token_count'].hist()"
   ]
  },
  {
   "cell_type": "markdown",
   "metadata": {},
   "source": [
    "Most of the reviews have less than 100 words, hence further splitting is not required."
   ]
  },
  {
   "cell_type": "code",
   "execution_count": 83,
   "metadata": {},
   "outputs": [],
   "source": [
    "from langchain_experimental.graph_transformers import LLMGraphTransformer\n",
    "from langchain_community.graphs.graph_document import GraphDocument\n",
    "from langchain_core.documents import Document\n",
    "from langchain_core.messages import HumanMessage\n",
    "from langchain_openai import AzureChatOpenAI\n",
    "\n",
    "os.environ[\"AZURE_OPENAI_API_KEY\"] = \"533894d8f28d4f238f10c0a51a46789e\"\n",
    "os.environ[\"AZURE_OPENAI_ENDPOINT\"] = \"https://sriks-openai.openai.azure.com/\"\n",
    "os.environ[\"AZURE_OPENAI_API_VERSION\"] = \"2024-05-01-preview\"\n",
    "os.environ[\"AZURE_OPENAI_CHAT_DEPLOYMENT\"] = \"gpt-4o\"\n",
    "\n",
    "llm = AzureChatOpenAI(\n",
    "    openai_api_version=os.environ[\"AZURE_OPENAI_API_VERSION\"],\n",
    "    azure_deployment=os.environ[\"AZURE_OPENAI_CHAT_DEPLOYMENT\"],\n",
    ")\n",
    "\n",
    "llm_transformer = LLMGraphTransformer(\n",
    "    llm=llm,\n",
    "    node_properties=[\"description\"],\n",
    "    relationship_properties=[\"description\"]\n",
    ")     "
   ]
  },
  {
   "cell_type": "markdown",
   "metadata": {},
   "source": [
    "Extract the entities, relationships from text and create graph"
   ]
  },
  {
   "cell_type": "code",
   "execution_count": 130,
   "metadata": {},
   "outputs": [
    {
     "data": {
      "text/html": [
       "<div>\n",
       "<style scoped>\n",
       "    .dataframe tbody tr th:only-of-type {\n",
       "        vertical-align: middle;\n",
       "    }\n",
       "\n",
       "    .dataframe tbody tr th {\n",
       "        vertical-align: top;\n",
       "    }\n",
       "\n",
       "    .dataframe thead th {\n",
       "        text-align: right;\n",
       "    }\n",
       "</style>\n",
       "<table border=\"1\" class=\"dataframe\">\n",
       "  <thead>\n",
       "    <tr style=\"text-align: right;\">\n",
       "      <th></th>\n",
       "      <th>ProductName</th>\n",
       "      <th>Price</th>\n",
       "      <th>Rate</th>\n",
       "      <th>Review</th>\n",
       "      <th>Summary</th>\n",
       "    </tr>\n",
       "  </thead>\n",
       "  <tbody>\n",
       "    <tr>\n",
       "      <th>26794</th>\n",
       "      <td>Home Sizzler 153 cm  5 02 ft  Polyester Room D...</td>\n",
       "      <td>[299]</td>\n",
       "      <td>5</td>\n",
       "      <td>Brilliant</td>\n",
       "      <td>Superb</td>\n",
       "    </tr>\n",
       "    <tr>\n",
       "      <th>177393</th>\n",
       "      <td>AGARO Regal Hand held Vacuum CleanerÂ Â  Black</td>\n",
       "      <td>[1, 599]</td>\n",
       "      <td>1</td>\n",
       "      <td>Don't waste your money</td>\n",
       "      <td>Worst product In 15 min all wires burns</td>\n",
       "    </tr>\n",
       "    <tr>\n",
       "      <th>6557</th>\n",
       "      <td>Cosito 144 TC Cotton Double Floral Flat Bedshe...</td>\n",
       "      <td>[339]</td>\n",
       "      <td>4</td>\n",
       "      <td>Very Good</td>\n",
       "      <td>Very good</td>\n",
       "    </tr>\n",
       "    <tr>\n",
       "      <th>132476</th>\n",
       "      <td>Hold up Triangle Shape Mobile Holder For Table...</td>\n",
       "      <td>[136]</td>\n",
       "      <td>5</td>\n",
       "      <td>Simply awesome</td>\n",
       "      <td>Very Nice Stands with Cheaper rate</td>\n",
       "    </tr>\n",
       "    <tr>\n",
       "      <th>57315</th>\n",
       "      <td>Men Black Sandal</td>\n",
       "      <td>[299]</td>\n",
       "      <td>5</td>\n",
       "      <td>Nan</td>\n",
       "      <td>Good</td>\n",
       "    </tr>\n",
       "  </tbody>\n",
       "</table>\n",
       "</div>"
      ],
      "text/plain": [
       "                                              ProductName     Price Rate  \\\n",
       "26794   Home Sizzler 153 cm  5 02 ft  Polyester Room D...     [299]    5   \n",
       "177393    AGARO Regal Hand held Vacuum CleanerÂ Â  Black   [1, 599]    1   \n",
       "6557    Cosito 144 TC Cotton Double Floral Flat Bedshe...     [339]    4   \n",
       "132476  Hold up Triangle Shape Mobile Holder For Table...     [136]    5   \n",
       "57315                                    Men Black Sandal     [299]    5   \n",
       "\n",
       "                        Review                                  Summary  \n",
       "26794                Brilliant                                   Superb  \n",
       "177393  Don't waste your money  Worst product In 15 min all wires burns  \n",
       "6557                 Very Good                                Very good  \n",
       "132476          Simply awesome       Very Nice Stands with Cheaper rate  \n",
       "57315                      Nan                                     Good  "
      ]
     },
     "execution_count": 130,
     "metadata": {},
     "output_type": "execute_result"
    }
   ],
   "source": [
    "import random\n",
    "random.seed(42)\n",
    "# take 25 random rows\n",
    "ids = random.sample(range(1, len(data)-1), 25)\n",
    "data = data.iloc[ids]\n",
    "data.head()"
   ]
  },
  {
   "cell_type": "code",
   "execution_count": 131,
   "metadata": {},
   "outputs": [
    {
     "name": "stderr",
     "output_type": "stream",
     "text": [
      "Converting to Graph Documents: 100%|██████████| 25/25 [03:23<00:00,  8.14s/it]\n"
     ]
    }
   ],
   "source": [
    "from concurrent.futures import ThreadPoolExecutor, as_completed\n",
    "from tqdm import tqdm\n",
    "\n",
    "graph_documents = []\n",
    "# Convert each row to a Graph Document\n",
    "# this will take some time 50 rows = 50*3 = 150 requests\n",
    "# this may fail if token limit is reached\n",
    "with ThreadPoolExecutor(max_workers=2) as executor:\n",
    "    futures = [executor.submit(llm_transformer.convert_to_graph_documents, [Document(page_content=f\"\"\"You are a data processing assistant, your task is to extract entities, relationships and their labels from product reviews. \n",
    "                                                                                     {row['ProductName'], row['Price'], row['Rate']} Review:{row['Review']} Summary:{row['Summary']}. \n",
    "                                                                                     \"\"\")]) for i, row in data.iterrows()]\n",
    "    for future in tqdm(as_completed(futures), total=len(futures), desc=\"Converting to Graph Documents\"):\n",
    "        graph_documents.extend(future.result())\n",
    "        "
   ]
  },
  {
   "cell_type": "code",
   "execution_count": 132,
   "metadata": {},
   "outputs": [],
   "source": [
    "# creating graph docs will take time hence saving it to pickle file to load from it in future\n",
    "# save graph docs to pickle file\n",
    "import pickle\n",
    "with open('graph_documents.pkl', 'wb') as f:\n",
    "    pickle.dump(graph_documents, f)"
   ]
  },
  {
   "cell_type": "code",
   "execution_count": 133,
   "metadata": {},
   "outputs": [],
   "source": [
    "graph_documents = pickle.load(open('graph_documents.pkl', 'rb'))"
   ]
  },
  {
   "cell_type": "code",
   "execution_count": 134,
   "metadata": {},
   "outputs": [],
   "source": [
    "graph.add_graph_documents(\n",
    "    graph_documents,\n",
    "    baseEntityLabel=True,\n",
    "    include_source=True\n",
    ")"
   ]
  },
  {
   "cell_type": "markdown",
   "metadata": {},
   "source": [
    "Generate embeddings for the extracted entities"
   ]
  },
  {
   "cell_type": "code",
   "execution_count": 135,
   "metadata": {},
   "outputs": [],
   "source": [
    "\n",
    "from langchain_community.vectorstores import Neo4jVector\n",
    "from langchain_openai import AzureOpenAIEmbeddings\n",
    "\n",
    "# Create a vector store from the existing graph\n",
    "vector = Neo4jVector.from_existing_graph(\n",
    "        AzureOpenAIEmbeddings(),\n",
    "        node_label='__Entity__',\n",
    "        text_node_properties=['id', 'description'],\n",
    "        embedding_node_property='embedding'\n",
    ")"
   ]
  },
  {
   "cell_type": "code",
   "execution_count": 136,
   "metadata": {},
   "outputs": [
    {
     "name": "stderr",
     "output_type": "stream",
     "text": [
      "Received notification from DBMS server: {severity: WARNING} {code: Neo.ClientNotification.Statement.FeatureDeprecationWarning} {category: DEPRECATION} {title: This feature is deprecated and will be removed in future versions.} {description: The query used a deprecated field from a procedure. ('serverLocation' returned by 'gds.debug.arrow' is deprecated.)} {position: line: 1, column: 1, offset: 0} for query: 'CALL gds.debug.arrow()'\n",
      "Received notification from DBMS server: {severity: WARNING} {code: Neo.ClientNotification.Statement.FeatureDeprecationWarning} {category: DEPRECATION} {title: This feature is deprecated and will be removed in future versions.} {description: The query used a deprecated field from a procedure. ('advertisedListenAddress' returned by 'gds.debug.arrow' is deprecated.)} {position: line: 1, column: 1, offset: 0} for query: 'CALL gds.debug.arrow()'\n"
     ]
    }
   ],
   "source": [
    "from graphdatascience import GraphDataScience\n",
    "\n",
    "# Create a GraphDataScience instance\n",
    "# GDS plugin must be installed in the Neo4j instance\n",
    "gds = GraphDataScience(\n",
    "    os.environ[\"NEO4J_URI\"],\n",
    "    auth=(os.environ[\"NEO4J_USERNAME\"], os.environ[\"NEO4J_PASSWORD\"])\n",
    ")"
   ]
  },
  {
   "cell_type": "code",
   "execution_count": 139,
   "metadata": {},
   "outputs": [
    {
     "name": "stderr",
     "output_type": "stream",
     "text": [
      "Received notification from DBMS server: {severity: WARNING} {code: Neo.ClientNotification.Statement.FeatureDeprecationWarning} {category: DEPRECATION} {title: This feature is deprecated and will be removed in future versions.} {description: The query used a deprecated field from a procedure. ('schema' returned by 'gds.graph.drop' is deprecated.)} {position: line: 1, column: 1, offset: 0} for query: 'CALL gds.graph.drop($graph_name, $fail_if_missing, $db_name)'\n"
     ]
    },
    {
     "name": "stdout",
     "output_type": "stream",
     "text": [
      "ranIterations                                                             6\n",
      "nodePairsConsidered                                                   20671\n",
      "didConverge                                                            True\n",
      "preProcessingMillis                                                       0\n",
      "computeMillis                                                           132\n",
      "mutateMillis                                                             23\n",
      "postProcessingMillis                                                      0\n",
      "nodesCompared                                                            73\n",
      "relationshipsWritten                                                    265\n",
      "similarityDistribution    {'min': 0.9500045776367188, 'p5': 0.9508438110...\n",
      "configuration             {'mutateProperty': 'score', 'jobId': 'c62921cb...\n",
      "Name: 0, dtype: object\n"
     ]
    }
   ],
   "source": [
    "similrity_threshold = 0.95\n",
    "gds.graph.drop(\"entities\")\n",
    "# exclude the score property from the graph\n",
    "G, result = gds.graph.project(\n",
    "    \"entities\", \n",
    "    \"__Entity__\",\n",
    "    \"*\",\n",
    "    nodeProperties=[\"embedding\"],\n",
    "    )   \n",
    "\n",
    "# mutating the graph to add similar relationships\n",
    "\n",
    "result = gds.knn.mutate(\n",
    "    G,\n",
    "    nodeProperties=[\"embedding\"],\n",
    "    nodeLabels = [\"__Entity__\"],\n",
    "    mutateRelationshipType=\"SIMILAR\",\n",
    "    mutateProperty=\"score\",\n",
    "    similarityCutoff=similrity_threshold,\n",
    ")\n",
    "result.similarityDistribution    \n",
    "print(result)"
   ]
  },
  {
   "cell_type": "code",
   "execution_count": 140,
   "metadata": {},
   "outputs": [
    {
     "name": "stdout",
     "output_type": "stream",
     "text": [
      "Number of relationships created: 265\n",
      "ranIterations                                                             4\n",
      "didConverge                                                            True\n",
      "nodePairsConsidered                                                   18861\n",
      "preProcessingMillis                                                       0\n",
      "computeMillis                                                            48\n",
      "writeMillis                                                              10\n",
      "postProcessingMillis                                                      0\n",
      "nodesCompared                                                            73\n",
      "relationshipsWritten                                                    265\n",
      "similarityDistribution    {'min': 0.9500045776367188, 'p5': 0.9508438110...\n",
      "configuration             {'writeProperty': 'score', 'writeRelationshipT...\n",
      "Name: 0, dtype: object\n"
     ]
    }
   ],
   "source": [
    "# writing the graph back to the database\n",
    "result = gds.knn.write(\n",
    "    G,\n",
    "    nodeProperties=[\"embedding\"],\n",
    "    writeRelationshipType=\"SIMILAR\",\n",
    "    writeProperty=\"score\",\n",
    "    similarityCutoff=similrity_threshold,\n",
    ")\n",
    "print(f\"Number of relationships created: {result.relationshipsWritten}\")\n",
    "print(result)"
   ]
  },
  {
   "cell_type": "code",
   "execution_count": 141,
   "metadata": {},
   "outputs": [
    {
     "name": "stderr",
     "output_type": "stream",
     "text": [
      "C:\\Users\\vism\\AppData\\Local\\Temp\\ipykernel_33320\\2281118004.py:6: FutureWarning: Passing a DataFrame to DataFrame.from_records is deprecated. Use set_index and/or drop to modify the DataFrame instead.\n",
      "  result = pd.DataFrame.from_records(gds.run_cypher(query))\n"
     ]
    },
    {
     "data": {
      "text/html": [
       "<div>\n",
       "<style scoped>\n",
       "    .dataframe tbody tr th:only-of-type {\n",
       "        vertical-align: middle;\n",
       "    }\n",
       "\n",
       "    .dataframe tbody tr th {\n",
       "        vertical-align: top;\n",
       "    }\n",
       "\n",
       "    .dataframe thead th {\n",
       "        text-align: right;\n",
       "    }\n",
       "</style>\n",
       "<table border=\"1\" class=\"dataframe\">\n",
       "  <thead>\n",
       "    <tr style=\"text-align: right;\">\n",
       "      <th></th>\n",
       "      <th>node1</th>\n",
       "      <th>node2</th>\n",
       "      <th>score</th>\n",
       "    </tr>\n",
       "  </thead>\n",
       "  <tbody>\n",
       "    <tr>\n",
       "      <th>0</th>\n",
       "      <td>Best In The Market!</td>\n",
       "      <td>Must Buy!</td>\n",
       "      <td>0.954885</td>\n",
       "    </tr>\n",
       "    <tr>\n",
       "      <th>1</th>\n",
       "      <td>Best In The Market!</td>\n",
       "      <td>Must Buy!</td>\n",
       "      <td>0.954885</td>\n",
       "    </tr>\n",
       "    <tr>\n",
       "      <th>2</th>\n",
       "      <td>Great Product</td>\n",
       "      <td>Awesome Product As Usual</td>\n",
       "      <td>0.969401</td>\n",
       "    </tr>\n",
       "    <tr>\n",
       "      <th>3</th>\n",
       "      <td>Great Product</td>\n",
       "      <td>Awesome Product As Usual</td>\n",
       "      <td>0.969401</td>\n",
       "    </tr>\n",
       "    <tr>\n",
       "      <th>4</th>\n",
       "      <td>Useless Product</td>\n",
       "      <td>Awesome Product As Usual</td>\n",
       "      <td>0.954369</td>\n",
       "    </tr>\n",
       "  </tbody>\n",
       "</table>\n",
       "</div>"
      ],
      "text/plain": [
       "                 node1                     node2     score\n",
       "0  Best In The Market!                 Must Buy!  0.954885\n",
       "1  Best In The Market!                 Must Buy!  0.954885\n",
       "2        Great Product  Awesome Product As Usual  0.969401\n",
       "3        Great Product  Awesome Product As Usual  0.969401\n",
       "4      Useless Product  Awesome Product As Usual  0.954369"
      ]
     },
     "execution_count": 141,
     "metadata": {},
     "output_type": "execute_result"
    }
   ],
   "source": [
    "# get nodes with relationtype as SIMILAR\n",
    "query = \"\"\"\n",
    "MATCH (n:__Entity__)-[r:SIMILAR]-(m:__Entity__)\n",
    "RETURN n.id as node1, m.id as node2, r.score as score\n",
    "\"\"\"\n",
    "result = pd.DataFrame.from_records(gds.run_cypher(query))\n",
    "# exclude numeric types from node 1 and 2\n",
    "result = result[~result['node1'].str.contains(r'\\d')]\n",
    "result.head()"
   ]
  },
  {
   "cell_type": "markdown",
   "metadata": {},
   "source": [
    "Find similar entities by Levenshtein distance"
   ]
  },
  {
   "cell_type": "code",
   "execution_count": 148,
   "metadata": {},
   "outputs": [
    {
     "name": "stdout",
     "output_type": "stream",
     "text": [
      "Number of entities: 73\n"
     ]
    },
    {
     "data": {
      "text/plain": [
       "{('Review', 'Review_1'): 2.0,\n",
       " ('Review_1', 'Review'): 2.0,\n",
       " ('Summary', 'Summary_1'): 2.0,\n",
       " ('Summary_1', 'Summary'): 2.0}"
      ]
     },
     "execution_count": 148,
     "metadata": {},
     "output_type": "execute_result"
    }
   ],
   "source": [
    "import Levenshtein\n",
    "\n",
    "edit_distance_threshold = 4\n",
    "query = \"\"\"\n",
    "MATCH (n:__Entity__)\n",
    "RETURN n.id as id, n.wcc as wcc\n",
    "\"\"\"\n",
    "entities_df = pd.DataFrame.from_records(graph.query(query))\n",
    "print(f\"Number of entities: {entities_df.shape[0]}\")\n",
    "edit_distances = pd.crosstab(entities_df['id'], entities_df['id'])\n",
    "# fill values with edit distance between column and row names\n",
    "for i in edit_distances.columns:\n",
    "    for j in edit_distances.index:\n",
    "        if len(i) > 4 and len(j) > 4:\n",
    "            # if i or j has \"innings\" in it, skip\n",
    "            edit_distances.loc[j, i] = Levenshtein.distance(i, j)\n",
    "# find edit distances below threshold and greater than 0\n",
    "edit_distances = edit_distances[(edit_distances < edit_distance_threshold)]\n",
    "# create a dictionary of similar entities\n",
    "edit_distances = edit_distances[edit_distances > 1].stack().to_dict()\n",
    "edit_distances"
   ]
  },
  {
   "cell_type": "markdown",
   "metadata": {},
   "source": [
    "Merge Entities with low edit distance"
   ]
  },
  {
   "cell_type": "code",
   "execution_count": 147,
   "metadata": {},
   "outputs": [],
   "source": [
    "# merge entities found in edit distances and write to graph\n",
    "for key, value in edit_distances.items():\n",
    "    query = f\"\"\"\n",
    "    MATCH (n:__Entity__{{id:'{key[0]}'}})\n",
    "    MATCH (m:__Entity__{{id:'{key[1]}'}})\n",
    "    MERGE (n)-[r:SIMILAR{{score:{value}}}]->(m)\n",
    "    \"\"\"\n",
    "    result = graph.query(query)\n",
    "    print(result)"
   ]
  },
  {
   "cell_type": "code",
   "execution_count": 111,
   "metadata": {},
   "outputs": [
    {
     "name": "stderr",
     "output_type": "stream",
     "text": [
      "Received notification from DBMS server: {severity: WARNING} {code: Neo.ClientNotification.Statement.FeatureDeprecationWarning} {category: DEPRECATION} {title: This feature is deprecated and will be removed in future versions.} {description: The query used a deprecated field from a procedure. ('schema' returned by 'gds.graph.drop' is deprecated.)} {position: line: 1, column: 1, offset: 0} for query: 'CALL gds.graph.drop($graph_name, $failIfMissing)'\n"
     ]
    },
    {
     "data": {
      "text/plain": [
       "graphName                                                         entities\n",
       "database                                                             neo4j\n",
       "databaseLocation                                                     local\n",
       "memoryUsage                                                               \n",
       "sizeInBytes                                                             -1\n",
       "nodeCount                                                               29\n",
       "relationshipCount                                                      147\n",
       "configuration            {'relationshipProjection': {'__ALL__': {'aggre...\n",
       "density                                                           0.181034\n",
       "creationTime                           2024-07-16T05:38:25.068382600+00:00\n",
       "modificationTime                       2024-07-16T05:38:25.254583900+00:00\n",
       "schema                   {'graphProperties': {}, 'nodes': {'__Entity__'...\n",
       "schemaWithOrientation    {'graphProperties': {}, 'nodes': {'__Entity__'...\n",
       "Name: 0, dtype: object"
      ]
     },
     "execution_count": 111,
     "metadata": {},
     "output_type": "execute_result"
    }
   ],
   "source": [
    "G.drop()"
   ]
  },
  {
   "cell_type": "markdown",
   "metadata": {},
   "source": [
    "## Identify Graph communities and enhance the knowledge using LLM"
   ]
  },
  {
   "cell_type": "code",
   "execution_count": 112,
   "metadata": {},
   "outputs": [
    {
     "name": "stderr",
     "output_type": "stream",
     "text": [
      "Received notification from DBMS server: {severity: WARNING} {code: Neo.ClientNotification.Statement.FeatureDeprecationWarning} {category: DEPRECATION} {title: This feature is deprecated and will be removed in future versions.} {description: The query used a deprecated field from a procedure. ('schema' returned by 'gds.graph.drop' is deprecated.)} {position: line: 1, column: 1, offset: 0} for query: 'CALL gds.graph.drop($graph_name, $fail_if_missing, $db_name)'\n"
     ]
    }
   ],
   "source": [
    "# # Project the graph to create a community graph\n",
    "gds.graph.drop(\"communities\")\n",
    "G, result = gds.graph.project(\n",
    "    \"communities\",  #  Graph name\n",
    "    \"__Entity__\",  #  Node projection\n",
    "    \"*\",\n",
    "    nodeProperties=[\"embedding\"],\n",
    ")"
   ]
  },
  {
   "cell_type": "code",
   "execution_count": 113,
   "metadata": {},
   "outputs": [
    {
     "data": {
      "text/plain": [
       "componentCount                                                           2\n",
       "componentDistribution    {'min': 8, 'p5': 8, 'max': 21, 'p999': 21, 'p9...\n",
       "postProcessingMillis                                                     4\n",
       "preProcessingMillis                                                      0\n",
       "computeMillis                                                            3\n",
       "configuration            {'jobId': '9d77bb3d-acf0-460d-9880-05c21d458df...\n",
       "Name: 0, dtype: object"
      ]
     },
     "execution_count": 113,
     "metadata": {},
     "output_type": "execute_result"
    }
   ],
   "source": [
    "gds.wcc.stats(G)"
   ]
  },
  {
   "cell_type": "code",
   "execution_count": 114,
   "metadata": {},
   "outputs": [
    {
     "data": {
      "text/plain": [
       "mutateMillis                                                             0\n",
       "nodePropertiesWritten                                                   29\n",
       "componentCount                                                           2\n",
       "componentDistribution    {'min': 8, 'p5': 8, 'max': 21, 'p999': 21, 'p9...\n",
       "postProcessingMillis                                                     2\n",
       "preProcessingMillis                                                      0\n",
       "computeMillis                                                            8\n",
       "configuration            {'mutateProperty': 'componentId', 'jobId': '0c...\n",
       "Name: 0, dtype: object"
      ]
     },
     "execution_count": 114,
     "metadata": {},
     "output_type": "execute_result"
    }
   ],
   "source": [
    "gds.wcc.mutate(\n",
    "    G,\n",
    "    mutateProperty=\"componentId\",\n",
    ")"
   ]
  },
  {
   "cell_type": "code",
   "execution_count": 115,
   "metadata": {},
   "outputs": [
    {
     "data": {
      "text/html": [
       "<div>\n",
       "<style scoped>\n",
       "    .dataframe tbody tr th:only-of-type {\n",
       "        vertical-align: middle;\n",
       "    }\n",
       "\n",
       "    .dataframe tbody tr th {\n",
       "        vertical-align: top;\n",
       "    }\n",
       "\n",
       "    .dataframe thead th {\n",
       "        text-align: right;\n",
       "    }\n",
       "</style>\n",
       "<table border=\"1\" class=\"dataframe\">\n",
       "  <thead>\n",
       "    <tr style=\"text-align: right;\">\n",
       "      <th></th>\n",
       "      <th>componentId</th>\n",
       "      <th>componentSize</th>\n",
       "      <th>subgroups</th>\n",
       "    </tr>\n",
       "  </thead>\n",
       "  <tbody>\n",
       "    <tr>\n",
       "      <th>0</th>\n",
       "      <td>0</td>\n",
       "      <td>21</td>\n",
       "      <td>[379, 5, Fabulous!, Cosito 144 Tc Cotton Doubl...</td>\n",
       "    </tr>\n",
       "    <tr>\n",
       "      <th>1</th>\n",
       "      <td>3</td>\n",
       "      <td>8</td>\n",
       "      <td>[Cello Pack Of 18 Opalware Cello Dazzle Lush F...</td>\n",
       "    </tr>\n",
       "  </tbody>\n",
       "</table>\n",
       "</div>"
      ],
      "text/plain": [
       "   componentId  componentSize  \\\n",
       "0            0             21   \n",
       "1            3              8   \n",
       "\n",
       "                                           subgroups  \n",
       "0  [379, 5, Fabulous!, Cosito 144 Tc Cotton Doubl...  \n",
       "1  [Cello Pack Of 18 Opalware Cello Dazzle Lush F...  "
      ]
     },
     "execution_count": 115,
     "metadata": {},
     "output_type": "execute_result"
    }
   ],
   "source": [
    "query = \"\"\"\n",
    "    CALL gds.graph.nodeProperties.stream('communities', 'componentId')\n",
    "    YIELD nodeId, propertyValue\n",
    "    WITH gds.util.asNode(nodeId).id AS node, propertyValue AS componentId\n",
    "    WITH componentId, collect(node) AS subgroups\n",
    "    WITH componentId, subgroups, size(subgroups) AS componentSize\n",
    "    RETURN componentId, componentSize, subgroups\n",
    "    ORDER BY componentSize DESC\"\"\"\n",
    "components = gds.run_cypher(query)\n",
    "components"
   ]
  },
  {
   "cell_type": "code",
   "execution_count": 116,
   "metadata": {},
   "outputs": [
    {
     "name": "stdout",
     "output_type": "stream",
     "text": [
      "The largest component has the id 0 with 21 subreddits.\n"
     ]
    }
   ],
   "source": [
    "largest_component = components[\"componentId\"][0]\n",
    "print(f\"The largest component has the id {largest_component} with {components['componentSize'][0]} subreddits.\")"
   ]
  },
  {
   "cell_type": "code",
   "execution_count": null,
   "metadata": {},
   "outputs": [],
   "source": []
  }
 ],
 "metadata": {
  "kernelspec": {
   "display_name": ".venv",
   "language": "python",
   "name": "python3"
  },
  "language_info": {
   "codemirror_mode": {
    "name": "ipython",
    "version": 3
   },
   "file_extension": ".py",
   "mimetype": "text/x-python",
   "name": "python",
   "nbconvert_exporter": "python",
   "pygments_lexer": "ipython3",
   "version": "3.11.9"
  }
 },
 "nbformat": 4,
 "nbformat_minor": 2
}
