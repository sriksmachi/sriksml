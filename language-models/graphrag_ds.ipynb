{
 "cells": [
  {
   "cell_type": "code",
   "execution_count": 1,
   "metadata": {},
   "outputs": [],
   "source": [
    "# !pip install --quiet langchain-community \n",
    "# !pip install --quiet langchain-experimental langchain-openai \n",
    "# !pip install --quiet graphdatascience tiktoken retry neo4j\n",
    "# !pip install --quiet matplotlib pandas numpy seaborn"
   ]
  },
  {
   "cell_type": "markdown",
   "metadata": {},
   "source": [
    "## Graph RAG using Neo4j and Graph Datascience library"
   ]
  },
  {
   "cell_type": "code",
   "execution_count": 2,
   "metadata": {},
   "outputs": [],
   "source": [
    "import os\n",
    "import pandas as pd\n",
    "import tiktoken\n",
    "from langchain_community.graphs import Neo4jGraph\n",
    "from tqdm import tqdm\n",
    "import numpy as np\n",
    "import re\n",
    "\n",
    "pd.set_option('display.max_columns', None)"
   ]
  },
  {
   "cell_type": "code",
   "execution_count": 3,
   "metadata": {},
   "outputs": [],
   "source": [
    "os.environ[\"NEO4J_URI\"] = \"bolt://localhost:7687\"\n",
    "os.environ[\"NEO4J_USERNAME\"] = \"neo4j\"\n",
    "os.environ[\"NEO4J_PASSWORD\"] = \"Password@123\"\n",
    "graph = Neo4jGraph()"
   ]
  },
  {
   "cell_type": "code",
   "execution_count": 4,
   "metadata": {},
   "outputs": [
    {
     "data": {
      "text/html": [
       "<div>\n",
       "<style scoped>\n",
       "    .dataframe tbody tr th:only-of-type {\n",
       "        vertical-align: middle;\n",
       "    }\n",
       "\n",
       "    .dataframe tbody tr th {\n",
       "        vertical-align: top;\n",
       "    }\n",
       "\n",
       "    .dataframe thead th {\n",
       "        text-align: right;\n",
       "    }\n",
       "</style>\n",
       "<table border=\"1\" class=\"dataframe\">\n",
       "  <thead>\n",
       "    <tr style=\"text-align: right;\">\n",
       "      <th></th>\n",
       "      <th>ProductName</th>\n",
       "      <th>Price</th>\n",
       "      <th>Rate</th>\n",
       "      <th>Review</th>\n",
       "      <th>Summary</th>\n",
       "    </tr>\n",
       "  </thead>\n",
       "  <tbody>\n",
       "    <tr>\n",
       "      <th>0</th>\n",
       "      <td>Candes 12 L Room Personal Air Cooler ÿ ÿ White...</td>\n",
       "      <td>[3, 999]</td>\n",
       "      <td>5</td>\n",
       "      <td>Super!</td>\n",
       "      <td>Great cooler   excellent air flow and for this...</td>\n",
       "    </tr>\n",
       "    <tr>\n",
       "      <th>1</th>\n",
       "      <td>Candes 12 L Room Personal Air Cooler ÿ ÿ White...</td>\n",
       "      <td>[3, 999]</td>\n",
       "      <td>5</td>\n",
       "      <td>Awesome</td>\n",
       "      <td>Best budget 2 fit cooler  Nice cooling</td>\n",
       "    </tr>\n",
       "    <tr>\n",
       "      <th>2</th>\n",
       "      <td>Candes 12 L Room Personal Air Cooler ÿ ÿ White...</td>\n",
       "      <td>[3, 999]</td>\n",
       "      <td>3</td>\n",
       "      <td>Fair</td>\n",
       "      <td>The quality is good but the power of air is de...</td>\n",
       "    </tr>\n",
       "    <tr>\n",
       "      <th>3</th>\n",
       "      <td>Candes 12 L Room Personal Air Cooler ÿ ÿ White...</td>\n",
       "      <td>[3, 999]</td>\n",
       "      <td>1</td>\n",
       "      <td>Useless product</td>\n",
       "      <td>Very bad product it's a only a fan</td>\n",
       "    </tr>\n",
       "    <tr>\n",
       "      <th>4</th>\n",
       "      <td>Candes 12 L Room Personal Air Cooler ÿ ÿ White...</td>\n",
       "      <td>[3, 999]</td>\n",
       "      <td>3</td>\n",
       "      <td>Fair</td>\n",
       "      <td>Ok ok product</td>\n",
       "    </tr>\n",
       "  </tbody>\n",
       "</table>\n",
       "</div>"
      ],
      "text/plain": [
       "                                         ProductName     Price Rate  \\\n",
       "0  Candes 12 L Room Personal Air Cooler ÿ ÿ White...  [3, 999]    5   \n",
       "1  Candes 12 L Room Personal Air Cooler ÿ ÿ White...  [3, 999]    5   \n",
       "2  Candes 12 L Room Personal Air Cooler ÿ ÿ White...  [3, 999]    3   \n",
       "3  Candes 12 L Room Personal Air Cooler ÿ ÿ White...  [3, 999]    1   \n",
       "4  Candes 12 L Room Personal Air Cooler ÿ ÿ White...  [3, 999]    3   \n",
       "\n",
       "            Review                                            Summary  \n",
       "0           Super!  Great cooler   excellent air flow and for this...  \n",
       "1          Awesome             Best budget 2 fit cooler  Nice cooling  \n",
       "2             Fair  The quality is good but the power of air is de...  \n",
       "3  Useless product                 Very bad product it's a only a fan  \n",
       "4             Fair                                      Ok ok product  "
      ]
     },
     "execution_count": 4,
     "metadata": {},
     "output_type": "execute_result"
    }
   ],
   "source": [
    "data = pd.read_csv(\"flipkart_product.csv\", encoding=\"latin1\")\n",
    "# remove special characters from ProductName\n",
    "# Using regex to replace all special characters with a space\n",
    "spl_chars = '[!@#$%^&*()\\[\\]{};:,./<>?\\|`~\\-=_+]'\n",
    "data[\"ProductName\"] = data[\"ProductName\"].apply(lambda x: re.sub(spl_chars, ' ', x))\n",
    "data[\"Price\"] = data[\"Price\"].apply(lambda x: re.sub(spl_chars, ' ', str(x)))\n",
    "data[\"Summary\"] = data[\"Summary\"].apply(lambda x: re.sub(spl_chars, ' ', str(x)))\n",
    "# extract number from price\n",
    "data[\"Price\"] = data[\"Price\"].apply(lambda x: re.findall(r'\\d+', x))\n",
    "data.head()"
   ]
  },
  {
   "cell_type": "code",
   "execution_count": 5,
   "metadata": {},
   "outputs": [],
   "source": [
    "# data['Match_id'].value_counts().sort_values(ascending=True)\n",
    "# Match 3495290 has the less number of rows"
   ]
  },
  {
   "cell_type": "code",
   "execution_count": 6,
   "metadata": {},
   "outputs": [],
   "source": [
    "def get_token_count(text, model='gpt-4o'):\n",
    "    encoding = tiktoken.encoding_for_model(model)\n",
    "    num_tokens = len(encoding.encode(text))\n",
    "    return num_tokens\n",
    "data['token_count'] = [get_token_count(f\"{row['ProductName']} {row['Summary']}\") for i, row in data.iterrows()]"
   ]
  },
  {
   "cell_type": "code",
   "execution_count": 7,
   "metadata": {},
   "outputs": [
    {
     "data": {
      "text/plain": [
       "<Axes: title={'center': 'Token Count Distribution'}, xlabel='Token Count', ylabel='Frequency'>"
      ]
     },
     "execution_count": 7,
     "metadata": {},
     "output_type": "execute_result"
    },
    {
     "data": {
      "image/png": "[encoded data removed]",
      "text/plain": [
       "<Figure size 1000x300 with 1 Axes>"
      ]
     },
     "metadata": {},
     "output_type": "display_data"
    }
   ],
   "source": [
    "import matplotlib.pyplot as plt\n",
    "\n",
    "plt.figure(figsize=(10, 3))\n",
    "plt.title(\"Token Count Distribution\")\n",
    "plt.xlabel(\"Token Count\")\n",
    "plt.ylabel(\"Frequency\")\n",
    "data['token_count'].hist()"
   ]
  },
  {
   "cell_type": "markdown",
   "metadata": {},
   "source": [
    "Most of the reviews have less than 100 words, hence further splitting is not required."
   ]
  },
  {
   "cell_type": "code",
   "execution_count": 8,
   "metadata": {},
   "outputs": [],
   "source": [
    "from langchain_experimental.graph_transformers import LLMGraphTransformer\n",
    "from langchain_community.graphs.graph_document import GraphDocument\n",
    "from langchain_core.documents import Document\n",
    "from langchain_core.messages import HumanMessage\n",
    "from langchain_openai import AzureChatOpenAI\n",
    "\n",
    "os.environ[\"AZURE_OPENAI_API_KEY\"] = \"533894d8f28d4f238f10c0a51a46789e\"\n",
    "os.environ[\"AZURE_OPENAI_ENDPOINT\"] = \"https://sriks-openai.openai.azure.com/\"\n",
    "os.environ[\"AZURE_OPENAI_API_VERSION\"] = \"2024-05-01-preview\"\n",
    "os.environ[\"AZURE_OPENAI_CHAT_DEPLOYMENT\"] = \"gpt-4o\"\n",
    "\n",
    "llm = AzureChatOpenAI(\n",
    "    openai_api_version=os.environ[\"AZURE_OPENAI_API_VERSION\"],\n",
    "    azure_deployment=os.environ[\"AZURE_OPENAI_CHAT_DEPLOYMENT\"],\n",
    ")\n",
    "\n",
    "llm_transformer = LLMGraphTransformer(\n",
    "    llm=llm,\n",
    "    node_properties=[\"description\"],\n",
    "    relationship_properties=[\"description\"]\n",
    ")     "
   ]
  },
  {
   "cell_type": "markdown",
   "metadata": {},
   "source": [
    "Extract the entities, relationships from text and create graph"
   ]
  },
  {
   "cell_type": "code",
   "execution_count": 9,
   "metadata": {},
   "outputs": [
    {
     "data": {
      "text/html": [
       "<div>\n",
       "<style scoped>\n",
       "    .dataframe tbody tr th:only-of-type {\n",
       "        vertical-align: middle;\n",
       "    }\n",
       "\n",
       "    .dataframe tbody tr th {\n",
       "        vertical-align: top;\n",
       "    }\n",
       "\n",
       "    .dataframe thead th {\n",
       "        text-align: right;\n",
       "    }\n",
       "</style>\n",
       "<table border=\"1\" class=\"dataframe\">\n",
       "  <thead>\n",
       "    <tr style=\"text-align: right;\">\n",
       "      <th></th>\n",
       "      <th>ProductName</th>\n",
       "      <th>Price</th>\n",
       "      <th>Rate</th>\n",
       "      <th>Review</th>\n",
       "      <th>Summary</th>\n",
       "      <th>token_count</th>\n",
       "    </tr>\n",
       "  </thead>\n",
       "  <tbody>\n",
       "    <tr>\n",
       "      <th>167622</th>\n",
       "      <td>cello Pack of 18 Opalware Cello Dazzle Lush Fi...</td>\n",
       "      <td>[1, 299]</td>\n",
       "      <td>5</td>\n",
       "      <td>Just wow!</td>\n",
       "      <td>Just wow</td>\n",
       "      <td>39</td>\n",
       "    </tr>\n",
       "    <tr>\n",
       "      <th>29185</th>\n",
       "      <td>LA VERNE Microfibre Stripes Cushion Pack of 3Â...</td>\n",
       "      <td>[379]</td>\n",
       "      <td>5</td>\n",
       "      <td>Fabulous!</td>\n",
       "      <td>Size is as expected and itâs good quality</td>\n",
       "      <td>31</td>\n",
       "    </tr>\n",
       "    <tr>\n",
       "      <th>6557</th>\n",
       "      <td>Cosito 144 TC Cotton Double Floral Flat Bedshe...</td>\n",
       "      <td>[339]</td>\n",
       "      <td>4</td>\n",
       "      <td>Very Good</td>\n",
       "      <td>Very good</td>\n",
       "      <td>26</td>\n",
       "    </tr>\n",
       "    <tr>\n",
       "      <th>72098</th>\n",
       "      <td>JustandKrafts 75 L Blue Laundry BasketÂ Â  Cot...</td>\n",
       "      <td>[298]</td>\n",
       "      <td>1</td>\n",
       "      <td>Very poor</td>\n",
       "      <td>Poor product</td>\n",
       "      <td>18</td>\n",
       "    </tr>\n",
       "    <tr>\n",
       "      <th>64197</th>\n",
       "      <td>HAIR   CARE Triple Blend Damage Repair Non Sti...</td>\n",
       "      <td>[113]</td>\n",
       "      <td>5</td>\n",
       "      <td>Wonderful</td>\n",
       "      <td>Really good</td>\n",
       "      <td>38</td>\n",
       "    </tr>\n",
       "  </tbody>\n",
       "</table>\n",
       "</div>"
      ],
      "text/plain": [
       "                                              ProductName     Price Rate  \\\n",
       "167622  cello Pack of 18 Opalware Cello Dazzle Lush Fi...  [1, 299]    5   \n",
       "29185   LA VERNE Microfibre Stripes Cushion Pack of 3Â...     [379]    5   \n",
       "6557    Cosito 144 TC Cotton Double Floral Flat Bedshe...     [339]    4   \n",
       "72098   JustandKrafts 75 L Blue Laundry BasketÂ Â  Cot...     [298]    1   \n",
       "64197   HAIR   CARE Triple Blend Damage Repair Non Sti...     [113]    5   \n",
       "\n",
       "           Review                                      Summary  token_count  \n",
       "167622  Just wow!                                     Just wow           39  \n",
       "29185   Fabulous!  Size is as expected and itâs good quality           31  \n",
       "6557    Very Good                                    Very good           26  \n",
       "72098   Very poor                                 Poor product           18  \n",
       "64197   Wonderful                                  Really good           38  "
      ]
     },
     "execution_count": 9,
     "metadata": {},
     "output_type": "execute_result"
    }
   ],
   "source": [
    "import random\n",
    "random.seed(42)\n",
    "# take 25 random rows\n",
    "ids = random.sample(range(1, len(data)-1), 25)\n",
    "data = data.iloc[ids]\n",
    "data.head()"
   ]
  },
  {
   "cell_type": "code",
   "execution_count": 10,
   "metadata": {},
   "outputs": [
    {
     "name": "stderr",
     "output_type": "stream",
     "text": [
      "Converting to Graph Documents:  76%|███████▌  | 19/25 [02:23<00:39,  6.60s/it]"
     ]
    }
   ],
   "source": [
    "from concurrent.futures import ThreadPoolExecutor, as_completed\n",
    "from tqdm import tqdm\n",
    "\n",
    "graph_documents = []\n",
    "# Convert each row to a Graph Document\n",
    "# this will take some time 50 rows = 50*3 = 150 requests\n",
    "# this may fail if token limit is reached\n",
    "with ThreadPoolExecutor(max_workers=2) as executor:\n",
    "    futures = [executor.submit(llm_transformer.convert_to_graph_documents, [Document(page_content=f\"\"\"You are a data processing assistant, your task is to extract entities, relationships and their labels from product reviews. \n",
    "                                                                                     {row['ProductName'], row['Price'], row['Rate']} Review:{row['Review']} Summary:{row['Summary']}. \n",
    "                                                                                     \"\"\")]) for i, row in data.iterrows()]\n",
    "    for future in tqdm(as_completed(futures), total=len(futures), desc=\"Converting to Graph Documents\"):\n",
    "        graph_documents.extend(future.result())\n",
    "        "
   ]
  },
  {
   "cell_type": "code",
   "execution_count": null,
   "metadata": {},
   "outputs": [],
   "source": [
    "# creating graph docs will take time hence saving it to pickle file to load from it in future\n",
    "# save graph docs to pickle file\n",
    "import pickle\n",
    "with open('graph_documents.pkl', 'wb') as f:\n",
    "    pickle.dump(graph_documents, f)"
   ]
  },
  {
   "cell_type": "code",
   "execution_count": null,
   "metadata": {},
   "outputs": [],
   "source": [
    "graph_documents = pickle.load(open('graph_documents.pkl', 'rb'))"
   ]
  },
  {
   "cell_type": "code",
   "execution_count": null,
   "metadata": {},
   "outputs": [],
   "source": [
    "graph.add_graph_documents(\n",
    "    graph_documents,\n",
    "    baseEntityLabel=True,\n",
    "    include_source=True\n",
    ")"
   ]
  },
  {
   "cell_type": "markdown",
   "metadata": {},
   "source": [
    "Generate embeddings for the extracted entities"
   ]
  },
  {
   "cell_type": "code",
   "execution_count": null,
   "metadata": {},
   "outputs": [],
   "source": [
    "\n",
    "from langchain_community.vectorstores import Neo4jVector\n",
    "from langchain_openai import AzureOpenAIEmbeddings\n",
    "\n",
    "# Create a vector store from the existing graph\n",
    "vector = Neo4jVector.from_existing_graph(\n",
    "        AzureOpenAIEmbeddings(),\n",
    "        node_label='__Entity__',\n",
    "        text_node_properties=['id', 'description'],\n",
    "        embedding_node_property='embedding'\n",
    ")"
   ]
  },
  {
   "cell_type": "code",
   "execution_count": null,
   "metadata": {},
   "outputs": [
    {
     "name": "stderr",
     "output_type": "stream",
     "text": [
      "Received notification from DBMS server: {severity: WARNING} {code: Neo.ClientNotification.Statement.FeatureDeprecationWarning} {category: DEPRECATION} {title: This feature is deprecated and will be removed in future versions.} {description: The query used a deprecated field from a procedure. ('serverLocation' returned by 'gds.debug.arrow' is deprecated.)} {position: line: 1, column: 1, offset: 0} for query: 'CALL gds.debug.arrow()'\n",
      "Received notification from DBMS server: {severity: WARNING} {code: Neo.ClientNotification.Statement.FeatureDeprecationWarning} {category: DEPRECATION} {title: This feature is deprecated and will be removed in future versions.} {description: The query used a deprecated field from a procedure. ('advertisedListenAddress' returned by 'gds.debug.arrow' is deprecated.)} {position: line: 1, column: 1, offset: 0} for query: 'CALL gds.debug.arrow()'\n"
     ]
    }
   ],
   "source": [
    "from graphdatascience import GraphDataScience\n",
    "\n",
    "# Create a GraphDataScience instance\n",
    "# GDS plugin must be installed in the Neo4j instance\n",
    "gds = GraphDataScience(\n",
    "    os.environ[\"NEO4J_URI\"],\n",
    "    auth=(os.environ[\"NEO4J_USERNAME\"], os.environ[\"NEO4J_PASSWORD\"])\n",
    ")"
   ]
  },
  {
   "cell_type": "code",
   "execution_count": null,
   "metadata": {},
   "outputs": [
    {
     "name": "stderr",
     "output_type": "stream",
     "text": [
      "Received notification from DBMS server: {severity: WARNING} {code: Neo.ClientNotification.Statement.FeatureDeprecationWarning} {category: DEPRECATION} {title: This feature is deprecated and will be removed in future versions.} {description: The query used a deprecated field from a procedure. ('schema' returned by 'gds.graph.drop' is deprecated.)} {position: line: 1, column: 1, offset: 0} for query: 'CALL gds.graph.drop($graph_name, $fail_if_missing, $db_name)'\n"
     ]
    },
    {
     "name": "stdout",
     "output_type": "stream",
     "text": [
      "ranIterations                                                             5\n",
      "nodePairsConsidered                                                   20161\n",
      "didConverge                                                            True\n",
      "preProcessingMillis                                                       0\n",
      "computeMillis                                                           114\n",
      "mutateMillis                                                             39\n",
      "postProcessingMillis                                                      0\n",
      "nodesCompared                                                            73\n",
      "relationshipsWritten                                                    262\n",
      "similarityDistribution    {'min': 0.9504585266113281, 'p5': 0.9511604309...\n",
      "configuration             {'mutateProperty': 'score', 'jobId': '1a4be0ec...\n",
      "Name: 0, dtype: object\n"
     ]
    }
   ],
   "source": [
    "similrity_threshold = 0.95\n",
    "gds.graph.drop(\"entities\")\n",
    "# exclude the score property from the graph\n",
    "G, result = gds.graph.project(\n",
    "    \"entities\", \n",
    "    \"__Entity__\",\n",
    "    \"*\",\n",
    "    nodeProperties=[\"embedding\"],\n",
    "    )   \n",
    "\n",
    "# mutating the graph to add similar relationships\n",
    "\n",
    "result = gds.knn.mutate(\n",
    "    G,\n",
    "    nodeProperties=[\"embedding\"],\n",
    "    nodeLabels = [\"__Entity__\"],\n",
    "    mutateRelationshipType=\"SIMILAR\",\n",
    "    mutateProperty=\"score\",\n",
    "    similarityCutoff=similrity_threshold,\n",
    ")\n",
    "result.similarityDistribution    \n",
    "print(result)"
   ]
  },
  {
   "cell_type": "code",
   "execution_count": null,
   "metadata": {},
   "outputs": [
    {
     "name": "stdout",
     "output_type": "stream",
     "text": [
      "Number of relationships created: 262\n",
      "ranIterations                                                             4\n",
      "didConverge                                                            True\n",
      "nodePairsConsidered                                                   19258\n",
      "preProcessingMillis                                                       0\n",
      "computeMillis                                                            69\n",
      "writeMillis                                                              14\n",
      "postProcessingMillis                                                      0\n",
      "nodesCompared                                                            73\n",
      "relationshipsWritten                                                    262\n",
      "similarityDistribution    {'min': 0.9504585266113281, 'p5': 0.9511604309...\n",
      "configuration             {'writeProperty': 'score', 'writeRelationshipT...\n",
      "Name: 0, dtype: object\n"
     ]
    }
   ],
   "source": [
    "# writing the graph back to the database\n",
    "result = gds.knn.write(\n",
    "    G,\n",
    "    nodeProperties=[\"embedding\"],\n",
    "    writeRelationshipType=\"SIMILAR\",\n",
    "    writeProperty=\"score\",\n",
    "    similarityCutoff=similrity_threshold,\n",
    ")\n",
    "print(f\"Number of relationships created: {result.relationshipsWritten}\")\n",
    "print(result)"
   ]
  },
  {
   "cell_type": "code",
   "execution_count": null,
   "metadata": {},
   "outputs": [
    {
     "name": "stderr",
     "output_type": "stream",
     "text": [
      "C:\\Users\\vism\\AppData\\Local\\Temp\\ipykernel_33320\\2281118004.py:6: FutureWarning: Passing a DataFrame to DataFrame.from_records is deprecated. Use set_index and/or drop to modify the DataFrame instead.\n",
      "  result = pd.DataFrame.from_records(gds.run_cypher(query))\n"
     ]
    },
    {
     "data": {
      "text/html": [
       "<div>\n",
       "<style scoped>\n",
       "    .dataframe tbody tr th:only-of-type {\n",
       "        vertical-align: middle;\n",
       "    }\n",
       "\n",
       "    .dataframe tbody tr th {\n",
       "        vertical-align: top;\n",
       "    }\n",
       "\n",
       "    .dataframe thead th {\n",
       "        text-align: right;\n",
       "    }\n",
       "</style>\n",
       "<table border=\"1\" class=\"dataframe\">\n",
       "  <thead>\n",
       "    <tr style=\"text-align: right;\">\n",
       "      <th></th>\n",
       "      <th>node1</th>\n",
       "      <th>node2</th>\n",
       "      <th>score</th>\n",
       "    </tr>\n",
       "  </thead>\n",
       "  <tbody>\n",
       "    <tr>\n",
       "      <th>0</th>\n",
       "      <td>Review</td>\n",
       "      <td>Review_1</td>\n",
       "      <td>0.950861</td>\n",
       "    </tr>\n",
       "    <tr>\n",
       "      <th>1</th>\n",
       "      <td>Review</td>\n",
       "      <td>Review_1</td>\n",
       "      <td>0.950861</td>\n",
       "    </tr>\n",
       "    <tr>\n",
       "      <th>28</th>\n",
       "      <td>Nan</td>\n",
       "      <td>5</td>\n",
       "      <td>0.954428</td>\n",
       "    </tr>\n",
       "    <tr>\n",
       "      <th>37</th>\n",
       "      <td>Good</td>\n",
       "      <td>5</td>\n",
       "      <td>0.956956</td>\n",
       "    </tr>\n",
       "    <tr>\n",
       "      <th>40</th>\n",
       "      <td>Super</td>\n",
       "      <td>5</td>\n",
       "      <td>0.952335</td>\n",
       "    </tr>\n",
       "  </tbody>\n",
       "</table>\n",
       "</div>"
      ],
      "text/plain": [
       "     node1     node2     score\n",
       "0   Review  Review_1  0.950861\n",
       "1   Review  Review_1  0.950861\n",
       "28     Nan         5  0.954428\n",
       "37    Good         5  0.956956\n",
       "40   Super         5  0.952335"
      ]
     },
     "execution_count": 173,
     "metadata": {},
     "output_type": "execute_result"
    }
   ],
   "source": [
    "# get nodes with relationtype as SIMILAR\n",
    "query = \"\"\"\n",
    "MATCH (n:__Entity__)-[r:SIMILAR]-(m:__Entity__)\n",
    "RETURN n.id as node1, m.id as node2, r.score as score\n",
    "\"\"\"\n",
    "result = pd.DataFrame.from_records(gds.run_cypher(query))\n",
    "# exclude numeric types from node 1 and 2\n",
    "result = result[~result['node1'].str.contains(r'\\d')]\n",
    "result.head()"
   ]
  },
  {
   "cell_type": "markdown",
   "metadata": {},
   "source": [
    "Find similar entities by Levenshtein distance"
   ]
  },
  {
   "cell_type": "code",
   "execution_count": null,
   "metadata": {},
   "outputs": [
    {
     "name": "stdout",
     "output_type": "stream",
     "text": [
      "Number of entities: 73\n"
     ]
    },
    {
     "data": {
      "text/plain": [
       "{('Review', 'Review_1'): 2.0,\n",
       " ('Review_1', 'Review'): 2.0,\n",
       " ('Summary', 'Summary_1'): 2.0,\n",
       " ('Summary_1', 'Summary'): 2.0}"
      ]
     },
     "execution_count": 174,
     "metadata": {},
     "output_type": "execute_result"
    }
   ],
   "source": [
    "import Levenshtein\n",
    "\n",
    "edit_distance_threshold = 4\n",
    "query = \"\"\"\n",
    "MATCH (n:__Entity__)\n",
    "RETURN n.id as id, n.wcc as wcc\n",
    "\"\"\"\n",
    "entities_df = pd.DataFrame.from_records(graph.query(query))\n",
    "print(f\"Number of entities: {entities_df.shape[0]}\")\n",
    "edit_distances = pd.crosstab(entities_df['id'], entities_df['id'])\n",
    "# fill values with edit distance between column and row names\n",
    "for i in edit_distances.columns:\n",
    "    for j in edit_distances.index:\n",
    "        if len(i) > 4 and len(j) > 4:\n",
    "            # if i or j has \"innings\" in it, skip\n",
    "            edit_distances.loc[j, i] = Levenshtein.distance(i, j)\n",
    "# find edit distances below threshold and greater than 0\n",
    "edit_distances = edit_distances[(edit_distances < edit_distance_threshold)]\n",
    "# create a dictionary of similar entities\n",
    "edit_distances = edit_distances[edit_distances > 1].stack().to_dict()\n",
    "edit_distances"
   ]
  },
  {
   "cell_type": "markdown",
   "metadata": {},
   "source": [
    "Merge Entities with low edit distance"
   ]
  },
  {
   "cell_type": "code",
   "execution_count": null,
   "metadata": {},
   "outputs": [
    {
     "name": "stdout",
     "output_type": "stream",
     "text": [
      "Merging Nodes Review and Review_1 with score 2.0\n",
      "Merging Nodes Review_1 and Review with score 2.0\n",
      "Merging Nodes Summary and Summary_1 with score 2.0\n",
      "Merging Nodes Summary_1 and Summary with score 2.0\n"
     ]
    }
   ],
   "source": [
    "for key, value in edit_distances.items():\n",
    "    if key[0] != key[1]:\n",
    "        # merge nodes using  apoc.refactor.mergeNodes(nodes)\n",
    "        print(f\"Merging Nodes {key[0]} and {key[1]} with score {value}\")\n",
    "        merge_query = f\"\"\"\n",
    "        MATCH (n:__Entity__), (m:__Entity__)\n",
    "        WHERE n.id = '{key[0]}' AND m.id = '{key[1]}' AND n <> m\n",
    "        CALL apoc.refactor.mergeNodes([n, m]) YIELD node\n",
    "        RETURN node\n",
    "        \"\"\"\n",
    "        graph.query(merge_query)"
   ]
  },
  {
   "cell_type": "code",
   "execution_count": null,
   "metadata": {},
   "outputs": [
    {
     "name": "stderr",
     "output_type": "stream",
     "text": [
      "Received notification from DBMS server: {severity: WARNING} {code: Neo.ClientNotification.Statement.FeatureDeprecationWarning} {category: DEPRECATION} {title: This feature is deprecated and will be removed in future versions.} {description: The query used a deprecated field from a procedure. ('schema' returned by 'gds.graph.drop' is deprecated.)} {position: line: 1, column: 1, offset: 0} for query: 'CALL gds.graph.drop($graph_name, $failIfMissing)'\n"
     ]
    },
    {
     "data": {
      "text/plain": [
       "graphName                                                         entities\n",
       "database                                                             neo4j\n",
       "databaseLocation                                                     local\n",
       "memoryUsage                                                               \n",
       "sizeInBytes                                                             -1\n",
       "nodeCount                                                               73\n",
       "relationshipCount                                                      335\n",
       "configuration            {'relationshipProjection': {'__ALL__': {'aggre...\n",
       "density                                                           0.063737\n",
       "creationTime                           2024-07-16T07:57:38.577519300+00:00\n",
       "modificationTime                       2024-07-16T07:57:38.776780500+00:00\n",
       "schema                   {'graphProperties': {}, 'nodes': {'__Entity__'...\n",
       "schemaWithOrientation    {'graphProperties': {}, 'nodes': {'__Entity__'...\n",
       "Name: 0, dtype: object"
      ]
     },
     "execution_count": 176,
     "metadata": {},
     "output_type": "execute_result"
    }
   ],
   "source": [
    "G.drop()"
   ]
  },
  {
   "cell_type": "markdown",
   "metadata": {},
   "source": [
    "## Identify Graph communities and enhance the knowledge using LLM"
   ]
  },
  {
   "cell_type": "code",
   "execution_count": null,
   "metadata": {},
   "outputs": [
    {
     "name": "stderr",
     "output_type": "stream",
     "text": [
      "Received notification from DBMS server: {severity: WARNING} {code: Neo.ClientNotification.Statement.FeatureDeprecationWarning} {category: DEPRECATION} {title: This feature is deprecated and will be removed in future versions.} {description: The query used a deprecated field from a procedure. ('schema' returned by 'gds.graph.drop' is deprecated.)} {position: line: 1, column: 1, offset: 0} for query: 'CALL gds.graph.drop($graph_name, $fail_if_missing, $db_name)'\n"
     ]
    }
   ],
   "source": [
    "# # Project the graph to create a community graph\n",
    "gds.graph.drop(\"communities\")\n",
    "node_properties = [\"embedding\"]\n",
    "similarityCutoff = 0.97\n",
    "topK = 5\n",
    "\n",
    "G, result = gds.graph.project(\n",
    "    \"communities\",  #  Graph name\n",
    "    \"__Entity__\",  #  Node projection\n",
    "    \"*\",\n",
    "    nodeProperties=node_properties,\n",
    ")"
   ]
  },
  {
   "cell_type": "code",
   "execution_count": null,
   "metadata": {},
   "outputs": [
    {
     "data": {
      "text/plain": [
       "communityDistribution        {'min': 2, 'p5': 2, 'max': 24, 'p999': 24, 'p9...\n",
       "centroids                    [[-0.0024273318704217672, -0.00438305130228400...\n",
       "averageDistanceToCentroid                                             0.366477\n",
       "averageSilhouette                                                          0.0\n",
       "postProcessingMillis                                                         3\n",
       "preProcessingMillis                                                          0\n",
       "computeMillis                                                                6\n",
       "configuration                {'jobId': '5116329a-2a24-480e-a1d6-df4c6e4830a...\n",
       "Name: 0, dtype: object"
      ]
     },
     "execution_count": 249,
     "metadata": {},
     "output_type": "execute_result"
    }
   ],
   "source": [
    "gds.kmeans.stats(G,nodeProperty=node_properties[0],k=topK)"
   ]
  },
  {
   "cell_type": "code",
   "execution_count": null,
   "metadata": {},
   "outputs": [
    {
     "data": {
      "text/plain": [
       "mutateMillis                                                                 0\n",
       "nodePropertiesWritten                                                       71\n",
       "communityDistribution        {'min': 1, 'p5': 1, 'max': 39, 'p999': 39, 'p9...\n",
       "centroids                    [[-0.0007636715890839696, 0.00843294057995081,...\n",
       "averageDistanceToCentroid                                             0.368191\n",
       "averageSilhouette                                                          0.0\n",
       "postProcessingMillis                                                         4\n",
       "preProcessingMillis                                                          0\n",
       "computeMillis                                                                4\n",
       "configuration                {'mutateProperty': 'community', 'jobId': '7770...\n",
       "Name: 0, dtype: object"
      ]
     },
     "execution_count": 250,
     "metadata": {},
     "output_type": "execute_result"
    }
   ],
   "source": [
    "gds.kmeans.mutate(\n",
    "    G,\n",
    "    nodeProperty = node_properties[0],\n",
    "    mutateProperty = \"community\",\n",
    "    k = topK,\n",
    ")"
   ]
  },
  {
   "cell_type": "code",
   "execution_count": null,
   "metadata": {},
   "outputs": [
    {
     "data": {
      "text/plain": [
       "writeMillis                                                                 16\n",
       "nodePropertiesWritten                                                       71\n",
       "communityDistribution        {'min': 1, 'p5': 1, 'max': 30, 'p999': 30, 'p9...\n",
       "centroids                    [[-0.007178253494203091, -0.004013511352241039...\n",
       "averageDistanceToCentroid                                             0.370747\n",
       "averageSilhouette                                                          0.0\n",
       "postProcessingMillis                                                         2\n",
       "preProcessingMillis                                                          0\n",
       "computeMillis                                                                3\n",
       "configuration                {'writeProperty': 'community', 'jobId': '4ad14...\n",
       "Name: 0, dtype: object"
      ]
     },
     "execution_count": 252,
     "metadata": {},
     "output_type": "execute_result"
    }
   ],
   "source": [
    "gds.kmeans.write(\n",
    "    G,\n",
    "    nodeProperty = node_properties[0],\n",
    "    writeProperty = \"community\",\n",
    "    k = topK,\n",
    ")"
   ]
  },
  {
   "cell_type": "code",
   "execution_count": null,
   "metadata": {},
   "outputs": [
    {
     "name": "stderr",
     "output_type": "stream",
     "text": [
      "C:\\Users\\vism\\AppData\\Local\\Temp\\ipykernel_33320\\501766912.py:6: FutureWarning: Passing a DataFrame to DataFrame.from_records is deprecated. Use set_index and/or drop to modify the DataFrame instead.\n",
      "  result = pd.DataFrame.from_records(gds.run_cypher(query))\n"
     ]
    },
    {
     "data": {
      "text/html": [
       "<div>\n",
       "<style scoped>\n",
       "    .dataframe tbody tr th:only-of-type {\n",
       "        vertical-align: middle;\n",
       "    }\n",
       "\n",
       "    .dataframe tbody tr th {\n",
       "        vertical-align: top;\n",
       "    }\n",
       "\n",
       "    .dataframe thead th {\n",
       "        text-align: right;\n",
       "    }\n",
       "</style>\n",
       "<table border=\"1\" class=\"dataframe\">\n",
       "  <thead>\n",
       "    <tr style=\"text-align: right;\">\n",
       "      <th></th>\n",
       "      <th>community</th>\n",
       "      <th>count</th>\n",
       "      <th>entities</th>\n",
       "    </tr>\n",
       "  </thead>\n",
       "  <tbody>\n",
       "    <tr>\n",
       "      <th>0</th>\n",
       "      <td>4</td>\n",
       "      <td>30</td>\n",
       "      <td>Home Sizzler 153 Cm 5 02 Ft Polyester Room Dar...</td>\n",
       "    </tr>\n",
       "    <tr>\n",
       "      <th>1</th>\n",
       "      <td>2</td>\n",
       "      <td>23</td>\n",
       "      <td>299, 5, Review 339, 136, Nan, 3, Printed Men T...</td>\n",
       "    </tr>\n",
       "    <tr>\n",
       "      <th>3</th>\n",
       "      <td>0</td>\n",
       "      <td>14</td>\n",
       "      <td>Brilliant, Superb, 339, Summary 339, Good, Jus...</td>\n",
       "    </tr>\n",
       "    <tr>\n",
       "      <th>51</th>\n",
       "      <td>1</td>\n",
       "      <td>3</td>\n",
       "      <td>Air_Pin, Quality, Nivia</td>\n",
       "    </tr>\n",
       "    <tr>\n",
       "      <th>11</th>\n",
       "      <td>3</td>\n",
       "      <td>1</td>\n",
       "      <td>Summary_1</td>\n",
       "    </tr>\n",
       "  </tbody>\n",
       "</table>\n",
       "</div>"
      ],
      "text/plain": [
       "    community  count                                           entities\n",
       "0           4     30  Home Sizzler 153 Cm 5 02 Ft Polyester Room Dar...\n",
       "1           2     23  299, 5, Review 339, 136, Nan, 3, Printed Men T...\n",
       "3           0     14  Brilliant, Superb, 339, Summary 339, Good, Jus...\n",
       "51          1      3                            Air_Pin, Quality, Nivia\n",
       "11          3      1                                          Summary_1"
      ]
     },
     "execution_count": 253,
     "metadata": {},
     "output_type": "execute_result"
    }
   ],
   "source": [
    "# get nodes with writeProperty as community\n",
    "query = \"\"\"\n",
    "MATCH (n:__Entity__)\n",
    "RETURN n.id as id, n.community as community\n",
    "\"\"\"\n",
    "result = pd.DataFrame.from_records(gds.run_cypher(query))\n",
    "result['count'] = result.groupby(\"community\")[\"id\"].transform(\"count\")\n",
    "result[\"entities\"] = result.groupby(\"community\")[\"id\"].transform(lambda x: \", \".join(x))\n",
    "# drop id column\n",
    "result = result.drop(columns=[\"id\"])\n",
    "result = result.drop_duplicates()\n",
    "result.head().sort_values(by=\"count\", ascending=False)"
   ]
  },
  {
   "cell_type": "code",
   "execution_count": null,
   "metadata": {},
   "outputs": [
    {
     "name": "stdout",
     "output_type": "stream",
     "text": [
      "['Home Sizzler 153 Cm 5 02 Ft Polyester Room Darkening Window Curtain Pack Of 2 Floral Brown', 'Cosito 144 Tc Cotton Double Floral Flat Bedsheet', 'Hold Up Triangle Shape Mobile Holder For Table Desk Pack Of 5 Mobile Holder Mobile Holder', 'Review_1', 'Men Black Sandal']\n",
      "['299', '5', 'Review 339', '136', 'Nan']\n",
      "['Brilliant', 'Superb', '339', 'Summary 339', 'Good']\n"
     ]
    }
   ],
   "source": [
    "# Lets see the top 5 entities in each community to understand the entities in each community\n",
    "print(result.iloc[0].entities.split(\", \")[:5]) # top 5 entities in community 0, mostly appears to be names of products\n",
    "print(result.iloc[1].entities.split(\", \")[:5]) # top 5 entities in community 1, mostly appears to be names of prices\n",
    "print(result.iloc[2].entities.split(\", \")[:5]) # top 5 entities in community 1, mostly appears to be names of reviews"
   ]
  },
  {
   "cell_type": "code",
   "execution_count": null,
   "metadata": {},
   "outputs": [
    {
     "data": {
      "text/plain": [
       "[]"
      ]
     },
     "execution_count": 240,
     "metadata": {},
     "output_type": "execute_result"
    }
   ],
   "source": [
    "graph.query(\"CREATE CONSTRAINT IF NOT EXISTS FOR (c:__Community__) REQUIRE c.id IS UNIQUE;\")"
   ]
  },
  {
   "cell_type": "code",
   "execution_count": null,
   "metadata": {},
   "outputs": [
    {
     "name": "stdout",
     "output_type": "stream",
     "text": [
      "Community 2 created with 31 entities\n",
      "Community 1 created with 37 entities\n",
      "Community 0 created with 3 entities\n"
     ]
    }
   ],
   "source": [
    "# create a node for each community and create a relationship between community and entities\n",
    "for i, row in result.iterrows():\n",
    "    community_id = row[\"community\"]\n",
    "    entities = row[\"entities\"].split(\", \")\n",
    "    query = f\"\"\"\n",
    "    MERGE (c:__Community__{{id: '{community_id}'}})\n",
    "    WITH c\n",
    "    UNWIND {entities} as entity\n",
    "    MATCH (n:__Entity__{{id: entity }})\n",
    "    MERGE (n)-[:BELONGS_TO]->(c)\n",
    "    \"\"\"\n",
    "    result = graph.query(query)\n",
    "    print(f\"Community {community_id} created with {len(entities)} entities\")"
   ]
  },
  {
   "cell_type": "code",
   "execution_count": null,
   "metadata": {},
   "outputs": [
    {
     "name": "stdout",
     "output_type": "stream",
     "text": [
      "{'community_id': '2', 'nodes': [{'id': 'Nivia Storm Football', 'description': 'Size 5, Pack of 1, Multicolor', 'type': 'Product'}, {'id': 'Cosito 144 Tc Cotton Double Floral Flat Bedsheet', 'description': 'Pack of 1 Red White', 'type': 'Product'}, {'id': 'Mind-Blowing Purchase', 'description': None, 'type': 'Review'}, {'id': 'Cmerchants Book Shelf 5Rack Metal Open Book Shelf', 'description': 'Finish Color BLUE DIY Do It Yourself', 'type': 'Product'}, {'id': 'Pigeon Favourite Electric Kettle 1.5 L Silver Black', 'description': None, 'type': 'Product'}, {'id': 'Review_1', 'description': \"Don't waste your money\", 'type': 'Concept'}, {'id': 'Very Poor Summary:Poor Product.', 'description': None, 'type': 'Review_summary'}, {'id': 'Review_Summary', 'description': 'Good product ð\\x9f\\x91\\x8d', 'type': 'Summary'}, {'id': 'Best In The Market!', 'description': None, 'type': 'Review'}, {'id': 'Men Black Sandal', 'description': None, 'type': 'Product'}, {'id': 'Summary: One Of The Best Routers I Got It For 999.', 'description': 'Review summary', 'type': 'Summary'}, {'id': 'Samsung 253 L Frost Free Double Door 3 Star Refrigerator Elegant Inox Rt28A3453S8 Hl', 'description': 'SAMSUNG 253 L Frost Free Double Door 3 Star Refrigerator Elegant Inox RT28A3453S8 HL', 'type': 'Product'}, {'id': 'Hold Up Triangle Shape Mobile Holder For Table Desk Pack Of 5 Mobile Holder Mobile Holder', 'description': None, 'type': 'Product'}, {'id': 'Home Sizzler 153 Cm 5 02 Ft Polyester Room Darkening Window Curtain Pack Of 2 Floral Brown', 'description': None, 'type': 'Product'}, {'id': 'Men Lpmxt 800 Grey Clogs Sandal', 'description': 'Men LPMXT 800 Grey Clogs Sandal', 'type': 'Product'}, {'id': 'Very Late Delivery But I Am Fully Satisfied With This Product', 'description': None, 'type': 'Summary'}, {'id': 'Google Nest Mini 2Nd Gen', 'description': 'with Google Assistant Smart Speaker Chalk', 'type': 'Product'}, {'id': 'Decorum 188 Tc Polycotton Double Floral Flat Bedsheet Pack Of 1 Multicolor', 'description': None, 'type': 'Product'}, {'id': 'Useless Product', 'description': None, 'type': 'Summary'}, {'id': 'Global Green Dragon Treeâ Hybrid Pack Of 5', 'description': None, 'type': 'Product'}, {'id': 'Must Buy!', 'description': None, 'type': 'Review'}, {'id': 'Great Product', 'description': None, 'type': 'Review'}, {'id': 'Justandkrafts 75 L Blue Laundry Basket Cotton', 'description': None, 'type': 'Product'}, {'id': 'Agaro Regal Hand Held Vacuum Cleaner Black', 'description': None, 'type': 'Product'}, {'id': 'Kadio Analog 20 Cm X 20 Cm Wall Clock Beige With Glass Standard', 'description': None, 'type': 'Product'}, {'id': 'Summary_1', 'description': 'Worst product In 15 min all wires burns.', 'type': 'Concept'}, {'id': 'Awesome Product As Usual', 'description': None, 'type': 'Summary'}, {'id': 'Air_Pin', 'description': None, 'type': 'Feature'}, {'id': 'La Verne Microfibre Stripes Cushion Pack Of 3 White', 'description': 'Pack of 3 white microfibre stripes cushions', 'type': 'Product'}, {'id': 'Mi 4A Wireless Mu Mimo Gigabit 1200 Mbps Router Ÿ Ÿ White Dual Band', 'description': 'A router model', 'type': 'Product'}], 'relationships': []}\n"
     ]
    }
   ],
   "source": [
    "# create summaries for each community\n",
    "query = \"\"\"\n",
    "    MATCH (n:__Entity__)-[:BELONGS_TO]->(c:__Community__)\n",
    "    with c, collect(n) as nodes\n",
    "    where size(nodes) > 1\n",
    "    call apoc.path.subgraphAll(nodes, {limit: 2}) \n",
    "    YIELD relationships as rels\n",
    "    RETURN c.id as community_id\n",
    "    , \n",
    "    [n in nodes | {id: n.id, description: n.description, type: [el in labels(n) where el <> '__Entity__'][0]}] as nodes,\n",
    "    [r in rels | {start: startNode(r).id, end: endNode(r).id, type: type(r), description: r.description}] as relationships\n",
    "    \"\"\"\n",
    "result = graph.query(query)\n",
    "print(result[0])"
   ]
  },
  {
   "cell_type": "code",
   "execution_count": null,
   "metadata": {},
   "outputs": [],
   "source": [
    "from langchain_core.prompts import ChatPromptTemplate\n",
    "from langchain_core.output_parsers import StrOutputParser\n",
    "\n",
    "def get_summary_llm():\n",
    "    prompt = \"\"\"Based on the provided nodes and relationships that belong to the same graph community,\n",
    "generate a natural language summary of the provided information:{community_info} Summary:\"\"\"\n",
    "    community_prompt = ChatPromptTemplate.from_messages(\n",
    "    [\n",
    "        (\n",
    "            \"system\",\n",
    "            \"Given an input triples, generate the information summary. No pre-amble.\",\n",
    "        ),\n",
    "        (\"human\", prompt),\n",
    "    ])\n",
    "    community_chain = community_prompt | llm | StrOutputParser()\n",
    "    return community_chain\n",
    "\n",
    "community_summaries = {}\n",
    "for community in result:\n",
    "    nodes = community[\"nodes\"]\n",
    "    relationships = community[\"relationships\"]\n",
    "    community_info = \"\"\n",
    "    for node in nodes:\n",
    "        community_info += f\"{node['id']} is a {node['type']} with description {node['description']}. \"\n",
    "    chain = get_summary_llm()\n",
    "    summary = chain.invoke({'community_info': community_info})\n",
    "    community_summaries[community[\"community_id\"]] = summary"
   ]
  },
  {
   "cell_type": "code",
   "execution_count": null,
   "metadata": {},
   "outputs": [
    {
     "data": {
      "text/plain": [
       "{'2': 'This summary describes various products, reviews, and summaries, highlighting their main features and user feedback. \\n\\n**Products:**\\n1. **Nivia Storm Football** - Size 5, Pack of 1, Multicolor.\\n2. **Cosito 144 Tc Cotton Double Floral Flat Bedsheet** - Pack of 1, Red and White.\\n3. **Cmerchants Book Shelf 5Rack Metal Open Book Shelf** - Finish Color: Blue, DIY.\\n4. **Pigeon Favourite Electric Kettle** - 1.5 L, Silver and Black.\\n5. **Men Black Sandal** - No description.\\n6. **Samsung 253 L Frost Free Double Door 3 Star Refrigerator** - Elegant Inox, RT28A3453S8 HL.\\n7. **Hold Up Triangle Shape Mobile Holder For Table Desk** - Pack of 5.\\n8. **Home Sizzler 153 Cm 5 02 Ft Polyester Room Darkening Window Curtain** - Pack of 2, Floral Brown.\\n9. **Men Lpmxt 800 Grey Clogs Sandal** - Men LPMXT 800 Grey Clogs Sandal.\\n10. **Google Nest Mini 2Nd Gen** - Google Assistant Smart Speaker, Chalk.\\n11. **Decorum 188 Tc Polycotton Double Floral Flat Bedsheet** - Pack of 1, Multicolor.\\n12. **Global Green Dragon Tree Hybrid** - Pack of 5.\\n13. **Justandkrafts 75 L Blue Laundry Basket** - Cotton.\\n14. **Agaro Regal Hand Held Vacuum Cleaner** - Black.\\n15. **Kadio Analog 20 Cm X 20 Cm Wall Clock** - Beige with Glass.\\n16. **La Verne Microfibre Stripes Cushion** - Pack of 3, White.\\n17. **Mi 4A Wireless Mu Mimo Gigabit 1200 Mbps Router** - White, Dual Band.\\n\\n**Reviews:**\\n1. **Mind-Blowing Purchase** - No description.\\n2. **Must Buy!** - No description.\\n3. **Great Product** - No description.\\n\\n**Review Summaries:**\\n1. **Review_1** - \"Don\\'t waste your money. Very Poor.\"\\n2. **Summary** - \"Poor Product.\"\\n3. **Review_Summary** - \"Good product 👍.\"\\n4. **Summary** - \"One of the Best Routers I Got It For 999.\"\\n5. **Summary** - \"Very Late Delivery But I Am Fully Satisfied With This Product.\"\\n6. **Summary** - \"Useless Product.\"\\n7. **Summary_1** - \"Worst product. In 15 min all wires burns..\"\\n8. **Summary** - \"Awesome Product As Usual.\"',\n",
       " '1': 'The provided information describes various elements related to products, reviews, users, prices, and ratings. Users are identified with IDs 24 and 490. Multiple reviews include descriptions such as \"Brilliant,\" \"Just Okay,\" \"Absolute Rubbish!,\" \"Wonderful,\" and \"Review: Just Wow!\" with some reviews linked to specific review IDs like 1, 136, 225, 298, 340, and 648. Summaries include sentiments like \"Very good,\" \"Good,\" \"Superb,\" and a negative summary for Product 339 described as \"Waste of money! Summary: very bad 😒.\"\\n\\nProducts mentioned include \"Printed Men Three Fourths\" associated with Product IDs 154, 229, and 314. Prices are noted with IDs 299, 499, and 699. Ratings are given as 3, 4, and 5, with one review specifically rated 4. The brand \"Nivia\" and the feature \"Quality\" are also noted.',\n",
       " '0': 'The graph community includes two distinct products. The first product is the \"Milton Thermosteel Flip Lid 500 Ml Flask Pack Of 1 Silver Steel,\" described as a 500 ml steel flask with a flip lid, available in a pack of one. The second product is \"Mamaearth Skin Illuminate Face Serum,\" a face serum designed to promote radiant skin, containing Vitamin C and Turmeric, and available in a 15 ml size.'}"
      ]
     },
     "execution_count": 315,
     "metadata": {},
     "output_type": "execute_result"
    }
   ],
   "source": [
    "community_summaries"
   ]
  },
  {
   "cell_type": "code",
   "execution_count": null,
   "metadata": {},
   "outputs": [
    {
     "name": "stdout",
     "output_type": "stream",
     "text": [
      "Summary added to Community 2\n",
      "Summary added to Community 1\n",
      "Summary added to Community 0\n"
     ]
    }
   ],
   "source": [
    "# merge the summary to the community node\n",
    "for community_id, summary in community_summaries.items():\n",
    "    query = \"\"\"\n",
    "    MATCH (c:__Community__{id:$community_id})\n",
    "    SET c.summary = $summary\n",
    "    \"\"\"\n",
    "    result = graph.query(query, params={\"community_id\": community_id, \"summary\": summary})\n",
    "    print(f\"Summary added to Community {community_id}\")"
   ]
  },
  {
   "cell_type": "markdown",
   "metadata": {},
   "source": [
    "## Run LLM Queries on graph"
   ]
  },
  {
   "cell_type": "code",
   "execution_count": null,
   "metadata": {},
   "outputs": [],
   "source": [
    "index_name = \"document_embeddings\"  # default index name\n",
    "# Create a vector store from the existing graph\n",
    "graph = Neo4jVector.from_existing_graph(\n",
    "    AzureOpenAIEmbeddings(),\n",
    "    node_label='__Entity__',\n",
    "    text_node_properties=['id', 'description', 'summary', 'community'],\n",
    "    embedding_node_property='embedding',\n",
    "    index_name=index_name,\n",
    ")"
   ]
  },
  {
   "cell_type": "code",
   "execution_count": null,
   "metadata": {},
   "outputs": [],
   "source": [
    "def get_product(query):\n",
    "   meta = \"Given user query: {query} return nodes with similar embeddings, community and id\"\n",
    "   docs_with_score = graph.similarity_search_with_score(query, k=4)\n",
    "   # get the community and id of the nodes\n",
    "   # TODO: find a generic way to parse\n",
    "   product = docs_with_score[0][0].page_content.split(\"\\n\")[1]\n",
    "   product = product.split(\":\")[1].strip()\n",
    "   print(product)\n",
    "   return product"
   ]
  },
  {
   "cell_type": "code",
   "execution_count": null,
   "metadata": {},
   "outputs": [],
   "source": [
    "# get similar products and corresponding reviews relationships\n",
    "def get_content_by_rel(product):\n",
    "    query = \"\"\"\n",
    "    MATCH (product:__Entity__{id: $product})\n",
    "    with product\n",
    "    match (product)-[:SIMILAR]-(similar:__Entity__)\n",
    "    with product, collect(similar) AS similarEntities\n",
    "    unwind similarEntities AS similarEntity\n",
    "    MATCH (similarEntity)<-[r:REVIEW]-(review:Review)\n",
    "    WITH product, similarEntities, similarEntity, collect({start: similarEntity.id, end: review.id, type: type(r), value: review.description}) AS relationships, \n",
    "    collect({product: product.id, similar: similarEntity.id, review: review.description}) AS reviews\n",
    "    RETURN \n",
    "    {id: product.id, description: product.description, type: [label IN labels(product) WHERE label <> '__Entity__'][0]} AS productDetails, reviews,\n",
    "    [entity IN similarEntities | {id: entity.id, description: entity.description, type: [label IN labels(entity) WHERE label <> '__Entity__'][0]}] AS nodes,\n",
    "    relationships    \n",
    "    \"\"\"\n",
    "    result = graph.query(query, params={\"product\": product})\n",
    "    print(result)\n",
    "    return result"
   ]
  },
  {
   "cell_type": "code",
   "execution_count": null,
   "metadata": {},
   "outputs": [
    {
     "name": "stdout",
     "output_type": "stream",
     "text": [
      "Decorum 188 Tc Polycotton Double Floral Flat Bedsheet Pack Of 1 Multicolor\n",
      "[{'productDetails': {'id': 'Decorum 188 Tc Polycotton Double Floral Flat Bedsheet Pack Of 1 Multicolor', 'description': None, 'type': 'Product'}, 'reviews': [{'product': 'Decorum 188 Tc Polycotton Double Floral Flat Bedsheet Pack Of 1 Multicolor', 'review': 'Waste of money! Summary: very bad 😒.', 'similar': 'Cosito 144 Tc Cotton Double Floral Flat Bedsheet'}, {'product': 'Decorum 188 Tc Polycotton Double Floral Flat Bedsheet Pack Of 1 Multicolor', 'review': 'Waste of money! Summary: very bad 😒.', 'similar': 'Cosito 144 Tc Cotton Double Floral Flat Bedsheet'}], 'nodes': [{'id': 'Cosito 144 Tc Cotton Double Floral Flat Bedsheet', 'description': 'Pack of 1 Red White', 'type': 'Product'}, {'id': 'Cosito 144 Tc Cotton Double Floral Flat Bedsheet', 'description': 'Pack of 1 Red White', 'type': 'Product'}], 'relationships': [{'start': 'Cosito 144 Tc Cotton Double Floral Flat Bedsheet', 'value': 'Waste of money! Summary: very bad 😒.', 'type': 'REVIEW', 'end': '339'}, {'start': 'Cosito 144 Tc Cotton Double Floral Flat Bedsheet', 'value': 'Waste of money! Summary: very bad 😒.', 'type': 'REVIEW', 'end': '339'}]}]\n",
      "==================================================\n",
      "Based on the provided information, I recommend avoiding the purchase of the \"Decorum 188 Tc Polycotton Double Floral Flat Bedsheet Pack Of 1 Multicolor.\" The reviews indicate it is considered a waste of money and received very negative feedback. Additionally, the \"Cosito 144 Tc Cotton Double Floral Flat Bedsheet,\" which is similar to the Decorum product, also received poor reviews. Therefore, it would be prudent to look for alternative products with better reviews.\n"
     ]
    }
   ],
   "source": [
    "import json\n",
    "query = \"recommend a good bedsheet\"\n",
    "\n",
    "def get_recommendation(query):\n",
    "    product = get_product(query)\n",
    "    nodes_relationships = get_content_by_rel(product)\n",
    "    prompt = \"\"\"Based on the provided context, provide a recommendation based on the provided information. \n",
    "    Use description and relationships to provide the recommendation.\n",
    "    Context:{nodes_relationships}\"\"\"\n",
    "    reco_prompt = ChatPromptTemplate.from_messages(\n",
    "        [\n",
    "            (\n",
    "                \"system\",\n",
    "                \"You are a data processing assistant, your task is to provide a recommendation based on the provided information. Be concise and to the point.\",\n",
    "            ),\n",
    "            (\"human\", prompt),\n",
    "        ]\n",
    "    )\n",
    "    template = reco_prompt | llm | StrOutputParser()\n",
    "    result = template.invoke({\"nodes_relationships\": json.dumps(nodes_relationships)})\n",
    "    return result\n",
    "ans = get_recommendation(query)\n",
    "print(\"=\"*50)\n",
    "print(ans)\n"
   ]
  },
  {
   "cell_type": "code",
   "execution_count": null,
   "metadata": {},
   "outputs": [],
   "source": []
  }
 ],
 "metadata": {
  "kernelspec": {
   "display_name": ".venv",
   "language": "python",
   "name": "python3"
  },
  "language_info": {
   "codemirror_mode": {
    "name": "ipython",
    "version": 3
   },
   "file_extension": ".py",
   "mimetype": "text/x-python",
   "name": "python",
   "nbconvert_exporter": "python",
   "pygments_lexer": "ipython3",
   "version": "3.11.9"
  }
 },
 "nbformat": 4,
 "nbformat_minor": 2
}
