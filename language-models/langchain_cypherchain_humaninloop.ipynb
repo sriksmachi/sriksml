{
 "cells": [
  {
   "cell_type": "code",
   "execution_count": 8,
   "metadata": {},
   "outputs": [],
   "source": [
    "# %pip install pandas\n",
    "# %pip install langchain langchain_community\n",
    "# %pip install neo4j\n",
    "# %pip install langchain_openai\n",
    "# %pip install python-dotenv\n",
    "# %pip install chromadb\n",
    "# %pip install \"numpy<2\""
   ]
  },
  {
   "cell_type": "code",
   "execution_count": 9,
   "metadata": {},
   "outputs": [],
   "source": [
    "import pandas as pd\n",
    "import os\n",
    "from langchain_community.graphs import Neo4jGraph\n",
    "from langchain_core.messages import AIMessage\n",
    "from langchain_openai import AzureChatOpenAI, AzureOpenAIEmbeddings\n",
    "from dotenv import load_dotenv"
   ]
  },
  {
   "cell_type": "code",
   "execution_count": 10,
   "metadata": {},
   "outputs": [],
   "source": [
    "os.environ['NEO4J_URI'] = 'bolt://localhost:7690'\n",
    "os.environ['NEO4J_USERNAME'] = 'neo4j'\n",
    "os.environ['NEO4J_PASSWORD'] = 'Password@123'\n",
    "graph = Neo4jGraph()"
   ]
  },
  {
   "cell_type": "code",
   "execution_count": 11,
   "metadata": {},
   "outputs": [],
   "source": [
    "load_dotenv()\n",
    "\n",
    "os.environ[\"AZURE_OPENAI_API_KEY\"] = os.getenv(\"AZURE_OPENAI_API_KEY\")\n",
    "os.environ[\"AZURE_OPENAI_ENDPOINT\"] = \"https://sriks-openai.openai.azure.com/\"\n",
    "os.environ[\"AZURE_OPENAI_API_VERSION\"] = \"2024-05-01-preview\"\n",
    "os.environ[\"AZURE_OPENAI_CHAT_DEPLOYMENT\"] = \"gpt-4o\"\n",
    "os.environ[\"AZURE_OPENAI_EMBEDDINGS_DEPLOYMENT\"] = \"text-embedding-ada-002\"\n",
    "\n",
    "llm = AzureChatOpenAI(\n",
    "    openai_api_version=os.environ[\"AZURE_OPENAI_API_VERSION\"],\n",
    "    azure_deployment=os.environ[\"AZURE_OPENAI_CHAT_DEPLOYMENT\"],\n",
    ")\n",
    "\n",
    "embeddings = AzureOpenAIEmbeddings(\n",
    "    openai_api_version=os.environ[\"AZURE_OPENAI_API_VERSION\"],\n",
    "    azure_deployment=os.environ[\"AZURE_OPENAI_EMBEDDINGS_DEPLOYMENT\"],\n",
    ")"
   ]
  },
  {
   "cell_type": "code",
   "execution_count": 12,
   "metadata": {},
   "outputs": [],
   "source": [
    "examples = [\n",
    "    {\n",
    "        \"question\": \"What is the root cause request id 8ff8696695aa73588ac454809741e2ea\",\n",
    "        \"query\": \"MATCH (n)-[r:DEPENDS_ON]->(m) where n.id <> 'ROOT' OR m.id <> 'ROOT' and r.operationId = 8ff8696695aa73588ac454809741e2ea RETURN n.id, r.duration, r.operation_Name, m.id ORDER BY r.duration DESC LIMIT 3\",\n",
    "    },\n",
    "    {\n",
    "        \"question\": \"what is the longest running operation\",\n",
    "        \"query\": \"MATCH (n)-[r:DEPENDS_ON]->(m) where n.id <> 'ROOT' OR m.id <> 'ROOT' RETURN n.id, r.duration, r.operation_Name, m.id ORDER BY r.duration DESC LIMIT 3\",\n",
    "    }\n",
    "]"
   ]
  },
  {
   "cell_type": "code",
   "execution_count": 13,
   "metadata": {},
   "outputs": [],
   "source": [
    "from langchain.chains import GraphCypherQAChain\n",
    "from langchain_core.prompts import FewShotPromptTemplate, PromptTemplate\n",
    "from langchain_core.example_selectors import SemanticSimilarityExampleSelector, MaxMarginalRelevanceExampleSelector\n",
    "from langchain.vectorstores import Chroma\n",
    "from langchain.chains.llm import LLMChain\n",
    "from langchain.chains.graph_qa.cypher import construct_schema\n",
    "from langchain.chains import SimpleSequentialChain, SequentialChain\n",
    "from langchain.agents import AgentType, initialize_agent, load_tools\n",
    "\n",
    "# load human intervention tools\n",
    "tools = load_tools(\n",
    "    [\"human\"], llm\n",
    ")\n",
    "\n",
    "graph.refresh_schema()\n",
    "\n",
    "QA_GENERATION_TEMPLATE = \"\"\"\n",
    "       Task: answer the question you are given based on the context provided.\n",
    "       Instructions:\n",
    "        You are an assistant that helps to form nice and human understandable answers. \n",
    "        Use the context information provided to generate a well organized and comprehensve answer to the user's question. \n",
    "        When the provided information contains multiple elements, structure your answer as a bulleted or numbered list to enhance clarity and readability.\n",
    "        You must use the information to construct your answer. \n",
    "        The provided information is authoritative; do not doubt it or try to use your internal knowledge to correct it. \n",
    "        Make the answer sound like a response to the question without mentioning that you based the result on the given information. \n",
    "        If there is no information provided, say that the knowledge base returned empty results.\n",
    "\n",
    "        Here's the information:\n",
    "        {context}\n",
    "\n",
    "        Question: {question}\n",
    "        Answer:\n",
    "            \"\"\"\n",
    "EXAMPLES_PROMPT_TEMPLATE = \"\"\"   \n",
    "                Input: {question},\n",
    "                Output: {query}\n",
    "            \"\"\"\n",
    "\n",
    "qaPrompt = PromptTemplate(input_variables=[\"context\", \"question\"], template=QA_GENERATION_TEMPLATE)\n",
    "\n",
    "example_prompt = PromptTemplate(input_variables=[\"question\", \"query\"], template=EXAMPLES_PROMPT_TEMPLATE)\n",
    "\n",
    "cypherPromptTemplate = \"\"\"\n",
    "You are an expert Neo4j Developer translating user questions into Cypher to answer questions.\n",
    "Convert the user's question based on the schema.\n",
    "Instructions: Use only the provided relationship types and properties in the schema.\n",
    "Do not use any other relationship types or properties that are not provided.\n",
    "Schema:\n",
    "{schema}\n",
    "\n",
    "Note: Do not include any explanations or apologies in your responses.\n",
    "Do not respond to any questions that might ask anything else than for you to construct a Cypher statement.\n",
    "Do not include any text except the generated Cypher statement.\n",
    "\n",
    "Important: In the generated Cypher query, the RETURN statement must explicitly include the property values used in the query's filtering condition, alongside the main information requested from the original question.\n",
    "\n",
    "Question: {question}\n",
    "input:\n",
    "\"\"\"\n",
    "\n",
    "similaritySelector = SemanticSimilarityExampleSelector.from_examples(\n",
    "    examples=examples, \n",
    "    embeddings=embeddings, \n",
    "    k=1,\n",
    "    vectorstore_cls=Chroma\n",
    ")\n",
    "\n",
    "cypherPrompt = FewShotPromptTemplate(\n",
    "    example_selector=similaritySelector,\n",
    "    example_prompt=example_prompt,\n",
    "    input_variables=[\"question\", \"schema\"], \n",
    "    prefix=cypherPromptTemplate,\n",
    "    suffix=\"the question is:{question}\",\n",
    ")\n",
    "\n",
    "cypherqachain = GraphCypherQAChain.from_llm(\n",
    "    llm = llm,\n",
    "    return_intermediate_steps=True,\n",
    "    validate_cypher=True,\n",
    "    graph=graph, \n",
    "    verbose=True,\n",
    "    k=3,\n",
    "    use_function_response=True,\n",
    "    cypherPrompt=cypherPrompt,\n",
    "    return_direct=True,\n",
    "    output_key=\"input\",\n",
    ") \n",
    "\n",
    "schema  = construct_schema(graph.get_structured_schema, [], [])"
   ]
  },
  {
   "cell_type": "code",
   "execution_count": 14,
   "metadata": {},
   "outputs": [
    {
     "name": "stdout",
     "output_type": "stream",
     "text": [
      "\n",
      "\n",
      "\u001b[1m> Entering new GraphCypherQAChain chain...\u001b[0m\n",
      "Generated Cypher:\n",
      "\u001b[32;1m\u001b[1;3mcypher\n",
      "MATCH (crn:cloudRoleName)-[r:AZURE_DEPENDS_ON]->(sql:SQL)\n",
      "RETURN crn.id, COUNT(r) AS azureDependencyCount\n",
      "ORDER BY azureDependencyCount DESC\n",
      "LIMIT 1\n",
      "\u001b[0m\n",
      "\n",
      "\u001b[1m> Finished chain.\u001b[0m\n"
     ]
    },
    {
     "data": {
      "text/plain": [
       "{'query': 'which nodes has max azure dependencies',\n",
       " 'input': [{'crn.id': 'people-api', 'azureDependencyCount': 23}],\n",
       " 'intermediate_steps': [{'query': 'cypher\\nMATCH (crn:cloudRoleName)-[r:AZURE_DEPENDS_ON]->(sql:SQL)\\nRETURN crn.id, COUNT(r) AS azureDependencyCount\\nORDER BY azureDependencyCount DESC\\nLIMIT 1\\n'}]}"
      ]
     },
     "execution_count": 14,
     "metadata": {},
     "output_type": "execute_result"
    }
   ],
   "source": [
    "# Test cypher chain invocation\n",
    "cypherqachain.invoke({\"query\": \"which nodes has max azure dependencies\"})"
   ]
  },
  {
   "cell_type": "markdown",
   "metadata": {},
   "source": [
    "The below code, creates a confidence chain that will be used to ask LLM how confident it is query generated."
   ]
  },
  {
   "cell_type": "code",
   "execution_count": 43,
   "metadata": {},
   "outputs": [],
   "source": [
    "confidence_prompt_template = \"\"\"Given the {input}, {schema} how confident are you in the query on scale of 1-5, answer precisely in JSON format\n",
    "score: 1, reason: The query is not clear, assumptions: The query is not clear\"\"\"\n",
    "\n",
    "confidence_prompt = PromptTemplate(template=confidence_prompt_template, input_variables=[\"input\", \"schema\"])\n",
    "\n",
    "# ask llm on confidence of the query\n",
    "confidenceChain = LLMChain(\n",
    "    llm=llm,\n",
    "    prompt=confidence_prompt\n",
    ")    "
   ]
  },
  {
   "cell_type": "code",
   "execution_count": 44,
   "metadata": {},
   "outputs": [],
   "source": [
    "human_interaction_prompt = \"\"\"How do you want to proceed?\"\"\"\n",
    "agent = initialize_agent(\n",
    "    tools=tools, llm=llm, agent=\"zero-shot-react-description\", verbose=True, prompt=human_interaction_prompt\n",
    ")"
   ]
  },
  {
   "cell_type": "code",
   "execution_count": 45,
   "metadata": {},
   "outputs": [],
   "source": [
    "# function is used to extract the query from the message, schema is a global variable\n",
    "def queryExtractor(msg: AIMessage):\n",
    "    print(msg)\n",
    "    query = msg[\"intermediate_steps\"][0][\"query\"]\n",
    "    question = msg[\"query\"]\n",
    "    msg = {\"input\": query, \"schema\": schema}\n",
    "    return msg\n",
    "\n",
    "# function is used to extract the final context from the message, context here is the cypher query \n",
    "def extractFinalContext(msg: AIMessage):\n",
    "    print(msg)\n",
    "    context = msg[\"input\"]\n",
    "    return {\"context\": context}\n",
    "\n",
    "# function is used to execute the cypher query\n",
    "def executeCypher(msg: AIMessage):\n",
    "    query = msg[\"context\"]\n",
    "    query = query.replace(\"cypher\", \"\")\n",
    "    result = graph.query(query)\n",
    "    result = pd.DataFrame(result)\n",
    "    print(result)\n",
    "    return result\n",
    "\n",
    "final_chain = cypherqachain | queryExtractor | confidenceChain | agent | extractFinalContext | executeCypher #| qaPrompt"
   ]
  },
  {
   "cell_type": "code",
   "execution_count": 46,
   "metadata": {},
   "outputs": [
    {
     "name": "stdout",
     "output_type": "stream",
     "text": [
      "\n",
      "\n",
      "\u001b[1m> Entering new GraphCypherQAChain chain...\u001b[0m\n",
      "Generated Cypher:\n",
      "\u001b[32;1m\u001b[1;3mcypher\n",
      "MATCH (:cloudRoleName)-[:AZURE_DEPENDS_ON]->(sql:SQL)\n",
      "RETURN count(DISTINCT sql)\n",
      "\u001b[0m\n",
      "\n",
      "\u001b[1m> Finished chain.\u001b[0m\n",
      "{'query': 'how many nodes are connected to sql', 'input': [{'count(DISTINCT sql)': 2}], 'intermediate_steps': [{'query': 'cypher\\nMATCH (:cloudRoleName)-[:AZURE_DEPENDS_ON]->(sql:SQL)\\nRETURN count(DISTINCT sql)\\n'}]}\n",
      "\n",
      "\n",
      "\u001b[1m> Entering new AgentExecutor chain...\u001b[0m\n",
      "\u001b[32;1m\u001b[1;3mThe question appears to involve a Cypher query related to Neo4j, a graph database, querying for SQL nodes that have a specific type of relationship with cloudRoleName nodes.\n",
      "\n",
      "Let's break down the provided Cypher query:\n",
      "- `MATCH (:cloudRoleName)-[:AZURE_DEPENDS_ON]->(sql:SQL)`: This part of the query is looking for a pattern where there are nodes with the label `cloudRoleName` that have an `AZURE_DEPENDS_ON` relationship to nodes labeled `SQL`.\n",
      "- `RETURN count(DISTINCT sql)`: This part returns the count of distinct `SQL` nodes that match the pattern.\n",
      "\n",
      "To answer the question, I need to think about whether the query is correctly constructed or if there are any issues or additional considerations needed.\n",
      "\n",
      "Since I am not sure if I fully understand the context or specific requirements, I should consult a human for guidance.\n",
      "\n",
      "Action: human\n",
      "Action Input: Is the provided Cypher query correctly constructed to count the distinct SQL nodes that have an AZURE_DEPENDS_ON relationship with cloudRoleName nodes? Are there any additional considerations or improvements needed?\u001b[0m\n",
      "\n",
      "Is the provided Cypher query correctly constructed to count the distinct SQL nodes that have an AZURE_DEPENDS_ON relationship with cloudRoleName nodes? Are there any additional considerations or improvements needed?\n",
      "\n",
      "Observation: \u001b[36;1m\u001b[1;3madd attribute description to target node\u001b[0m\n",
      "Thought:\u001b[32;1m\u001b[1;3mThe provided Cypher query is mostly correct for counting the distinct SQL nodes that have an `AZURE_DEPENDS_ON` relationship with `cloudRoleName` nodes. However, if there is a need to include an attribute description for the target node (`sql`), we might need to modify the query to include the attribute in the match pattern.\n",
      "\n",
      "To include an attribute description for the `sql` node, assuming the attribute is named `description`, the query can be adjusted as follows:\n",
      "\n",
      "```cypher\n",
      "MATCH (:cloudRoleName)-[:AZURE_DEPENDS_ON]->(sql:SQL {description: 'some_description'})\n",
      "RETURN count(DISTINCT sql)\n",
      "```\n",
      "\n",
      "If you need to include a description attribute in the output without filtering by it, you can modify the query to include the attribute in the return statement:\n",
      "\n",
      "```cypher\n",
      "MATCH (:cloudRoleName)-[:AZURE_DEPENDS_ON]->(sql:SQL)\n",
      "RETURN count(DISTINCT sql), sql.description\n",
      "```\n",
      "\n",
      "This query will return the count of distinct `SQL` nodes and their descriptions. \n",
      "\n",
      "If the attribute `description` is not specified for filtering or output purposes, the initial query provided is sufficient to get the count of distinct `SQL` nodes.\n",
      "\n",
      "Thought: I now know the final answer.\n",
      "Final Answer: The provided Cypher query is correctly constructed to count the distinct SQL nodes that have an `AZURE_DEPENDS_ON` relationship with `cloudRoleName` nodes. If you need to add an attribute description to the target node, you can either filter by the description in the match pattern or include the description in the return statement, depending on the requirement.\u001b[0m\n",
      "\n",
      "\u001b[1m> Finished chain.\u001b[0m\n",
      "{'input': 'cypher\\nMATCH (:cloudRoleName)-[:AZURE_DEPENDS_ON]->(sql:SQL)\\nRETURN count(DISTINCT sql)\\n', 'schema': 'Node properties are the following:\\ncloudRoleName {id: STRING},SQL {id: STRING}\\nRelationship properties are the following:\\nDEPENDS_ON {counter: INTEGER, operation_Name: STRING, duration: FLOAT, itemType: STRING, operationId: STRING, type: STRING, id: STRING},INPROC_TT {operation_Name: STRING, duration: FLOAT, itemType: STRING, id: STRING, counter: INTEGER, operationId: STRING, type: STRING},AZURE_DEPENDS_ON {itemType: STRING, operation_Name: STRING, id: STRING, operationId: STRING, type: STRING, duration: FLOAT, counter: INTEGER}\\nThe relationships are the following:\\n(:cloudRoleName)-[:DEPENDS_ON]->(:cloudRoleName),(:cloudRoleName)-[:INPROC_TT]->(:cloudRoleName),(:cloudRoleName)-[:AZURE_DEPENDS_ON]->(:SQL)', 'text': '```json\\n{\\n  \"score\": 5,\\n  \"reason\": \"The query is clear and correctly structured to count distinct SQL nodes that have an AZURE_DEPENDS_ON relationship from any cloudRoleName node. The node properties and relationship properties provided support the query structure.\",\\n  \"assumptions\": []\\n}\\n```', 'output': 'The provided Cypher query is correctly constructed to count the distinct SQL nodes that have an `AZURE_DEPENDS_ON` relationship with `cloudRoleName` nodes. If you need to add an attribute description to the target node, you can either filter by the description in the match pattern or include the description in the return statement, depending on the requirement.'}\n",
      "   count(DISTINCT sql)\n",
      "0                    2\n"
     ]
    },
    {
     "data": {
      "text/html": [
       "<div>\n",
       "<style scoped>\n",
       "    .dataframe tbody tr th:only-of-type {\n",
       "        vertical-align: middle;\n",
       "    }\n",
       "\n",
       "    .dataframe tbody tr th {\n",
       "        vertical-align: top;\n",
       "    }\n",
       "\n",
       "    .dataframe thead th {\n",
       "        text-align: right;\n",
       "    }\n",
       "</style>\n",
       "<table border=\"1\" class=\"dataframe\">\n",
       "  <thead>\n",
       "    <tr style=\"text-align: right;\">\n",
       "      <th></th>\n",
       "      <th>count(DISTINCT sql)</th>\n",
       "    </tr>\n",
       "  </thead>\n",
       "  <tbody>\n",
       "    <tr>\n",
       "      <th>0</th>\n",
       "      <td>2</td>\n",
       "    </tr>\n",
       "  </tbody>\n",
       "</table>\n",
       "</div>"
      ],
      "text/plain": [
       "   count(DISTINCT sql)\n",
       "0                    2"
      ]
     },
     "execution_count": 46,
     "metadata": {},
     "output_type": "execute_result"
    }
   ],
   "source": [
    "final_chain.invoke({\"query\": \"how many nodes are connected to sql\"})"
   ]
  }
 ],
 "metadata": {
  "kernelspec": {
   "display_name": "Python 3",
   "language": "python",
   "name": "python3"
  },
  "language_info": {
   "codemirror_mode": {
    "name": "ipython",
    "version": 3
   },
   "file_extension": ".py",
   "mimetype": "text/x-python",
   "name": "python",
   "nbconvert_exporter": "python",
   "pygments_lexer": "ipython3",
   "version": "3.11.9"
  }
 },
 "nbformat": 4,
 "nbformat_minor": 2
}
