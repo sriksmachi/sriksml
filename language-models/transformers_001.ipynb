{
  "nbformat": 4,
  "nbformat_minor": 0,
  "metadata": {
    "colab": {
      "provenance": [],
      "mount_file_id": "https://github.com/sriksmachi/sriksml/blob/main/language-models/transformers_001.ipynb",
      "authorship_tag": "ABX9TyMxlQ5iYvIGeg1O487wuhq5",
      "include_colab_link": true
    },
    "kernelspec": {
      "name": "python3",
      "display_name": "Python 3"
    },
    "language_info": {
      "name": "python"
    }
  },
  "cells": [
    {
      "cell_type": "markdown",
      "metadata": {
        "id": "view-in-github",
        "colab_type": "text"
      },
      "source": [
        "<a href=\"https://colab.research.google.com/github/sriksmachi/sriksml/blob/main/language-models/transformers_001.ipynb\" target=\"_parent\"><img src=\"https://colab.research.google.com/assets/colab-badge.svg\" alt=\"Open In Colab\"/></a>"
      ]
    },
    {
      "cell_type": "code",
      "source": [],
      "metadata": {
        "id": "ymvAUlN6lfrO"
      },
      "execution_count": 32,
      "outputs": []
    },
    {
      "cell_type": "code",
      "source": [
        "import tensorflow as tf\n",
        "from tensorflow import matmul, cast, float32,sqrt, math, transpose\n",
        "from tensorflow import convert_to_tensor, string\n",
        "from keras.backend import softmax\n",
        "from numpy import random\n",
        "from tensorflow.keras.layers import TextVectorization, Embedding, Layer, Dropout\n",
        "from tensorflow.data import Dataset\n",
        "import numpy as np\n",
        "import matplotlib.pyplot as plt\n"
      ],
      "metadata": {
        "id": "_fGjw2YZ_BLF"
      },
      "execution_count": 33,
      "outputs": []
    },
    {
      "cell_type": "code",
      "source": [
        "class DotProductAttention(Layer):\n",
        "  def __init__(self, **kwargs):\n",
        "    super(DotProductAttention, self).__init__(**kwargs)\n",
        "\n",
        "  def call(self, queries, keys, values, d_k, mask=None):\n",
        "    scores = matmul(queries, keys, transpose_b=True) / math.sqrt(cast(d_k, float32))\n",
        "    if mask is not None:\n",
        "      scores += (mask * -1e9)\n",
        "    weights = softmax(scores)\n",
        "    attention_weights = matmul(weights, values)\n",
        "    return attention_weights"
      ],
      "metadata": {
        "id": "IfR6vWNuAQbP"
      },
      "execution_count": 34,
      "outputs": []
    },
    {
      "cell_type": "code",
      "source": [
        "# Testing the DotProductAttention\n",
        "\n",
        "d_k = 64\n",
        "d_v = 64\n",
        "batch_size = 64\n",
        "input_seq_len = 10\n",
        "\n",
        "queries = random.random((batch_size, input_seq_len, d_k))\n",
        "keys = random.random((batch_size, input_seq_len, d_k))\n",
        "values = random.random((batch_size, input_seq_len, d_v))\n",
        "\n",
        "attention = DotProductAttention()\n",
        "attention_weights = attention(queries, keys, values, d_k)\n",
        "print(queries.shape)\n"
      ],
      "metadata": {
        "colab": {
          "base_uri": "https://localhost:8080/"
        },
        "id": "iIh3KZA1B6b4",
        "outputId": "29ae5909-4f95-428b-b41f-578195bafc13"
      },
      "execution_count": 35,
      "outputs": [
        {
          "output_type": "stream",
          "name": "stdout",
          "text": [
            "(64, 10, 64)\n"
          ]
        }
      ]
    },
    {
      "cell_type": "code",
      "source": [
        "class MultiHeadAttention(Layer):\n",
        "  def __init__(self, n_heads, d_k, d_v, d_model, **kwargs):\n",
        "    super(MultiHeadAttention, self).__init__(**kwargs)\n",
        "    self.n_heads = n_heads\n",
        "    self.attention = DotProductAttention()\n",
        "    self.d_k = d_k\n",
        "    self.d_v = d_v\n",
        "    self.W_q = tf.keras.layers.Dense(d_k)\n",
        "    self.W_k = tf.keras.layers.Dense(d_k)\n",
        "    self.W_v = tf.keras.layers.Dense(d_v)\n",
        "    self.W_o = tf.keras.layers.Dense(d_model)\n",
        "\n",
        "  def reshape_tensor(self, x, heads, flag):\n",
        "    if flag:\n",
        "      x = tf.reshape(x, shape = (x.shape[0], x.shape[1], heads, -1))\n",
        "      x = transpose(x, perm=[0, 2, 1, 3])\n",
        "    else:\n",
        "      x = transpose(x, perm=(0, 2, 1, 3))\n",
        "      x = tf.reshape(x, shape=(x.shape[0], x.shape[1], -1))\n",
        "    return x\n",
        "\n",
        "  def call(self, queries, keys, values, mask=None):\n",
        "    # this converts the queries to shape (batch_size, heads, input_length, -1)\n",
        "    q_reshaped = self.reshape_tensor(self.W_q(queries), self.n_heads, True)\n",
        "    # this converts the keys to shape (batch_size, heads, input_length, -1)\n",
        "    k_reshaped = self.reshape_tensor(self.W_k(keys), self.n_heads, True)\n",
        "    # this converts the values to shape (batch_size, heads, input_length, -1)\n",
        "    v_reshaped = self.reshape_tensor(self.W_v(values), self.n_heads, True)\n",
        "    # compute attention weights in parallel, reshapes to (batch_size, heads, input_length, -1)\n",
        "    o_reshaped = self.attention(q_reshaped, k_reshaped, v_reshaped, self.d_k, mask)\n",
        "    o = self.reshape_tensor(o_reshaped, self.n_heads, False)\n",
        "    o = self.W_o(o)\n",
        "    return o\n"
      ],
      "metadata": {
        "id": "yez0zfzr_h64"
      },
      "execution_count": 36,
      "outputs": []
    },
    {
      "cell_type": "code",
      "source": [
        "# Testing the above code\n",
        "n_heads = 8\n",
        "d_k = 64\n",
        "d_v = 64\n",
        "d_model = 512 # embedding size\n",
        "batch_size = 64\n",
        "input_seq_len = 10\n",
        "\n",
        "# 4, 64, 64, 512\n",
        "multihead_attention = MultiHeadAttention(n_heads, d_k, d_v, d_model)\n",
        "# 64, 10, 64\n",
        "queries = random.random((batch_size, input_seq_len, d_k))\n",
        "keys = random.random((batch_size, input_seq_len, d_k))\n",
        "values = random.random((batch_size, input_seq_len, d_v))\n",
        "\n",
        "print(queries.shape)\n",
        "attention_weights = multihead_attention(queries, keys, values)\n",
        "print(attention_weights.shape)"
      ],
      "metadata": {
        "colab": {
          "base_uri": "https://localhost:8080/"
        },
        "id": "eWXO5VnbHbQ3",
        "outputId": "aee60906-208d-4b2b-d460-e264ded42c80"
      },
      "execution_count": 37,
      "outputs": [
        {
          "output_type": "stream",
          "name": "stdout",
          "text": [
            "(64, 10, 64)\n",
            "(64, 10, 512)\n"
          ]
        }
      ]
    },
    {
      "cell_type": "code",
      "source": [
        "# Positional embedding matrix\n",
        "\n",
        "def pos_enc_matrix(L, d, n=1000):\n",
        "  assert d % 2 == 0\n",
        "  d2 = d // 2\n",
        "  P = np.zeros((L, d))\n",
        "  # creates a 1d array of evenly spaced values and converting it into column vector\n",
        "  k = np.arange(L).reshape(-1, 1)\n",
        "  i = np.arange(d2).reshape(1,-1)\n",
        "  denom = np.power(n, -i/d2) # n ** (-2*i/d)\n",
        "  args = k * denom\n",
        "  P[:, ::2] = np.sin(args)\n",
        "  P[:, 1::2] = np.cos(args)\n",
        "  return P\n",
        "\n",
        "pos_matrix = pos_enc_matrix(4, 4)\n",
        "assert pos_matrix.shape == (4,4)\n",
        "print(pos_matrix.shape)\n",
        "print(pos_matrix)\n"
      ],
      "metadata": {
        "id": "SWNd4soU1dTv",
        "outputId": "b77175ce-1d2f-44f8-ca5e-e6a28094be9c",
        "colab": {
          "base_uri": "https://localhost:8080/"
        }
      },
      "execution_count": 38,
      "outputs": [
        {
          "output_type": "stream",
          "name": "stdout",
          "text": [
            "(4, 4)\n",
            "[[ 0.          1.          0.          1.        ]\n",
            " [ 0.84147098  0.54030231  0.03161751  0.99950004]\n",
            " [ 0.90929743 -0.41614684  0.0632034   0.99800067]\n",
            " [ 0.14112001 -0.9899925   0.09472609  0.99550337]]\n"
          ]
        }
      ]
    },
    {
      "cell_type": "code",
      "source": [],
      "metadata": {
        "id": "IrefrQsA_iWE"
      },
      "execution_count": null,
      "outputs": []
    },
    {
      "cell_type": "code",
      "source": [
        "# Positional Embedding\n",
        "\n",
        "class PositionalEmbeddingLayer(Layer):\n",
        "  def __init__(self, max_seq_len, vocab_size, output_dim, **kwargs):\n",
        "    super(PositionalEmbeddingLayer, self).__init__(**kwargs)\n",
        "    self.word_embedding_layer = Embedding(vocab_size, output_dim, mask_zero=True)\n",
        "    self.max_seq_len = max_seq_len\n",
        "    self.output_dim = output_dim\n",
        "    self.vocab_size = vocab_size\n",
        "\n",
        "  def compute_mask(self, *args, **kwargs):\n",
        "      return self.word_embedding_layer.compute_mask(*args, **kwargs)\n",
        "\n",
        "  def call(self, inputs):\n",
        "    embedded_words = self.word_embedding_layer(inputs)\n",
        "    embedded_positions = pos_enc_matrix(self.max_seq_len, self.output_dim)\n",
        "    return embedded_words + tf.constant(embedded_positions, dtype = \"float32\")"
      ],
      "metadata": {
        "id": "OUmDv5MuIAO2"
      },
      "execution_count": 63,
      "outputs": []
    },
    {
      "cell_type": "code",
      "source": [
        "my_embedding_layer = PositionalEmbeddingLayer(9, 1000, 512)\n",
        "print(my_embedding_layer(tf.constant([[1, 2, 3, 4, 5, 6, 7, 8, 9]])).shape)"
      ],
      "metadata": {
        "colab": {
          "base_uri": "https://localhost:8080/"
        },
        "id": "mUHfhO9UWwTn",
        "outputId": "e21af14c-1418-4709-cb01-8a704755aaf8"
      },
      "execution_count": 64,
      "outputs": [
        {
          "output_type": "stream",
          "name": "stdout",
          "text": [
            "(1, 9, 512)\n"
          ]
        }
      ]
    },
    {
      "cell_type": "code",
      "source": [
        "class FeedForward(Layer):\n",
        "  def __init__(self, d_model, d_ff, **kwargs):\n",
        "    super(FeedForward, self).__init__(**kwargs)\n",
        "    self.d_fc1 = tf.keras.layers.Dense(d_ff)\n",
        "    self.d_fc2 = tf.keras.layers.Dense(d_model)\n",
        "    self.activation = tf.keras.layers.ReLU()\n",
        "\n",
        "  def call(self, x):\n",
        "    x = self.d_fc1(x)\n",
        "    x = self.d_fc2(self.activation(x))\n",
        "    return x"
      ],
      "metadata": {
        "id": "XAmJ_GS0W3TW"
      },
      "execution_count": 41,
      "outputs": []
    },
    {
      "cell_type": "code",
      "source": [
        "class Normalization(Layer):\n",
        "  def __init__(self, **kwargs):\n",
        "    super(Normalization, self).__init__(**kwargs)\n",
        "    self.layer_Norm = tf.keras.layers.LayerNormalization()\n",
        "\n",
        "  def call(self, x, sublayer_x):\n",
        "    return self.layer_Norm(x + sublayer_x)"
      ],
      "metadata": {
        "id": "8q4m9Z5nZ5C4"
      },
      "execution_count": 42,
      "outputs": []
    },
    {
      "cell_type": "code",
      "source": [
        "from tensorflow.keras.layers import Input\n",
        "from tensorflow.keras import Model\n",
        "\n",
        "class EncoderLayer(Layer):\n",
        "  def __init__(self, sequence_length, h, d_k, d_v, d_model, d_ff, rate, **kwargs):\n",
        "    super(EncoderLayer, self).__init__(**kwargs)\n",
        "    self.build(input_shape=[None, sequence_length, d_model])\n",
        "    self.multihead_attention = MultiHeadAttention(h, d_k, d_v, d_model)\n",
        "    self.dropout1 = Dropout(rate)\n",
        "    self.norm1 = Normalization()\n",
        "    self.feed_forward = FeedForward(d_model, d_ff)\n",
        "    self.dropout2 = Dropout(rate)\n",
        "    self.norm2 = Normalization()\n",
        "    self.d_model = d_model\n",
        "    self.sequence_length = sequence_length\n",
        "\n",
        "  def build_graph(self):\n",
        "    input_layer = Input(shape=(self.sequence_length, self.d_model))\n",
        "    print(input_layer.shape)\n",
        "    return Model(inputs = [input_layer], outputs = self.call(input_layer, None, True))\n",
        "\n",
        "  def call(self, x, padding_mask, training):\n",
        "    # expected output length - batch_size, sequence_length, d_model\n",
        "    print(x, x, x, padding_mask)\n",
        "    multihead_output = self.multihead_attention(x, x, x, padding_mask)\n",
        "    multihead_output = self.dropout1(multihead_output, training=training)\n",
        "    add_norm_output = self.norm1(x, multihead_output)\n",
        "    feed_forward_output = self.feed_forward(add_norm_output)\n",
        "    feed_forward_output = self.dropout2(feed_forward_output, training=training)\n",
        "    return self.norm2(add_norm_output, feed_forward_output)"
      ],
      "metadata": {
        "id": "Mv2dLw3uZ5LZ"
      },
      "execution_count": 43,
      "outputs": []
    },
    {
      "cell_type": "code",
      "source": [
        "class Encoder(Layer):\n",
        "  def __init__(self, vocab_size, sequence_length, h, d_k, d_v, d_model, d_ff, n, rate, **kwargs):\n",
        "    super(Encoder, self).__init__(**kwargs)\n",
        "    self.pos_encoding = PositionalEmbeddingLayer(sequence_length, vocab_size, d_model)\n",
        "    self.dropout = Dropout(rate)\n",
        "    self.encoder_layers = [EncoderLayer(sequence_length, h, d_k, d_v, d_model, d_ff, rate) for _ in range(n)]\n",
        "\n",
        "  def call(self, inputs, padding_mask, training):\n",
        "    x = self.pos_encoding(inputs)\n",
        "    x = self.dropout(x, training=training)\n",
        "    for encoder_layer in self.encoder_layers:\n",
        "      x = encoder_layer(x, padding_mask, training)\n",
        "    return x"
      ],
      "metadata": {
        "id": "Y6QcpGeXcvsD"
      },
      "execution_count": 44,
      "outputs": []
    },
    {
      "cell_type": "code",
      "source": [
        "# Testing the above code\n",
        "n_heads = 8\n",
        "d_k = 64\n",
        "d_v = 64\n",
        "d_model = 512 # embedding size\n",
        "batch_size = 64\n",
        "input_seq_len = 10\n",
        "\n",
        "# encoder = EncoderLayer(input_seq_len, n_heads, d_k, d_v, d_model, 2048, 0.1)\n",
        "# encoder.build_graph().summary()\n",
        "\n",
        "# encoder = Encoder(1000, 10, n_heads, d_k, d_v, d_model, 2048, 6, 0.1)\n",
        "# print(encoder(tf.random.uniform((batch_size, input_seq_len)), None, training=False).shape)\n",
        "# 64, 10, 512"
      ],
      "metadata": {
        "id": "SXQsqVp_dK9b"
      },
      "execution_count": 45,
      "outputs": []
    },
    {
      "cell_type": "code",
      "source": [
        "class DecoderLayer(Layer):\n",
        "  def __init__(self, sequence_length, h, d_k, d_v, d_model, d_ff, rate, **kwargs):\n",
        "    super(DecoderLayer, self).__init__(**kwargs)\n",
        "    self.build(input_shape=[None, sequence_length, d_model])\n",
        "    self.multihead_attention1 = MultiHeadAttention(h, d_k, d_v, d_model)\n",
        "    self.dropout1 = Dropout(rate)\n",
        "    self.norm1 = Normalization()\n",
        "    self.multihead_attention2 = MultiHeadAttention(h, d_k, d_v, d_model)\n",
        "    self.dropout2 = Dropout(rate)\n",
        "    self.norm2 = Normalization()\n",
        "    self.feed_forward = FeedForward(d_model, d_ff)\n",
        "    self.dropout3 = Dropout(rate)\n",
        "    self.norm3 = Normalization()\n",
        "    self.d_model = d_model\n",
        "    self.sequence_length = sequence_length\n",
        "\n",
        "  def build_graph(self):\n",
        "    input_layer = Input(shape=[self.sequence_length, self.d_model])\n",
        "    return Model(inputs = [input_layer], outputs = self.call(input_layer, None, True))\n",
        "\n",
        "  def call(self, x, encoder_output, padding_mask, look_ahead_mask, training):\n",
        "    # expected output length - batch_size, sequence_length, d_model\n",
        "    multihead_output1 = self.multihead_attention1(x, x, x, look_ahead_mask)\n",
        "    multihead_output1 = self.dropout1(multihead_output1, training=training)\n",
        "    add_norm_output1 = self.norm1(x, multihead_output1)\n",
        "    multihead_output2 = self.multihead_attention2(add_norm_output1, encoder_output, encoder_output, padding_mask)\n",
        "    multihead_output2 = self.dropout2(multihead_output2, training=training)\n",
        "    norm_output2 = self.norm2(add_norm_output1, multihead_output2)\n",
        "    feed_forward_output = self.feed_forward(norm_output2)\n",
        "    feed_forward_output = self.dropout3(feed_forward_output, training=training)\n",
        "    return self.norm3(norm_output2, feed_forward_output)"
      ],
      "metadata": {
        "id": "NCTW2tHodn7l"
      },
      "execution_count": 46,
      "outputs": []
    },
    {
      "cell_type": "code",
      "source": [
        "class Decoder(Layer):\n",
        "  def __init__(self, vocab_size, sequence_length, h, d_k, d_v, d_model, d_ff, n, rate, **kwargs):\n",
        "    super(Decoder, self).__init__(**kwargs)\n",
        "    self.pos_encoding = PositionalEmbeddingLayer(sequence_length, vocab_size, d_model)\n",
        "    self.dropout = Dropout(rate)\n",
        "    self.decoder_layers = [DecoderLayer(sequence_length, h, d_k, d_v, d_model, d_ff, rate) for _ in range(n)]\n",
        "\n",
        "  def call(self, inputs, encoder_output, padding_mask, look_ahead_mask, training):\n",
        "    x = self.pos_encoding(inputs)\n",
        "    x = self.dropout(x, training=training)\n",
        "    for decoder_layer in self.decoder_layers:\n",
        "      x = decoder_layer(x, encoder_output, padding_mask, look_ahead_mask, training)\n",
        "    return x"
      ],
      "metadata": {
        "id": "69rTAm93ffov"
      },
      "execution_count": 47,
      "outputs": []
    },
    {
      "cell_type": "code",
      "source": [
        "# Testing the above code\n",
        "n_heads = 4\n",
        "d_k = 64\n",
        "d_v = 64\n",
        "d_model = 512 # embedding size\n",
        "batch_size = 64\n",
        "input_seq_len = 10\n",
        "\n",
        "decoder = Decoder(1000, 10, n_heads, d_k, d_v, d_model, 2048, 6, 0.1)\n",
        "print(decoder(tf.random.uniform((batch_size, input_seq_len)),  tf.random.uniform((batch_size, input_seq_len, d_model)), None, True).shape)\n",
        "# 64, 10, 512"
      ],
      "metadata": {
        "colab": {
          "base_uri": "https://localhost:8080/"
        },
        "id": "fw2cyBlNf6aK",
        "outputId": "67aa8c99-c865-4d20-e049-406009b8376e"
      },
      "execution_count": 48,
      "outputs": [
        {
          "output_type": "stream",
          "name": "stdout",
          "text": [
            "(64, 10, 512)\n"
          ]
        }
      ]
    },
    {
      "cell_type": "code",
      "source": [
        "from tensorflow import math, cast, float32\n",
        "from numpy import array\n",
        "\n",
        "def padding_mask(input):\n",
        "  # returns tensor with True for positions with value as 0\n",
        "  mask = math.equal(input, 0)\n",
        "  # converts false/true to numbers\n",
        "  mask = cast(mask, float32)\n",
        "  return mask\n",
        "\n",
        "padding_mask(array([1, 2, 3, 0, 0, 0]))"
      ],
      "metadata": {
        "colab": {
          "base_uri": "https://localhost:8080/"
        },
        "id": "Z4bEck1P6oj3",
        "outputId": "bbed6592-7171-4c1d-90ba-4c80ea965ff1"
      },
      "execution_count": 49,
      "outputs": [
        {
          "output_type": "execute_result",
          "data": {
            "text/plain": [
              "<tf.Tensor: shape=(6,), dtype=float32, numpy=array([0., 0., 0., 1., 1., 1.], dtype=float32)>"
            ]
          },
          "metadata": {},
          "execution_count": 49
        }
      ]
    },
    {
      "cell_type": "code",
      "source": [
        "from tensorflow import linalg, ones\n",
        "\n",
        "def look_ahead_mask(shape):\n",
        "  # mask out future entries by replace with 1.0\n",
        "  mask = 1- linalg.band_part(ones((shape, shape)), -1, 0)\n",
        "  return mask\n",
        "\n",
        "# the ones values mask out the values that the decoder must not see\n",
        "# the prediction of every word should depend on word before that only\n",
        "print(look_ahead_mask(5))"
      ],
      "metadata": {
        "colab": {
          "base_uri": "https://localhost:8080/"
        },
        "id": "_g2MeHn4zorM",
        "outputId": "2750c802-89ff-4483-ff48-60f611a6b8ed"
      },
      "execution_count": 50,
      "outputs": [
        {
          "output_type": "stream",
          "name": "stdout",
          "text": [
            "tf.Tensor(\n",
            "[[0. 1. 1. 1. 1.]\n",
            " [0. 0. 1. 1. 1.]\n",
            " [0. 0. 0. 1. 1.]\n",
            " [0. 0. 0. 0. 1.]\n",
            " [0. 0. 0. 0. 0.]], shape=(5, 5), dtype=float32)\n"
          ]
        }
      ]
    },
    {
      "cell_type": "code",
      "source": [
        "from tensorflow.keras import Model\n",
        "from tensorflow import maximum, newaxis\n",
        "\n",
        "class TransformerModel(Model):\n",
        "  def __init__(self, enc_seq_vocab_size, dec_seq_vocab_size, enc_seq_len, dec_seq_len, h, d_k, d_v, d_model, d_ff_inner, n, rate, **kwargs):\n",
        "    super(TransformerModel, self).__init__(**kwargs)\n",
        "    self.encoder = Encoder(enc_seq_vocab_size, enc_seq_len, h, d_k, d_v, d_model, d_ff_inner, n, rate)\n",
        "    self.decoder = Decoder(dec_seq_vocab_size, dec_seq_len, h, d_k, d_v, d_model, d_ff_inner, n, rate)\n",
        "    self.model_last_layer = tf.keras.layers.Dense(d_model)\n",
        "\n",
        "  def padding_mask(input):\n",
        "    # returns tensor with True for positions with value as 0\n",
        "    mask = math.equal(input, 0)\n",
        "    # converts false/true to numbers\n",
        "    mask = cast(mask, float32)\n",
        "    return mask[:, newaxis, newaxis, :]\n",
        "\n",
        "  def look_ahead_mask(shape):\n",
        "    # mask out future entries by replace with 1.0\n",
        "    mask = 1- linalg.band_part(ones((shape, shape)), -1, 0)\n",
        "    return mask\n",
        "\n",
        "  def call(self, encoder_input, decoder_input, training):\n",
        "    enc_padding_mask = self.padding_mask(encoder_input)\n",
        "\n",
        "    dec_padding_mask = self.padding_mask(decoder_input)\n",
        "    dec_look_ahead_mask = self.look_ahead_mask(decoder_input.shape[1])\n",
        "    dec_look_ahead_mask = maximum(dec_padding_mask, dec_look_ahead_mask)\n",
        "\n",
        "    encoder_output = self.encoder(encoder_input, enc_padding_mask, training)\n",
        "    decoder_output = self.decoder(decoder_input, encoder_output, dec_look_ahead_mask, dec_padding_mask, training)\n",
        "    model_output = self.model_last_layer(decoder_output)\n",
        "    return model_output\n"
      ],
      "metadata": {
        "id": "Soc3yLaW0ikK"
      },
      "execution_count": 51,
      "outputs": []
    },
    {
      "cell_type": "code",
      "source": [
        "enc_vocab_size = 20 # Vocabulary size for the encoder\n",
        "dec_vocab_size = 20 # Vocabulary size for the decoder\n",
        "\n",
        "enc_seq_length = 5  # Maximum length of the input sequence\n",
        "dec_seq_length = 5  # Maximum length of the target sequence\n",
        "\n",
        "h = 8  # Number of self-attention heads\n",
        "d_k = 64  # Dimensionality of the linearly projected queries and keys\n",
        "d_v = 64  # Dimensionality of the linearly projected values\n",
        "d_ff = 2048  # Dimensionality of the inner fully connected layer\n",
        "d_model = 512  # Dimensionality of the model sub-layers' outputs\n",
        "n = 6  # Number of layers in the encoder stack\n",
        "\n",
        "dropout_rate = 0.1  # Frequency of dropping the input units in the dropout layers\n",
        "\n",
        "# Create model\n",
        "training_model = TransformerModel(enc_vocab_size, dec_vocab_size, enc_seq_length, dec_seq_length, h, d_k, d_v, d_model, d_ff, n, dropout_rate)\n",
        "# encoder = EncoderLayer(enc_seq_length, h, d_k, d_v, d_model, d_ff, dropout_rate)\n",
        "# encoder.build_graph().summary()\n",
        "\n",
        "# decoder = DecoderLayer(dec_seq_length, h, d_k, d_v, d_model, d_ff, dropout_rate)\n",
        "# decoder.build_graph().summary()"
      ],
      "metadata": {
        "id": "Y-7PqLIi5D5o"
      },
      "execution_count": 52,
      "outputs": []
    },
    {
      "cell_type": "markdown",
      "source": [
        "## Preparing the data"
      ],
      "metadata": {
        "id": "ZSO1L1TzKjUy"
      }
    },
    {
      "cell_type": "code",
      "source": [
        "import pathlib\n",
        "import pickle\n",
        "import random\n",
        "import re\n",
        "import unicodedata\n",
        "\n",
        "import tensorflow as tf\n",
        "\n",
        "# download dataset provided by Anki: https://www.manythings.org/anki/\n",
        "text_file = tf.keras.utils.get_file(\n",
        "    fname=\"fra-eng.zip\",\n",
        "    origin=\"http://storage.googleapis.com/download.tensorflow.org/data/fra-eng.zip\",\n",
        "    extract=True,\n",
        ")\n",
        "\n",
        "text_file = pathlib.Path(text_file).parent / \"fra.txt\"\n",
        "\n",
        "def normalize(line):\n",
        "    \"\"\"Normalize a line of text and split into two at the tab character\"\"\"\n",
        "    line = unicodedata.normalize(\"NFKC\", line.strip().lower())\n",
        "    line = re.sub(r\"^([^ \\w])(?!\\s)\", r\"\\1 \", line)\n",
        "    line = re.sub(r\"(\\s[^ \\w])(?!\\s)\", r\"\\1 \", line)\n",
        "    line = re.sub(r\"(?!\\s)([^ \\w])$\", r\" \\1\", line)\n",
        "    line = re.sub(r\"(?!\\s)([^ \\w]\\s)\", r\" \\1\", line)\n",
        "    eng, fra = line.split(\"\\t\")\n",
        "    fra = \"[start] \" + fra + \" [end]\"\n",
        "    return eng, fra\n",
        "\n",
        "# normalize each line and separate into English and French\n",
        "with open(text_file) as fp:\n",
        "    text_pairs = [normalize(line) for line in fp]\n",
        "\n",
        "# print some samples\n",
        "for _ in range(5):\n",
        "    print(random.choice(text_pairs))\n",
        "\n",
        "with open(\"text_pairs.pickle\", \"wb\") as fp:\n",
        "    pickle.dump(text_pairs, fp)"
      ],
      "metadata": {
        "colab": {
          "base_uri": "https://localhost:8080/"
        },
        "id": "BXVcdS4gkNoH",
        "outputId": "c418a1f0-56dd-43d7-fbcf-6cfefcf6743b"
      },
      "execution_count": 53,
      "outputs": [
        {
          "output_type": "stream",
          "name": "stdout",
          "text": [
            "Downloading data from http://storage.googleapis.com/download.tensorflow.org/data/fra-eng.zip\n",
            "3423204/3423204 [==============================] - 0s 0us/step\n",
            "(\"you can't be too careful when you drive a car .\", '[start] tu ne pourras jamais être trop prudent lorsque tu conduis une voiture . [end]')\n",
            "(\"i'll never forget this experience .\", \"[start] je n'oublierai jamais cette expérience . [end]\")\n",
            "(\"tom is still at his grandfather's house .\", '[start] tom est toujours chez son grand-père . [end]')\n",
            "(\"let's try this .\", '[start] essayons ça . [end]')\n",
            "('are there any books under the desk ?', '[start] y a-t-il quelque livre sous le bureau  ?  [end]')\n"
          ]
        }
      ]
    },
    {
      "cell_type": "code",
      "source": [
        "# find out how many distinct tokens exist\n",
        "\n",
        "import pickle\n",
        "\n",
        "with open(\"text_pairs.pickle\", \"rb\") as fp:\n",
        "    text_paris = pickle.load(fp)\n",
        "\n",
        "eng_tokens, fra_tokens = set(), set()\n",
        "eng_maxlength, fra_maxlength = 0, 0\n",
        "for eng, fra in text_paris:\n",
        "    eng_token, fra_token = eng.split(), fra.split()\n",
        "    eng_maxlength = max(len(eng_token), eng_maxlength)\n",
        "    fra_maxlength = max(len(fra_token), fra_maxlength)\n",
        "    eng_tokens.update(eng_token)\n",
        "    fra_tokens.update(fra_token)\n",
        "print(f\"Total English tokens = {len(eng_tokens)}\")\n",
        "print(f\"Total French tokens = {len(fra_tokens)}\")\n",
        "print(f\"Maximum English sequence length = {eng_maxlength}\")\n",
        "print(f\"Maximum French sequence length = {fra_maxlength}\")"
      ],
      "metadata": {
        "id": "rI9OcCOwMMuj",
        "outputId": "6ce3fb85-a8b6-4d77-b5ba-93d885489de8",
        "colab": {
          "base_uri": "https://localhost:8080/"
        }
      },
      "execution_count": 54,
      "outputs": [
        {
          "output_type": "stream",
          "name": "stdout",
          "text": [
            "Total English tokens = 14969\n",
            "Total French tokens = 29219\n",
            "Maximum English sequence length = 51\n",
            "Maximum French sequence length = 60\n"
          ]
        }
      ]
    },
    {
      "cell_type": "code",
      "source": [
        "import pickle\n",
        "\n",
        "import matplotlib.pyplot as plt\n",
        "\n",
        "with open(\"text_pairs.pickle\", \"rb\") as fp:\n",
        "    text_pairs = pickle.load(fp)\n",
        "\n",
        "# histogram of sentence length in tokens\n",
        "en_lengths = [len(eng.split()) for eng, fra in text_pairs]\n",
        "fr_lengths = [len(fra.split()) for eng, fra in text_pairs]\n",
        "\n",
        "plt.hist(en_lengths, label=\"en\", color=\"red\", alpha=0.33)\n",
        "plt.hist(fr_lengths, label=\"fr\", color=\"blue\", alpha=0.33)\n",
        "plt.yscale(\"log\")     # sentence length fits Benford\"s law\n",
        "plt.ylim(plt.ylim())  # make y-axis consistent for both plots\n",
        "plt.plot([max(en_lengths), max(en_lengths)], plt.ylim(), color=\"red\")\n",
        "plt.plot([max(fr_lengths), max(fr_lengths)], plt.ylim(), color=\"blue\")\n",
        "plt.legend()\n",
        "plt.title(\"Examples count vs Token length\")\n",
        "plt.show()"
      ],
      "metadata": {
        "id": "agg-7Oc2ONKB",
        "outputId": "60916e14-c397-4a50-d811-afd8a529346a",
        "colab": {
          "base_uri": "https://localhost:8080/",
          "height": 452
        }
      },
      "execution_count": 55,
      "outputs": [
        {
          "output_type": "display_data",
          "data": {
            "text/plain": [
              "<Figure size 640x480 with 1 Axes>"
            ],
            "image/png": "[encoded data removed]"
          },
          "metadata": {}
        }
      ]
    },
    {
      "cell_type": "code",
      "source": [
        "from keras.preprocessing.sequence import pad_sequences\n",
        "from tensorflow.keras.layers import TextVectorization\n",
        "from tensorflow import convert_to_tensor, int64\n",
        "from pickle import load\n",
        "from numpy.random import shuffle\n",
        "\n",
        "class PrepareDataset:\n",
        "  def __init__(self, **kwargs):\n",
        "    super(PrepareDataset, self).__init__(**kwargs)\n",
        "    self.n_sentences = 1000\n",
        "    self.train_split = 0.9\n",
        "    self.vocab_size_eng = 10000\n",
        "    self.vocab_size_fra = 20000\n",
        "    self.max_seq_length = 20\n",
        "\n",
        "  def find_vocab_size(self, tokenizer, dataset):\n",
        "    tokenizer.fit_on_texts(dataset)\n",
        "    return len(tokenizer.word_index) + 1\n",
        "\n",
        "  def format_dataset(self, eng, fra):\n",
        "    print(eng, fra)\n",
        "    eng = self.eng_vectorizer(eng)\n",
        "    fra = self.fra_vectorizer(fra)\n",
        "    source = { 'encoder_inputs': eng, 'decoder_inputs': fra[:, :-1]}\n",
        "    target = fra[:, 1:]\n",
        "    return source, target\n",
        "\n",
        "  def __call__(self, filename, **kwargs):\n",
        "\n",
        "    clean_data = pickle.load(open(filename, 'rb'))\n",
        "    dataset = clean_data[:self.n_sentences]\n",
        "    shuffle(dataset)\n",
        "    train_pairs = dataset[:int(self.train_split * self.n_sentences)]\n",
        "    test_pairs = dataset[int(self.train_split * self.n_sentences):]\n",
        "\n",
        "    eng_vectorizer = TextVectorization(\n",
        "        max_tokens = self.vocab_size_eng,\n",
        "        standardize = None,\n",
        "        split = \"whitespace\",\n",
        "        output_mode = \"int\",\n",
        "        output_sequence_length = self.max_seq_length\n",
        "    )\n",
        "\n",
        "    fra_vectorizer = TextVectorization(\n",
        "        max_tokens = self.vocab_size_fra,\n",
        "        standardize = None,\n",
        "        split = \"whitespace\",\n",
        "        output_mode = \"int\",\n",
        "        output_sequence_length = self.max_seq_length\n",
        "    )\n",
        "\n",
        "    train_eng_texts = [pairs[0] for pairs in train_pairs]\n",
        "    train_fra_texts = [pairs[1] for pairs in train_pairs]\n",
        "\n",
        "    eng_vectorizer.adapt(train_eng_texts)\n",
        "    fra_vectorizer.adapt(train_fra_texts)\n",
        "\n",
        "    self.eng_vectorizer = eng_vectorizer\n",
        "    self.fra_vectorizer = fra_vectorizer\n",
        "    self.train = train_pairs\n",
        "    self.test = test_pairs\n",
        "\n",
        "    with open(\"vectorizer.pickle\", \"wb\") as fp:\n",
        "        data = {\n",
        "            \"train\" : train_pairs,\n",
        "            \"test\" : test_pairs,\n",
        "            \"eng_vectorizer_weights\" : eng_vectorizer.get_weights(),\n",
        "            \"fra_vectorizer_weights\" : fra_vectorizer.get_weights(),\n",
        "            \"eng_vectorizer_config\" : eng_vectorizer.get_config(),\n",
        "            \"fra_vectorizer_vocab\" : fra_vectorizer.get_config()\n",
        "        }\n",
        "        pickle.dump(data, fp)\n",
        "\n",
        "    eng_texts_train, fra_texts_train = zip(*train_pairs)\n",
        "    eng_texts_test, fra_texts_test = zip(*test_pairs)\n",
        "\n",
        "    train_ds = tf.data.Dataset.from_tensor_slices((list(eng_texts_train), list(fra_texts_train))).shuffle(2048).batch(batch_size).map(self.format_dataset).prefetch(16).cache()\n",
        "    test_ds = tf.data.Dataset.from_tensor_slices((list(eng_texts_test), list(fra_texts_test))).shuffle(2048).batch(batch_size).map(self.format_dataset).prefetch(16).cache()\n",
        "\n",
        "    return train_ds, test_ds"
      ],
      "metadata": {
        "id": "tMubKI2Mqkw8"
      },
      "execution_count": 56,
      "outputs": []
    },
    {
      "cell_type": "code",
      "source": [
        "dataset = PrepareDataset()\n",
        "train_ds, test_ds = dataset( \"text_pairs.pickle\")\n",
        "for inputs, targets in train_ds.take(1):\n",
        "    print(f'inputs[\"encoder_inputs\"].shape: {inputs[\"encoder_inputs\"].shape}')\n",
        "    print(f'inputs[\"encoder_inputs\"][0]: {inputs[\"encoder_inputs\"][0]}')\n",
        "    embed_en = PositionalEmbeddingLayer(20, 10000, 512)\n",
        "    en_emb = embed_en(inputs[\"encoder_inputs\"])\n",
        "    print(en_emb.shape)\n",
        "    print(en_emb._keras_mask.shape)\n",
        "\n",
        ""
      ],
      "metadata": {
        "colab": {
          "base_uri": "https://localhost:8080/"
        },
        "id": "p7t9PFD0y00l",
        "outputId": "f28fa24e-7f0a-468d-cf38-a9338069556d"
      },
      "execution_count": 66,
      "outputs": [
        {
          "output_type": "stream",
          "name": "stdout",
          "text": [
            "Tensor(\"args_0:0\", shape=(None,), dtype=string) Tensor(\"args_1:0\", shape=(None,), dtype=string)\n",
            "Tensor(\"args_0:0\", shape=(None,), dtype=string) Tensor(\"args_1:0\", shape=(None,), dtype=string)\n",
            "inputs[\"encoder_inputs\"].shape: (64, 20)\n",
            "inputs[\"encoder_inputs\"][0]: [ 3 24 19  2  0  0  0  0  0  0  0  0  0  0  0  0  0  0  0  0]\n",
            "(64, 20, 512)\n",
            "(64, 20)\n"
          ]
        }
      ]
    },
    {
      "cell_type": "code",
      "source": [],
      "metadata": {
        "id": "m0ouuapM40vu"
      },
      "execution_count": 57,
      "outputs": []
    }
  ]
}